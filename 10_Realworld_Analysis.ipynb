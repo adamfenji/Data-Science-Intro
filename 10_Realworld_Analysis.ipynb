{
 "cells": [
  {
   "cell_type": "markdown",
   "id": "5eb5a91e",
   "metadata": {
    "id": "ljY9Ymj3YlZZ"
   },
   "source": [
    "# Lab 12, Supervised Learning \n",
    "\n",
    "\n",
    "In class you had been introduced to the concepts of supervised learning. \n",
    "* Exposure to the Scikit-learn toolbox\n",
    "* Metrics to evaluate performance of ML algorithm\n",
    "* Training / Validation / Testing\n",
    "* KNN classification using Iris dataset \n",
    "\n",
    "Particularly, the module focused on a supervised machine learning - classification. Chapter 5 in the textbook provides the basics of Machine learning and example codes in python are expicitly demonstrated. \n",
    "\n",
    "\n",
    "In this lab session, we will look into\n",
    "* SciKit learning methods and useful functions\n",
    "* Install the required libraries for Project\n",
    "* Scikit-plot module\n",
    "\n",
    "\n",
    "**Dataset used:** Iris, breast cancer, and wine  datasets\n",
    "\n",
    "**scikit-learn Documentation**: http://scikit-learn.org/stable/index.html"
   ]
  },
  {
   "cell_type": "markdown",
   "id": "03c72ba1",
   "metadata": {},
   "source": [
    "## Lab Setup"
   ]
  },
  {
   "cell_type": "code",
   "execution_count": 1,
   "id": "76317a1e",
   "metadata": {
    "tags": []
   },
   "outputs": [],
   "source": [
    "# import matplotlib.pyplot for plotting framework\n",
    "import matplotlib.pyplot as plt\n",
    "import matplotlib as mpl\n",
    "# for ploting in within notebook\n",
    "%matplotlib inline\n",
    "\n",
    "import pandas as pd\n",
    "\n",
    "# import numpy\n",
    "import numpy as np\n",
    "\n",
    "# import math and random modules\n",
    "import math, random\n",
    "\n",
    "import seaborn as sns\n",
    "\n",
    "# sklearn functions \n",
    "from sklearn.datasets import load_iris, load_breast_cancer, load_wine\n",
    "\n",
    "# import neighbors and metrics\n",
    "from sklearn import neighbors, metrics\n",
    "\n",
    "# look into metrics and import confusion matrix \n",
    "# and accuracy function\n",
    "from sklearn.metrics import confusion_matrix\n",
    "from sklearn.metrics import accuracy_score\n",
    "\n",
    "# import train and test split function from sklearn\n",
    "from sklearn.model_selection import train_test_split\n",
    "\n",
    "# Determine if running on Gradescope or not\n",
    "import re\n",
    "import os\n",
    "if re.search(r'amzn', os.uname().release): \n",
    "    GS = True\n",
    "else: \n",
    "    GS = False\n",
    "\n",
    "# Import Otter grader methods    \n",
    "import otter\n",
    "grader = otter.Notebook()"
   ]
  },
  {
   "cell_type": "markdown",
   "id": "b1f8cee8",
   "metadata": {
    "id": "t4M9_KIsZfWA"
   },
   "source": [
    "## Exercise 1: Understand the Data \n",
    "\n",
    "Using scikit-learn package load the toy datasets\n",
    "\n",
    "\n",
    "Read about how to load the toy datasets using scikit-learn:  \n",
    "https://scikit-learn.org/stable/datasets/index.html"
   ]
  },
  {
   "cell_type": "markdown",
   "id": "7cdae8a2",
   "metadata": {
    "deletable": false,
    "editable": false
   },
   "source": [
    "### Ex 1A. Load the data sets\n",
    "\n",
    "Load iris, breast cancer and wine standard datasets and assign them to iris, cancer and wine variables."
   ]
  },
  {
   "cell_type": "code",
   "execution_count": 2,
   "id": "85eefbef",
   "metadata": {
    "colab": {
     "base_uri": "https://localhost:8080/"
    },
    "id": "ICdth4h9YiYx",
    "outputId": "5e557213-972d-4b60-e53c-37bcdc819a91",
    "tags": []
   },
   "outputs": [
    {
     "name": "stdout",
     "output_type": "stream",
     "text": [
      "[[5.1 3.5 1.4 0.2]\n",
      " [4.9 3.  1.4 0.2]\n",
      " [4.7 3.2 1.3 0.2]\n",
      " [4.6 3.1 1.5 0.2]\n",
      " [5.  3.6 1.4 0.2]\n",
      " [5.4 3.9 1.7 0.4]\n",
      " [4.6 3.4 1.4 0.3]\n",
      " [5.  3.4 1.5 0.2]\n",
      " [4.4 2.9 1.4 0.2]\n",
      " [4.9 3.1 1.5 0.1]]\n",
      "\n",
      "[0 0 0 0 0 0 0 0 0]\n",
      "\n",
      "<class 'sklearn.utils._bunch.Bunch'>\n"
     ]
    }
   ],
   "source": [
    "# import load datasets methods\n",
    "# from sklearn.datasets import load_iris, load_breast_cancer, load_wine\n",
    "from sklearn.datasets import load_iris, load_breast_cancer, load_wine\n",
    "# assign them to iris, cancer and wine\n",
    "iris = load_iris()\n",
    "cancer = load_breast_cancer()\n",
    "wine = load_wine()\n",
    "\n",
    "\n",
    "print(iris.data[0:10, ])\n",
    "print(\"\")\n",
    "print (iris.target[1:10])\n",
    "print(\"\")\n",
    "print(type(iris))"
   ]
  },
  {
   "cell_type": "code",
   "execution_count": 3,
   "id": "228b045d",
   "metadata": {
    "deletable": false,
    "editable": false
   },
   "outputs": [
    {
     "data": {
      "text/html": [
       "<p><strong><pre style='display: inline;'>q1a</pre></strong> passed! 🙌</p>"
      ],
      "text/plain": [
       "q1a results: All test cases passed!"
      ]
     },
     "execution_count": 3,
     "metadata": {},
     "output_type": "execute_result"
    }
   ],
   "source": [
    "grader.check(\"q1a\")"
   ]
  },
  {
   "cell_type": "markdown",
   "id": "13377ca6",
   "metadata": {
    "deletable": false,
    "editable": false
   },
   "source": [
    "<!-- BEGIN QUESTION -->\n",
    "\n",
    "### Ex 1B. Understand form of the data \n",
    "\n",
    "Read Section 5.3 and from class material, what does the following represent:\n",
    " \n",
    "\n",
    "\n"
   ]
  },
  {
   "cell_type": "markdown",
   "id": "dc395054",
   "metadata": {},
   "source": [
    "i. Columns  \n",
    "ii. Rows  \n",
    "iii. Target "
   ]
  },
  {
   "cell_type": "markdown",
   "id": "8b3011e2",
   "metadata": {
    "deletable": false,
    "editable": false,
    "id": "qXtHlGnzacqu"
   },
   "source": [
    "<!-- END QUESTION -->\n",
    "\n",
    "### Ex 1C. Understand the form of the data\n",
    "\n",
    "Read Section 5.3 and from class material:  \n",
    "a. How many rows and columns are there in the iris, cancer and wine data sets?  \n",
    "b. What are the labels in these datasets?"
   ]
  },
  {
   "cell_type": "code",
   "execution_count": 4,
   "id": "a459c8f7",
   "metadata": {
    "colab": {
     "base_uri": "https://localhost:8080/"
    },
    "id": "5CUV5Wxrat5J",
    "outputId": "0f62bec6-fcdd-46cd-c9fb-c2abd5eb6e78",
    "tags": []
   },
   "outputs": [
    {
     "name": "stdout",
     "output_type": "stream",
     "text": [
      "Num of samples and features in iris datasets\n",
      "\t are 150 and 4 respectively\n",
      "Num of samples and features in cancer datasets\n",
      "\t are 569 and 30 respectively\n",
      "Num of samples and features in wine datasets\n",
      "\t are 178 and 13 respectively\n",
      "iris:  ['setosa' 'versicolor' 'virginica']\n",
      "cancer:  ['malignant' 'benign']\n",
      "wine:  ['class_0' 'class_1' 'class_2']\n"
     ]
    }
   ],
   "source": [
    "# How many rows and columns are there in the data sets? \n",
    "irisNumSamples = iris.data.shape[0]\n",
    "irisNumFeatures = iris.data.shape[1]\n",
    "print(\"Num of samples and features in iris datasets\\n\\t are {} and {} respectively\".\n",
    "       format(irisNumSamples,irisNumFeatures))\n",
    "cancerNumSamples = cancer.data.shape[0]\n",
    "cancerNumFeatures = cancer.data.shape[1]\n",
    "print(\"Num of samples and features in cancer datasets\\n\\t are {} and {} respectively\".\n",
    "       format(cancerNumSamples,cancerNumFeatures))\n",
    "wineNumSamples = wine.data.shape[0]\n",
    "wineNumFeatures = wine.data.shape[1]\n",
    "print(\"Num of samples and features in wine datasets\\n\\t are {} and {} respectively\".\n",
    "       format(wineNumSamples,wineNumFeatures))\n",
    "\n",
    "# print out the labels for each data set\n",
    "iris_labels = iris.target_names\n",
    "cancer_labels = cancer.target_names\n",
    "wine_labels = wine.target_names\n",
    "print(\"iris: \", iris_labels)\n",
    "print(\"cancer: \", cancer_labels)\n",
    "print(\"wine: \", wine_labels)"
   ]
  },
  {
   "cell_type": "code",
   "execution_count": 5,
   "id": "fa5da14b",
   "metadata": {
    "deletable": false,
    "editable": false
   },
   "outputs": [
    {
     "data": {
      "text/html": [
       "<p><strong><pre style='display: inline;'>q1c</pre></strong> passed! ✨</p>"
      ],
      "text/plain": [
       "q1c results: All test cases passed!"
      ]
     },
     "execution_count": 5,
     "metadata": {},
     "output_type": "execute_result"
    }
   ],
   "source": [
    "grader.check(\"q1c\")"
   ]
  },
  {
   "cell_type": "markdown",
   "id": "cd63e787",
   "metadata": {
    "deletable": false,
    "editable": false,
    "id": "DOvnu_upa73D"
   },
   "source": [
    "<!-- BEGIN QUESTION -->\n",
    "\n",
    "### Ex 1D.  Access aspects of the data \n",
    "\n",
    "http://scikit-learn.org/stable/datasets/index.html\n",
    "\n",
    "\n",
    "**Iris**  \n",
    "How do we access additional information other than the data and target class for the iris dataset?"
   ]
  },
  {
   "cell_type": "code",
   "execution_count": 6,
   "id": "531ed37d",
   "metadata": {
    "colab": {
     "base_uri": "https://localhost:8080/"
    },
    "deletable": false,
    "editable": false,
    "id": "GzPVvN0Na45y",
    "outputId": "1b4d3298-6021-471b-9289-0582e95929a0",
    "scrolled": true
   },
   "outputs": [
    {
     "name": "stdout",
     "output_type": "stream",
     "text": [
      "[[5.1 3.5 1.4 0.2]\n",
      " [4.9 3.  1.4 0.2]\n",
      " [4.7 3.2 1.3 0.2]\n",
      " [4.6 3.1 1.5 0.2]\n",
      " [5.  3.6 1.4 0.2]]\n",
      "[0 0 0 0 0 0 0 0 0 0 0 0 0 0 0 0 0 0 0 0 0 0 0 0 0 0 0 0 0 0 0 0 0 0 0 0 0\n",
      " 0 0 0 0 0 0 0 0 0 0 0 0 0 1 1 1 1 1 1 1 1 1 1 1 1 1 1 1 1 1 1 1 1 1 1 1 1\n",
      " 1 1 1 1 1 1 1 1 1 1 1 1 1 1 1 1 1 1 1 1 1 1 1 1 1 1 2 2 2 2 2 2 2 2 2 2 2\n",
      " 2 2 2 2 2 2 2 2 2 2 2 2 2 2 2 2 2 2 2 2 2 2 2 2 2 2 2 2 2 2 2 2 2 2 2 2 2\n",
      " 2 2]\n",
      ".. _iris_dataset:\n",
      "\n",
      "Iris plants dataset\n",
      "--------------------\n",
      "\n",
      "**Data Set Characteristics:**\n",
      "\n",
      "    :Number of Instances: 150 (50 in each of three classes)\n",
      "    :Number of Attributes: 4 numeric, predictive attributes and the class\n",
      "    :Attribute Information:\n",
      "        - sepal length in cm\n",
      "        - sepal width in cm\n",
      "        - petal length in cm\n",
      "        - petal width in cm\n",
      "        - class:\n",
      "                - Iris-Setosa\n",
      "                - Iris-Versicolour\n",
      "                - Iris-Virginica\n",
      "                \n",
      "    :Summary Statistics:\n",
      "\n",
      "    ============== ==== ==== ======= ===== ====================\n",
      "                    Min  Max   Mean    SD   Class Correlation\n",
      "    ============== ==== ==== ======= ===== ====================\n",
      "    sepal length:   4.3  7.9   5.84   0.83    0.7826\n",
      "    sepal width:    2.0  4.4   3.05   0.43   -0.4194\n",
      "    petal length:   1.0  6.9   3.76   1.76    0.9490  (high!)\n",
      "    petal width:    0.1  2.5   1.20   0.76    0.9565  (high!)\n",
      "    ============== ==== ==== ======= ===== ====================\n",
      "\n",
      "    :Missing Attribute Values: None\n",
      "    :Class Distribution: 33.3% for each of 3 classes.\n",
      "    :Creator: R.A. Fisher\n",
      "    :Donor: Michael Marshall (MARSHALL%PLU@io.arc.nasa.gov)\n",
      "    :Date: July, 1988\n",
      "\n",
      "The famous Iris database, first used by Sir R.A. Fisher. The dataset is taken\n",
      "from Fisher's paper. Note that it's the same as in R, but not as in the UCI\n",
      "Machine Learning Repository, which has two wrong data points.\n",
      "\n",
      "This is perhaps the best known database to be found in the\n",
      "pattern recognition literature.  Fisher's paper is a classic in the field and\n",
      "is referenced frequently to this day.  (See Duda & Hart, for example.)  The\n",
      "data set contains 3 classes of 50 instances each, where each class refers to a\n",
      "type of iris plant.  One class is linearly separable from the other 2; the\n",
      "latter are NOT linearly separable from each other.\n",
      "\n",
      ".. topic:: References\n",
      "\n",
      "   - Fisher, R.A. \"The use of multiple measurements in taxonomic problems\"\n",
      "     Annual Eugenics, 7, Part II, 179-188 (1936); also in \"Contributions to\n",
      "     Mathematical Statistics\" (John Wiley, NY, 1950).\n",
      "   - Duda, R.O., & Hart, P.E. (1973) Pattern Classification and Scene Analysis.\n",
      "     (Q327.D83) John Wiley & Sons.  ISBN 0-471-22361-1.  See page 218.\n",
      "   - Dasarathy, B.V. (1980) \"Nosing Around the Neighborhood: A New System\n",
      "     Structure and Classification Rule for Recognition in Partially Exposed\n",
      "     Environments\".  IEEE Transactions on Pattern Analysis and Machine\n",
      "     Intelligence, Vol. PAMI-2, No. 1, 67-71.\n",
      "   - Gates, G.W. (1972) \"The Reduced Nearest Neighbor Rule\".  IEEE Transactions\n",
      "     on Information Theory, May 1972, 431-433.\n",
      "   - See also: 1988 MLC Proceedings, 54-64.  Cheeseman et al\"s AUTOCLASS II\n",
      "     conceptual clustering system finds 3 classes in the data.\n",
      "   - Many, many more ...\n"
     ]
    }
   ],
   "source": [
    "# We can access the scikit datasets by using .data, **.target and **.DESCR \n",
    "print(iris.data[0:5,])\n",
    "print(iris.target)\n",
    "print(iris.DESCR)"
   ]
  },
  {
   "cell_type": "markdown",
   "id": "1d382d66",
   "metadata": {
    "deletable": false,
    "editable": false,
    "id": "64npiprkbL4M"
   },
   "source": [
    "**Cancer**   \n",
    "Access dataset information for the cancer dataset. Display only the first 1500 characters fo the dataset description. "
   ]
  },
  {
   "cell_type": "code",
   "execution_count": 26,
   "id": "df49a8e2",
   "metadata": {
    "colab": {
     "base_uri": "https://localhost:8080/"
    },
    "id": "bvId8VUobJGB",
    "outputId": "284fbbcf-7e4d-44c6-8049-93a63db2512d",
    "scrolled": true,
    "tags": []
   },
   "outputs": [
    {
     "name": "stdout",
     "output_type": "stream",
     "text": [
      "[[1.799e+01 1.038e+01 1.228e+02 1.001e+03 1.184e-01 2.776e-01 3.001e-01\n",
      "  1.471e-01 2.419e-01 7.871e-02 1.095e+00 9.053e-01 8.589e+00 1.534e+02\n",
      "  6.399e-03 4.904e-02 5.373e-02 1.587e-02 3.003e-02 6.193e-03 2.538e+01\n",
      "  1.733e+01 1.846e+02 2.019e+03 1.622e-01 6.656e-01 7.119e-01 2.654e-01\n",
      "  4.601e-01 1.189e-01]\n",
      " [2.057e+01 1.777e+01 1.329e+02 1.326e+03 8.474e-02 7.864e-02 8.690e-02\n",
      "  7.017e-02 1.812e-01 5.667e-02 5.435e-01 7.339e-01 3.398e+00 7.408e+01\n",
      "  5.225e-03 1.308e-02 1.860e-02 1.340e-02 1.389e-02 3.532e-03 2.499e+01\n",
      "  2.341e+01 1.588e+02 1.956e+03 1.238e-01 1.866e-01 2.416e-01 1.860e-01\n",
      "  2.750e-01 8.902e-02]\n",
      " [1.969e+01 2.125e+01 1.300e+02 1.203e+03 1.096e-01 1.599e-01 1.974e-01\n",
      "  1.279e-01 2.069e-01 5.999e-02 7.456e-01 7.869e-01 4.585e+00 9.403e+01\n",
      "  6.150e-03 4.006e-02 3.832e-02 2.058e-02 2.250e-02 4.571e-03 2.357e+01\n",
      "  2.553e+01 1.525e+02 1.709e+03 1.444e-01 4.245e-01 4.504e-01 2.430e-01\n",
      "  3.613e-01 8.758e-02]\n",
      " [1.142e+01 2.038e+01 7.758e+01 3.861e+02 1.425e-01 2.839e-01 2.414e-01\n",
      "  1.052e-01 2.597e-01 9.744e-02 4.956e-01 1.156e+00 3.445e+00 2.723e+01\n",
      "  9.110e-03 7.458e-02 5.661e-02 1.867e-02 5.963e-02 9.208e-03 1.491e+01\n",
      "  2.650e+01 9.887e+01 5.677e+02 2.098e-01 8.663e-01 6.869e-01 2.575e-01\n",
      "  6.638e-01 1.730e-01]\n",
      " [2.029e+01 1.434e+01 1.351e+02 1.297e+03 1.003e-01 1.328e-01 1.980e-01\n",
      "  1.043e-01 1.809e-01 5.883e-02 7.572e-01 7.813e-01 5.438e+00 9.444e+01\n",
      "  1.149e-02 2.461e-02 5.688e-02 1.885e-02 1.756e-02 5.115e-03 2.254e+01\n",
      "  1.667e+01 1.522e+02 1.575e+03 1.374e-01 2.050e-01 4.000e-01 1.625e-01\n",
      "  2.364e-01 7.678e-02]]\n",
      "[0 0 0 0 0 0 0 0 0 0 0 0 0 0 0 0 0 0 0 1 1 1 0 0 0 0 0 0 0 0 0 0 0 0 0 0 0\n",
      " 1 0 0 0 0 0 0 0 0 1 0 1 1 1 1 1 0 0 1 0 0 1 1 1 1 0 1 0 0 1 1 1 1 0 1 0 0\n",
      " 1 0 1 0 0 1 1 1 0 0 1 0 0 0 1 1 1 0 1 1 0 0 1 1 1 0 0 1 1 1 1 0 1 1 0 1 1\n",
      " 1 1 1 1 1 1 0 0 0 1 0 0 1 1 1 0 0 1 0 1 0 0 1 0 0 1 1 0 1 1 0 1 1 1 1 0 1\n",
      " 1 1 1 1 1 1 1 1 0 1 1 1 1 0 0 1 0 1 1 0 0 1 1 0 0 1 1 1 1 0 1 1 0 0 0 1 0\n",
      " 1 0 1 1 1 0 1 1 0 0 1 0 0 0 0 1 0 0 0 1 0 1 0 1 1 0 1 0 0 0 0 1 1 0 0 1 1\n",
      " 1 0 1 1 1 1 1 0 0 1 1 0 1 1 0 0 1 0 1 1 1 1 0 1 1 1 1 1 0 1 0 0 0 0 0 0 0\n",
      " 0 0 0 0 0 0 0 1 1 1 1 1 1 0 1 0 1 1 0 1 1 0 1 0 0 1 1 1 1 1 1 1 1 1 1 1 1\n",
      " 1 0 1 1 0 1 0 1 1 1 1 1 1 1 1 1 1 1 1 1 1 0 1 1 1 0 1 0 1 1 1 1 0 0 0 1 1\n",
      " 1 1 0 1 0 1 0 1 1 1 0 1 1 1 1 1 1 1 0 0 0 1 1 1 1 1 1 1 1 1 1 1 0 0 1 0 0\n",
      " 0 1 0 0 1 1 1 1 1 0 1 1 1 1 1 0 1 1 1 0 1 1 0 0 1 1 1 1 1 1 0 1 1 1 1 1 1\n",
      " 1 0 1 1 1 1 1 0 1 1 0 1 1 1 1 1 1 1 1 1 1 1 1 0 1 0 0 1 0 1 1 1 1 1 0 1 1\n",
      " 0 1 0 1 1 0 1 0 1 1 1 1 1 1 1 1 0 0 1 1 1 1 1 1 0 1 1 1 1 1 1 1 1 1 1 0 1\n",
      " 1 1 1 1 1 1 0 1 0 1 1 0 1 1 1 1 1 0 0 1 0 1 0 1 1 1 1 1 0 1 1 0 1 0 1 0 0\n",
      " 1 1 1 0 1 1 1 1 1 1 1 1 1 1 1 0 1 0 0 1 1 1 1 1 1 1 1 1 1 1 1 1 1 1 1 1 1\n",
      " 1 1 1 1 1 1 1 0 0 0 0 0 0 1]\n",
      ".. _breast_cancer_dataset:\n",
      "\n",
      "Breast cancer wisconsin (diagnostic) dataset\n",
      "--------------------------------------------\n",
      "\n",
      "**Data Set Characteristics:**\n",
      "\n",
      "    :Number of Instances: 569\n",
      "\n",
      "    :Number of Attributes: 30 numeric, predictive attributes and the class\n",
      "\n",
      "    :Attribute Information:\n",
      "        - radius (mean of distances from center to points on the perimeter)\n",
      "        - texture (standard deviation of gray-scale values)\n",
      "        - perimeter\n",
      "        - area\n",
      "        - smoothness (local variation in radius lengths)\n",
      "        - compactness (perimeter^2 / area - 1.0)\n",
      "        - concavity (severity of concave portions of the contour)\n",
      "        - concave points (number of concave portions of the contour)\n",
      "        - symmetry\n",
      "        - fractal dimension (\"coastline approximation\" - 1)\n",
      "\n",
      "        The mean, standard error, and \"worst\" or largest (mean of the three\n",
      "        worst/largest values) of these features were computed for each image,\n",
      "        resulting in 30 features.  For instance, field 0 is Mean Radius, field\n",
      "        10 is Radius SE, field 20 is Worst Radius.\n",
      "\n",
      "        - class:\n",
      "                - WDBC-Malignant\n",
      "                - WDBC-Benign\n",
      "\n",
      "    :Summary Statistics:\n",
      "\n",
      "    ===================================== ====== ======\n",
      "                                           Min    Max\n",
      "    ===================================== ====== ======\n",
      "    radius (mean):                        6.981  28.11\n",
      "    texture (mean):                       9.71   39.28\n",
      "    perimeter (mean):                     43.79  188.5\n",
      "\n"
     ]
    }
   ],
   "source": [
    "# We can access the scikit datasets by using .data, **.target and **.DESCR \n",
    "print(cancer.data[0:5,])\n",
    "print(cancer.target)\n",
    "print(cancer.DESCR[0:1500])\n"
   ]
  },
  {
   "cell_type": "markdown",
   "id": "0f25d79c",
   "metadata": {
    "deletable": false,
    "editable": false,
    "id": "i97hF9jlbPx-"
   },
   "source": [
    "**Wine**  \n",
    "Access dataset information for the wine dataset. Display only the first 1500 characters fo the dataset description. "
   ]
  },
  {
   "cell_type": "code",
   "execution_count": 27,
   "id": "66715d8a",
   "metadata": {
    "colab": {
     "base_uri": "https://localhost:8080/"
    },
    "id": "m8bAawGYbPJu",
    "outputId": "b97dd791-9b5e-4b6c-ad4d-44dfb758e182",
    "scrolled": true,
    "tags": []
   },
   "outputs": [
    {
     "name": "stdout",
     "output_type": "stream",
     "text": [
      "[[1.423e+01 1.710e+00 2.430e+00 1.560e+01 1.270e+02 2.800e+00 3.060e+00\n",
      "  2.800e-01 2.290e+00 5.640e+00 1.040e+00 3.920e+00 1.065e+03]\n",
      " [1.320e+01 1.780e+00 2.140e+00 1.120e+01 1.000e+02 2.650e+00 2.760e+00\n",
      "  2.600e-01 1.280e+00 4.380e+00 1.050e+00 3.400e+00 1.050e+03]\n",
      " [1.316e+01 2.360e+00 2.670e+00 1.860e+01 1.010e+02 2.800e+00 3.240e+00\n",
      "  3.000e-01 2.810e+00 5.680e+00 1.030e+00 3.170e+00 1.185e+03]\n",
      " [1.437e+01 1.950e+00 2.500e+00 1.680e+01 1.130e+02 3.850e+00 3.490e+00\n",
      "  2.400e-01 2.180e+00 7.800e+00 8.600e-01 3.450e+00 1.480e+03]\n",
      " [1.324e+01 2.590e+00 2.870e+00 2.100e+01 1.180e+02 2.800e+00 2.690e+00\n",
      "  3.900e-01 1.820e+00 4.320e+00 1.040e+00 2.930e+00 7.350e+02]]\n",
      "[0 0 0 0 0 0 0 0 0 0 0 0 0 0 0 0 0 0 0 0 0 0 0 0 0 0 0 0 0 0 0 0 0 0 0 0 0\n",
      " 0 0 0 0 0 0 0 0 0 0 0 0 0 0 0 0 0 0 0 0 0 0 1 1 1 1 1 1 1 1 1 1 1 1 1 1 1\n",
      " 1 1 1 1 1 1 1 1 1 1 1 1 1 1 1 1 1 1 1 1 1 1 1 1 1 1 1 1 1 1 1 1 1 1 1 1 1\n",
      " 1 1 1 1 1 1 1 1 1 1 1 1 1 1 1 1 1 1 1 2 2 2 2 2 2 2 2 2 2 2 2 2 2 2 2 2 2\n",
      " 2 2 2 2 2 2 2 2 2 2 2 2 2 2 2 2 2 2 2 2 2 2 2 2 2 2 2 2 2 2]\n",
      ".. _wine_dataset:\n",
      "\n",
      "Wine recognition dataset\n",
      "------------------------\n",
      "\n",
      "**Data Set Characteristics:**\n",
      "\n",
      "    :Number of Instances: 178\n",
      "    :Number of Attributes: 13 numeric, predictive attributes and the class\n",
      "    :Attribute Information:\n",
      " \t\t- Alcohol\n",
      " \t\t- Malic acid\n",
      " \t\t- Ash\n",
      "\t\t- Alcalinity of ash  \n",
      " \t\t- Magnesium\n",
      "\t\t- Total phenols\n",
      " \t\t- Flavanoids\n",
      " \t\t- Nonflavanoid phenols\n",
      " \t\t- Proanthocyanins\n",
      "\t\t- Color intensity\n",
      " \t\t- Hue\n",
      " \t\t- OD280/OD315 of diluted wines\n",
      " \t\t- Proline\n",
      "\n",
      "    - class:\n",
      "            - class_0\n",
      "            - class_1\n",
      "            - class_2\n",
      "\t\t\n",
      "    :Summary Statistics:\n",
      "    \n",
      "    ============================= ==== ===== ======= =====\n",
      "                                   Min   Max   Mean     SD\n",
      "    ============================= ==== ===== ======= =====\n",
      "    Alcohol:                      11.0  14.8    13.0   0.8\n",
      "    Malic Acid:                   0.74  5.80    2.34  1.12\n",
      "    Ash:                          1.36  3.23    2.36  0.27\n",
      "    Alcalinity of Ash:            10.6  30.0    19.5   3.3\n",
      "    Magnesium:                    70.0 162.0    99.7  14.3\n",
      "    Total Phenols:                0.98  3.88    2.29  0.63\n",
      "    Flavanoids:                   0.34  5.08    2.03  1.00\n",
      "    Nonflavanoid Phenols:         0.13  0.66    0.36  0.12\n",
      "    Proanthocyanins:              0.41  3.58    1.59  0.57\n",
      "    Colour Intensity:              1.3  13.0     5.1   2.3\n",
      "    Hue:                          0.48  1.71    0.96  0.23\n",
      "    OD280/OD315 of diluted wines: 1.27  4.00    2.61  0.71\n",
      "    Proline:                      \n"
     ]
    }
   ],
   "source": [
    "# We can access the scikit datasets by using .data, **.target and **.DESCR \n",
    "print(wine.data[0:5,])\n",
    "print(wine.target)\n",
    "print(wine.DESCR[0:1500])\n"
   ]
  },
  {
   "cell_type": "markdown",
   "id": "15ec6e3a",
   "metadata": {
    "deletable": false,
    "editable": false,
    "id": "DUEcsIQ7bfPN"
   },
   "source": [
    "<!-- END QUESTION -->\n",
    "\n",
    "## Other packages \n",
    "\n",
    "Import other important packages necessary for supervised learning. The below links gives information and significance of each sklearn modules.\n",
    "\n",
    "https://docs.python.org/3/library/math.html\n",
    "\n",
    "https://docs.python.org/3/library/random.html\n",
    "\n",
    "http://scikit-learn.org/stable/modules/neighbors.html\n",
    "\n",
    "https://scikit-learn.org/stable/modules/generated/sklearn.model_selection.train_test_split.html\n",
    "\n"
   ]
  },
  {
   "cell_type": "markdown",
   "id": "29b1046e",
   "metadata": {
    "id": "a1dEpg52b4Zi"
   },
   "source": [
    "We know that Sci-kit learn input data is structured in Numpy arrays, organized as\n",
    "\n",
    "**X** := n_samples x  n_features"
   ]
  },
  {
   "cell_type": "code",
   "execution_count": 28,
   "id": "65057301",
   "metadata": {
    "id": "Ufw7Jda1bzhb",
    "tags": []
   },
   "outputs": [],
   "source": [
    "\"\"\" \n",
    "Assign the data of iris to Xi and target class to yi (beware of case sensitive variables \n",
    "defined here). Similarly, assign Xc and yc to cancer data and target respectively and \n",
    "Xw and yw for the wine data.\n",
    "\"\"\"\n",
    "#i suffix for iris dataset\n",
    "Xi = iris.data \n",
    "yi = iris.target \n",
    "\n",
    "# c suffix for cancer dataset\n",
    "Xc = cancer.data\n",
    "yc = cancer.target\n",
    "\n",
    "# w suffix for wine dataset\n",
    "Xw = wine.data\n",
    "yw = wine.target"
   ]
  },
  {
   "cell_type": "markdown",
   "id": "65d3cd0f",
   "metadata": {
    "id": "XGn3RORKcIjl"
   },
   "source": [
    "## Exercise 2: KNN\n",
    "\n"
   ]
  },
  {
   "cell_type": "markdown",
   "id": "b08c4ded",
   "metadata": {
    "deletable": false,
    "editable": false,
    "id": "RKmV3gMKcQvk"
   },
   "source": [
    "### Ex 2A. `scikit-learn` split data\n",
    "\n",
    "In section 5.3, page 75, the dataset is randomly split to train and test data. The code uses random function with permutation and a `ravel()` function. Let us use scikit learn function to perform the similar action.\n",
    "\n",
    "Use the `train_test_split` function to split the toy data sets in the following ways: \n",
    "\n",
    "1. Iris: create a test set with size of 33% of the data \n",
    "2. Cancer: create a test set with 1/4th of the samples \n",
    "3. Wine: create a test set with 20% of the samples \n",
    "\n",
    "Use the `random state` of 5 - for  repeatability.\n",
    "\n",
    "To ensure that the distribution of labels remains in the same proportion for the training and testing set, make sure to use the `stratify` parameter. \n",
    "\n",
    "Refer link below to learn more:\n",
    "http://scikit-learn.org/stable/modules/generated/sklearn.model_selection.train_test_split.html"
   ]
  },
  {
   "cell_type": "code",
   "execution_count": 29,
   "id": "c5f939a7",
   "metadata": {
    "id": "leGbFI8xcG-a",
    "tags": []
   },
   "outputs": [],
   "source": [
    "# for iris dataset\n",
    "Xi_train, Xi_test, yi_train, yi_test = train_test_split(Xi, yi, test_size=0.33, random_state=5, stratify=yi)\n",
    "\n",
    "# for cancer dataset\n",
    "Xc_train, Xc_test, yc_train, yc_test = train_test_split(Xc, yc, test_size=1/4, random_state=5, stratify=yc)\n",
    "\n",
    "# for wine dataset\n",
    "Xw_train, Xw_test, yw_train, yw_test = train_test_split(Xw, yw, test_size=0.2, random_state=5, stratify=yw)"
   ]
  },
  {
   "cell_type": "markdown",
   "id": "ce72c405",
   "metadata": {
    "deletable": false,
    "editable": false,
    "id": "glUo9_71cijg"
   },
   "source": [
    "Observe the size of test and train sets "
   ]
  },
  {
   "cell_type": "code",
   "execution_count": 11,
   "id": "2591b1b2",
   "metadata": {
    "colab": {
     "base_uri": "https://localhost:8080/"
    },
    "deletable": false,
    "editable": false,
    "id": "XqvGJKSTclss",
    "outputId": "4e5a3c64-964b-4ae6-c1ed-b8dc525276aa",
    "tags": []
   },
   "outputs": [
    {
     "name": "stdout",
     "output_type": "stream",
     "text": [
      "For Iris Dataset\n",
      "data shape (X): (150, 4) and Target shape (y): (150,)\n",
      "Training shape: (100, 4) and Training targets shape: (100,)\n",
      "Testing shape: (50, 4) and Testing targets shape: (50,)\n",
      "\n",
      "\n",
      "For Cancer Dataset\n",
      "data shape (X): (569, 30) and Target shape (y): (569,)\n",
      "Training shape: (426, 30) and Training targets shape: (426,)\n",
      "Testing shape: (143, 30) and Testing targets shape: (143,)\n",
      "\n",
      "\n",
      "For wine Dataset\n",
      "data shape (X): (178, 13) and Target shape (y): (178,)\n",
      "Training shape: (142, 13) and Training targets shape: (142,)\n",
      "Testing shape: (36, 13) and Testing targets shape: (36,)\n"
     ]
    }
   ],
   "source": [
    "print(\"For Iris Dataset\")\n",
    "print(\"data shape (X):\", Xi.shape, \"and\",  \n",
    "      \"Target shape (y):\", yi.shape)\n",
    "print(\"Training shape:\", Xi_train.shape, \"and\",  \n",
    "      \"Training targets shape:\", yi_train.shape)\n",
    "print(\"Testing shape:\", Xi_test.shape, \"and\",  \n",
    "      \"Testing targets shape:\", yi_test.shape)\n",
    "print(\"\\n\")\n",
    "\n",
    "print(\"For Cancer Dataset\")\n",
    "print(\"data shape (X):\", Xc.shape, \"and\",  \n",
    "      \"Target shape (y):\", yc.shape)\n",
    "print(\"Training shape:\", Xc_train.shape, \"and\",  \n",
    "      \"Training targets shape:\", yc_train.shape)\n",
    "print(\"Testing shape:\", Xc_test.shape, \"and\",  \n",
    "      \"Testing targets shape:\", yc_test.shape)\n",
    "print(\"\\n\")\n",
    "\n",
    "print(\"For wine Dataset\")\n",
    "print(\"data shape (X):\", Xw.shape, \"and\",  \n",
    "      \"Target shape (y):\", yw.shape)\n",
    "print(\"Training shape:\", Xw_train.shape, \"and\",  \n",
    "      \"Training targets shape:\", yw_train.shape)\n",
    "print(\"Testing shape:\", Xw_test.shape, \"and\",  \n",
    "      \"Testing targets shape:\", yw_test.shape)"
   ]
  },
  {
   "cell_type": "code",
   "execution_count": 12,
   "id": "09b0a102",
   "metadata": {
    "deletable": false,
    "editable": false
   },
   "outputs": [
    {
     "data": {
      "text/html": [
       "<p><strong><pre style='display: inline;'>q2a</pre></strong> passed! 🙌</p>"
      ],
      "text/plain": [
       "q2a results: All test cases passed!"
      ]
     },
     "execution_count": 12,
     "metadata": {},
     "output_type": "execute_result"
    }
   ],
   "source": [
    "grader.check(\"q2a\")"
   ]
  },
  {
   "cell_type": "markdown",
   "id": "49018645",
   "metadata": {
    "deletable": false,
    "editable": false
   },
   "source": [
    "<!-- BEGIN QUESTION -->\n",
    "\n",
    "### Ex 2B.  Distribution of class labels"
   ]
  },
  {
   "cell_type": "markdown",
   "id": "0e3acadc",
   "metadata": {
    "deletable": false,
    "editable": false,
    "id": "9HW-D_Crcrt7"
   },
   "source": [
    "Show the distribution of class labels is the same between the full dataset, training set, and test set for the wine dataset.\n",
    "\n",
    "Suggest creating a figure with 3 subplots for full, training and test data sets."
   ]
  },
  {
   "cell_type": "code",
   "execution_count": 13,
   "id": "95c363c2",
   "metadata": {
    "colab": {
     "base_uri": "https://localhost:8080/",
     "height": 294
    },
    "id": "nz0nXRBxcoOm",
    "outputId": "4f38dc59-5ba1-45d4-c06d-5bd748922ea3",
    "tags": []
   },
   "outputs": [
    {
     "data": {
      "image/png": "[encoded data removed]",
      "text/plain": [
       "<Figure size 600x300 with 3 Axes>"
      ]
     },
     "metadata": {},
     "output_type": "display_data"
    }
   ],
   "source": [
    "plt.figure(figsize=(6,3)) \n",
    "plt.subplot(1, 3, 1)\n",
    "plt.hist(yw)\n",
    "plt.title(\"Full Data Set\")\n",
    "\n",
    "plt.subplot(1, 3, 2)\n",
    "plt.hist(yw_train)\n",
    "plt.title(\"Train Set\")\n",
    "\n",
    "plt.subplot(1, 3, 3)\n",
    "plt.hist(yw_test)\n",
    "plt.title(\"Test Set\");\n"
   ]
  },
  {
   "cell_type": "markdown",
   "id": "ad73b2f2",
   "metadata": {
    "deletable": false,
    "editable": false,
    "id": "6bWj9tK9cyE9"
   },
   "source": [
    "<!-- END QUESTION -->\n",
    "\n",
    "<!-- BEGIN QUESTION -->\n",
    "\n",
    "### Ex. 2C. Train a KNN model \n",
    "\n",
    "For KNN classification, train a model using 5 neighbors.\n",
    "\n",
    "You can change out the data set, by commenting out and recommenting the code block below for the iris, cancer, and wine dataset."
   ]
  },
  {
   "cell_type": "code",
   "execution_count": 30,
   "id": "54e71579",
   "metadata": {
    "id": "3v7Bw0j0cvLv",
    "tags": []
   },
   "outputs": [],
   "source": [
    "# \"\"\" For iris dataset analysis \"\"\"\n",
    "# X_train = Xi_train\n",
    "# y_train = yi_train\n",
    "# X_test =  Xi_test\n",
    "# y_test =  yi_test\n",
    "# target_names = iris.target_names\n",
    "\n",
    "\n",
    "\n",
    "# \"\"\" For cancer dataset analysis \"\"\"\n",
    "# X_train = Xc_train\n",
    "# y_train = yc_train\n",
    "# X_test =  Xc_test\n",
    "# y_test =  yc_test\n",
    "# target_names = cancer.target_names\n",
    "\n",
    "\n",
    "\"\"\" For wine dataset analysis \"\"\"\n",
    "X_train = Xw_train\n",
    "y_train = yw_train\n",
    "X_test =  Xw_test\n",
    "y_test =  yw_test\n",
    "target_names = wine.target_names"
   ]
  },
  {
   "cell_type": "code",
   "execution_count": 31,
   "id": "14caf98b-d64f-410d-a551-a164a725092e",
   "metadata": {},
   "outputs": [
    {
     "name": "stdout",
     "output_type": "stream",
     "text": [
      "0.6944444444444444\n"
     ]
    }
   ],
   "source": [
    "# set n_neighbors = 5 \n",
    "knn = neighbors.KNeighborsClassifier(n_neighbors = 5)\n",
    "\n",
    "# train the classifier using the training data, use fit()\n",
    "knn.fit(X_train, y_train)\n",
    "\n",
    "# compute the prediction of the test set using predict()\n",
    "predict = knn.predict(X_test)\n",
    "\n",
    "# compute the accuracy in predicting the test set \n",
    "# from sklearn.metrics import accuracy_score \n",
    "accVal = accuracy_score(y_test,predict)\n",
    "print(accVal)"
   ]
  },
  {
   "cell_type": "code",
   "execution_count": null,
   "id": "ee552ea4",
   "metadata": {
    "tags": []
   },
   "outputs": [],
   "source": []
  },
  {
   "cell_type": "markdown",
   "id": "4138c3db",
   "metadata": {
    "id": "u1YCl7mjdIQ4"
   },
   "source": [
    "We can see that the accuracy score for iris dataset is 0.94. For the same neighbor hyperparameter, what is the accuracy score for different datasets.\n",
    "\n",
    "* What was the accuracy score for breast cancer dataset?  Ans : 94.4%\n",
    "* What was the accuracy score for wine dataset? Ans: 69.4%\n",
    "\n",
    "Rerun the above code, commenting out/in the different datasets above.  Do not duplicate the code cell."
   ]
  },
  {
   "cell_type": "markdown",
   "id": "07c7f5c8",
   "metadata": {
    "deletable": false,
    "editable": false,
    "id": "kwKPQOWedqil"
   },
   "source": [
    "<!-- END QUESTION -->\n",
    "\n",
    "## Exercise 3: Performance Measures "
   ]
  },
  {
   "cell_type": "markdown",
   "id": "c09fe680",
   "metadata": {
    "deletable": false,
    "editable": false,
    "id": "8JD1dxdaeLEg"
   },
   "source": [
    "### Ex. 3A. Write your own functions \n",
    "\n",
    "From page 73 of the book, the performance metrics are defined. Create a functions for accuracy, sensitivity, specificity, recall, precision, positive predictive value, and negative predictive value. \n",
    "\n",
    "You can **not** use the built-in sklearn functions or any other python module. \n",
    "\n",
    "Refer to either class notes or textbook for these definitions. "
   ]
  },
  {
   "cell_type": "code",
   "execution_count": 32,
   "id": "69e94ad8",
   "metadata": {
    "id": "2G1GnKTFdo5l",
    "tags": []
   },
   "outputs": [],
   "source": [
    "def accuracy(tp, fp, fn, tn):\n",
    "    # Define an accuracy function \n",
    "    accuracy = (tp+tn)/(tp+fp+fn+tn)\n",
    "    return accuracy\n",
    "\n",
    "def sensitivity(tp, fp, fn, tn):\n",
    "    # Define a sensitivity function \n",
    "    sensitivity = tp/(tp+fn)\n",
    "    return sensitivity\n",
    "\n",
    "def specificity(tp, fp, fn, tn):\n",
    "    # Define a specificity function \n",
    "    specificity = tn/(fp+tn)\n",
    "    return specificity\n",
    "\n",
    "def recall(tp, fp, fn, tn):\n",
    "    # Define a recall function \n",
    "    recall = tp/(tp+fn)\n",
    "    return recall\n",
    "\n",
    "def precision(tp, fp, fn, tn):\n",
    "    # Define a precision function\n",
    "    precision = tp/(tp+fp)\n",
    "    return precision\n",
    "\n",
    "def negPredValue(tp, fp, fn, tn):\n",
    "    # Define a negative predictive value function \n",
    "    npv = tn/(tn+fn)\n",
    "    return npv\n",
    "\n",
    "def posPredValue(tp, fp, fn, tn):\n",
    "    # Define a positive predictive value function \n",
    "    ppv = tp/(tp+fp) # same as precision\n",
    "    return ppv\n",
    "\n",
    "def f1_score(tp, fp, fn, tn):\n",
    "    # Define a f1-score function \n",
    "    f1_score = ( 2 * (tp/(tp+fp)) * tp/(tp+fn) ) / ( (tp/(tp+fp)) + tp/(tp+fn) )\n",
    "    return f1_score"
   ]
  },
  {
   "cell_type": "markdown",
   "id": "e207aebd",
   "metadata": {
    "deletable": false,
    "editable": false
   },
   "source": [
    "Test the function above for the binary case as detailed in Page [74] What values does the function return for accuracy, recall, specificity, precision, negPredValue, posPredValue and F1 score."
   ]
  },
  {
   "cell_type": "code",
   "execution_count": 17,
   "id": "458392b0",
   "metadata": {
    "deletable": false,
    "editable": false,
    "tags": []
   },
   "outputs": [
    {
     "name": "stdout",
     "output_type": "stream",
     "text": [
      "Accuracy:  0.8316425120772947\n",
      "sensitivity:  0.9979271542789458\n",
      "specificity:  0.09567496723460026\n",
      "precision:  0.8300492610837439\n",
      "recall:  0.9979271542789458\n",
      "NegativePredictiveValue:  0.9125\n",
      "PositivePredictiveValue:  0.8300492610837439\n",
      "f1_score: 0.9062794137421003\n",
      "3370.0 73.0 7.0 690.0\n"
     ]
    }
   ],
   "source": [
    "tp=3370.\n",
    "tn=73.\n",
    "fn=7.\n",
    "fp=690.\n",
    "\n",
    "\n",
    "accVal = accuracy(tp,fp,fn,tn)\n",
    "sensVal = sensitivity(tp,fp,fn,tn)\n",
    "specVal = specificity(tp,fp,fn,tn)\n",
    "precVal = precision(tp,fp,fn,tn)\n",
    "recVal = recall(tp,fp,fn,tn)\n",
    "ppVal = posPredValue(tp,fp,fn,tn)\n",
    "npVal = negPredValue(tp,fp,fn,tn)\n",
    "f1Val = f1_score(tp,fp,fn,tn)\n",
    "\n",
    "print(\"Accuracy: \", accVal)\n",
    "print(\"sensitivity: \", sensVal)\n",
    "print(\"specificity: \", specVal)\n",
    "print(\"precision: \", precVal)\n",
    "print(\"recall: \", recVal)\n",
    "print(\"NegativePredictiveValue: \", npVal)\n",
    "print(\"PositivePredictiveValue: \", ppVal)\n",
    "print(\"f1_score:\", f1Val)\n",
    "print(tp, tn, fn, fp)"
   ]
  },
  {
   "cell_type": "code",
   "execution_count": 33,
   "id": "b2ec0701",
   "metadata": {
    "deletable": false,
    "editable": false,
    "scrolled": true
   },
   "outputs": [
    {
     "data": {
      "text/html": [
       "<p><strong style='color: red;'><pre style='display: inline;'>q3a</pre> results:</strong></p><p><strong><pre style='display: inline;'>q3a - 1</pre> result:</strong></p><pre>    ❌ Test case failed\n",
       "    Trying:\n",
       "        dat1 = [3, 1, 2, 4]\n",
       "    Expecting nothing\n",
       "    ok\n",
       "    Trying:\n",
       "        dat2 = [5, 0, 3, 2]\n",
       "    Expecting nothing\n",
       "    ok\n",
       "    Trying:\n",
       "        dat3 = [4, 1, 1, 4]\n",
       "    Expecting nothing\n",
       "    ok\n",
       "    Trying:\n",
       "        accuracy(dat1[0], dat1[1], dat1[2], dat1[3]) == 0.7 and recall(dat1[0], dat1[1], dat1[2], dat1[3]) == 0.6 and np.isclose(negPredValue(dat1[0], dat1[1], dat1[2], dat1[3]), 0.66666)\n",
       "    Expecting:\n",
       "        np.True_\n",
       "    **********************************************************************\n",
       "    Line 4, in q3a 0\n",
       "    Failed example:\n",
       "        accuracy(dat1[0], dat1[1], dat1[2], dat1[3]) == 0.7 and recall(dat1[0], dat1[1], dat1[2], dat1[3]) == 0.6 and np.isclose(negPredValue(dat1[0], dat1[1], dat1[2], dat1[3]), 0.66666)\n",
       "    Expected:\n",
       "        np.True_\n",
       "    Got:\n",
       "        True\n",
       "</pre><p><strong><pre style='display: inline;'>q3a - 2</pre> result:</strong></p><pre>    ❌ Test case failed\n",
       "    Trying:\n",
       "        dat1 = [3, 1, 2, 4]\n",
       "    Expecting nothing\n",
       "    ok\n",
       "    Trying:\n",
       "        sensitivity(dat1[0], dat1[1], dat1[2], dat1[3]) == 0.6 and posPredValue(dat1[0], dat1[1], dat1[2], dat1[3]) == 0.75 and np.isclose(f1_score(dat1[0], dat1[1], dat1[2], dat1[3]), 0.666666)\n",
       "    Expecting:\n",
       "        np.True_\n",
       "    **********************************************************************\n",
       "    Line 2, in q3a 1\n",
       "    Failed example:\n",
       "        sensitivity(dat1[0], dat1[1], dat1[2], dat1[3]) == 0.6 and posPredValue(dat1[0], dat1[1], dat1[2], dat1[3]) == 0.75 and np.isclose(f1_score(dat1[0], dat1[1], dat1[2], dat1[3]), 0.666666)\n",
       "    Expected:\n",
       "        np.True_\n",
       "    Got:\n",
       "        True\n",
       "</pre><p><strong><pre style='display: inline;'>q3a - 3</pre> result:</strong></p><pre>    ✅ Test case passed</pre><p><strong><pre style='display: inline;'>q3a - 4</pre> result:</strong></p><pre>    ❌ Test case failed\n",
       "    Trying:\n",
       "        dat2 = [5, 0, 3, 2]\n",
       "    Expecting nothing\n",
       "    ok\n",
       "    Trying:\n",
       "        sensitivity(dat2[0], dat2[1], dat2[2], dat2[3]) == 0.625 and precision(dat2[0], dat2[1], dat2[2], dat2[3]) == 1.0 and np.isclose(negPredValue(dat2[0], dat2[1], dat2[2], dat2[3]), 0.4)\n",
       "    Expecting:\n",
       "        np.True_\n",
       "    **********************************************************************\n",
       "    Line 2, in q3a 3\n",
       "    Failed example:\n",
       "        sensitivity(dat2[0], dat2[1], dat2[2], dat2[3]) == 0.625 and precision(dat2[0], dat2[1], dat2[2], dat2[3]) == 1.0 and np.isclose(negPredValue(dat2[0], dat2[1], dat2[2], dat2[3]), 0.4)\n",
       "    Expected:\n",
       "        np.True_\n",
       "    Got:\n",
       "        True\n",
       "</pre><p><strong><pre style='display: inline;'>q3a - 5</pre> result:</strong></p><pre>    ❌ Test case failed\n",
       "    Trying:\n",
       "        dat2 = [5, 0, 3, 2]\n",
       "    Expecting nothing\n",
       "    ok\n",
       "    Trying:\n",
       "        recall(dat2[0], dat2[1], dat2[2], dat2[3]) == 0.625 and specificity(dat2[0], dat2[1], dat2[2], dat2[3]) == 1.0 and np.isclose(f1_score(dat2[0], dat2[1], dat2[2], dat2[3]), 0.76923)\n",
       "    Expecting:\n",
       "        np.True_\n",
       "    **********************************************************************\n",
       "    Line 2, in q3a 4\n",
       "    Failed example:\n",
       "        recall(dat2[0], dat2[1], dat2[2], dat2[3]) == 0.625 and specificity(dat2[0], dat2[1], dat2[2], dat2[3]) == 1.0 and np.isclose(f1_score(dat2[0], dat2[1], dat2[2], dat2[3]), 0.76923)\n",
       "    Expected:\n",
       "        np.True_\n",
       "    Got:\n",
       "        True\n",
       "</pre><p><strong><pre style='display: inline;'>q3a - 6</pre> result:</strong></p><pre>    ✅ Test case passed</pre><p><strong><pre style='display: inline;'>q3a - 7</pre> result:</strong></p><pre>    ❌ Test case failed\n",
       "    Trying:\n",
       "        dat3 = [4, 1, 1, 4]\n",
       "    Expecting nothing\n",
       "    ok\n",
       "    Trying:\n",
       "        accuracy(dat3[0], dat3[1], dat3[2], dat3[3]) == 0.8 and sensitivity(dat3[0], dat3[1], dat3[2], dat3[3]) == 0.8 and np.isclose(posPredValue(dat3[0], dat3[1], dat3[2], dat3[3]), 0.8)\n",
       "    Expecting:\n",
       "        np.True_\n",
       "    **********************************************************************\n",
       "    Line 2, in q3a 6\n",
       "    Failed example:\n",
       "        accuracy(dat3[0], dat3[1], dat3[2], dat3[3]) == 0.8 and sensitivity(dat3[0], dat3[1], dat3[2], dat3[3]) == 0.8 and np.isclose(posPredValue(dat3[0], dat3[1], dat3[2], dat3[3]), 0.8)\n",
       "    Expected:\n",
       "        np.True_\n",
       "    Got:\n",
       "        True\n",
       "</pre><p><strong><pre style='display: inline;'>q3a - 8</pre> result:</strong></p><pre>    ❌ Test case failed\n",
       "    Trying:\n",
       "        dat3 = [4, 1, 1, 4]\n",
       "    Expecting nothing\n",
       "    ok\n",
       "    Trying:\n",
       "        specificity(dat3[0], dat3[1], dat3[2], dat3[3]) == 0.8 and precision(dat3[0], dat3[1], dat3[2], dat3[3]) == 0.8 and np.isclose(f1_score(dat3[0], dat3[1], dat3[2], dat3[3]), 0.8)\n",
       "    Expecting:\n",
       "        np.True_\n",
       "    **********************************************************************\n",
       "    Line 2, in q3a 7\n",
       "    Failed example:\n",
       "        specificity(dat3[0], dat3[1], dat3[2], dat3[3]) == 0.8 and precision(dat3[0], dat3[1], dat3[2], dat3[3]) == 0.8 and np.isclose(f1_score(dat3[0], dat3[1], dat3[2], dat3[3]), 0.8)\n",
       "    Expected:\n",
       "        np.True_\n",
       "    Got:\n",
       "        True\n",
       "</pre><p><strong><pre style='display: inline;'>q3a - 9</pre> result:</strong></p><pre>    ❌ Test case failed\n",
       "    Trying:\n",
       "        np.isclose(accVal, 0.8316425) and np.isclose(sensVal, 0.9979271) and np.isclose(specVal, 0.095674967) and np.isclose(f1Val, 0.90627941)\n",
       "    Expecting:\n",
       "        np.True_\n",
       "    **********************************************************************\n",
       "    Line 1, in q3a 8\n",
       "    Failed example:\n",
       "        np.isclose(accVal, 0.8316425) and np.isclose(sensVal, 0.9979271) and np.isclose(specVal, 0.095674967) and np.isclose(f1Val, 0.90627941)\n",
       "    Expected:\n",
       "        np.True_\n",
       "    Got:\n",
       "        False\n",
       "</pre><p><strong><pre style='display: inline;'>q3a - 10</pre> result:</strong></p><pre>    ❌ Test case failed\n",
       "    Trying:\n",
       "        np.isclose(precVal, 0.83004926) and np.isclose(recVal, 0.99792715) and np.isclose(ppVal, 0.83004926) and np.isclose(npVal, 0.9125)\n",
       "    Expecting:\n",
       "        np.True_\n",
       "    **********************************************************************\n",
       "    Line 1, in q3a 9\n",
       "    Failed example:\n",
       "        np.isclose(precVal, 0.83004926) and np.isclose(recVal, 0.99792715) and np.isclose(ppVal, 0.83004926) and np.isclose(npVal, 0.9125)\n",
       "    Expected:\n",
       "        np.True_\n",
       "    Got:\n",
       "        True\n",
       "</pre>"
      ],
      "text/plain": [
       "q3a results:\n",
       "    q3a - 1 result:\n",
       "        ❌ Test case failed\n",
       "        Trying:\n",
       "            dat1 = [3, 1, 2, 4]\n",
       "        Expecting nothing\n",
       "        ok\n",
       "        Trying:\n",
       "            dat2 = [5, 0, 3, 2]\n",
       "        Expecting nothing\n",
       "        ok\n",
       "        Trying:\n",
       "            dat3 = [4, 1, 1, 4]\n",
       "        Expecting nothing\n",
       "        ok\n",
       "        Trying:\n",
       "            accuracy(dat1[0], dat1[1], dat1[2], dat1[3]) == 0.7 and recall(dat1[0], dat1[1], dat1[2], dat1[3]) == 0.6 and np.isclose(negPredValue(dat1[0], dat1[1], dat1[2], dat1[3]), 0.66666)\n",
       "        Expecting:\n",
       "            np.True_\n",
       "        **********************************************************************\n",
       "        Line 4, in q3a 0\n",
       "        Failed example:\n",
       "            accuracy(dat1[0], dat1[1], dat1[2], dat1[3]) == 0.7 and recall(dat1[0], dat1[1], dat1[2], dat1[3]) == 0.6 and np.isclose(negPredValue(dat1[0], dat1[1], dat1[2], dat1[3]), 0.66666)\n",
       "        Expected:\n",
       "            np.True_\n",
       "        Got:\n",
       "            True\n",
       "\n",
       "    q3a - 2 result:\n",
       "        ❌ Test case failed\n",
       "        Trying:\n",
       "            dat1 = [3, 1, 2, 4]\n",
       "        Expecting nothing\n",
       "        ok\n",
       "        Trying:\n",
       "            sensitivity(dat1[0], dat1[1], dat1[2], dat1[3]) == 0.6 and posPredValue(dat1[0], dat1[1], dat1[2], dat1[3]) == 0.75 and np.isclose(f1_score(dat1[0], dat1[1], dat1[2], dat1[3]), 0.666666)\n",
       "        Expecting:\n",
       "            np.True_\n",
       "        **********************************************************************\n",
       "        Line 2, in q3a 1\n",
       "        Failed example:\n",
       "            sensitivity(dat1[0], dat1[1], dat1[2], dat1[3]) == 0.6 and posPredValue(dat1[0], dat1[1], dat1[2], dat1[3]) == 0.75 and np.isclose(f1_score(dat1[0], dat1[1], dat1[2], dat1[3]), 0.666666)\n",
       "        Expected:\n",
       "            np.True_\n",
       "        Got:\n",
       "            True\n",
       "\n",
       "    q3a - 3 result:\n",
       "        ✅ Test case passed\n",
       "\n",
       "    q3a - 4 result:\n",
       "        ❌ Test case failed\n",
       "        Trying:\n",
       "            dat2 = [5, 0, 3, 2]\n",
       "        Expecting nothing\n",
       "        ok\n",
       "        Trying:\n",
       "            sensitivity(dat2[0], dat2[1], dat2[2], dat2[3]) == 0.625 and precision(dat2[0], dat2[1], dat2[2], dat2[3]) == 1.0 and np.isclose(negPredValue(dat2[0], dat2[1], dat2[2], dat2[3]), 0.4)\n",
       "        Expecting:\n",
       "            np.True_\n",
       "        **********************************************************************\n",
       "        Line 2, in q3a 3\n",
       "        Failed example:\n",
       "            sensitivity(dat2[0], dat2[1], dat2[2], dat2[3]) == 0.625 and precision(dat2[0], dat2[1], dat2[2], dat2[3]) == 1.0 and np.isclose(negPredValue(dat2[0], dat2[1], dat2[2], dat2[3]), 0.4)\n",
       "        Expected:\n",
       "            np.True_\n",
       "        Got:\n",
       "            True\n",
       "\n",
       "    q3a - 5 result:\n",
       "        ❌ Test case failed\n",
       "        Trying:\n",
       "            dat2 = [5, 0, 3, 2]\n",
       "        Expecting nothing\n",
       "        ok\n",
       "        Trying:\n",
       "            recall(dat2[0], dat2[1], dat2[2], dat2[3]) == 0.625 and specificity(dat2[0], dat2[1], dat2[2], dat2[3]) == 1.0 and np.isclose(f1_score(dat2[0], dat2[1], dat2[2], dat2[3]), 0.76923)\n",
       "        Expecting:\n",
       "            np.True_\n",
       "        **********************************************************************\n",
       "        Line 2, in q3a 4\n",
       "        Failed example:\n",
       "            recall(dat2[0], dat2[1], dat2[2], dat2[3]) == 0.625 and specificity(dat2[0], dat2[1], dat2[2], dat2[3]) == 1.0 and np.isclose(f1_score(dat2[0], dat2[1], dat2[2], dat2[3]), 0.76923)\n",
       "        Expected:\n",
       "            np.True_\n",
       "        Got:\n",
       "            True\n",
       "\n",
       "    q3a - 6 result:\n",
       "        ✅ Test case passed\n",
       "\n",
       "    q3a - 7 result:\n",
       "        ❌ Test case failed\n",
       "        Trying:\n",
       "            dat3 = [4, 1, 1, 4]\n",
       "        Expecting nothing\n",
       "        ok\n",
       "        Trying:\n",
       "            accuracy(dat3[0], dat3[1], dat3[2], dat3[3]) == 0.8 and sensitivity(dat3[0], dat3[1], dat3[2], dat3[3]) == 0.8 and np.isclose(posPredValue(dat3[0], dat3[1], dat3[2], dat3[3]), 0.8)\n",
       "        Expecting:\n",
       "            np.True_\n",
       "        **********************************************************************\n",
       "        Line 2, in q3a 6\n",
       "        Failed example:\n",
       "            accuracy(dat3[0], dat3[1], dat3[2], dat3[3]) == 0.8 and sensitivity(dat3[0], dat3[1], dat3[2], dat3[3]) == 0.8 and np.isclose(posPredValue(dat3[0], dat3[1], dat3[2], dat3[3]), 0.8)\n",
       "        Expected:\n",
       "            np.True_\n",
       "        Got:\n",
       "            True\n",
       "\n",
       "    q3a - 8 result:\n",
       "        ❌ Test case failed\n",
       "        Trying:\n",
       "            dat3 = [4, 1, 1, 4]\n",
       "        Expecting nothing\n",
       "        ok\n",
       "        Trying:\n",
       "            specificity(dat3[0], dat3[1], dat3[2], dat3[3]) == 0.8 and precision(dat3[0], dat3[1], dat3[2], dat3[3]) == 0.8 and np.isclose(f1_score(dat3[0], dat3[1], dat3[2], dat3[3]), 0.8)\n",
       "        Expecting:\n",
       "            np.True_\n",
       "        **********************************************************************\n",
       "        Line 2, in q3a 7\n",
       "        Failed example:\n",
       "            specificity(dat3[0], dat3[1], dat3[2], dat3[3]) == 0.8 and precision(dat3[0], dat3[1], dat3[2], dat3[3]) == 0.8 and np.isclose(f1_score(dat3[0], dat3[1], dat3[2], dat3[3]), 0.8)\n",
       "        Expected:\n",
       "            np.True_\n",
       "        Got:\n",
       "            True\n",
       "\n",
       "    q3a - 9 result:\n",
       "        ❌ Test case failed\n",
       "        Trying:\n",
       "            np.isclose(accVal, 0.8316425) and np.isclose(sensVal, 0.9979271) and np.isclose(specVal, 0.095674967) and np.isclose(f1Val, 0.90627941)\n",
       "        Expecting:\n",
       "            np.True_\n",
       "        **********************************************************************\n",
       "        Line 1, in q3a 8\n",
       "        Failed example:\n",
       "            np.isclose(accVal, 0.8316425) and np.isclose(sensVal, 0.9979271) and np.isclose(specVal, 0.095674967) and np.isclose(f1Val, 0.90627941)\n",
       "        Expected:\n",
       "            np.True_\n",
       "        Got:\n",
       "            False\n",
       "\n",
       "    q3a - 10 result:\n",
       "        ❌ Test case failed\n",
       "        Trying:\n",
       "            np.isclose(precVal, 0.83004926) and np.isclose(recVal, 0.99792715) and np.isclose(ppVal, 0.83004926) and np.isclose(npVal, 0.9125)\n",
       "        Expecting:\n",
       "            np.True_\n",
       "        **********************************************************************\n",
       "        Line 1, in q3a 9\n",
       "        Failed example:\n",
       "            np.isclose(precVal, 0.83004926) and np.isclose(recVal, 0.99792715) and np.isclose(ppVal, 0.83004926) and np.isclose(npVal, 0.9125)\n",
       "        Expected:\n",
       "            np.True_\n",
       "        Got:\n",
       "            True"
      ]
     },
     "execution_count": 33,
     "metadata": {},
     "output_type": "execute_result"
    }
   ],
   "source": [
    "grader.check(\"q3a\")"
   ]
  },
  {
   "cell_type": "markdown",
   "id": "a4afd6fc",
   "metadata": {
    "deletable": false,
    "editable": false,
    "id": "S9Bx0K_qeSy_"
   },
   "source": [
    "### Ex. 3B. Practice computing performance metrics \n",
    "\n",
    "\n",
    "On the following 4 scenarias,  use the function developed earlier to compute the performance metrices. \n",
    "\n",
    "We have 100 objects: 90 of the positive class, and 10 of the negative class.\n",
    "* A. The supervised learning algorithm correctly classified 45 of the positive class, and 5 of the negative class.\n",
    "* B. The supervised learning algorithm correctly classified 10 of the positive class, and 9 of the negative class.\n",
    "\n",
    "We have 100 objects: 50 of the positive class, and 50 of the negative class.\n",
    "* C. The supervised learning algorithm correctly classified 40 of the positive class, and 10 of the negative class.\n",
    "* D. The supervised learning algorithm correctly classified 40 of the positive class, and 40 of the negative class.\n",
    "\n",
    "\n",
    "What is the computed accuracy, precision, recall and f1 score for the above problem?"
   ]
  },
  {
   "cell_type": "code",
   "execution_count": 34,
   "id": "a997ad6a",
   "metadata": {
    "colab": {
     "base_uri": "https://localhost:8080/"
    },
    "id": "-ImaCeeceQkz",
    "outputId": "186fa161-3c3d-4a3b-db95-d1b39fd68315",
    "tags": []
   },
   "outputs": [
    {
     "name": "stdout",
     "output_type": "stream",
     "text": [
      "\n",
      "Output A \n",
      "\n",
      "0.5\n",
      "0.9\n",
      "0.5\n",
      "0.6428571428571429\n",
      "\n",
      "Output B \n",
      "\n",
      "0.19\n",
      "0.9090909090909091\n",
      "0.1111111111111111\n",
      "0.198019801980198\n",
      "\n",
      "Output C \n",
      "\n",
      "0.5\n",
      "0.5\n",
      "0.8\n",
      "0.6153846153846154\n",
      "\n",
      "Output D \n",
      "\n",
      "0.8\n",
      "0.8\n",
      "0.8\n",
      "0.7999999999999999\n"
     ]
    }
   ],
   "source": [
    "# We know that we have 100 objects: 90 of the positive class, and 10 of the negative class.\n",
    "# a) Correctly classified 45 of the positive class, and 5 of the negative class.\n",
    "tpA= 45\n",
    "tnA= 5\n",
    "fnA= 45\n",
    "fpA= 5\n",
    "print(\"\\nOutput A \\n\")\n",
    "print(accuracy(tpA,fpA,fnA,tnA))\n",
    "print(precision(tpA,fpA,fn,tnA))\n",
    "print(recall(tpA,fpA,fnA,tnA))\n",
    "print(f1_score(tpA,fpA,fnA,tnA))\n",
    "\n",
    "\n",
    "# b. Correctly classified 10 of the positive class, and 9 of the negative class.\n",
    "tpB= 10\n",
    "tnB= 9\n",
    "fnB= 80\n",
    "fpB= 1\n",
    "print(\"\\nOutput B \\n\")\n",
    "print(accuracy(tpB,fpB,fnB,tnB))\n",
    "print(precision(tpB,fpB,fnB,tnB))\n",
    "print(recall(tpB,fpB,fnB,tnB))\n",
    "print(f1_score(tpB,fpB,fnB,tnB))\n",
    "\n",
    "\n",
    "# We know that we have 100 objects: 50 of the positive class, and 50 of the negative class.\n",
    "# c. correctly classified 40 of the positive class, and 10 of the negative class.\n",
    "tpC= 40\n",
    "tnC= 10\n",
    "fnC= 10\n",
    "fpC= 40\n",
    "print(\"\\nOutput C \\n\")\n",
    "print(accuracy(tpC,fpC,fnC,tnC))\n",
    "print(precision(tpC,fpC,fnC,tnC))\n",
    "print(recall(tpC,fpC,fnC,tnC))\n",
    "print(f1_score(tpC,fpC,fnC,tnC))\n",
    "\n",
    "\n",
    "#  d. correctly classified 40 of the positive class, and 40 of the negative class\n",
    "tpD= 40\n",
    "tnD= 40\n",
    "fnD= 10\n",
    "fpD= 10\n",
    "print(\"\\nOutput D \\n\")\n",
    "print(accuracy(tpD,fpD,fnD,tnD))\n",
    "print(precision(tpD,fpD,fnD,tnD))\n",
    "print(recall(tpD,fpD,fnD,tnD))\n",
    "print(f1_score(tpD,fpD,fnD,tnD))\n"
   ]
  },
  {
   "cell_type": "code",
   "execution_count": 35,
   "id": "7bc2252c",
   "metadata": {
    "deletable": false,
    "editable": false
   },
   "outputs": [
    {
     "data": {
      "text/html": [
       "<p><strong><pre style='display: inline;'>q3b</pre></strong> passed! 🚀</p>"
      ],
      "text/plain": [
       "q3b results: All test cases passed!"
      ]
     },
     "execution_count": 35,
     "metadata": {},
     "output_type": "execute_result"
    }
   ],
   "source": [
    "grader.check(\"q3b\")"
   ]
  },
  {
   "cell_type": "markdown",
   "id": "aa221d24",
   "metadata": {
    "deletable": false,
    "editable": false,
    "id": "C7RrbdpdefPW"
   },
   "source": [
    "### Ex. 3C. Use `scikit-learn` performance measure methods \n",
    "\n",
    "Now that we have looked into performance metrics, we can use the inbuilt function to measure performance metrics. \n",
    "\n",
    "First, let's look at the classification report.\n",
    "\n",
    "Then, precision, recall and f1-score. "
   ]
  },
  {
   "cell_type": "code",
   "execution_count": 36,
   "id": "9b8121dc",
   "metadata": {
    "colab": {
     "base_uri": "https://localhost:8080/"
    },
    "id": "TOWxCVypedR9",
    "outputId": "fe04a423-bd45-4476-a2ce-858eb676e6ed",
    "tags": []
   },
   "outputs": [
    {
     "name": "stdout",
     "output_type": "stream",
     "text": [
      "              precision    recall  f1-score   support\n",
      "\n",
      "           0       0.91      0.94      0.93        53\n",
      "           1       0.97      0.94      0.96        90\n",
      "\n",
      "    accuracy                           0.94       143\n",
      "   macro avg       0.94      0.94      0.94       143\n",
      "weighted avg       0.94      0.94      0.94       143\n",
      "\n",
      "precision:  0.9659090909090909\n",
      "recall:     0.9444444444444444\n",
      "F1 score:   0.9550561797752809\n"
     ]
    }
   ],
   "source": [
    "# Use evaluation functions from metrics module. \n",
    "from sklearn.metrics import precision_score, recall_score, f1_score\n",
    "\n",
    "# Model for Cancer\n",
    "# remember names for data \n",
    "#  Xc_train, yc_train, ...  \n",
    "#  cancer.target_names\n",
    "knnC = neighbors.KNeighborsClassifier(n_neighbors = 5)\n",
    "\n",
    "# train the classifier using the training data, use fit()\n",
    "knnC.fit(Xc_train, yc_train)\n",
    "\n",
    "# compute the prediction of the test set using predict()\n",
    "predictC = knnC.predict(Xc_test)\n",
    "\n",
    "precValC = precision_score(yc_test, predictC)\n",
    "recValC = recall_score(yc_test, predictC)\n",
    "f1ValC = f1_score(yc_test, predictC)\n",
    "\n",
    "print(metrics.classification_report(yc_test, predictC))\n",
    "print (\"precision: \", precValC)\n",
    "print (\"recall:    \", recValC)\n",
    "print (\"F1 score:  \", f1ValC)"
   ]
  },
  {
   "cell_type": "code",
   "execution_count": 37,
   "id": "c721dd8f",
   "metadata": {
    "deletable": false,
    "editable": false
   },
   "outputs": [
    {
     "data": {
      "text/html": [
       "<p><strong style='color: red;'><pre style='display: inline;'>q3c</pre> results:</strong></p><p><strong><pre style='display: inline;'>q3c - 1</pre> result:</strong></p><pre>    ❌ Test case failed\n",
       "    Trying:\n",
       "        np.isclose(metrics.accuracy_score(yc_test, predictC), 0.944055944)\n",
       "    Expecting:\n",
       "        np.True_\n",
       "    **********************************************************************\n",
       "    Line 1, in q3c 0\n",
       "    Failed example:\n",
       "        np.isclose(metrics.accuracy_score(yc_test, predictC), 0.944055944)\n",
       "    Expected:\n",
       "        np.True_\n",
       "    Got:\n",
       "        True\n",
       "</pre>"
      ],
      "text/plain": [
       "q3c results:\n",
       "    q3c - 1 result:\n",
       "        ❌ Test case failed\n",
       "        Trying:\n",
       "            np.isclose(metrics.accuracy_score(yc_test, predictC), 0.944055944)\n",
       "        Expecting:\n",
       "            np.True_\n",
       "        **********************************************************************\n",
       "        Line 1, in q3c 0\n",
       "        Failed example:\n",
       "            np.isclose(metrics.accuracy_score(yc_test, predictC), 0.944055944)\n",
       "        Expected:\n",
       "            np.True_\n",
       "        Got:\n",
       "            True"
      ]
     },
     "execution_count": 37,
     "metadata": {},
     "output_type": "execute_result"
    }
   ],
   "source": [
    "grader.check(\"q3c\")"
   ]
  },
  {
   "cell_type": "markdown",
   "id": "ae5b5703",
   "metadata": {
    "deletable": false,
    "editable": false,
    "id": "opnSwAk4es7V"
   },
   "source": [
    "## Ex. 4. Three-fold Split  \n",
    "\n",
    "Create and explore a visualization for the when number of neighbors in KNN is changed from 1 to 25 and different weighting hyperparameters are used for KNN on the cancer data set. \n",
    "\n",
    "Use the following procedure:\n",
    "\n",
    "* Split the data into training (60%), validation (20%), and testing (20%)\n",
    "    * To maintain consistency among students, let's use random state of 25\n",
    "* Use nested for-loops\n",
    "    * the first loop should take care of weights and second loop needs to take care of the no. of neighbors. \n",
    "    * Inside the loops, you will have to build the knn, train the model and compute the accuracy on train and test sets \n",
    "    * The training and testing accuracy for each weight/neighbor combination can be stored\n",
    "* Plot the testing accuracy versus the number of neighbors \n",
    "    * one line for each way of calculating the weights\n",
    "* Report out the best hyperparameter combination \n",
    "* Using the best hyperparameters, retrain a model on the train + val set  \n",
    "    * report the performance on the test set\n",
    "\n",
    "*Hint* Look at and adapt the last example in `nb_week10` for this problem. "
   ]
  },
  {
   "cell_type": "code",
   "execution_count": 23,
   "id": "50c6de95",
   "metadata": {
    "colab": {
     "base_uri": "https://localhost:8080/",
     "height": 758
    },
    "id": "wZtVNIryeqip",
    "outputId": "ea4c0d57-d20d-482f-c93b-319601a96edd",
    "tags": []
   },
   "outputs": [
    {
     "data": {
      "image/png": "[encoded data removed]",
      "text/plain": [
       "<Figure size 1000x500 with 1 Axes>"
      ]
     },
     "metadata": {},
     "output_type": "display_data"
    },
    {
     "name": "stdout",
     "output_type": "stream",
     "text": [
      "Best validation accuracy: 0.94736842\n",
      "Best weights: uniform\n",
      "Best n_neighbors: 7\n",
      "Test-set accuracy: 0.921\n"
     ]
    }
   ],
   "source": [
    "from sklearn.neighbors import KNeighborsClassifier\n",
    "X_trainval, X_test, y_trainval, y_test = train_test_split(Xc, yc, test_size=0.2, random_state=25)\n",
    "\n",
    "# Split trainval into train (80%) and validation (20%)\n",
    "X_train, X_val, y_train, y_val = train_test_split(X_trainval, y_trainval, test_size=0.25, random_state=25)\n",
    "\n",
    "# Weight options and range for k (neighbors)\n",
    "wt_options = ['uniform', 'distance']\n",
    "k_range = range(1, 26)  # Neighbors from 1 to 25\n",
    "\n",
    "# Initialize an array to store accuracy values\n",
    "acc_vals = np.zeros([2, 25])  # 2 for weight options, 25 for neighbors\n",
    "\n",
    "# Create for loop for weights first\n",
    "for w in range(len(wt_options)):\n",
    "    \n",
    "    # Create for loop for neighbors\n",
    "    for k in k_range:\n",
    "    \n",
    "        # Build a KNN model\n",
    "        clf = KNeighborsClassifier(n_neighbors=k, weights=wt_options[w])\n",
    "        \n",
    "        # Fit the model\n",
    "        clf.fit(X_train, y_train)\n",
    "        \n",
    "        # Predict y-values on the validation set\n",
    "        pred_val = clf.predict(X_val)\n",
    "        \n",
    "        # Calculate performance (accuracy) on validation set\n",
    "        acc_vals[w, k-1] = accuracy_score(y_val, pred_val)\n",
    "\n",
    "# Plot the results\n",
    "fig = plt.figure(figsize=(10, 5))\n",
    "plt.plot(k_range, acc_vals[0, :], label='Uniform Weights', marker='o')\n",
    "plt.plot(k_range, acc_vals[1, :], label='Distance Weights', marker='x')\n",
    "plt.title('KNN Validation Accuracy vs. Number of Neighbors')\n",
    "plt.xlabel('Number of Neighbors')\n",
    "plt.ylabel('Validation Accuracy')\n",
    "plt.legend()\n",
    "plt.grid(True)\n",
    "plt.show()\n",
    "\n",
    "# Find the best validation accuracy and the corresponding hyperparameters\n",
    "best_val_acc = np.max(acc_vals)  # Best accuracy\n",
    "print(\"Best validation accuracy: %.8f\" % best_val_acc)\n",
    "\n",
    "# Get the index of the best score\n",
    "max_ind = np.unravel_index(np.argmax(acc_vals), acc_vals.shape)\n",
    "best_wts = wt_options[max_ind[0]]  # Corresponding weight option\n",
    "best_nbrs = k_range[max_ind[1]]  # Corresponding number of neighbors\n",
    "print(\"Best weights: %s\" % best_wts)\n",
    "print(\"Best n_neighbors: %d\" % best_nbrs)\n",
    "\n",
    "# Retrain model on the combined train + validation set\n",
    "knn = KNeighborsClassifier(n_neighbors=best_nbrs, weights=best_wts)\n",
    "knn.fit(X_trainval, y_trainval)\n",
    "\n",
    "# Predict and evaluate on the test set\n",
    "test_pred = knn.predict(X_test)\n",
    "test_acc = accuracy_score(y_test, test_pred)\n",
    "print(\"Test-set accuracy: %.3f\" % test_acc)"
   ]
  },
  {
   "cell_type": "code",
   "execution_count": 24,
   "id": "d8875f53",
   "metadata": {
    "deletable": false,
    "editable": false
   },
   "outputs": [
    {
     "data": {
      "text/html": [
       "<p><strong style='color: red;'><pre style='display: inline;'>q4</pre> results:</strong></p><p><strong><pre style='display: inline;'>q4 - 1</pre> result:</strong></p><pre>    ❌ Test case failed\n",
       "    Trying:\n",
       "        np.isclose(best_val_acc, 0.94736842)\n",
       "    Expecting:\n",
       "        np.True_\n",
       "    **********************************************************************\n",
       "    Line 1, in q4 0\n",
       "    Failed example:\n",
       "        np.isclose(best_val_acc, 0.94736842)\n",
       "    Expected:\n",
       "        np.True_\n",
       "    Got:\n",
       "        True\n",
       "</pre>"
      ],
      "text/plain": [
       "q4 results:\n",
       "    q4 - 1 result:\n",
       "        ❌ Test case failed\n",
       "        Trying:\n",
       "            np.isclose(best_val_acc, 0.94736842)\n",
       "        Expecting:\n",
       "            np.True_\n",
       "        **********************************************************************\n",
       "        Line 1, in q4 0\n",
       "        Failed example:\n",
       "            np.isclose(best_val_acc, 0.94736842)\n",
       "        Expected:\n",
       "            np.True_\n",
       "        Got:\n",
       "            True"
      ]
     },
     "execution_count": 24,
     "metadata": {},
     "output_type": "execute_result"
    }
   ],
   "source": [
    "grader.check(\"q4\")"
   ]
  },
  {
   "cell_type": "markdown",
   "id": "54a6ac49-87d3-45ec-8dda-3062d1fddf72",
   "metadata": {},
   "source": [
    "## Congratulations! You have completed Lab 12! \n",
    "\n",
    "Make sure to run and save a clean submission before uploading to Gradescope. "
   ]
  },
  {
   "cell_type": "markdown",
   "id": "123821bb",
   "metadata": {
    "deletable": false,
    "editable": false
   },
   "source": [
    "## Submission\n",
    "\n",
    "Make sure you have run all cells in your notebook in order before running the cell below, so that all images/graphs appear in the output. The cell below will generate a zip file for you to submit. **Please save before exporting!**"
   ]
  },
  {
   "cell_type": "code",
   "execution_count": 25,
   "id": "0b4dc59a",
   "metadata": {
    "deletable": false,
    "editable": false
   },
   "outputs": [
    {
     "name": "stdout",
     "output_type": "stream",
     "text": [
      "Running your submission against local test cases...\n",
      "\n",
      "\n",
      "\n",
      "Your submission received the following results when run against available test cases:\n",
      "\n",
      "    q1a results: All test cases passed!\n",
      "\n",
      "    q1c results: All test cases passed!\n",
      "\n",
      "    q2a results: All test cases passed!\n",
      "\n",
      "    q3a results:\n",
      "        q3a - 1 result:\n",
      "            ❌ Test case failed\n",
      "            Trying:\n",
      "                dat1 = [3, 1, 2, 4]\n",
      "            Expecting nothing\n",
      "            ok\n",
      "            Trying:\n",
      "                dat2 = [5, 0, 3, 2]\n",
      "            Expecting nothing\n",
      "            ok\n",
      "            Trying:\n",
      "                dat3 = [4, 1, 1, 4]\n",
      "            Expecting nothing\n",
      "            ok\n",
      "            Trying:\n",
      "                accuracy(dat1[0], dat1[1], dat1[2], dat1[3]) == 0.7 and recall(dat1[0], dat1[1], dat1[2], dat1[3]) == 0.6 and np.isclose(negPredValue(dat1[0], dat1[1], dat1[2], dat1[3]), 0.66666)\n",
      "            Expecting:\n",
      "                np.True_\n",
      "            **********************************************************************\n",
      "            Line 4, in q3a 0\n",
      "            Failed example:\n",
      "                accuracy(dat1[0], dat1[1], dat1[2], dat1[3]) == 0.7 and recall(dat1[0], dat1[1], dat1[2], dat1[3]) == 0.6 and np.isclose(negPredValue(dat1[0], dat1[1], dat1[2], dat1[3]), 0.66666)\n",
      "            Expected:\n",
      "                np.True_\n",
      "            Got:\n",
      "                True\n",
      "\n",
      "        q3a - 2 result:\n",
      "            ❌ Test case failed\n",
      "            Trying:\n",
      "                dat1 = [3, 1, 2, 4]\n",
      "            Expecting nothing\n",
      "            ok\n",
      "            Trying:\n",
      "                sensitivity(dat1[0], dat1[1], dat1[2], dat1[3]) == 0.6 and posPredValue(dat1[0], dat1[1], dat1[2], dat1[3]) == 0.75 and np.isclose(f1_score(dat1[0], dat1[1], dat1[2], dat1[3]), 0.666666)\n",
      "            Expecting:\n",
      "                np.True_\n",
      "            **********************************************************************\n",
      "            Line 2, in q3a 1\n",
      "            Failed example:\n",
      "                sensitivity(dat1[0], dat1[1], dat1[2], dat1[3]) == 0.6 and posPredValue(dat1[0], dat1[1], dat1[2], dat1[3]) == 0.75 and np.isclose(f1_score(dat1[0], dat1[1], dat1[2], dat1[3]), 0.666666)\n",
      "            Expected:\n",
      "                np.True_\n",
      "            Got:\n",
      "                True\n",
      "\n",
      "        q3a - 3 result:\n",
      "            ✅ Test case passed\n",
      "\n",
      "        q3a - 4 result:\n",
      "            ❌ Test case failed\n",
      "            Trying:\n",
      "                dat2 = [5, 0, 3, 2]\n",
      "            Expecting nothing\n",
      "            ok\n",
      "            Trying:\n",
      "                sensitivity(dat2[0], dat2[1], dat2[2], dat2[3]) == 0.625 and precision(dat2[0], dat2[1], dat2[2], dat2[3]) == 1.0 and np.isclose(negPredValue(dat2[0], dat2[1], dat2[2], dat2[3]), 0.4)\n",
      "            Expecting:\n",
      "                np.True_\n",
      "            **********************************************************************\n",
      "            Line 2, in q3a 3\n",
      "            Failed example:\n",
      "                sensitivity(dat2[0], dat2[1], dat2[2], dat2[3]) == 0.625 and precision(dat2[0], dat2[1], dat2[2], dat2[3]) == 1.0 and np.isclose(negPredValue(dat2[0], dat2[1], dat2[2], dat2[3]), 0.4)\n",
      "            Expected:\n",
      "                np.True_\n",
      "            Got:\n",
      "                True\n",
      "\n",
      "        q3a - 5 result:\n",
      "            ❌ Test case failed\n",
      "            Trying:\n",
      "                dat2 = [5, 0, 3, 2]\n",
      "            Expecting nothing\n",
      "            ok\n",
      "            Trying:\n",
      "                recall(dat2[0], dat2[1], dat2[2], dat2[3]) == 0.625 and specificity(dat2[0], dat2[1], dat2[2], dat2[3]) == 1.0 and np.isclose(f1_score(dat2[0], dat2[1], dat2[2], dat2[3]), 0.76923)\n",
      "            Expecting:\n",
      "                np.True_\n",
      "            **********************************************************************\n",
      "            Line 2, in q3a 4\n",
      "            Failed example:\n",
      "                recall(dat2[0], dat2[1], dat2[2], dat2[3]) == 0.625 and specificity(dat2[0], dat2[1], dat2[2], dat2[3]) == 1.0 and np.isclose(f1_score(dat2[0], dat2[1], dat2[2], dat2[3]), 0.76923)\n",
      "            Expected:\n",
      "                np.True_\n",
      "            Got:\n",
      "                True\n",
      "\n",
      "        q3a - 6 result:\n",
      "            ✅ Test case passed\n",
      "\n",
      "        q3a - 7 result:\n",
      "            ❌ Test case failed\n",
      "            Trying:\n",
      "                dat3 = [4, 1, 1, 4]\n",
      "            Expecting nothing\n",
      "            ok\n",
      "            Trying:\n",
      "                accuracy(dat3[0], dat3[1], dat3[2], dat3[3]) == 0.8 and sensitivity(dat3[0], dat3[1], dat3[2], dat3[3]) == 0.8 and np.isclose(posPredValue(dat3[0], dat3[1], dat3[2], dat3[3]), 0.8)\n",
      "            Expecting:\n",
      "                np.True_\n",
      "            **********************************************************************\n",
      "            Line 2, in q3a 6\n",
      "            Failed example:\n",
      "                accuracy(dat3[0], dat3[1], dat3[2], dat3[3]) == 0.8 and sensitivity(dat3[0], dat3[1], dat3[2], dat3[3]) == 0.8 and np.isclose(posPredValue(dat3[0], dat3[1], dat3[2], dat3[3]), 0.8)\n",
      "            Expected:\n",
      "                np.True_\n",
      "            Got:\n",
      "                True\n",
      "\n",
      "        q3a - 8 result:\n",
      "            ❌ Test case failed\n",
      "            Trying:\n",
      "                dat3 = [4, 1, 1, 4]\n",
      "            Expecting nothing\n",
      "            ok\n",
      "            Trying:\n",
      "                specificity(dat3[0], dat3[1], dat3[2], dat3[3]) == 0.8 and precision(dat3[0], dat3[1], dat3[2], dat3[3]) == 0.8 and np.isclose(f1_score(dat3[0], dat3[1], dat3[2], dat3[3]), 0.8)\n",
      "            Expecting:\n",
      "                np.True_\n",
      "            **********************************************************************\n",
      "            Line 2, in q3a 7\n",
      "            Failed example:\n",
      "                specificity(dat3[0], dat3[1], dat3[2], dat3[3]) == 0.8 and precision(dat3[0], dat3[1], dat3[2], dat3[3]) == 0.8 and np.isclose(f1_score(dat3[0], dat3[1], dat3[2], dat3[3]), 0.8)\n",
      "            Expected:\n",
      "                np.True_\n",
      "            Got:\n",
      "                True\n",
      "\n",
      "        q3a - 9 result:\n",
      "            ❌ Test case failed\n",
      "            Trying:\n",
      "                np.isclose(accVal, 0.8316425) and np.isclose(sensVal, 0.9979271) and np.isclose(specVal, 0.095674967) and np.isclose(f1Val, 0.90627941)\n",
      "            Expecting:\n",
      "                np.True_\n",
      "            **********************************************************************\n",
      "            Line 1, in q3a 8\n",
      "            Failed example:\n",
      "                np.isclose(accVal, 0.8316425) and np.isclose(sensVal, 0.9979271) and np.isclose(specVal, 0.095674967) and np.isclose(f1Val, 0.90627941)\n",
      "            Expected:\n",
      "                np.True_\n",
      "            Got:\n",
      "                True\n",
      "\n",
      "        q3a - 10 result:\n",
      "            ❌ Test case failed\n",
      "            Trying:\n",
      "                np.isclose(precVal, 0.83004926) and np.isclose(recVal, 0.99792715) and np.isclose(ppVal, 0.83004926) and np.isclose(npVal, 0.9125)\n",
      "            Expecting:\n",
      "                np.True_\n",
      "            **********************************************************************\n",
      "            Line 1, in q3a 9\n",
      "            Failed example:\n",
      "                np.isclose(precVal, 0.83004926) and np.isclose(recVal, 0.99792715) and np.isclose(ppVal, 0.83004926) and np.isclose(npVal, 0.9125)\n",
      "            Expected:\n",
      "                np.True_\n",
      "            Got:\n",
      "                True\n",
      "\n",
      "    q3b results: All test cases passed!\n",
      "\n",
      "    q3c results:\n",
      "        q3c - 1 result:\n",
      "            ❌ Test case failed\n",
      "            Trying:\n",
      "                np.isclose(metrics.accuracy_score(yc_test, predictC), 0.944055944)\n",
      "            Expecting:\n",
      "                np.True_\n",
      "            **********************************************************************\n",
      "            Line 1, in q3c 0\n",
      "            Failed example:\n",
      "                np.isclose(metrics.accuracy_score(yc_test, predictC), 0.944055944)\n",
      "            Expected:\n",
      "                np.True_\n",
      "            Got:\n",
      "                True\n",
      "\n",
      "    q4 results:\n",
      "        q4 - 1 result:\n",
      "            ❌ Test case failed\n",
      "            Trying:\n",
      "                np.isclose(best_val_acc, 0.94736842)\n",
      "            Expecting:\n",
      "                np.True_\n",
      "            **********************************************************************\n",
      "            Line 1, in q4 0\n",
      "            Failed example:\n",
      "                np.isclose(best_val_acc, 0.94736842)\n",
      "            Expected:\n",
      "                np.True_\n",
      "            Got:\n",
      "                True\n"
     ]
    },
    {
     "data": {
      "text/html": [
       "\n",
       "            <p>Your submission has been exported. Click <a href=\"lab12_2024_11_21T00_25_37_898945.zip\" download=\"lab12_2024_11_21T00_25_37_898945.zip\" target=\"_blank\">here</a>\n",
       "            to download the zip file.</p>\n",
       "            "
      ],
      "text/plain": [
       "<IPython.core.display.HTML object>"
      ]
     },
     "metadata": {},
     "output_type": "display_data"
    }
   ],
   "source": [
    "# Save your notebook first, then run this cell to export your submission.\n",
    "grader.export(pdf=False, run_tests=True)"
   ]
  },
  {
   "cell_type": "markdown",
   "id": "c5421fef",
   "metadata": {},
   "source": [
    " "
   ]
  }
 ],
 "metadata": {
  "kernelspec": {
   "display_name": "Python 3 (ipykernel)",
   "language": "python",
   "name": "python3"
  },
  "language_info": {
   "codemirror_mode": {
    "name": "ipython",
    "version": 3
   },
   "file_extension": ".py",
   "mimetype": "text/x-python",
   "name": "python",
   "nbconvert_exporter": "python",
   "pygments_lexer": "ipython3",
   "version": "3.10.11"
  },
  "otter": {
   "OK_FORMAT": true,
   "assignment_name": "lab12",
   "tests": {
    "q1a": {
     "name": "q1a",
     "points": 2,
     "suites": [
      {
       "cases": [
        {
         "code": ">>> all(iris.data[15, 0:2] == np.array([5.7, 4.4]))\nTrue",
         "hidden": false,
         "locked": false
        },
        {
         "code": ">>> all(cancer.data[23, 1:3] == np.array([23.04, 137.2]))\nTrue",
         "hidden": false,
         "locked": false
        },
        {
         "code": ">>> all(wine.data[24, 0:2] == np.array([13.5, 1.81]))\nTrue",
         "hidden": false,
         "locked": false
        },
        {
         "code": ">>> all(cancer.target[0:5] == np.array([0, 0, 0, 0, 0])) and all(wine.target[[10, 100, 150]] == np.array([0, 1, 2]))\nTrue",
         "hidden": false,
         "locked": false
        }
       ],
       "scored": true,
       "setup": "",
       "teardown": "",
       "type": "doctest"
      }
     ]
    },
    "q1c": {
     "name": "q1c",
     "points": 2,
     "suites": [
      {
       "cases": [
        {
         "code": ">>> cancerNumSamples == 569 and wineNumFeatures == 13\nTrue",
         "hidden": false,
         "locked": false
        },
        {
         "code": ">>> irisNumSamples == 150 and irisNumFeatures == 4\nTrue",
         "hidden": false,
         "locked": false
        },
        {
         "code": ">>> cancer_labels[1] == 'benign' and wine_labels[0] == 'class_0'\nTrue",
         "hidden": false,
         "locked": false
        },
        {
         "code": ">>> iris_labels[1] == 'versicolor' and wine_labels[2] == 'class_2'\nTrue",
         "hidden": false,
         "locked": false
        }
       ],
       "scored": true,
       "setup": "",
       "teardown": "",
       "type": "doctest"
      }
     ]
    },
    "q2a": {
     "name": "q2a",
     "points": 3,
     "suites": [
      {
       "cases": [
        {
         "code": ">>> all(yi_train[0:7] == np.array([1, 2, 0, 2, 1, 1, 1]))\nTrue",
         "hidden": false,
         "locked": false
        },
        {
         "code": ">>> all(yc_test[0:8] == np.array([1, 1, 1, 1, 1, 1, 0, 0]))\nTrue",
         "hidden": false,
         "locked": false
        },
        {
         "code": ">>> all(yw_test[23:29] == np.array([1, 0, 1, 1, 1, 2]))\nTrue",
         "hidden": false,
         "locked": false
        },
        {
         "code": ">>> all(Xi_test[4:8, 1] == np.array([3.0, 3.4, 2.5, 3.0]))\nTrue",
         "hidden": false,
         "locked": false
        },
        {
         "code": ">>> all(Xc_test[10:15, 12] == np.array([1.75, 2.406, 3.909, 1.539, 2.362]))\nTrue",
         "hidden": false,
         "locked": false
        },
        {
         "code": ">>> all(Xw_train[108:113, 9] == np.array([6.62, 3.05, 3.05, 5.5, 6.9]))\nTrue",
         "hidden": false,
         "locked": false
        }
       ],
       "scored": true,
       "setup": "",
       "teardown": "",
       "type": "doctest"
      }
     ]
    },
    "q3a": {
     "name": "q3a",
     "points": 6,
     "suites": [
      {
       "cases": [
        {
         "code": ">>> dat1 = [3, 1, 2, 4]\n>>> dat2 = [5, 0, 3, 2]\n>>> dat3 = [4, 1, 1, 4]\n>>> accuracy(dat1[0], dat1[1], dat1[2], dat1[3]) == 0.7 and recall(dat1[0], dat1[1], dat1[2], dat1[3]) == 0.6 and np.isclose(negPredValue(dat1[0], dat1[1], dat1[2], dat1[3]), 0.66666)\nnp.True_",
         "hidden": false,
         "locked": false
        },
        {
         "code": ">>> dat1 = [3, 1, 2, 4]\n>>> sensitivity(dat1[0], dat1[1], dat1[2], dat1[3]) == 0.6 and posPredValue(dat1[0], dat1[1], dat1[2], dat1[3]) == 0.75 and np.isclose(f1_score(dat1[0], dat1[1], dat1[2], dat1[3]), 0.666666)\nnp.True_",
         "hidden": false,
         "locked": false
        },
        {
         "code": ">>> dat1 = [3, 1, 2, 4]\n>>> precision(dat1[0], dat1[1], dat1[2], dat1[3]) == 0.75 and specificity(dat1[0], dat1[1], dat1[2], dat1[3]) == 0.8\nTrue",
         "hidden": false,
         "locked": false
        },
        {
         "code": ">>> dat2 = [5, 0, 3, 2]\n>>> sensitivity(dat2[0], dat2[1], dat2[2], dat2[3]) == 0.625 and precision(dat2[0], dat2[1], dat2[2], dat2[3]) == 1.0 and np.isclose(negPredValue(dat2[0], dat2[1], dat2[2], dat2[3]), 0.4)\nnp.True_",
         "hidden": false,
         "locked": false
        },
        {
         "code": ">>> dat2 = [5, 0, 3, 2]\n>>> recall(dat2[0], dat2[1], dat2[2], dat2[3]) == 0.625 and specificity(dat2[0], dat2[1], dat2[2], dat2[3]) == 1.0 and np.isclose(f1_score(dat2[0], dat2[1], dat2[2], dat2[3]), 0.76923)\nnp.True_",
         "hidden": false,
         "locked": false
        },
        {
         "code": ">>> dat2 = [5, 0, 3, 2]\n>>> accuracy(dat2[0], dat2[1], dat2[2], dat2[3]) == 0.7 and posPredValue(dat2[0], dat2[1], dat2[2], dat2[3]) == 1\nTrue",
         "hidden": false,
         "locked": false
        },
        {
         "code": ">>> dat3 = [4, 1, 1, 4]\n>>> accuracy(dat3[0], dat3[1], dat3[2], dat3[3]) == 0.8 and sensitivity(dat3[0], dat3[1], dat3[2], dat3[3]) == 0.8 and np.isclose(posPredValue(dat3[0], dat3[1], dat3[2], dat3[3]), 0.8)\nnp.True_",
         "hidden": false,
         "locked": false
        },
        {
         "code": ">>> dat3 = [4, 1, 1, 4]\n>>> specificity(dat3[0], dat3[1], dat3[2], dat3[3]) == 0.8 and precision(dat3[0], dat3[1], dat3[2], dat3[3]) == 0.8 and np.isclose(f1_score(dat3[0], dat3[1], dat3[2], dat3[3]), 0.8)\nnp.True_",
         "hidden": false,
         "locked": false
        },
        {
         "code": ">>> np.isclose(accVal, 0.8316425) and np.isclose(sensVal, 0.9979271) and np.isclose(specVal, 0.095674967) and np.isclose(f1Val, 0.90627941)\nnp.True_",
         "hidden": false,
         "locked": false
        },
        {
         "code": ">>> np.isclose(precVal, 0.83004926) and np.isclose(recVal, 0.99792715) and np.isclose(ppVal, 0.83004926) and np.isclose(npVal, 0.9125)\nnp.True_",
         "hidden": false,
         "locked": false
        }
       ],
       "scored": true,
       "setup": "",
       "teardown": "",
       "type": "doctest"
      }
     ]
    },
    "q3b": {
     "name": "q3b",
     "points": 6,
     "suites": [
      {
       "cases": [
        {
         "code": ">>> tpA == 45.0 and tnA == 5.0 and (fnA == 45.0) and (fpA == 5.0)\nTrue",
         "hidden": false,
         "locked": false
        }
       ],
       "scored": true,
       "setup": "",
       "teardown": "",
       "type": "doctest"
      }
     ]
    },
    "q3c": {
     "name": "q3c",
     "points": 4,
     "suites": [
      {
       "cases": [
        {
         "code": ">>> np.isclose(metrics.accuracy_score(yc_test, predictC), 0.944055944)\nnp.True_",
         "hidden": false,
         "locked": false
        }
       ],
       "scored": true,
       "setup": "",
       "teardown": "",
       "type": "doctest"
      }
     ]
    },
    "q4": {
     "name": "q4",
     "points": 4,
     "suites": [
      {
       "cases": [
        {
         "code": ">>> np.isclose(best_val_acc, 0.94736842)\nnp.True_",
         "hidden": false,
         "locked": false
        }
       ],
       "scored": true,
       "setup": "",
       "teardown": "",
       "type": "doctest"
      }
     ]
    }
   }
  }
 },
 "nbformat": 4,
 "nbformat_minor": 5
}
