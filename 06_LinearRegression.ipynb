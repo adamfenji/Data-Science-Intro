{
 "cells": [
  {
   "cell_type": "markdown",
   "id": "0cf4e2b7",
   "metadata": {
    "id": "N6Yirgh_ZmdR"
   },
   "source": [
    "# Lab 6 - Getting Data\n",
    "\n",
    "The topics of week 6 is getting data with web scraping. \n",
    "\n",
    "In this lab notebook you will gain experience webscraping data of various forms.\n",
    "\n",
    "We will be looking at various websites and using them to get information (these sites are selected because of their public informative nature). "
   ]
  },
  {
   "cell_type": "markdown",
   "id": "955281cd",
   "metadata": {},
   "source": [
    "## Lab Setup "
   ]
  },
  {
   "cell_type": "code",
   "execution_count": 48,
   "id": "f4dac8bc-ad07-4909-a0b1-ffff69d8e903",
   "metadata": {},
   "outputs": [
    {
     "name": "stdout",
     "output_type": "stream",
     "text": [
      "Requirement already satisfied: html5lib in /opt/conda/lib/python3.10/site-packages (1.1)\n",
      "Requirement already satisfied: lxml in /opt/conda/lib/python3.10/site-packages (5.3.0)\n",
      "Requirement already satisfied: six>=1.9 in /opt/conda/lib/python3.10/site-packages (from html5lib) (1.16.0)\n",
      "Requirement already satisfied: webencodings in /opt/conda/lib/python3.10/site-packages (from html5lib) (0.5.1)\n"
     ]
    }
   ],
   "source": [
    "# Uncomment and run first run on cloud resources. \n",
    "!pip install html5lib lxml"
   ]
  },
  {
   "cell_type": "code",
   "execution_count": 49,
   "id": "91642026",
   "metadata": {
    "id": "YVdDTDldbUrG",
    "tags": []
   },
   "outputs": [],
   "source": [
    "from bs4 import BeautifulSoup\n",
    "import requests \n",
    "import pandas as pd\n",
    "import numpy as np\n",
    "import re\n",
    "\n",
    "import otter\n",
    "grader = otter.Notebook()"
   ]
  },
  {
   "cell_type": "markdown",
   "id": "2edffc04",
   "metadata": {
    "deletable": false,
    "editable": false,
    "id": "gs41KLtpZ1tR"
   },
   "source": [
    "## Exercise 1 \n",
    "\n",
    "Identify the name of the data set most relevant to 'climate' on https://www.data.gov \n",
    "\n",
    "You will want to use the **url = https://catalog.data.gov/dataset?q=climate&sort=score+desc%2C+name+asc**.\n",
    "\n",
    "Then, you will use BeautifulSoup to parse the website to find the name of the data set.  "
   ]
  },
  {
   "cell_type": "code",
   "execution_count": 50,
   "id": "f1e9d0a8",
   "metadata": {
    "id": "0VNObJxZYv5Q",
    "tags": []
   },
   "outputs": [
    {
     "data": {
      "text/plain": [
       "'Downscaled Climate Model Climate Toolbox'"
      ]
     },
     "execution_count": 50,
     "metadata": {},
     "output_type": "execute_result"
    }
   ],
   "source": [
    "# Identify the name of the data set most relevant to \"climate\" on data.gov\n",
    "# Use BeautifulSoup to parse the website to find the name of the data set. \n",
    "url = 'https://catalog.data.gov/dataset?q=climate&sort=score+desc%2C+name+asc'\n",
    "resp_q1 = requests.get(url) \n",
    "soup_q1 = BeautifulSoup(requests.get(url).text)\n",
    "\n",
    "name = soup_q1.find_all('h3','dataset-heading')[0].find('a').text\n",
    "name"
   ]
  },
  {
   "cell_type": "code",
   "execution_count": 51,
   "id": "7342618c",
   "metadata": {
    "deletable": false,
    "editable": false
   },
   "outputs": [
    {
     "data": {
      "text/html": [
       "<p><strong><pre style='display: inline;'>q1</pre></strong> passed! 🌈</p>"
      ],
      "text/plain": [
       "q1 results: All test cases passed!"
      ]
     },
     "execution_count": 51,
     "metadata": {},
     "output_type": "execute_result"
    }
   ],
   "source": [
    "grader.check(\"q1\")"
   ]
  },
  {
   "cell_type": "markdown",
   "id": "01af95c2-788e-4ce9-ab3c-9a77740cc632",
   "metadata": {
    "deletable": false,
    "editable": false
   },
   "source": [
    "## Exercise 2\n",
    "\n",
    "Identify the most viewed data set on Michigan state's open data portal.   \n",
    "https://data.michigan.gov/browse?sortBy=most_accessed\n",
    "\n",
    "Stores its name in the provided \"most_viewed_data_nm\" variable and the number of views in \"num_views\".\n",
    "\n",
    "Note, you only have to consider those items listed on the current page of the website, you do not have to cycle through all entries. "
   ]
  },
  {
   "cell_type": "code",
   "execution_count": 52,
   "id": "bd136f13-ee63-45fe-acfe-69d4542fa3e2",
   "metadata": {
    "tags": []
   },
   "outputs": [
    {
     "name": "stdout",
     "output_type": "stream",
     "text": [
      "Most visited data: MI_Congress_Plot  with 81601 views\n"
     ]
    }
   ],
   "source": [
    "url='https://data.michigan.gov/browse?sortBy=most_accessed'\n",
    "soup=BeautifulSoup(requests.get(url).text)\n",
    "most_viewed_data_nm = soup.find_all('h2','browse2-result-name')[0].find('a').text\n",
    "num_views = int(soup.find_all('div','browse2-result-view-count-value')[0].text.replace(',','').strip(\"\\n  \" \" \"))\n",
    "\n",
    "\n",
    "print(\"Most visited data: %s  with %d views\" % (most_viewed_data_nm, num_views))"
   ]
  },
  {
   "cell_type": "code",
   "execution_count": 53,
   "id": "b629ff5e",
   "metadata": {
    "deletable": false,
    "editable": false
   },
   "outputs": [
    {
     "data": {
      "text/html": [
       "<p><strong><pre style='display: inline;'>q2</pre></strong> passed! 🌟</p>"
      ],
      "text/plain": [
       "q2 results: All test cases passed!"
      ]
     },
     "execution_count": 53,
     "metadata": {},
     "output_type": "execute_result"
    }
   ],
   "source": [
    "grader.check(\"q2\")"
   ]
  },
  {
   "cell_type": "markdown",
   "id": "4d14345f",
   "metadata": {
    "id": "hLv57yD-bsCI"
   },
   "source": [
    "## Exercise 3\n",
    "\n",
    "Travel advisories are given by the US government to international travelers. \n",
    "\n",
    "Data available at: https://travel.state.gov/content/travel/en/traveladvisories/traveladvisories.html/\n",
    "\n",
    "\n",
    "You will be asked to sum the number of travel advisories by level. \n",
    "\n",
    "Here we get the HTML from the site, you can use this in each of the sub-questions below. \n",
    "\n"
   ]
  },
  {
   "cell_type": "code",
   "execution_count": 54,
   "id": "e9a2e2ad",
   "metadata": {
    "id": "Z-VKIhm5bp0d",
    "tags": []
   },
   "outputs": [],
   "source": [
    "site = requests.get('https://travel.state.gov/content/travel/en/traveladvisories/traveladvisories.html/').text\n",
    "q3 = BeautifulSoup(site, 'html5lib')"
   ]
  },
  {
   "cell_type": "markdown",
   "id": "ce71dc80-f498-48fc-86f4-776b21cf4ca7",
   "metadata": {
    "deletable": false,
    "editable": false
   },
   "source": [
    "### Exercise 3a \n",
    "\n",
    "Create a solution for this question using the pandas `read_html` function. "
   ]
  },
  {
   "cell_type": "code",
   "execution_count": 55,
   "id": "19f652f9",
   "metadata": {
    "id": "hObOuGpCbxNU",
    "tags": []
   },
   "outputs": [
    {
     "name": "stdout",
     "output_type": "stream",
     "text": [
      "Number of travel Level 1 warnings : 88\n",
      "Number of travel Level 2 warnings : 75\n",
      "Number of travel Level 3 warnings : 25\n",
      "Number of travel Level 4 warnings : 20\n"
     ]
    }
   ],
   "source": [
    "# Exercise 3a\n",
    "# Read in the table using pandas \"read_html\" function, store DataFrame in q3a_df \n",
    "# Report out number of each warnings \n",
    "\n",
    "...\n",
    "q3a_df = pd.read_html(q3.prettify(),flavor = ['bs4'])[0]\n",
    "\n",
    "l1Num1 = int(q3a_df['Level'].value_counts()[0])\n",
    "l2Num1 = int(q3a_df['Level'].value_counts()[1])\n",
    "l3Num1 = int(q3a_df['Level'].value_counts()[2])\n",
    "l4Num1 = int(q3a_df['Level'].value_counts()[3])\n",
    "\n",
    "\n",
    "print(\"Number of travel Level 1 warnings : \" +  str(l1Num1)) \n",
    "print(\"Number of travel Level 2 warnings : \" +  str(l2Num1))\n",
    "print(\"Number of travel Level 3 warnings : \" +  str(l3Num1))\n",
    "print(\"Number of travel Level 4 warnings : \" +  str(l4Num1))"
   ]
  },
  {
   "cell_type": "code",
   "execution_count": 56,
   "id": "b6d23f50",
   "metadata": {
    "deletable": false,
    "editable": false
   },
   "outputs": [
    {
     "data": {
      "text/html": [
       "<p><strong><pre style='display: inline;'>q3a</pre></strong> passed! 🌟</p>"
      ],
      "text/plain": [
       "q3a results: All test cases passed!"
      ]
     },
     "execution_count": 56,
     "metadata": {},
     "output_type": "execute_result"
    }
   ],
   "source": [
    "grader.check(\"q3a\")"
   ]
  },
  {
   "cell_type": "markdown",
   "id": "9938119a",
   "metadata": {
    "deletable": false,
    "editable": false,
    "id": "L-77DMh1b3Iq"
   },
   "source": [
    "### Exericse 3b \n",
    "\n",
    "Create an another solution just using beautiful soup, regular expressions, and other Python functions to scrape the table."
   ]
  },
  {
   "cell_type": "code",
   "execution_count": 57,
   "id": "3d906f89",
   "metadata": {
    "id": "I5meuSuzbze6",
    "tags": []
   },
   "outputs": [
    {
     "name": "stdout",
     "output_type": "stream",
     "text": [
      "Number of travel Level 1 warnings : 88\n",
      "Number of travel Level 2 warnings : 75\n",
      "Number of travel Level 3 warnings : 25\n",
      "Number of travel Level 4 warnings : 20\n"
     ]
    }
   ],
   "source": [
    "# Exercise 3b\n",
    "# Write another solution just using beautiful soup, regex, and other Python functions to \n",
    "#   scrape the table information\n",
    "# Report out number of each warnings \n",
    "\n",
    "advisories = q3('tr')\n",
    "\n",
    "l1Num2 = len(re.findall('Level 1: Exercise Normal Precautions',str(advisories)))\n",
    "l2Num2 = len(re.findall('Level 2: Exercise Increased Caution',str(advisories)))\n",
    "l3Num2 = len(re.findall('Level 3: Reconsider Travel',str(advisories)))\n",
    "l4Num2 = len(re.findall('Level 4: Do Not Travel',str(advisories)))\n",
    "\n",
    "\n",
    "print(\"Number of travel Level 1 warnings : \" +  str(l1Num2)) \n",
    "print(\"Number of travel Level 2 warnings : \" +  str(l2Num2))\n",
    "print(\"Number of travel Level 3 warnings : \" +  str(l3Num2))\n",
    "print(\"Number of travel Level 4 warnings : \" +  str(l4Num2))"
   ]
  },
  {
   "cell_type": "code",
   "execution_count": 58,
   "id": "c8e2e5a0",
   "metadata": {
    "deletable": false,
    "editable": false
   },
   "outputs": [
    {
     "data": {
      "text/html": [
       "<p><strong><pre style='display: inline;'>q3b</pre></strong> passed! 🌟</p>"
      ],
      "text/plain": [
       "q3b results: All test cases passed!"
      ]
     },
     "execution_count": 58,
     "metadata": {},
     "output_type": "execute_result"
    }
   ],
   "source": [
    "grader.check(\"q3b\")"
   ]
  },
  {
   "cell_type": "markdown",
   "id": "1ef790e8-dca7-45f8-9225-7740d8ee0857",
   "metadata": {
    "deletable": false,
    "editable": false
   },
   "source": [
    "### Exercise 3c\n",
    "\n",
    "Using the DataFrame `q3a_df` from part (a), use the `to_datetime` function to add a new `Date` column with the `Date Updated` converted to a datetime object. \n",
    "\n",
    "https://pandas.pydata.org/docs/reference/api/pandas.to_datetime.html\n",
    "\n",
    "Using this new column determine the following: \n",
    "\n",
    "* `q3c_df_yr2023` a DataFrame with only those travel advisories updated during 2023. \n",
    "* `q3c_df_aug` a DataFrame with only those travel advisories updated in August (any year).\n",
    "* `q3c_df_tues` a DataFrame with only those travel advisories updated on a Tuesday. \n",
    "* `oldest_adv` a string with the oldest travel advisory. "
   ]
  },
  {
   "cell_type": "code",
   "execution_count": 66,
   "id": "e974e667-8113-40a4-918e-9db0b76c623e",
   "metadata": {
    "tags": []
   },
   "outputs": [],
   "source": [
    "# Exercise 3c \n",
    "# Copy the q3a_df DataFrame to q3c_df. \n",
    "# Add a 'Date' column \n",
    "# Answer several questions \n",
    "\n",
    "q3c_df = q3a_df.copy()\n",
    "q3c_df['Date']=pd.to_datetime(q3c_df['Date Updated'])\n",
    "\n",
    "q3c_df_yr2023 = q3c_df[q3c_df['Date'].dt.year==2023]\n",
    "\n",
    "q3c_df_aug = q3c_df[q3c_df['Date'].dt.month==8] \n",
    "\n",
    "q3c_df_tues = q3c_df[q3c_df['Date'].dt.weekday==1]\n",
    "\n",
    "oldest_adv = q3c_df.sort_values('Date').iloc[0]"
   ]
  },
  {
   "cell_type": "code",
   "execution_count": 67,
   "id": "4b4275c3-9a8c-4ea8-adfc-e98d3e537594",
   "metadata": {
    "scrolled": true
   },
   "outputs": [
    {
     "data": {
      "text/html": [
       "<div>\n",
       "<style scoped>\n",
       "    .dataframe tbody tr th:only-of-type {\n",
       "        vertical-align: middle;\n",
       "    }\n",
       "\n",
       "    .dataframe tbody tr th {\n",
       "        vertical-align: top;\n",
       "    }\n",
       "\n",
       "    .dataframe thead th {\n",
       "        text-align: right;\n",
       "    }\n",
       "</style>\n",
       "<table border=\"1\" class=\"dataframe\">\n",
       "  <thead>\n",
       "    <tr style=\"text-align: right;\">\n",
       "      <th></th>\n",
       "      <th>Advisory</th>\n",
       "      <th>Level</th>\n",
       "      <th>Date Updated</th>\n",
       "      <th>Date</th>\n",
       "    </tr>\n",
       "  </thead>\n",
       "  <tbody>\n",
       "    <tr>\n",
       "      <th>0</th>\n",
       "      <td>Liechtenstein Travel Advisory</td>\n",
       "      <td>Level 1: Exercise Normal Precautions</td>\n",
       "      <td>July 26, 2023</td>\n",
       "      <td>2023-07-26</td>\n",
       "    </tr>\n",
       "    <tr>\n",
       "      <th>1</th>\n",
       "      <td>North Macedonia Travel Advisory</td>\n",
       "      <td>Level 1: Exercise Normal Precautions</td>\n",
       "      <td>July 26, 2023</td>\n",
       "      <td>2023-07-26</td>\n",
       "    </tr>\n",
       "    <tr>\n",
       "      <th>2</th>\n",
       "      <td>Nauru Travel Advisory</td>\n",
       "      <td>Level 1: Exercise Normal Precautions</td>\n",
       "      <td>July 24, 2023</td>\n",
       "      <td>2023-07-24</td>\n",
       "    </tr>\n",
       "    <tr>\n",
       "      <th>7</th>\n",
       "      <td>Albania Travel Advisory</td>\n",
       "      <td>Level 2: Exercise Increased Caution</td>\n",
       "      <td>July 26, 2023</td>\n",
       "      <td>2023-07-26</td>\n",
       "    </tr>\n",
       "    <tr>\n",
       "      <th>9</th>\n",
       "      <td>Andorra Travel Advisory</td>\n",
       "      <td>Level 1: Exercise Normal Precautions</td>\n",
       "      <td>July 26, 2023</td>\n",
       "      <td>2023-07-26</td>\n",
       "    </tr>\n",
       "    <tr>\n",
       "      <th>...</th>\n",
       "      <td>...</td>\n",
       "      <td>...</td>\n",
       "      <td>...</td>\n",
       "      <td>...</td>\n",
       "    </tr>\n",
       "    <tr>\n",
       "      <th>201</th>\n",
       "      <td>Ethiopia Travel Advisory</td>\n",
       "      <td>Level 3: Reconsider Travel</td>\n",
       "      <td>July 31, 2023</td>\n",
       "      <td>2023-07-31</td>\n",
       "    </tr>\n",
       "    <tr>\n",
       "      <th>202</th>\n",
       "      <td>Gabon Travel Advisory</td>\n",
       "      <td>Level 2: Exercise Increased Caution</td>\n",
       "      <td>September 28, 2023</td>\n",
       "      <td>2023-09-28</td>\n",
       "    </tr>\n",
       "    <tr>\n",
       "      <th>203</th>\n",
       "      <td>The Gambia Travel Advisory</td>\n",
       "      <td>Level 2: Exercise Increased Caution</td>\n",
       "      <td>July 31, 2023</td>\n",
       "      <td>2023-07-31</td>\n",
       "    </tr>\n",
       "    <tr>\n",
       "      <th>204</th>\n",
       "      <td>Georgia Travel Advisory</td>\n",
       "      <td>Level 1: Exercise Normal Precautions</td>\n",
       "      <td>July 26, 2023</td>\n",
       "      <td>2023-07-26</td>\n",
       "    </tr>\n",
       "    <tr>\n",
       "      <th>205</th>\n",
       "      <td>Ghana Travel Advisory</td>\n",
       "      <td>Level 2: Exercise Increased Caution</td>\n",
       "      <td>November 20, 2023</td>\n",
       "      <td>2023-11-20</td>\n",
       "    </tr>\n",
       "  </tbody>\n",
       "</table>\n",
       "<p>98 rows × 4 columns</p>\n",
       "</div>"
      ],
      "text/plain": [
       "                            Advisory                                 Level   \n",
       "0      Liechtenstein Travel Advisory  Level 1: Exercise Normal Precautions  \\\n",
       "1    North Macedonia Travel Advisory  Level 1: Exercise Normal Precautions   \n",
       "2              Nauru Travel Advisory  Level 1: Exercise Normal Precautions   \n",
       "7            Albania Travel Advisory   Level 2: Exercise Increased Caution   \n",
       "9            Andorra Travel Advisory  Level 1: Exercise Normal Precautions   \n",
       "..                               ...                                   ...   \n",
       "201         Ethiopia Travel Advisory            Level 3: Reconsider Travel   \n",
       "202            Gabon Travel Advisory   Level 2: Exercise Increased Caution   \n",
       "203       The Gambia Travel Advisory   Level 2: Exercise Increased Caution   \n",
       "204          Georgia Travel Advisory  Level 1: Exercise Normal Precautions   \n",
       "205            Ghana Travel Advisory   Level 2: Exercise Increased Caution   \n",
       "\n",
       "           Date Updated       Date  \n",
       "0         July 26, 2023 2023-07-26  \n",
       "1         July 26, 2023 2023-07-26  \n",
       "2         July 24, 2023 2023-07-24  \n",
       "7         July 26, 2023 2023-07-26  \n",
       "9         July 26, 2023 2023-07-26  \n",
       "..                  ...        ...  \n",
       "201       July 31, 2023 2023-07-31  \n",
       "202  September 28, 2023 2023-09-28  \n",
       "203       July 31, 2023 2023-07-31  \n",
       "204       July 26, 2023 2023-07-26  \n",
       "205   November 20, 2023 2023-11-20  \n",
       "\n",
       "[98 rows x 4 columns]"
      ]
     },
     "execution_count": 67,
     "metadata": {},
     "output_type": "execute_result"
    }
   ],
   "source": [
    "q3c_df_yr2023 "
   ]
  },
  {
   "cell_type": "code",
   "execution_count": 68,
   "id": "639ea9cd",
   "metadata": {
    "deletable": false,
    "editable": false
   },
   "outputs": [
    {
     "data": {
      "text/html": [
       "<p><strong style='color: red;'><pre style='display: inline;'>q3c</pre> results:</strong></p><p><strong><pre style='display: inline;'>q3c - 1</pre> result:</strong></p><pre>    ❌ Test case failed\n",
       "    Trying:\n",
       "        q3c_df_yr2023.shape == (99, 4)\n",
       "    Expecting:\n",
       "        True\n",
       "    **********************************************************************\n",
       "    Line 1, in q3c 0\n",
       "    Failed example:\n",
       "        q3c_df_yr2023.shape == (99, 4)\n",
       "    Expected:\n",
       "        True\n",
       "    Got:\n",
       "        False\n",
       "</pre><p><strong><pre style='display: inline;'>q3c - 2</pre> result:</strong></p><pre>    ✅ Test case passed</pre><p><strong><pre style='display: inline;'>q3c - 3</pre> result:</strong></p><pre>    ✅ Test case passed</pre><p><strong><pre style='display: inline;'>q3c - 4</pre> result:</strong></p><pre>    ✅ Test case passed</pre><p><strong><pre style='display: inline;'>q3c - 5</pre> result:</strong></p><pre>    ✅ Test case passed</pre><p><strong><pre style='display: inline;'>q3c - 6</pre> result:</strong></p><pre>    ✅ Test case passed</pre>"
      ],
      "text/plain": [
       "q3c results:\n",
       "    q3c - 1 result:\n",
       "        ❌ Test case failed\n",
       "        Trying:\n",
       "            q3c_df_yr2023.shape == (99, 4)\n",
       "        Expecting:\n",
       "            True\n",
       "        **********************************************************************\n",
       "        Line 1, in q3c 0\n",
       "        Failed example:\n",
       "            q3c_df_yr2023.shape == (99, 4)\n",
       "        Expected:\n",
       "            True\n",
       "        Got:\n",
       "            False\n",
       "\n",
       "    q3c - 2 result:\n",
       "        ✅ Test case passed\n",
       "\n",
       "    q3c - 3 result:\n",
       "        ✅ Test case passed\n",
       "\n",
       "    q3c - 4 result:\n",
       "        ✅ Test case passed\n",
       "\n",
       "    q3c - 5 result:\n",
       "        ✅ Test case passed\n",
       "\n",
       "    q3c - 6 result:\n",
       "        ✅ Test case passed"
      ]
     },
     "execution_count": 68,
     "metadata": {},
     "output_type": "execute_result"
    }
   ],
   "source": [
    "grader.check(\"q3c\")"
   ]
  },
  {
   "cell_type": "markdown",
   "id": "926553d1",
   "metadata": {
    "deletable": false,
    "editable": false,
    "id": "ISRqO9H4lyqc"
   },
   "source": [
    "##  Exercise 4\n",
    "\n",
    "We want to create a function `make_faculty_df(site)` which takes in a MTU department's faculty listing, e.g., [CS faculty listing](https://www.mtu.edu/cs/department/people/) and which returns a DataFrame with information on each of the faculty members.  \n",
    "\n",
    "We will define several helper functions to aid in this: \n",
    "\n",
    "* `process_bio(div)` which takes in a `<div>` tree corresponding to a single faculty bio and returns a dictionary of information on that faculty member: `Name`, `Title`, `Email`, `Office` \n",
    "\n",
    "* `process_page(divs)` which takes in a list of `<div>` trees corresponding to the faculty page and returns a DataFrame with all of the relevant faculty information. \n",
    "\n",
    "Use regular expressions and string operations to clean up the text returned, e.g., \n",
    "\n",
    "* remove extra white space \n",
    "* clean up titles so you only use options such as: \"Professor\", \"Associate Professor\", \"Assistant Professor\", \"Teaching Professor\", \"Associate Teaching Professor\", \"Assistant Teaching Professor\", \"Research Assistant Professor\", \"Senior Research Scientist\", \"Professor Emeritus\", \"Adjunct Professor\", \"Adjunct Associate Professor\", \"Adjunct Assistant Professor\"\n",
    "    * pay attention to the white space adn remove extra blank spaces \n",
    "    * Note, you should not perform this operation with a giant if-elsif or switch statement. Use regular expressions to help with this code. \n",
    "* For office locations, remove the word \"Hall\" from the locations. \n",
    "\n",
    "If any information is missing, then use `NaN` in the DataFrame. \n",
    "\n",
    "Your responses should not be hard coded to the CS faculty webpage, I may test your code on another department's faculty webpage. \n",
    "\n",
    "Remove duplicate listings, e.g., Dr. Wang is listed at top given his role as chair of the department and also appears in the main program faculty listing. "
   ]
  },
  {
   "cell_type": "code",
   "execution_count": 17,
   "id": "0bf85e87",
   "metadata": {
    "tags": []
   },
   "outputs": [
    {
     "data": {
      "text/html": [
       "<div>\n",
       "<style scoped>\n",
       "    .dataframe tbody tr th:only-of-type {\n",
       "        vertical-align: middle;\n",
       "    }\n",
       "\n",
       "    .dataframe tbody tr th {\n",
       "        vertical-align: top;\n",
       "    }\n",
       "\n",
       "    .dataframe thead th {\n",
       "        text-align: right;\n",
       "    }\n",
       "</style>\n",
       "<table border=\"1\" class=\"dataframe\">\n",
       "  <thead>\n",
       "    <tr style=\"text-align: right;\">\n",
       "      <th></th>\n",
       "      <th>Name</th>\n",
       "      <th>Title</th>\n",
       "      <th>Email</th>\n",
       "      <th>Office</th>\n",
       "    </tr>\n",
       "  </thead>\n",
       "  <tbody>\n",
       "    <tr>\n",
       "      <th>0</th>\n",
       "      <td>Zhenlin Wang</td>\n",
       "      <td>Professor and Chair</td>\n",
       "      <td>zlwang@mtu.edu</td>\n",
       "      <td>Rekhi 207</td>\n",
       "    </tr>\n",
       "    <tr>\n",
       "      <th>1</th>\n",
       "      <td>Koloud Al Khamaiseh</td>\n",
       "      <td>Assistant Teaching Professor</td>\n",
       "      <td>kalkhama@mtu.edu</td>\n",
       "      <td>Rekhi 310</td>\n",
       "    </tr>\n",
       "    <tr>\n",
       "      <th>2</th>\n",
       "      <td>Serein Al-Ratrout</td>\n",
       "      <td>Assistant Teaching Professor</td>\n",
       "      <td>salratro@mtu.edu</td>\n",
       "      <td>Rekhi 104</td>\n",
       "    </tr>\n",
       "    <tr>\n",
       "      <th>3</th>\n",
       "      <td>Gorkem Asilioglu</td>\n",
       "      <td>Associate Teaching Professor</td>\n",
       "      <td>galolu@mtu.edu</td>\n",
       "      <td>Rekhi 308</td>\n",
       "    </tr>\n",
       "    <tr>\n",
       "      <th>4</th>\n",
       "      <td>Briana Bettin</td>\n",
       "      <td>Assistant Professor</td>\n",
       "      <td>bcbettin@mtu.edu</td>\n",
       "      <td>Rekhi 202</td>\n",
       "    </tr>\n",
       "    <tr>\n",
       "      <th>5</th>\n",
       "      <td>Laura E. Brown</td>\n",
       "      <td>Associate Professor</td>\n",
       "      <td>lebrown@mtu.edu</td>\n",
       "      <td>Rekhi 307</td>\n",
       "    </tr>\n",
       "    <tr>\n",
       "      <th>6</th>\n",
       "      <td>Bo Chen</td>\n",
       "      <td>Associate Professor</td>\n",
       "      <td>bchen@mtu.edu</td>\n",
       "      <td>Rekhi 301</td>\n",
       "    </tr>\n",
       "    <tr>\n",
       "      <th>7</th>\n",
       "      <td>Ali Ebnenasir</td>\n",
       "      <td>Associate Professor</td>\n",
       "      <td>aebnenas@mtu.edu</td>\n",
       "      <td>Rekhi 206</td>\n",
       "    </tr>\n",
       "    <tr>\n",
       "      <th>8</th>\n",
       "      <td>Dylan Gaines(he/him)</td>\n",
       "      <td>Research Assistant Professor</td>\n",
       "      <td>dcgaines@mtu.edu</td>\n",
       "      <td>Rekhi 312</td>\n",
       "    </tr>\n",
       "    <tr>\n",
       "      <th>9</th>\n",
       "      <td>Timothy C. Havens(he/him)</td>\n",
       "      <td>Director</td>\n",
       "      <td>thavens@mtu.edu</td>\n",
       "      <td>GLRC 307</td>\n",
       "    </tr>\n",
       "    <tr>\n",
       "      <th>10</th>\n",
       "      <td>Scott A. Kuhl</td>\n",
       "      <td>Associate Professor</td>\n",
       "      <td>kuhl@mtu.edu</td>\n",
       "      <td>Rekhi 210</td>\n",
       "    </tr>\n",
       "    <tr>\n",
       "      <th>11</th>\n",
       "      <td>Xinyu Lei</td>\n",
       "      <td>Assistant Professor</td>\n",
       "      <td>xinyulei@mtu.edu</td>\n",
       "      <td>Rekhi 306</td>\n",
       "    </tr>\n",
       "    <tr>\n",
       "      <th>12</th>\n",
       "      <td>Jean Mayo</td>\n",
       "      <td>Professor</td>\n",
       "      <td>jmayo@mtu.edu</td>\n",
       "      <td>Rekhi 304</td>\n",
       "    </tr>\n",
       "    <tr>\n",
       "      <th>13</th>\n",
       "      <td>Yakov Nekrich</td>\n",
       "      <td>Associate Professor</td>\n",
       "      <td>yakov@mtu.edu</td>\n",
       "      <td>Rekhi 311</td>\n",
       "    </tr>\n",
       "    <tr>\n",
       "      <th>14</th>\n",
       "      <td>Nilufer Onder</td>\n",
       "      <td>Associate Professor</td>\n",
       "      <td>nilufer@mtu.edu</td>\n",
       "      <td>Rekhi 309</td>\n",
       "    </tr>\n",
       "    <tr>\n",
       "      <th>15</th>\n",
       "      <td>Soner Onder</td>\n",
       "      <td>Professor</td>\n",
       "      <td>soner@mtu.edu</td>\n",
       "      <td>Rekhi 303</td>\n",
       "    </tr>\n",
       "    <tr>\n",
       "      <th>16</th>\n",
       "      <td>Stella Otoo</td>\n",
       "      <td>Assistant Teaching Professor</td>\n",
       "      <td>sotoo@mtu.edu</td>\n",
       "      <td>Rekhi 102</td>\n",
       "    </tr>\n",
       "    <tr>\n",
       "      <th>17</th>\n",
       "      <td>Linda Ott</td>\n",
       "      <td>Professor</td>\n",
       "      <td>linda@mtu.edu</td>\n",
       "      <td>Rekhi 211</td>\n",
       "    </tr>\n",
       "    <tr>\n",
       "      <th>18</th>\n",
       "      <td>Robert Pastel</td>\n",
       "      <td>Associate Professor</td>\n",
       "      <td>pastel@mtu.edu</td>\n",
       "      <td>Rekhi 204</td>\n",
       "    </tr>\n",
       "    <tr>\n",
       "      <th>19</th>\n",
       "      <td>Scott Pomerville</td>\n",
       "      <td>Research Assistant Professor</td>\n",
       "      <td>skpomerv@mtu.edu</td>\n",
       "      <td>Rekhi 111</td>\n",
       "    </tr>\n",
       "    <tr>\n",
       "      <th>20</th>\n",
       "      <td>Sujan Kumar Roy</td>\n",
       "      <td>Assistant Teaching Professor</td>\n",
       "      <td>sroy5@mtu.edu</td>\n",
       "      <td>Rekhi 305</td>\n",
       "    </tr>\n",
       "    <tr>\n",
       "      <th>21</th>\n",
       "      <td>Leo C. Ureel II</td>\n",
       "      <td>Assistant Professor</td>\n",
       "      <td>ureel@mtu.edu</td>\n",
       "      <td>Rekhi 209</td>\n",
       "    </tr>\n",
       "    <tr>\n",
       "      <th>22</th>\n",
       "      <td>Keith Vertanen</td>\n",
       "      <td>Dave House Associate Professor</td>\n",
       "      <td>vertanen@mtu.edu</td>\n",
       "      <td>Rekhi 208</td>\n",
       "    </tr>\n",
       "    <tr>\n",
       "      <th>23</th>\n",
       "      <td>Michael Walker</td>\n",
       "      <td>Assistant Professor</td>\n",
       "      <td>miwalker@mtu.edu</td>\n",
       "      <td>NaN</td>\n",
       "    </tr>\n",
       "    <tr>\n",
       "      <th>24</th>\n",
       "      <td>Charles Wallace</td>\n",
       "      <td>Professor</td>\n",
       "      <td>wallace@mtu.edu</td>\n",
       "      <td>Rekhi 205</td>\n",
       "    </tr>\n",
       "    <tr>\n",
       "      <th>26</th>\n",
       "      <td>Jianhui Yue</td>\n",
       "      <td>Assistant Professor</td>\n",
       "      <td>jyue@mtu.edu</td>\n",
       "      <td>Rekhi 203</td>\n",
       "    </tr>\n",
       "    <tr>\n",
       "      <th>27</th>\n",
       "      <td>Ruihong Zhang</td>\n",
       "      <td>Associate Teaching Professor</td>\n",
       "      <td>ruihong@mtu.edu</td>\n",
       "      <td>Rekhi 302</td>\n",
       "    </tr>\n",
       "    <tr>\n",
       "      <th>28</th>\n",
       "      <td>Hongyu An</td>\n",
       "      <td>Assistant Professor</td>\n",
       "      <td>hongyua@mtu.edu</td>\n",
       "      <td>EERC 710</td>\n",
       "    </tr>\n",
       "    <tr>\n",
       "      <th>29</th>\n",
       "      <td>Julia Hiebel</td>\n",
       "      <td>Adjunct Assistant Professor</td>\n",
       "      <td>jshiebel@mtu.edu</td>\n",
       "      <td>NaN</td>\n",
       "    </tr>\n",
       "    <tr>\n",
       "      <th>30</th>\n",
       "      <td>Myounghoon 'Philart' Jeon</td>\n",
       "      <td>Adjunct Associate Professor</td>\n",
       "      <td>myounghoonjeon@vt.edu</td>\n",
       "      <td>NaN</td>\n",
       "    </tr>\n",
       "    <tr>\n",
       "      <th>31</th>\n",
       "      <td>Jingfeng Jiang</td>\n",
       "      <td>Professor</td>\n",
       "      <td>jjiang1@mtu.edu</td>\n",
       "      <td>H-STEM 336</td>\n",
       "    </tr>\n",
       "    <tr>\n",
       "      <th>32</th>\n",
       "      <td>Dukka B KC</td>\n",
       "      <td>Adjunct Professor</td>\n",
       "      <td>dbkc@mtu.edu</td>\n",
       "      <td>NaN</td>\n",
       "    </tr>\n",
       "    <tr>\n",
       "      <th>33</th>\n",
       "      <td>Joel LeBlanc</td>\n",
       "      <td>Deputy Director</td>\n",
       "      <td>jwleblan@mtu.edu</td>\n",
       "      <td>Ann Arbor, Michigan</td>\n",
       "    </tr>\n",
       "    <tr>\n",
       "      <th>34</th>\n",
       "      <td>Shane T. Mueller</td>\n",
       "      <td>Professor of Psychology</td>\n",
       "      <td>shanem@mtu.edu</td>\n",
       "      <td>Meese Center 203</td>\n",
       "    </tr>\n",
       "    <tr>\n",
       "      <th>35</th>\n",
       "      <td>David Poplawski</td>\n",
       "      <td>Professor Emeritus</td>\n",
       "      <td>pop@mtu.edu</td>\n",
       "      <td>NaN</td>\n",
       "    </tr>\n",
       "    <tr>\n",
       "      <th>36</th>\n",
       "      <td>Ching-Kuang Shene</td>\n",
       "      <td>Professor Emeritus</td>\n",
       "      <td>shene@mtu.edu</td>\n",
       "      <td>NaN</td>\n",
       "    </tr>\n",
       "    <tr>\n",
       "      <th>37</th>\n",
       "      <td>Kelly S. Steelman</td>\n",
       "      <td>Department Chair and Associate Professor</td>\n",
       "      <td>steelman@mtu.edu</td>\n",
       "      <td>Meese Center 107</td>\n",
       "    </tr>\n",
       "    <tr>\n",
       "      <th>38</th>\n",
       "      <td>Elizabeth Veinott</td>\n",
       "      <td>Associate Professor</td>\n",
       "      <td>eveinott@mtu.edu</td>\n",
       "      <td>Meese Center 204</td>\n",
       "    </tr>\n",
       "    <tr>\n",
       "      <th>39</th>\n",
       "      <td>Hairong Wei</td>\n",
       "      <td>ProfessorEditor-in-Chief</td>\n",
       "      <td>hairong@mtu.edu</td>\n",
       "      <td>Noblet Building 176</td>\n",
       "    </tr>\n",
       "    <tr>\n",
       "      <th>40</th>\n",
       "      <td>Xiaoyong (Brian) Yuan</td>\n",
       "      <td>Adjunct Assistant Professor</td>\n",
       "      <td>xyyuan@mtu.edu</td>\n",
       "      <td>NaN</td>\n",
       "    </tr>\n",
       "    <tr>\n",
       "      <th>41</th>\n",
       "      <td>Kuilin Zhang</td>\n",
       "      <td>Associate Professor</td>\n",
       "      <td>klzhang@mtu.edu</td>\n",
       "      <td>Dillman 301i</td>\n",
       "    </tr>\n",
       "    <tr>\n",
       "      <th>42</th>\n",
       "      <td>Weihua Zhou</td>\n",
       "      <td>Assistant Professor</td>\n",
       "      <td>whzhou@mtu.edu</td>\n",
       "      <td>Rekhi 109</td>\n",
       "    </tr>\n",
       "  </tbody>\n",
       "</table>\n",
       "</div>"
      ],
      "text/plain": [
       "                         Name                                     Title   \n",
       "0                Zhenlin Wang                       Professor and Chair  \\\n",
       "1         Koloud Al Khamaiseh              Assistant Teaching Professor   \n",
       "2           Serein Al-Ratrout              Assistant Teaching Professor   \n",
       "3            Gorkem Asilioglu              Associate Teaching Professor   \n",
       "4               Briana Bettin                       Assistant Professor   \n",
       "5              Laura E. Brown                       Associate Professor   \n",
       "6                     Bo Chen                       Associate Professor   \n",
       "7               Ali Ebnenasir                       Associate Professor   \n",
       "8        Dylan Gaines(he/him)              Research Assistant Professor   \n",
       "9   Timothy C. Havens(he/him)                                  Director   \n",
       "10              Scott A. Kuhl                       Associate Professor   \n",
       "11                  Xinyu Lei                       Assistant Professor   \n",
       "12                  Jean Mayo                                 Professor   \n",
       "13              Yakov Nekrich                       Associate Professor   \n",
       "14              Nilufer Onder                       Associate Professor   \n",
       "15                Soner Onder                                 Professor   \n",
       "16                Stella Otoo              Assistant Teaching Professor   \n",
       "17                  Linda Ott                                 Professor   \n",
       "18              Robert Pastel                       Associate Professor   \n",
       "19           Scott Pomerville              Research Assistant Professor   \n",
       "20            Sujan Kumar Roy              Assistant Teaching Professor   \n",
       "21            Leo C. Ureel II                       Assistant Professor   \n",
       "22             Keith Vertanen            Dave House Associate Professor   \n",
       "23             Michael Walker                       Assistant Professor   \n",
       "24            Charles Wallace                                 Professor   \n",
       "26                Jianhui Yue                       Assistant Professor   \n",
       "27              Ruihong Zhang              Associate Teaching Professor   \n",
       "28                  Hongyu An                       Assistant Professor   \n",
       "29               Julia Hiebel               Adjunct Assistant Professor   \n",
       "30  Myounghoon 'Philart' Jeon               Adjunct Associate Professor   \n",
       "31             Jingfeng Jiang                                 Professor   \n",
       "32                 Dukka B KC                         Adjunct Professor   \n",
       "33               Joel LeBlanc                           Deputy Director   \n",
       "34           Shane T. Mueller                   Professor of Psychology   \n",
       "35            David Poplawski                        Professor Emeritus   \n",
       "36          Ching-Kuang Shene                        Professor Emeritus   \n",
       "37          Kelly S. Steelman  Department Chair and Associate Professor   \n",
       "38          Elizabeth Veinott                       Associate Professor   \n",
       "39                Hairong Wei                  ProfessorEditor-in-Chief   \n",
       "40      Xiaoyong (Brian) Yuan               Adjunct Assistant Professor   \n",
       "41               Kuilin Zhang                       Associate Professor   \n",
       "42                Weihua Zhou                       Assistant Professor   \n",
       "\n",
       "                    Email               Office  \n",
       "0          zlwang@mtu.edu            Rekhi 207  \n",
       "1        kalkhama@mtu.edu            Rekhi 310  \n",
       "2        salratro@mtu.edu            Rekhi 104  \n",
       "3          galolu@mtu.edu            Rekhi 308  \n",
       "4        bcbettin@mtu.edu            Rekhi 202  \n",
       "5         lebrown@mtu.edu            Rekhi 307  \n",
       "6           bchen@mtu.edu            Rekhi 301  \n",
       "7        aebnenas@mtu.edu            Rekhi 206  \n",
       "8        dcgaines@mtu.edu            Rekhi 312  \n",
       "9         thavens@mtu.edu             GLRC 307  \n",
       "10           kuhl@mtu.edu            Rekhi 210  \n",
       "11       xinyulei@mtu.edu            Rekhi 306  \n",
       "12          jmayo@mtu.edu            Rekhi 304  \n",
       "13          yakov@mtu.edu            Rekhi 311  \n",
       "14        nilufer@mtu.edu            Rekhi 309  \n",
       "15          soner@mtu.edu            Rekhi 303  \n",
       "16          sotoo@mtu.edu            Rekhi 102  \n",
       "17          linda@mtu.edu            Rekhi 211  \n",
       "18         pastel@mtu.edu            Rekhi 204  \n",
       "19       skpomerv@mtu.edu            Rekhi 111  \n",
       "20          sroy5@mtu.edu            Rekhi 305  \n",
       "21          ureel@mtu.edu            Rekhi 209  \n",
       "22       vertanen@mtu.edu            Rekhi 208  \n",
       "23       miwalker@mtu.edu                  NaN  \n",
       "24        wallace@mtu.edu            Rekhi 205  \n",
       "26           jyue@mtu.edu            Rekhi 203  \n",
       "27        ruihong@mtu.edu            Rekhi 302  \n",
       "28        hongyua@mtu.edu             EERC 710  \n",
       "29       jshiebel@mtu.edu                  NaN  \n",
       "30  myounghoonjeon@vt.edu                  NaN  \n",
       "31        jjiang1@mtu.edu           H-STEM 336  \n",
       "32           dbkc@mtu.edu                  NaN  \n",
       "33       jwleblan@mtu.edu  Ann Arbor, Michigan  \n",
       "34         shanem@mtu.edu     Meese Center 203  \n",
       "35            pop@mtu.edu                  NaN  \n",
       "36          shene@mtu.edu                  NaN  \n",
       "37       steelman@mtu.edu     Meese Center 107  \n",
       "38       eveinott@mtu.edu     Meese Center 204  \n",
       "39        hairong@mtu.edu  Noblet Building 176  \n",
       "40         xyyuan@mtu.edu                  NaN  \n",
       "41        klzhang@mtu.edu         Dillman 301i  \n",
       "42         whzhou@mtu.edu            Rekhi 109  "
      ]
     },
     "execution_count": 17,
     "metadata": {},
     "output_type": "execute_result"
    }
   ],
   "source": [
    "def process_bio(div): \n",
    "    # Input: a <div> tree of a single faculty bio \n",
    "    # Return: a dict of information on that faculty member: Name, Title, Email, Office \n",
    "    Name = div('div','name-and-pronouns')[0].text.strip()\n",
    "    title = re.search(r'([^,]+),?',div('ul','none')[0].text.strip()).group(0).replace(',','')\n",
    "    email = div('li','email-address')[0].text.strip()\n",
    "    if div('li','place'):\n",
    "        office = div('li','place')[0].text.strip().replace('Hall ','')\n",
    "    else:\n",
    "        office = 'NaN'\n",
    "    return {'Name':Name,'Title':title,'Email':email,'Office':office}\n",
    "\n",
    "def process_page(divs): \n",
    "    faculty = list()\n",
    "    for person in divs:\n",
    "        person = process_bio(person)\n",
    "        faculty.append(person)\n",
    "    faculty = pd.DataFrame(faculty).drop_duplicates()\n",
    "    return faculty\n",
    "\n",
    "def make_faculty_df(site):\n",
    "\n",
    "\n",
    "\n",
    "    # Download page and create BeautifulSoup object of the response\n",
    "    page = requests.get(site).text\n",
    "    soup_q4 = BeautifulSoup(page, 'html5lib')\n",
    "    # Create DataFrame using information on the page and requested helper functions\n",
    "    faculty_info = process_page(soup_q4('div','person'))\n",
    "\n",
    "    \n",
    "    return faculty_info\n",
    "\n",
    "url = 'https://www.mtu.edu/cs/department/people/'\n",
    "q4_df = make_faculty_df(url)\n",
    "q4_df"
   ]
  },
  {
   "cell_type": "code",
   "execution_count": 18,
   "id": "1b9eda7b",
   "metadata": {
    "deletable": false,
    "editable": false
   },
   "outputs": [
    {
     "data": {
      "text/html": [
       "<p><strong><pre style='display: inline;'>q4</pre></strong> passed! 💯</p>"
      ],
      "text/plain": [
       "q4 results: All test cases passed!"
      ]
     },
     "execution_count": 18,
     "metadata": {},
     "output_type": "execute_result"
    }
   ],
   "source": [
    "grader.check(\"q4\")"
   ]
  },
  {
   "cell_type": "markdown",
   "id": "fac7782c-e2fd-40cf-a016-ff61ea627232",
   "metadata": {},
   "source": [
    "## Congratulations! You have finished Lab6! \n",
    "\n",
    "### Submission Instructions\n",
    "\n",
    "Below, you will see a cell. Running this cell will automatically generate a zip file with your autograded answers. Once you submit this file to the Lab 6 assignment on Gradescope. \n",
    "\n",
    "\n",
    "<div class=\"alert alert-warning\">\n",
    "<strong>Warning!</strong> \n",
    "    This lab notebook will be graded a bit differently.  The `requests` module does not run properly on Gradescope.  Normally, when you upload your submission to Gradescope, it runs your code and reports the results on the test cases.  \n",
    "</div>\n",
    "\n",
    "For this assignment, the results and variables you create in your notebook will be saved out to a log file `.OTTER_LOG`.  This file will be included in your zip, when you run the export function below. \n",
    "\n",
    "\n",
    "\n",
    "Make sure you have run all cells in your notebook **in order** before running the cell below, so that all information gets saved to the log file correctly. The cell below will generate a zip file for you to submit. **Please save before exporting!**\n",
    "\n",
    "If you run the notebook repeatedly, more and more information gets added to the `.OTTER_LOG` file. \n",
    "\n",
    "<div class=\"alert alert-warning\">\n",
    "<strong>Warning! - Clean log file</strong>     \n",
    "    Before running your last single run through the notebook, clear all clear, restart the kernel, delete the `.OTTER_LOG` so that a fresh one is created. \n",
    "</div>"
   ]
  },
  {
   "cell_type": "markdown",
   "id": "77cdae35",
   "metadata": {
    "deletable": false,
    "editable": false
   },
   "source": [
    "## Submission\n",
    "\n",
    "Make sure you have run all cells in your notebook in order before running the cell below, so that all images/graphs appear in the output. The cell below will generate a zip file for you to submit. **Please save before exporting!**"
   ]
  },
  {
   "cell_type": "code",
   "execution_count": null,
   "id": "2496547b",
   "metadata": {
    "deletable": false,
    "editable": false
   },
   "outputs": [],
   "source": [
    "# Save your notebook first, then run this cell to export your submission.\n",
    "grader.export(pdf=False)"
   ]
  },
  {
   "cell_type": "markdown",
   "id": "be6edf00",
   "metadata": {},
   "source": [
    " "
   ]
  }
 ],
 "metadata": {
  "kernelspec": {
   "display_name": "Python 3 (ipykernel)",
   "language": "python",
   "name": "python3"
  },
  "language_info": {
   "codemirror_mode": {
    "name": "ipython",
    "version": 3
   },
   "file_extension": ".py",
   "mimetype": "text/x-python",
   "name": "python",
   "nbconvert_exporter": "python",
   "pygments_lexer": "ipython3",
   "version": "3.10.11"
  },
  "otter": {
   "OK_FORMAT": true,
   "assignment_name": "lab6",
   "tests": {
    "q1": {
     "name": "q1",
     "points": [
      2,
      4
     ],
     "suites": [
      {
       "cases": [
        {
         "code": ">>> type(name) == str\nTrue",
         "hidden": false,
         "locked": false
        },
        {
         "code": ">>> name == \"Downscaled Climate Model Climate Toolbox\"\nTrue",
         "hidden": false,
         "locked": false
        }
       ],
       "scored": true,
       "setup": "",
       "teardown": "",
       "type": "doctest"
      }
     ]
    },
    "q2": {
     "name": "q2",
     "points": [
      1,
      1,
      3
     ],
     "suites": [
      {
       "cases": [
        {
         "code": ">>> type(most_viewed_data_nm) == str\nTrue",
         "hidden": false,
         "locked": false
        },
        {
         "code": ">>> type(num_views) == int\nTrue",
         "hidden": false,
         "locked": false
        },
        {
         "code": ">>> most_viewed_data_nm == 'MI_Congress_Plot'\nTrue",
         "hidden": false,
         "locked": false
        }
       ],
       "scored": true,
       "setup": "",
       "teardown": "",
       "type": "doctest"
      }
     ]
    },
    "q3a": {
     "name": "q3a",
     "points": [
      1,
      1,
      1
     ],
     "suites": [
      {
       "cases": [
        {
         "code": ">>> q3a_df.shape == (212, 3)\nTrue",
         "hidden": false,
         "locked": false
        },
        {
         "code": ">>> all(q3a_df.columns == ['Advisory', 'Level', 'Date Updated'])\nTrue",
         "hidden": false,
         "locked": false
        },
        {
         "code": ">>> type(l1Num1) == int and type(l2Num1) == int and \\\n... type(l3Num1) == int and type(l4Num1) == int\nTrue",
         "hidden": false,
         "locked": false
        }
       ],
       "scored": true,
       "setup": "",
       "teardown": "",
       "type": "doctest"
      }
     ]
    },
    "q3b": {
     "name": "q3b",
     "points": [
      0.5,
      0.5,
      0.5,
      0.5
     ],
     "suites": [
      {
       "cases": [
        {
         "code": ">>> l1Num1 == l1Num2 \nTrue",
         "hidden": false,
         "locked": false
        },
        {
         "code": ">>> l2Num1 == l2Num2 \nTrue",
         "hidden": false,
         "locked": false
        },
        {
         "code": ">>> l3Num1 == l3Num2\nTrue",
         "hidden": false,
         "locked": false
        },
        {
         "code": ">>> l4Num1 == l4Num2\nTrue",
         "hidden": false,
         "locked": false
        }
       ],
       "scored": true,
       "setup": "",
       "teardown": "",
       "type": "doctest"
      }
     ]
    },
    "q3c": {
     "name": "q3c",
     "points": [
      0.5,
      0.5,
      0.5,
      0.5,
      0.5,
      0.5
     ],
     "suites": [
      {
       "cases": [
        {
         "code": ">>> q3c_df_yr2023.shape == (99, 4)\nTrue",
         "hidden": false,
         "locked": false
        },
        {
         "code": ">>> q3c_df_aug.shape == (36, 4)\nTrue",
         "hidden": false,
         "locked": false
        },
        {
         "code": ">>> q3c_df_tues.shape == (21, 4)\nTrue",
         "hidden": false,
         "locked": false
        },
        {
         "code": ">>> all(q3c_df_yr2023.columns == ['Advisory', 'Level', 'Date Updated', 'Date']) \nTrue",
         "hidden": false,
         "locked": false
        },
        {
         "code": ">>> all(q3c_df_aug.columns == ['Advisory', 'Level', 'Date Updated', 'Date']) \nTrue",
         "hidden": false,
         "locked": false
        },
        {
         "code": ">>> all(q3c_df_tues.columns == ['Advisory', 'Level', 'Date Updated', 'Date']) \nTrue",
         "hidden": false,
         "locked": false
        }
       ],
       "scored": true,
       "setup": "",
       "teardown": "",
       "type": "doctest"
      }
     ]
    },
    "q4": {
     "name": "q4",
     "points": [
      1,
      1,
      2,
      2,
      2
     ],
     "suites": [
      {
       "cases": [
        {
         "code": ">>> q4_df.shape == (42, 4)\nTrue",
         "hidden": false,
         "locked": false
        },
        {
         "code": ">>> all(q4_df.columns == ['Name', 'Title', 'Email', 'Office'])\nTrue",
         "hidden": false,
         "locked": false
        },
        {
         "code": ">>> all(q4_df.iloc[10:14,3] == ['Rekhi 210', 'Rekhi 306', 'Rekhi 304', 'Rekhi 311'])\nTrue",
         "hidden": false,
         "locked": false
        },
        {
         "code": ">>> all(q4_df.iloc[33:35,2] == ['shanem@mtu.edu', 'pop@mtu.edu'])\nTrue",
         "hidden": false,
         "locked": false
        },
        {
         "code": ">>> all(q4_df.iloc[12:14,0] == ['Jean Mayo', 'Yakov Nekrich'])\nTrue",
         "hidden": false,
         "locked": false
        }
       ],
       "scored": true,
       "setup": "",
       "teardown": "",
       "type": "doctest"
      }
     ]
    }
   }
  }
 },
 "nbformat": 4,
 "nbformat_minor": 5
}
