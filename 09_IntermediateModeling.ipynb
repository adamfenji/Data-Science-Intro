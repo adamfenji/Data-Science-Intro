{
 "cells": [
  {
   "cell_type": "markdown",
   "id": "565a309f",
   "metadata": {
    "id": "lF8ssdxcHVhR"
   },
   "source": [
    "# Lab 11\n",
    "\n",
    "\n",
    "Many of the examples have been adapted from Data100 and J. Canny's course.\n",
    "\n",
    "**Required Files**  \n",
    "The imdb.db files (see instructions below on getting this data)."
   ]
  },
  {
   "cell_type": "markdown",
   "id": "277a3889",
   "metadata": {},
   "source": [
    "## Lab Setup"
   ]
  },
  {
   "cell_type": "code",
   "execution_count": 1,
   "id": "3933b4f3-6192-4143-b7b8-2980d0231a65",
   "metadata": {},
   "outputs": [],
   "source": [
    "# %pip install kaggle"
   ]
  },
  {
   "cell_type": "code",
   "execution_count": 2,
   "id": "59f88ca0",
   "metadata": {
    "id": "89AwDAmbyQ2X",
    "tags": []
   },
   "outputs": [],
   "source": [
    "import os\n",
    "import pandas as pd\n",
    "import numpy as np\n",
    "import matplotlib.pyplot as plt\n",
    "import seaborn as sns\n",
    "%matplotlib inline\n",
    "\n",
    "from getpass import getpass\n",
    "import otter\n",
    "grader = otter.Notebook()\n",
    "\n",
    "import re\n",
    "if re.search(r'amzn', os.uname().release):\n",
    "    GS = True\n",
    "else:\n",
    "    GS = False"
   ]
  },
  {
   "cell_type": "markdown",
   "id": "032db8ec",
   "metadata": {
    "id": "50B_jgG4HpwY"
   },
   "source": [
    "For this lab, we will be using SQLite to connect to databases. This is a simple, light-way module, there are of course other modules to interact with databases. \n",
    "\n",
    "SQLite has a [nice tutorial](https://www.sqlitetutorial.net/) if you want to learn more about database queries and explore additional options. \n"
   ]
  },
  {
   "cell_type": "code",
   "execution_count": 3,
   "id": "c5625930",
   "metadata": {
    "id": "tlZlovv7HpNw",
    "tags": []
   },
   "outputs": [],
   "source": [
    "import sqlite3"
   ]
  },
  {
   "cell_type": "markdown",
   "id": "2e8297ef",
   "metadata": {
    "id": "xfUNvWe1IYWn"
   },
   "source": [
    "A couple of things to know about SQLite.  Other database systems such as `MySQL` and `PostgreSQL` use *static typing*, where a column is declared for a specific data type and can only store data of that type. \n",
    "\n",
    "SQLite uses *dynamic type system*, where a value stored in a column determines its data type, not the column's data type.  "
   ]
  },
  {
   "cell_type": "markdown",
   "id": "07b6a54e",
   "metadata": {
    "id": "usKqdXSvI5tv"
   },
   "source": [
    "### Printing out SQL calls and results \n",
    "\n",
    "We define a function `print_sql(s)` that given an sql query `s` returns the results of the executing. "
   ]
  },
  {
   "cell_type": "code",
   "execution_count": 4,
   "id": "236bad40",
   "metadata": {
    "id": "_P3x6SBJIe5R",
    "tags": []
   },
   "outputs": [],
   "source": [
    "def print_sql(c, s):\n",
    "    print('>', s)\n",
    "    for result in c.execute(s):\n",
    "        print(result)\n",
    "    print()"
   ]
  },
  {
   "cell_type": "markdown",
   "id": "73e28778",
   "metadata": {
    "id": "wCWywwwFJXh8"
   },
   "source": [
    "We could also use `pandas` `read_sql` function to read in the results of the query to a dataframe to disply.  \n",
    "*Be careful with running this code as it will create the dataframe - for a query that returns many records this could be memory-intensive*"
   ]
  },
  {
   "cell_type": "code",
   "execution_count": 5,
   "id": "a51157ec",
   "metadata": {
    "id": "pgJN4t1RJTKn",
    "tags": []
   },
   "outputs": [],
   "source": [
    "def pretty_print_sql(c, s):\n",
    "    print('>', s)\n",
    "    df = pd.read_sql(s, c)\n",
    "    display(df)\n",
    "    return df"
   ]
  },
  {
   "cell_type": "markdown",
   "id": "78f92223",
   "metadata": {
    "id": "ax5AbURRMrQF"
   },
   "source": [
    "## IMDB data \n",
    "\n",
    "\n",
    "Let's look at some large data files!  We will use some data from [IMDB](https://www.imdb.com/). \n",
    "\n",
    "\n",
    "####  Database Creation \n",
    "\n",
    "Here is a summary on how the database was created. \n",
    "\n",
    "**Download data**\n",
    "\n",
    "The data we are interested is available from [IMDB](https://www.imdb.com/interfaces/)\n",
    "\n",
    "```python \n",
    "# From https://www.imdb.com/interfaces/\n",
    "fetch_and_cache('https://datasets.imdbws.com/title.basics.tsv.gz', 'titles.tsv.gz') \n",
    "fetch_and_cache('https://datasets.imdbws.com/name.basics.tsv.gz', 'names.tsv.gz')\n",
    "```\n",
    "\n",
    "**Unzip files**\n",
    "\n",
    "```bash \n",
    "$ gunzip -kf data/titles.tsv.gz\n",
    "$ gunzip -kf data/names.tsv.gz\n",
    "$ ls -lh data\n",
    "```\n",
    "\n",
    "**View files** \n",
    "\n",
    "If on a Mac, Linux computer. \n",
    "\n",
    "```bash\n",
    "$ head -n5 data/titles.tsv \n",
    "$ head -n5 data/names.tsv\n",
    "```"
   ]
  },
  {
   "cell_type": "markdown",
   "id": "4db833a2",
   "metadata": {
    "id": "pwyU1EMEVMSL"
   },
   "source": [
    "**Create the Database**\n",
    "\n",
    "I have done this for you because it is easier using the command line with `sqlite3`.  \n",
    "\n",
    "* First, removed the `\"` that appear in the tab files.  \n",
    "* Create database using the following commands. \n",
    "\n",
    "On a Mac/Linux box with sqlite3 v3.8 or higher, run the following commands at the terminal. \n",
    "\n",
    "```\n",
    "(base) lebrown@lebrown-macbook data$ sqlite3 imdb.db\n",
    "SQLite version 3.27.2 2019-02-25 16:06:06\n",
    "Enter \".help\" for usage hints.\n",
    "sqlite> .mode tabs\n",
    "sqlite> .import titles.tsv titles\n",
    "sqlite> .import names.tsv names\n",
    "sqlite> ^D\n",
    "```\n"
   ]
  },
  {
   "cell_type": "markdown",
   "id": "bde9cf50",
   "metadata": {
    "id": "Gdyr4MI21hd0"
   },
   "source": [
    "### Download the Database \n",
    "\n",
    "The `imdb.db` database is available for you to download on [Kaggle](https://www.kaggle.com/). \n",
    "\n",
    "You have already created your Kaggle account and can again use your API to access the data."
   ]
  },
  {
   "cell_type": "markdown",
   "id": "8555e786",
   "metadata": {
    "id": "szQ85O8w3E9l"
   },
   "source": [
    "Copy and paste the key information (does not upload your key information). "
   ]
  },
  {
   "cell_type": "code",
   "execution_count": 6,
   "id": "c9407b8b",
   "metadata": {
    "colab": {
     "base_uri": "https://localhost:8080/"
    },
    "id": "BLMlr21E3D9Q",
    "outputId": "be36ca6c-d8b1-44ca-adf2-5be6f01b18e2",
    "tags": []
   },
   "outputs": [],
   "source": [
    "# if GS==False:\n",
    "#     os.environ['KAGGLE_USERNAME'] = getpass(\"Enter Kaggle Username: \")\n",
    "#     os.environ['KAGGLE_KEY'] = getpass(\"Enter Kaggle API Key: \")"
   ]
  },
  {
   "cell_type": "markdown",
   "id": "33119545",
   "metadata": {
    "id": "Ljfg1YXJ4Hq6"
   },
   "source": [
    "#### Download the Data "
   ]
  },
  {
   "cell_type": "code",
   "execution_count": 7,
   "id": "799b1902",
   "metadata": {
    "colab": {
     "base_uri": "https://localhost:8080/"
    },
    "id": "mX1Nbs5ZwCyM",
    "outputId": "cf1aa712-cf03-4eb7-f2fd-aa831abf687e",
    "tags": []
   },
   "outputs": [],
   "source": [
    "# if GS==False:\n",
    "#     !kaggle datasets download -d lebrown/un5550-imdb # api copied from kaggle\n",
    "#     !unzip un5550-imdb.zip"
   ]
  },
  {
   "cell_type": "markdown",
   "id": "57f7fa96",
   "metadata": {
    "id": "3ssTHpvL4PgH"
   },
   "source": [
    "You now have the `imdb.db` database available to you."
   ]
  },
  {
   "cell_type": "markdown",
   "id": "c71f0f28-734f-4b13-bc37-fe89120d5fe4",
   "metadata": {},
   "source": [
    "### Using the Database \n",
    "\n",
    "After you have downloaded the database, you can comment out the above cells anytime you rerun your code. \n",
    "\n",
    "Also, in the lab several new tables will be added to the database.  If you want to start from a clean version of the database, unzip the downloaded file again overwriting the `imdb.db` file. "
   ]
  },
  {
   "cell_type": "code",
   "execution_count": 8,
   "id": "ecc0fedc",
   "metadata": {
    "id": "k4js9cLxdL0P",
    "tags": []
   },
   "outputs": [],
   "source": [
    "if GS==False:\n",
    "    conn = sqlite3.connect(\"imdb.db\")"
   ]
  },
  {
   "cell_type": "markdown",
   "id": "bdc4f7b3",
   "metadata": {
    "deletable": false,
    "editable": false,
    "id": "V4zIuUBB0CQo"
   },
   "source": [
    "<!-- BEGIN QUESTION -->\n",
    "\n",
    "## Exercise 1 \n",
    "\n",
    "While we know the structure of the tables from IMDB, see how this info is laid out.\n",
    "\n",
    "In `q1command`, specify a SQL statement that will return information on the tables in the database and their structure (i.e., what fields-types they have)\n",
    "\n",
    "Use the `conn.execute(q1command)` function rather than the `pretty_print_sql(...)` function.  The output of this command can be stored in the string `q1output`. \n",
    "\n",
    "Your answer in `q1output` should look like: \n",
    "\n",
    "    CREATE TABLE titles(\n",
    "      \"tconst\" TEXT,\n",
    "      ...\n",
    "    CREATE TABLE names(\n",
    "      ..."
   ]
  },
  {
   "cell_type": "code",
   "execution_count": 9,
   "id": "58c9decd",
   "metadata": {
    "colab": {
     "base_uri": "https://localhost:8080/"
    },
    "id": "dcxq-_rJyBsK",
    "outputId": "24905210-cd8c-4fe0-facc-33ed18a5d2b6",
    "tags": []
   },
   "outputs": [
    {
     "name": "stdout",
     "output_type": "stream",
     "text": [
      "CREATE TABLE titles(\n",
      "  \"tconst\" TEXT,\n",
      "  \"titleType\" TEXT,\n",
      "  \"primaryTitle\" TEXT,\n",
      "  \"originalTitle\" TEXT,\n",
      "  \"isAdult\" TEXT,\n",
      "  \"startYear\" TEXT,\n",
      "  \"endYear\" TEXT,\n",
      "  \"runtimeMinutes\" TEXT,\n",
      "  \"genres\" TEXT\n",
      ")CREATE TABLE names(\n",
      "  \"nconst\" TEXT,\n",
      "  \"primaryName\" TEXT,\n",
      "  \"birthYear\" TEXT,\n",
      "  \"deathYear\" TEXT,\n",
      "  \"primaryProfession\" TEXT,\n",
      "  \"knownForTitles\" TEXT\n",
      ")CREATE TABLE dramas(\n",
      "  id TEXT,\n",
      "  title TEXT,\n",
      "  time INT,\n",
      "  year INT\n",
      ")CREATE TABLE dramatics(\n",
      "  name TEXT,\n",
      "  profession,\n",
      "  born INT,\n",
      "  title TEXT,\n",
      "  year INT\n",
      ")CREATE TABLE name_to_title\n",
      "                    (nconst TEXT,\n",
      "                    tconst TEXT)CREATE TABLE name_to_profession\n",
      "                    (nconst TEXT,\n",
      "                    profession TEXT)\n"
     ]
    }
   ],
   "source": [
    "q1command = 'SELECT sql FROM sqlite_master WHERE type = \"table\";'\n",
    "q1output = ''\n",
    "for exp in conn.execute(q1command):\n",
    "    q1output = q1output+exp[0]\n",
    "    \n",
    "print(q1output)"
   ]
  },
  {
   "cell_type": "markdown",
   "id": "f48282b8",
   "metadata": {
    "deletable": false,
    "editable": false,
    "id": "jFSX2K64x02_"
   },
   "source": [
    "<!-- END QUESTION -->\n",
    "\n",
    "## Exercise 2 \n",
    "\n",
    "Let's look at just the first 10 entries from the `titles` relation. \n",
    "\n",
    "Your solution should be of the form: \n",
    "```\n",
    "q2df = pretty_print_sql(<conn>, <query>) \n",
    "```"
   ]
  },
  {
   "cell_type": "code",
   "execution_count": 10,
   "id": "9f2dd689",
   "metadata": {
    "colab": {
     "base_uri": "https://localhost:8080/"
    },
    "id": "kMCtZEwvx-pV",
    "outputId": "d5f941e5-ce49-4add-8f5c-f14db3d64070",
    "tags": []
   },
   "outputs": [
    {
     "name": "stdout",
     "output_type": "stream",
     "text": [
      "> SELECT * FROM titles LIMIT 10;\n"
     ]
    },
    {
     "data": {
      "text/html": [
       "<div>\n",
       "<style scoped>\n",
       "    .dataframe tbody tr th:only-of-type {\n",
       "        vertical-align: middle;\n",
       "    }\n",
       "\n",
       "    .dataframe tbody tr th {\n",
       "        vertical-align: top;\n",
       "    }\n",
       "\n",
       "    .dataframe thead th {\n",
       "        text-align: right;\n",
       "    }\n",
       "</style>\n",
       "<table border=\"1\" class=\"dataframe\">\n",
       "  <thead>\n",
       "    <tr style=\"text-align: right;\">\n",
       "      <th></th>\n",
       "      <th>tconst</th>\n",
       "      <th>titleType</th>\n",
       "      <th>primaryTitle</th>\n",
       "      <th>originalTitle</th>\n",
       "      <th>isAdult</th>\n",
       "      <th>startYear</th>\n",
       "      <th>endYear</th>\n",
       "      <th>runtimeMinutes</th>\n",
       "      <th>genres</th>\n",
       "    </tr>\n",
       "  </thead>\n",
       "  <tbody>\n",
       "    <tr>\n",
       "      <th>0</th>\n",
       "      <td>tt0000001</td>\n",
       "      <td>short</td>\n",
       "      <td>Carmencita</td>\n",
       "      <td>Carmencita</td>\n",
       "      <td>0</td>\n",
       "      <td>1894</td>\n",
       "      <td>\\N</td>\n",
       "      <td>1</td>\n",
       "      <td>Documentary,Short</td>\n",
       "    </tr>\n",
       "    <tr>\n",
       "      <th>1</th>\n",
       "      <td>tt0000002</td>\n",
       "      <td>short</td>\n",
       "      <td>Le clown et ses chiens</td>\n",
       "      <td>Le clown et ses chiens</td>\n",
       "      <td>0</td>\n",
       "      <td>1892</td>\n",
       "      <td>\\N</td>\n",
       "      <td>5</td>\n",
       "      <td>Animation,Short</td>\n",
       "    </tr>\n",
       "    <tr>\n",
       "      <th>2</th>\n",
       "      <td>tt0000003</td>\n",
       "      <td>short</td>\n",
       "      <td>Pauvre Pierrot</td>\n",
       "      <td>Pauvre Pierrot</td>\n",
       "      <td>0</td>\n",
       "      <td>1892</td>\n",
       "      <td>\\N</td>\n",
       "      <td>4</td>\n",
       "      <td>Animation,Comedy,Romance</td>\n",
       "    </tr>\n",
       "    <tr>\n",
       "      <th>3</th>\n",
       "      <td>tt0000004</td>\n",
       "      <td>short</td>\n",
       "      <td>Un bon bock</td>\n",
       "      <td>Un bon bock</td>\n",
       "      <td>0</td>\n",
       "      <td>1892</td>\n",
       "      <td>\\N</td>\n",
       "      <td>12</td>\n",
       "      <td>Animation,Short</td>\n",
       "    </tr>\n",
       "    <tr>\n",
       "      <th>4</th>\n",
       "      <td>tt0000005</td>\n",
       "      <td>short</td>\n",
       "      <td>Blacksmith Scene</td>\n",
       "      <td>Blacksmith Scene</td>\n",
       "      <td>0</td>\n",
       "      <td>1893</td>\n",
       "      <td>\\N</td>\n",
       "      <td>1</td>\n",
       "      <td>Comedy,Short</td>\n",
       "    </tr>\n",
       "    <tr>\n",
       "      <th>5</th>\n",
       "      <td>tt0000006</td>\n",
       "      <td>short</td>\n",
       "      <td>Chinese Opium Den</td>\n",
       "      <td>Chinese Opium Den</td>\n",
       "      <td>0</td>\n",
       "      <td>1894</td>\n",
       "      <td>\\N</td>\n",
       "      <td>1</td>\n",
       "      <td>Short</td>\n",
       "    </tr>\n",
       "    <tr>\n",
       "      <th>6</th>\n",
       "      <td>tt0000007</td>\n",
       "      <td>short</td>\n",
       "      <td>Corbett and Courtney Before the Kinetograph</td>\n",
       "      <td>Corbett and Courtney Before the Kinetograph</td>\n",
       "      <td>0</td>\n",
       "      <td>1894</td>\n",
       "      <td>\\N</td>\n",
       "      <td>1</td>\n",
       "      <td>Short,Sport</td>\n",
       "    </tr>\n",
       "    <tr>\n",
       "      <th>7</th>\n",
       "      <td>tt0000008</td>\n",
       "      <td>short</td>\n",
       "      <td>Edison Kinetoscopic Record of a Sneeze</td>\n",
       "      <td>Edison Kinetoscopic Record of a Sneeze</td>\n",
       "      <td>0</td>\n",
       "      <td>1894</td>\n",
       "      <td>\\N</td>\n",
       "      <td>1</td>\n",
       "      <td>Documentary,Short</td>\n",
       "    </tr>\n",
       "    <tr>\n",
       "      <th>8</th>\n",
       "      <td>tt0000009</td>\n",
       "      <td>movie</td>\n",
       "      <td>Miss Jerry</td>\n",
       "      <td>Miss Jerry</td>\n",
       "      <td>0</td>\n",
       "      <td>1894</td>\n",
       "      <td>\\N</td>\n",
       "      <td>45</td>\n",
       "      <td>Romance</td>\n",
       "    </tr>\n",
       "    <tr>\n",
       "      <th>9</th>\n",
       "      <td>tt0000010</td>\n",
       "      <td>short</td>\n",
       "      <td>Leaving the Factory</td>\n",
       "      <td>La sortie de l'usine Lumière à Lyon</td>\n",
       "      <td>0</td>\n",
       "      <td>1895</td>\n",
       "      <td>\\N</td>\n",
       "      <td>1</td>\n",
       "      <td>Documentary,Short</td>\n",
       "    </tr>\n",
       "  </tbody>\n",
       "</table>\n",
       "</div>"
      ],
      "text/plain": [
       "      tconst titleType                                 primaryTitle  \\\n",
       "0  tt0000001     short                                   Carmencita   \n",
       "1  tt0000002     short                       Le clown et ses chiens   \n",
       "2  tt0000003     short                               Pauvre Pierrot   \n",
       "3  tt0000004     short                                  Un bon bock   \n",
       "4  tt0000005     short                             Blacksmith Scene   \n",
       "5  tt0000006     short                            Chinese Opium Den   \n",
       "6  tt0000007     short  Corbett and Courtney Before the Kinetograph   \n",
       "7  tt0000008     short       Edison Kinetoscopic Record of a Sneeze   \n",
       "8  tt0000009     movie                                   Miss Jerry   \n",
       "9  tt0000010     short                          Leaving the Factory   \n",
       "\n",
       "                                 originalTitle isAdult startYear endYear  \\\n",
       "0                                   Carmencita       0      1894      \\N   \n",
       "1                       Le clown et ses chiens       0      1892      \\N   \n",
       "2                               Pauvre Pierrot       0      1892      \\N   \n",
       "3                                  Un bon bock       0      1892      \\N   \n",
       "4                             Blacksmith Scene       0      1893      \\N   \n",
       "5                            Chinese Opium Den       0      1894      \\N   \n",
       "6  Corbett and Courtney Before the Kinetograph       0      1894      \\N   \n",
       "7       Edison Kinetoscopic Record of a Sneeze       0      1894      \\N   \n",
       "8                                   Miss Jerry       0      1894      \\N   \n",
       "9          La sortie de l'usine Lumière à Lyon       0      1895      \\N   \n",
       "\n",
       "  runtimeMinutes                    genres  \n",
       "0              1         Documentary,Short  \n",
       "1              5           Animation,Short  \n",
       "2              4  Animation,Comedy,Romance  \n",
       "3             12           Animation,Short  \n",
       "4              1              Comedy,Short  \n",
       "5              1                     Short  \n",
       "6              1               Short,Sport  \n",
       "7              1         Documentary,Short  \n",
       "8             45                   Romance  \n",
       "9              1         Documentary,Short  "
      ]
     },
     "metadata": {},
     "output_type": "display_data"
    }
   ],
   "source": [
    "q2df = pretty_print_sql(conn, 'SELECT * FROM titles LIMIT 10;')"
   ]
  },
  {
   "cell_type": "code",
   "execution_count": 11,
   "id": "438903ea",
   "metadata": {
    "deletable": false,
    "editable": false
   },
   "outputs": [
    {
     "data": {
      "text/html": [
       "<p><strong><pre style='display: inline;'>q2</pre></strong> passed! ✨</p>"
      ],
      "text/plain": [
       "q2 results: All test cases passed!"
      ]
     },
     "execution_count": 11,
     "metadata": {},
     "output_type": "execute_result"
    }
   ],
   "source": [
    "grader.check(\"q2\")"
   ]
  },
  {
   "cell_type": "markdown",
   "id": "0e201ded",
   "metadata": {
    "deletable": false,
    "editable": false,
    "id": "dMDNjCqY51G1"
   },
   "source": [
    "## Exercise 3 \n",
    "\n",
    "Write a query to return the movies where the starting year > 2005.  \n",
    "\n",
    "Your solution should be of the form: \n",
    "```\n",
    "q3query = \"\"\"\n",
    "...\n",
    "\"\"\"\n",
    "q3df = pretty_print_sql(conn, q3query) \n",
    "```\n",
    "\n",
    "where you fill in the ... of the `q3query`.\n",
    "\n",
    "Display all fields of the appropriate table. \n",
    "\n",
    "Make sure to exclude records that are missing a starting year value (encoded as '\\N') \n",
    "\n",
    "Limit your query to 10 records.  "
   ]
  },
  {
   "cell_type": "code",
   "execution_count": 12,
   "id": "219c961b",
   "metadata": {
    "colab": {
     "base_uri": "https://localhost:8080/"
    },
    "id": "vmjZuzEh5GSr",
    "outputId": "ab60d5d0-8b44-4c0c-b432-95a0a8ff7fe4",
    "tags": []
   },
   "outputs": [
    {
     "name": "stdout",
     "output_type": "stream",
     "text": [
      "> \n",
      "SELECT * \n",
      "FROM titles \n",
      "WHERE startYear > 2005 AND startYear != '\\N' AND titleType = 'movie' \n",
      "LIMIT 10;\n",
      "\n"
     ]
    },
    {
     "data": {
      "text/html": [
       "<div>\n",
       "<style scoped>\n",
       "    .dataframe tbody tr th:only-of-type {\n",
       "        vertical-align: middle;\n",
       "    }\n",
       "\n",
       "    .dataframe tbody tr th {\n",
       "        vertical-align: top;\n",
       "    }\n",
       "\n",
       "    .dataframe thead th {\n",
       "        text-align: right;\n",
       "    }\n",
       "</style>\n",
       "<table border=\"1\" class=\"dataframe\">\n",
       "  <thead>\n",
       "    <tr style=\"text-align: right;\">\n",
       "      <th></th>\n",
       "      <th>tconst</th>\n",
       "      <th>titleType</th>\n",
       "      <th>primaryTitle</th>\n",
       "      <th>originalTitle</th>\n",
       "      <th>isAdult</th>\n",
       "      <th>startYear</th>\n",
       "      <th>endYear</th>\n",
       "      <th>runtimeMinutes</th>\n",
       "      <th>genres</th>\n",
       "    </tr>\n",
       "  </thead>\n",
       "  <tbody>\n",
       "    <tr>\n",
       "      <th>0</th>\n",
       "      <td>tt0016906</td>\n",
       "      <td>movie</td>\n",
       "      <td>Frivolinas</td>\n",
       "      <td>Frivolinas</td>\n",
       "      <td>0</td>\n",
       "      <td>2014</td>\n",
       "      <td>\\N</td>\n",
       "      <td>80</td>\n",
       "      <td>Comedy,Musical</td>\n",
       "    </tr>\n",
       "    <tr>\n",
       "      <th>1</th>\n",
       "      <td>tt0062336</td>\n",
       "      <td>movie</td>\n",
       "      <td>El Tango del Viudo y Su Espejo Deformante</td>\n",
       "      <td>El Tango del Viudo y Su Espejo Deformante</td>\n",
       "      <td>0</td>\n",
       "      <td>2020</td>\n",
       "      <td>\\N</td>\n",
       "      <td>70</td>\n",
       "      <td>Drama</td>\n",
       "    </tr>\n",
       "    <tr>\n",
       "      <th>2</th>\n",
       "      <td>tt0065392</td>\n",
       "      <td>movie</td>\n",
       "      <td>Bucharest Memories</td>\n",
       "      <td>Amintiri bucurestene</td>\n",
       "      <td>0</td>\n",
       "      <td>2020</td>\n",
       "      <td>\\N</td>\n",
       "      <td>\\N</td>\n",
       "      <td>Documentary</td>\n",
       "    </tr>\n",
       "    <tr>\n",
       "      <th>3</th>\n",
       "      <td>tt0069049</td>\n",
       "      <td>movie</td>\n",
       "      <td>The Other Side of the Wind</td>\n",
       "      <td>The Other Side of the Wind</td>\n",
       "      <td>0</td>\n",
       "      <td>2018</td>\n",
       "      <td>\\N</td>\n",
       "      <td>122</td>\n",
       "      <td>Drama</td>\n",
       "    </tr>\n",
       "    <tr>\n",
       "      <th>4</th>\n",
       "      <td>tt0072306</td>\n",
       "      <td>movie</td>\n",
       "      <td>Toula ou Le génie des eaux *</td>\n",
       "      <td>Toula ou Le génie des eaux *</td>\n",
       "      <td>0</td>\n",
       "      <td>2017</td>\n",
       "      <td>\\N</td>\n",
       "      <td>90</td>\n",
       "      <td>Drama</td>\n",
       "    </tr>\n",
       "    <tr>\n",
       "      <th>5</th>\n",
       "      <td>tt0077649</td>\n",
       "      <td>movie</td>\n",
       "      <td>Isolation of 1/8800000</td>\n",
       "      <td>Hachijyu-Hachi-Man Bun no Ichi no Kodoku</td>\n",
       "      <td>0</td>\n",
       "      <td>2018</td>\n",
       "      <td>\\N</td>\n",
       "      <td>50</td>\n",
       "      <td>\\N</td>\n",
       "    </tr>\n",
       "    <tr>\n",
       "      <th>6</th>\n",
       "      <td>tt0082216</td>\n",
       "      <td>movie</td>\n",
       "      <td>The Cruise</td>\n",
       "      <td>Croaziera</td>\n",
       "      <td>0</td>\n",
       "      <td>2011</td>\n",
       "      <td>\\N</td>\n",
       "      <td>122</td>\n",
       "      <td>Comedy</td>\n",
       "    </tr>\n",
       "    <tr>\n",
       "      <th>7</th>\n",
       "      <td>tt0087608</td>\n",
       "      <td>movie</td>\n",
       "      <td>Leila wa al ziap</td>\n",
       "      <td>Leila wa al ziap</td>\n",
       "      <td>0</td>\n",
       "      <td>2008</td>\n",
       "      <td>\\N</td>\n",
       "      <td>90</td>\n",
       "      <td>Documentary</td>\n",
       "    </tr>\n",
       "    <tr>\n",
       "      <th>8</th>\n",
       "      <td>tt0100275</td>\n",
       "      <td>movie</td>\n",
       "      <td>The Wandering Soap Opera</td>\n",
       "      <td>La Telenovela Errante</td>\n",
       "      <td>0</td>\n",
       "      <td>2017</td>\n",
       "      <td>\\N</td>\n",
       "      <td>80</td>\n",
       "      <td>Comedy,Drama,Fantasy</td>\n",
       "    </tr>\n",
       "    <tr>\n",
       "      <th>9</th>\n",
       "      <td>tt0110476</td>\n",
       "      <td>movie</td>\n",
       "      <td>Master i Margarita</td>\n",
       "      <td>Master i Margarita</td>\n",
       "      <td>0</td>\n",
       "      <td>2006</td>\n",
       "      <td>\\N</td>\n",
       "      <td>125</td>\n",
       "      <td>Drama,Fantasy</td>\n",
       "    </tr>\n",
       "  </tbody>\n",
       "</table>\n",
       "</div>"
      ],
      "text/plain": [
       "      tconst titleType                               primaryTitle  \\\n",
       "0  tt0016906     movie                                 Frivolinas   \n",
       "1  tt0062336     movie  El Tango del Viudo y Su Espejo Deformante   \n",
       "2  tt0065392     movie                         Bucharest Memories   \n",
       "3  tt0069049     movie                 The Other Side of the Wind   \n",
       "4  tt0072306     movie               Toula ou Le génie des eaux *   \n",
       "5  tt0077649     movie                     Isolation of 1/8800000   \n",
       "6  tt0082216     movie                                 The Cruise   \n",
       "7  tt0087608     movie                           Leila wa al ziap   \n",
       "8  tt0100275     movie                   The Wandering Soap Opera   \n",
       "9  tt0110476     movie                         Master i Margarita   \n",
       "\n",
       "                               originalTitle isAdult startYear endYear  \\\n",
       "0                                 Frivolinas       0      2014      \\N   \n",
       "1  El Tango del Viudo y Su Espejo Deformante       0      2020      \\N   \n",
       "2                       Amintiri bucurestene       0      2020      \\N   \n",
       "3                 The Other Side of the Wind       0      2018      \\N   \n",
       "4               Toula ou Le génie des eaux *       0      2017      \\N   \n",
       "5   Hachijyu-Hachi-Man Bun no Ichi no Kodoku       0      2018      \\N   \n",
       "6                                  Croaziera       0      2011      \\N   \n",
       "7                           Leila wa al ziap       0      2008      \\N   \n",
       "8                      La Telenovela Errante       0      2017      \\N   \n",
       "9                         Master i Margarita       0      2006      \\N   \n",
       "\n",
       "  runtimeMinutes                genres  \n",
       "0             80        Comedy,Musical  \n",
       "1             70                 Drama  \n",
       "2             \\N           Documentary  \n",
       "3            122                 Drama  \n",
       "4             90                 Drama  \n",
       "5             50                    \\N  \n",
       "6            122                Comedy  \n",
       "7             90           Documentary  \n",
       "8             80  Comedy,Drama,Fantasy  \n",
       "9            125         Drama,Fantasy  "
      ]
     },
     "metadata": {},
     "output_type": "display_data"
    }
   ],
   "source": [
    "q3query = \"\"\"\n",
    "SELECT * \n",
    "FROM titles \n",
    "WHERE startYear > 2005 AND startYear != '\\\\N' AND titleType = 'movie' \n",
    "LIMIT 10;\n",
    "\"\"\"\n",
    "q3df = pretty_print_sql(conn, q3query)"
   ]
  },
  {
   "cell_type": "code",
   "execution_count": 13,
   "id": "9a1e1297",
   "metadata": {
    "deletable": false,
    "editable": false
   },
   "outputs": [
    {
     "data": {
      "text/html": [
       "<p><strong><pre style='display: inline;'>q3</pre></strong> passed! 🙌</p>"
      ],
      "text/plain": [
       "q3 results: All test cases passed!"
      ]
     },
     "execution_count": 13,
     "metadata": {},
     "output_type": "execute_result"
    }
   ],
   "source": [
    "grader.check(\"q3\")"
   ]
  },
  {
   "cell_type": "markdown",
   "id": "ad2ec0aa",
   "metadata": {
    "deletable": false,
    "editable": false,
    "id": "U-wTBSth6kSS"
   },
   "source": [
    "## Exercise 4 \n",
    "\n",
    "Write a query to return fantasy, TV shows (`tvEpisode`) starting in 2007 with a 43 minute running time.  \n",
    "\n",
    "Your solution should be of the form: \n",
    "```\n",
    "q4query = \"\"\"\n",
    "...\n",
    "\"\"\"\n",
    "q4df = pretty_print_sql(conn, q4query) \n",
    "```\n",
    "\n",
    "where you fill in the `...` of `q4query`.\n",
    "\n",
    "Display all fields of the appropriate table. \n",
    "\n",
    "Limit your query to return 10 records. "
   ]
  },
  {
   "cell_type": "code",
   "execution_count": 14,
   "id": "cbfd9239",
   "metadata": {
    "colab": {
     "base_uri": "https://localhost:8080/"
    },
    "id": "nmoQT0rQ6XNR",
    "outputId": "1479d258-8799-4aa2-9e42-f27c16fdf48c",
    "tags": []
   },
   "outputs": [
    {
     "name": "stdout",
     "output_type": "stream",
     "text": [
      "> \n",
      "SELECT * \n",
      "FROM titles \n",
      "WHERE genres LIKE '%Fantasy%' AND startYear > 2006 AND titleType = 'tvEpisode' AND runtimeMinutes = 43\n",
      "LIMIT 10;\n",
      "\n"
     ]
    },
    {
     "data": {
      "text/html": [
       "<div>\n",
       "<style scoped>\n",
       "    .dataframe tbody tr th:only-of-type {\n",
       "        vertical-align: middle;\n",
       "    }\n",
       "\n",
       "    .dataframe tbody tr th {\n",
       "        vertical-align: top;\n",
       "    }\n",
       "\n",
       "    .dataframe thead th {\n",
       "        text-align: right;\n",
       "    }\n",
       "</style>\n",
       "<table border=\"1\" class=\"dataframe\">\n",
       "  <thead>\n",
       "    <tr style=\"text-align: right;\">\n",
       "      <th></th>\n",
       "      <th>tconst</th>\n",
       "      <th>titleType</th>\n",
       "      <th>primaryTitle</th>\n",
       "      <th>originalTitle</th>\n",
       "      <th>isAdult</th>\n",
       "      <th>startYear</th>\n",
       "      <th>endYear</th>\n",
       "      <th>runtimeMinutes</th>\n",
       "      <th>genres</th>\n",
       "    </tr>\n",
       "  </thead>\n",
       "  <tbody>\n",
       "    <tr>\n",
       "      <th>0</th>\n",
       "      <td>tt0863292</td>\n",
       "      <td>tvEpisode</td>\n",
       "      <td>Love Hurts</td>\n",
       "      <td>Love Hurts</td>\n",
       "      <td>0</td>\n",
       "      <td>2007</td>\n",
       "      <td>\\N</td>\n",
       "      <td>43</td>\n",
       "      <td>Drama,Fantasy,Horror</td>\n",
       "    </tr>\n",
       "    <tr>\n",
       "      <th>1</th>\n",
       "      <td>tt0865034</td>\n",
       "      <td>tvEpisode</td>\n",
       "      <td>Blood Price</td>\n",
       "      <td>Blood Price</td>\n",
       "      <td>0</td>\n",
       "      <td>2007</td>\n",
       "      <td>\\N</td>\n",
       "      <td>43</td>\n",
       "      <td>Drama,Fantasy,Horror</td>\n",
       "    </tr>\n",
       "    <tr>\n",
       "      <th>2</th>\n",
       "      <td>tt0865595</td>\n",
       "      <td>tvEpisode</td>\n",
       "      <td>Gifted</td>\n",
       "      <td>Gifted</td>\n",
       "      <td>0</td>\n",
       "      <td>2007</td>\n",
       "      <td>\\N</td>\n",
       "      <td>43</td>\n",
       "      <td>Drama,Fantasy,Horror</td>\n",
       "    </tr>\n",
       "    <tr>\n",
       "      <th>3</th>\n",
       "      <td>tt0885600</td>\n",
       "      <td>tvEpisode</td>\n",
       "      <td>Bad JuJu</td>\n",
       "      <td>Bad JuJu</td>\n",
       "      <td>0</td>\n",
       "      <td>2007</td>\n",
       "      <td>\\N</td>\n",
       "      <td>43</td>\n",
       "      <td>Drama,Fantasy,Horror</td>\n",
       "    </tr>\n",
       "    <tr>\n",
       "      <th>4</th>\n",
       "      <td>tt0891077</td>\n",
       "      <td>tvEpisode</td>\n",
       "      <td>Not in Portland</td>\n",
       "      <td>Not in Portland</td>\n",
       "      <td>0</td>\n",
       "      <td>2007</td>\n",
       "      <td>\\N</td>\n",
       "      <td>43</td>\n",
       "      <td>Adventure,Drama,Fantasy</td>\n",
       "    </tr>\n",
       "    <tr>\n",
       "      <th>5</th>\n",
       "      <td>tt0893453</td>\n",
       "      <td>tvEpisode</td>\n",
       "      <td>Chapter Twelve 'Godsend'</td>\n",
       "      <td>Chapter Twelve 'Godsend'</td>\n",
       "      <td>0</td>\n",
       "      <td>2007</td>\n",
       "      <td>\\N</td>\n",
       "      <td>43</td>\n",
       "      <td>Drama,Fantasy,Sci-Fi</td>\n",
       "    </tr>\n",
       "    <tr>\n",
       "      <th>6</th>\n",
       "      <td>tt0901193</td>\n",
       "      <td>tvEpisode</td>\n",
       "      <td>Chapter Thirteen 'The Fix'</td>\n",
       "      <td>Chapter Thirteen 'The Fix'</td>\n",
       "      <td>0</td>\n",
       "      <td>2007</td>\n",
       "      <td>\\N</td>\n",
       "      <td>43</td>\n",
       "      <td>Drama,Fantasy,Sci-Fi</td>\n",
       "    </tr>\n",
       "    <tr>\n",
       "      <th>7</th>\n",
       "      <td>tt0904194</td>\n",
       "      <td>tvEpisode</td>\n",
       "      <td>Stone Cold</td>\n",
       "      <td>Stone Cold</td>\n",
       "      <td>0</td>\n",
       "      <td>2007</td>\n",
       "      <td>\\N</td>\n",
       "      <td>43</td>\n",
       "      <td>Drama,Fantasy,Horror</td>\n",
       "    </tr>\n",
       "    <tr>\n",
       "      <th>8</th>\n",
       "      <td>tt0911175</td>\n",
       "      <td>tvEpisode</td>\n",
       "      <td>Post Partum</td>\n",
       "      <td>Post Partum</td>\n",
       "      <td>0</td>\n",
       "      <td>2007</td>\n",
       "      <td>\\N</td>\n",
       "      <td>43</td>\n",
       "      <td>Drama,Fantasy,Horror</td>\n",
       "    </tr>\n",
       "    <tr>\n",
       "      <th>9</th>\n",
       "      <td>tt0913481</td>\n",
       "      <td>tvEpisode</td>\n",
       "      <td>Heart of Fire</td>\n",
       "      <td>Heart of Fire</td>\n",
       "      <td>0</td>\n",
       "      <td>2007</td>\n",
       "      <td>\\N</td>\n",
       "      <td>43</td>\n",
       "      <td>Drama,Fantasy,Horror</td>\n",
       "    </tr>\n",
       "  </tbody>\n",
       "</table>\n",
       "</div>"
      ],
      "text/plain": [
       "      tconst  titleType                primaryTitle  \\\n",
       "0  tt0863292  tvEpisode                  Love Hurts   \n",
       "1  tt0865034  tvEpisode                 Blood Price   \n",
       "2  tt0865595  tvEpisode                      Gifted   \n",
       "3  tt0885600  tvEpisode                    Bad JuJu   \n",
       "4  tt0891077  tvEpisode             Not in Portland   \n",
       "5  tt0893453  tvEpisode    Chapter Twelve 'Godsend'   \n",
       "6  tt0901193  tvEpisode  Chapter Thirteen 'The Fix'   \n",
       "7  tt0904194  tvEpisode                  Stone Cold   \n",
       "8  tt0911175  tvEpisode                 Post Partum   \n",
       "9  tt0913481  tvEpisode               Heart of Fire   \n",
       "\n",
       "                originalTitle isAdult startYear endYear runtimeMinutes  \\\n",
       "0                  Love Hurts       0      2007      \\N             43   \n",
       "1                 Blood Price       0      2007      \\N             43   \n",
       "2                      Gifted       0      2007      \\N             43   \n",
       "3                    Bad JuJu       0      2007      \\N             43   \n",
       "4             Not in Portland       0      2007      \\N             43   \n",
       "5    Chapter Twelve 'Godsend'       0      2007      \\N             43   \n",
       "6  Chapter Thirteen 'The Fix'       0      2007      \\N             43   \n",
       "7                  Stone Cold       0      2007      \\N             43   \n",
       "8                 Post Partum       0      2007      \\N             43   \n",
       "9               Heart of Fire       0      2007      \\N             43   \n",
       "\n",
       "                    genres  \n",
       "0     Drama,Fantasy,Horror  \n",
       "1     Drama,Fantasy,Horror  \n",
       "2     Drama,Fantasy,Horror  \n",
       "3     Drama,Fantasy,Horror  \n",
       "4  Adventure,Drama,Fantasy  \n",
       "5     Drama,Fantasy,Sci-Fi  \n",
       "6     Drama,Fantasy,Sci-Fi  \n",
       "7     Drama,Fantasy,Horror  \n",
       "8     Drama,Fantasy,Horror  \n",
       "9     Drama,Fantasy,Horror  "
      ]
     },
     "metadata": {},
     "output_type": "display_data"
    }
   ],
   "source": [
    "q4query = \"\"\"\n",
    "SELECT * \n",
    "FROM titles \n",
    "WHERE genres LIKE '%Fantasy%' AND startYear > 2006 AND titleType = 'tvEpisode' AND runtimeMinutes = 43\n",
    "LIMIT 10;\n",
    "\"\"\"\n",
    "q4df = pretty_print_sql(conn, q4query)"
   ]
  },
  {
   "cell_type": "code",
   "execution_count": 15,
   "id": "6bf949c0",
   "metadata": {
    "deletable": false,
    "editable": false
   },
   "outputs": [
    {
     "data": {
      "text/html": [
       "<p><strong><pre style='display: inline;'>q4</pre></strong> passed! 🎉</p>"
      ],
      "text/plain": [
       "q4 results: All test cases passed!"
      ]
     },
     "execution_count": 15,
     "metadata": {},
     "output_type": "execute_result"
    }
   ],
   "source": [
    "grader.check(\"q4\")"
   ]
  },
  {
   "cell_type": "markdown",
   "id": "b60e0cb6",
   "metadata": {
    "id": "CYzYjDDn7NKb"
   },
   "source": [
    "## Example 1 -  Add new table for Dramas\n",
    "\n",
    "Python allows for string substition with the following expression (new in Python 3.6)"
   ]
  },
  {
   "cell_type": "code",
   "execution_count": 16,
   "id": "258cb97a",
   "metadata": {
    "colab": {
     "base_uri": "https://localhost:8080/",
     "height": 35
    },
    "id": "vGzKzZE86v8h",
    "outputId": "f02d05ea-ba6e-40fe-a169-e43ea26eb592",
    "tags": []
   },
   "outputs": [
    {
     "data": {
      "text/plain": [
       "'Laura is here'"
      ]
     },
     "execution_count": 16,
     "metadata": {},
     "output_type": "execute_result"
    }
   ],
   "source": [
    "# Python string substitution \n",
    "who, where = 'Laura', 'here'\n",
    "temp = f\"{who} is {where}\"\n",
    "temp"
   ]
  },
  {
   "cell_type": "markdown",
   "id": "c48b9d0c",
   "metadata": {
    "id": "ceiYDxr27Y53"
   },
   "source": [
    "We will use this to select out information about drama movies. Then, create a new table titled `dramas` that we can use in the following questions. "
   ]
  },
  {
   "cell_type": "code",
   "execution_count": 17,
   "id": "aa891d5d",
   "metadata": {
    "colab": {
     "base_uri": "https://localhost:8080/"
    },
    "id": "hPplcaQ37WjW",
    "outputId": "934faf68-44aa-43cc-b551-90763199572a",
    "tags": []
   },
   "outputs": [
    {
     "data": {
      "text/plain": [
       "<sqlite3.Cursor at 0x7f89cb8c3640>"
      ]
     },
     "execution_count": 17,
     "metadata": {},
     "output_type": "execute_result"
    }
   ],
   "source": [
    "key = 'tconst'\n",
    "title = 'primaryTitle'\n",
    "time = 'runtimeMinutes'\n",
    "year = 'startYear'\n",
    "adult = 'isAdult'\n",
    "kind = 'titleType'\n",
    "\n",
    "select_drama = f'''\n",
    "    SELECT {key} AS id,\n",
    "           {title} AS title, \n",
    "           CAST({time} AS int) AS time, \n",
    "           CAST({year} AS int) AS year\n",
    "    FROM titles\n",
    "    WHERE genres LIKE '%Drama%' AND\n",
    "          {year} > 1900 AND \n",
    "          {year} < 2019 AND\n",
    "          {adult} = '0' AND\n",
    "          {kind} = 'movie' AND\n",
    "          time > 60\n",
    "    '''\n",
    "conn.executescript(f'''\n",
    "    DROP TABLE IF EXISTS dramas;\n",
    "    CREATE TABLE dramas AS {select_drama};\n",
    "    ''')"
   ]
  },
  {
   "cell_type": "markdown",
   "id": "e3f09153",
   "metadata": {},
   "source": [
    "Now we can query this table `dramas`"
   ]
  },
  {
   "cell_type": "code",
   "execution_count": 18,
   "id": "33c97a46",
   "metadata": {
    "tags": []
   },
   "outputs": [
    {
     "name": "stdout",
     "output_type": "stream",
     "text": [
      "> SELECT * FROM dramas ORDER BY year DESC LIMIT 10\n"
     ]
    },
    {
     "data": {
      "text/html": [
       "<div>\n",
       "<style scoped>\n",
       "    .dataframe tbody tr th:only-of-type {\n",
       "        vertical-align: middle;\n",
       "    }\n",
       "\n",
       "    .dataframe tbody tr th {\n",
       "        vertical-align: top;\n",
       "    }\n",
       "\n",
       "    .dataframe thead th {\n",
       "        text-align: right;\n",
       "    }\n",
       "</style>\n",
       "<table border=\"1\" class=\"dataframe\">\n",
       "  <thead>\n",
       "    <tr style=\"text-align: right;\">\n",
       "      <th></th>\n",
       "      <th>id</th>\n",
       "      <th>title</th>\n",
       "      <th>time</th>\n",
       "      <th>year</th>\n",
       "    </tr>\n",
       "  </thead>\n",
       "  <tbody>\n",
       "    <tr>\n",
       "      <th>0</th>\n",
       "      <td>tt0069049</td>\n",
       "      <td>The Other Side of the Wind</td>\n",
       "      <td>122</td>\n",
       "      <td>2018</td>\n",
       "    </tr>\n",
       "    <tr>\n",
       "      <th>1</th>\n",
       "      <td>tt0192528</td>\n",
       "      <td>Heaven &amp; Hell</td>\n",
       "      <td>104</td>\n",
       "      <td>2018</td>\n",
       "    </tr>\n",
       "    <tr>\n",
       "      <th>2</th>\n",
       "      <td>tt0276568</td>\n",
       "      <td>To Chase a Million</td>\n",
       "      <td>97</td>\n",
       "      <td>2018</td>\n",
       "    </tr>\n",
       "    <tr>\n",
       "      <th>3</th>\n",
       "      <td>tt0328810</td>\n",
       "      <td>My Land</td>\n",
       "      <td>102</td>\n",
       "      <td>2018</td>\n",
       "    </tr>\n",
       "    <tr>\n",
       "      <th>4</th>\n",
       "      <td>tt0360556</td>\n",
       "      <td>Fahrenheit 451</td>\n",
       "      <td>100</td>\n",
       "      <td>2018</td>\n",
       "    </tr>\n",
       "    <tr>\n",
       "      <th>5</th>\n",
       "      <td>tt0365545</td>\n",
       "      <td>Nappily Ever After</td>\n",
       "      <td>98</td>\n",
       "      <td>2018</td>\n",
       "    </tr>\n",
       "    <tr>\n",
       "      <th>6</th>\n",
       "      <td>tt0427543</td>\n",
       "      <td>A Million Little Pieces</td>\n",
       "      <td>113</td>\n",
       "      <td>2018</td>\n",
       "    </tr>\n",
       "    <tr>\n",
       "      <th>7</th>\n",
       "      <td>tt0825334</td>\n",
       "      <td>Caravaggio and My Mother the Pope</td>\n",
       "      <td>90</td>\n",
       "      <td>2018</td>\n",
       "    </tr>\n",
       "    <tr>\n",
       "      <th>8</th>\n",
       "      <td>tt0972544</td>\n",
       "      <td>Back Roads</td>\n",
       "      <td>101</td>\n",
       "      <td>2018</td>\n",
       "    </tr>\n",
       "    <tr>\n",
       "      <th>9</th>\n",
       "      <td>tt10004396</td>\n",
       "      <td>When I Became a Butterfly</td>\n",
       "      <td>102</td>\n",
       "      <td>2018</td>\n",
       "    </tr>\n",
       "  </tbody>\n",
       "</table>\n",
       "</div>"
      ],
      "text/plain": [
       "           id                              title  time  year\n",
       "0   tt0069049         The Other Side of the Wind   122  2018\n",
       "1   tt0192528                      Heaven & Hell   104  2018\n",
       "2   tt0276568                 To Chase a Million    97  2018\n",
       "3   tt0328810                            My Land   102  2018\n",
       "4   tt0360556                     Fahrenheit 451   100  2018\n",
       "5   tt0365545                 Nappily Ever After    98  2018\n",
       "6   tt0427543            A Million Little Pieces   113  2018\n",
       "7   tt0825334  Caravaggio and My Mother the Pope    90  2018\n",
       "8   tt0972544                         Back Roads   101  2018\n",
       "9  tt10004396          When I Became a Butterfly   102  2018"
      ]
     },
     "metadata": {},
     "output_type": "display_data"
    }
   ],
   "source": [
    "ex1 = pretty_print_sql(conn, 'SELECT * FROM dramas ORDER BY year DESC LIMIT 10')"
   ]
  },
  {
   "cell_type": "markdown",
   "id": "90df9369",
   "metadata": {
    "deletable": false,
    "editable": false,
    "id": "ufVwG4L27wY-"
   },
   "source": [
    "<!-- BEGIN QUESTION -->\n",
    "\n",
    "## Exercise 5 \n",
    "\n",
    "For this question you will plot the mean running time of dramas for each year.  \n",
    "  \n",
    "Use the `pd.read_sql` command frame your query, then use the DataFrame returned to make the plot. "
   ]
  },
  {
   "cell_type": "code",
   "execution_count": 19,
   "id": "46305f88",
   "metadata": {
    "colab": {
     "base_uri": "https://localhost:8080/",
     "height": 279
    },
    "id": "3S1eoT9A7vle",
    "outputId": "bf097438-f656-4221-fb23-3313a2f873bd",
    "tags": []
   },
   "outputs": [
    {
     "data": {
      "image/png": "[encoded data removed]",
      "text/plain": [
       "<Figure size 1000x600 with 1 Axes>"
      ]
     },
     "metadata": {},
     "output_type": "display_data"
    }
   ],
   "source": [
    "q5query = 'SELECT * FROM dramas ORDER BY year'\n",
    "q5df = pd.read_sql(q5query, conn)\n",
    "\n",
    "mean_time_per_year = q5df.groupby('year')['time'].mean()\n",
    "\n",
    "plt.figure(figsize=(10, 6))\n",
    "plt.plot(mean_time_per_year.index, mean_time_per_year.values, marker='o', color='b')\n",
    "plt.xlabel('Year')\n",
    "plt.ylabel('Mean Running Time (minutes)')\n",
    "plt.title('Mean Running Time of Dramas by Year')\n",
    "plt.grid(True)\n",
    "plt.show()"
   ]
  },
  {
   "cell_type": "markdown",
   "id": "873bfae0",
   "metadata": {
    "deletable": false,
    "editable": false,
    "id": "Ly-J6zyZ8CS8"
   },
   "source": [
    "<!-- END QUESTION -->\n",
    "\n",
    "## Exercise 6 \n",
    "\n",
    "\n",
    "The information above to make the plot (mean running time of the dramas for each year), you will now calculate using a query. \n",
    "\n",
    "Your query should return two attributes: `year` and `meanTime`.  \n",
    "\n",
    "Your solution should be of the form: \n",
    "```\n",
    "q6query = \"\"\"\n",
    "...\n",
    "\"\"\"\n",
    "q6df = pretty_print_sql(conn, q6query) \n",
    "```\n",
    "\n",
    "where you fill in the `...` of `q6query`."
   ]
  },
  {
   "cell_type": "code",
   "execution_count": 20,
   "id": "0216c9d1",
   "metadata": {
    "colab": {
     "base_uri": "https://localhost:8080/",
     "height": 494
    },
    "id": "xgPdW1mE79Fv",
    "outputId": "7d6b6339-b357-44b8-bf48-c9ce57cf5cab",
    "tags": []
   },
   "outputs": [
    {
     "name": "stdout",
     "output_type": "stream",
     "text": [
      "> \n",
      "SELECT year, AVG(time) AS meanTime\n",
      "FROM dramas\n",
      "GROUP BY year\n",
      "ORDER BY year\n",
      "\n"
     ]
    },
    {
     "data": {
      "text/html": [
       "<div>\n",
       "<style scoped>\n",
       "    .dataframe tbody tr th:only-of-type {\n",
       "        vertical-align: middle;\n",
       "    }\n",
       "\n",
       "    .dataframe tbody tr th {\n",
       "        vertical-align: top;\n",
       "    }\n",
       "\n",
       "    .dataframe thead th {\n",
       "        text-align: right;\n",
       "    }\n",
       "</style>\n",
       "<table border=\"1\" class=\"dataframe\">\n",
       "  <thead>\n",
       "    <tr style=\"text-align: right;\">\n",
       "      <th></th>\n",
       "      <th>year</th>\n",
       "      <th>meanTime</th>\n",
       "    </tr>\n",
       "  </thead>\n",
       "  <tbody>\n",
       "    <tr>\n",
       "      <th>0</th>\n",
       "      <td>1906</td>\n",
       "      <td>70.000000</td>\n",
       "    </tr>\n",
       "    <tr>\n",
       "      <th>1</th>\n",
       "      <td>1910</td>\n",
       "      <td>82.333333</td>\n",
       "    </tr>\n",
       "    <tr>\n",
       "      <th>2</th>\n",
       "      <td>1911</td>\n",
       "      <td>75.500000</td>\n",
       "    </tr>\n",
       "    <tr>\n",
       "      <th>3</th>\n",
       "      <td>1912</td>\n",
       "      <td>98.000000</td>\n",
       "    </tr>\n",
       "    <tr>\n",
       "      <th>4</th>\n",
       "      <td>1913</td>\n",
       "      <td>92.428571</td>\n",
       "    </tr>\n",
       "    <tr>\n",
       "      <th>...</th>\n",
       "      <td>...</td>\n",
       "      <td>...</td>\n",
       "    </tr>\n",
       "    <tr>\n",
       "      <th>105</th>\n",
       "      <td>2014</td>\n",
       "      <td>97.245250</td>\n",
       "    </tr>\n",
       "    <tr>\n",
       "      <th>106</th>\n",
       "      <td>2015</td>\n",
       "      <td>101.772231</td>\n",
       "    </tr>\n",
       "    <tr>\n",
       "      <th>107</th>\n",
       "      <td>2016</td>\n",
       "      <td>99.161021</td>\n",
       "    </tr>\n",
       "    <tr>\n",
       "      <th>108</th>\n",
       "      <td>2017</td>\n",
       "      <td>99.857568</td>\n",
       "    </tr>\n",
       "    <tr>\n",
       "      <th>109</th>\n",
       "      <td>2018</td>\n",
       "      <td>101.171577</td>\n",
       "    </tr>\n",
       "  </tbody>\n",
       "</table>\n",
       "<p>110 rows × 2 columns</p>\n",
       "</div>"
      ],
      "text/plain": [
       "     year    meanTime\n",
       "0    1906   70.000000\n",
       "1    1910   82.333333\n",
       "2    1911   75.500000\n",
       "3    1912   98.000000\n",
       "4    1913   92.428571\n",
       "..    ...         ...\n",
       "105  2014   97.245250\n",
       "106  2015  101.772231\n",
       "107  2016   99.161021\n",
       "108  2017   99.857568\n",
       "109  2018  101.171577\n",
       "\n",
       "[110 rows x 2 columns]"
      ]
     },
     "metadata": {},
     "output_type": "display_data"
    }
   ],
   "source": [
    "q6query = \"\"\"\n",
    "SELECT year, AVG(time) AS meanTime\n",
    "FROM dramas\n",
    "GROUP BY year\n",
    "ORDER BY year\n",
    "\"\"\"\n",
    "q6df = pretty_print_sql(conn, q6query)"
   ]
  },
  {
   "cell_type": "code",
   "execution_count": 21,
   "id": "b9df989d",
   "metadata": {
    "deletable": false,
    "editable": false
   },
   "outputs": [
    {
     "data": {
      "text/html": [
       "<p><strong><pre style='display: inline;'>q6</pre></strong> passed! 🙌</p>"
      ],
      "text/plain": [
       "q6 results: All test cases passed!"
      ]
     },
     "execution_count": 21,
     "metadata": {},
     "output_type": "execute_result"
    }
   ],
   "source": [
    "grader.check(\"q6\")"
   ]
  },
  {
   "cell_type": "markdown",
   "id": "967f6b4d",
   "metadata": {
    "id": "usWVs8g_8bJa"
   },
   "source": [
    "## Example 2 -  Examine `names` table\n",
    "\n",
    "Let's switch gears to consider the `names` table. "
   ]
  },
  {
   "cell_type": "code",
   "execution_count": 22,
   "id": "a6f13fc9",
   "metadata": {
    "colab": {
     "base_uri": "https://localhost:8080/",
     "height": 355
    },
    "id": "itwN6mhO8QIC",
    "outputId": "2e294dd2-a269-4b79-c378-90ab8fb91402",
    "tags": []
   },
   "outputs": [
    {
     "data": {
      "text/html": [
       "<div>\n",
       "<style scoped>\n",
       "    .dataframe tbody tr th:only-of-type {\n",
       "        vertical-align: middle;\n",
       "    }\n",
       "\n",
       "    .dataframe tbody tr th {\n",
       "        vertical-align: top;\n",
       "    }\n",
       "\n",
       "    .dataframe thead th {\n",
       "        text-align: right;\n",
       "    }\n",
       "</style>\n",
       "<table border=\"1\" class=\"dataframe\">\n",
       "  <thead>\n",
       "    <tr style=\"text-align: right;\">\n",
       "      <th></th>\n",
       "      <th>nconst</th>\n",
       "      <th>primaryName</th>\n",
       "      <th>birthYear</th>\n",
       "      <th>deathYear</th>\n",
       "      <th>primaryProfession</th>\n",
       "      <th>knownForTitles</th>\n",
       "    </tr>\n",
       "  </thead>\n",
       "  <tbody>\n",
       "    <tr>\n",
       "      <th>0</th>\n",
       "      <td>nm0000001</td>\n",
       "      <td>Fred Astaire</td>\n",
       "      <td>1899</td>\n",
       "      <td>1987</td>\n",
       "      <td>soundtrack,actor,miscellaneous</td>\n",
       "      <td>tt0053137,tt0031983,tt0050419,tt0072308</td>\n",
       "    </tr>\n",
       "    <tr>\n",
       "      <th>1</th>\n",
       "      <td>nm0000002</td>\n",
       "      <td>Lauren Bacall</td>\n",
       "      <td>1924</td>\n",
       "      <td>2014</td>\n",
       "      <td>actress,soundtrack</td>\n",
       "      <td>tt0038355,tt0071877,tt0117057,tt0037382</td>\n",
       "    </tr>\n",
       "    <tr>\n",
       "      <th>2</th>\n",
       "      <td>nm0000003</td>\n",
       "      <td>Brigitte Bardot</td>\n",
       "      <td>1934</td>\n",
       "      <td>\\N</td>\n",
       "      <td>actress,soundtrack,music_department</td>\n",
       "      <td>tt0059956,tt0054452,tt0057345,tt0049189</td>\n",
       "    </tr>\n",
       "    <tr>\n",
       "      <th>3</th>\n",
       "      <td>nm0000004</td>\n",
       "      <td>John Belushi</td>\n",
       "      <td>1949</td>\n",
       "      <td>1982</td>\n",
       "      <td>actor,soundtrack,writer</td>\n",
       "      <td>tt0078723,tt0072562,tt0080455,tt0077975</td>\n",
       "    </tr>\n",
       "    <tr>\n",
       "      <th>4</th>\n",
       "      <td>nm0000005</td>\n",
       "      <td>Ingmar Bergman</td>\n",
       "      <td>1918</td>\n",
       "      <td>2007</td>\n",
       "      <td>writer,director,actor</td>\n",
       "      <td>tt0083922,tt0060827,tt0050986,tt0050976</td>\n",
       "    </tr>\n",
       "    <tr>\n",
       "      <th>5</th>\n",
       "      <td>nm0000006</td>\n",
       "      <td>Ingrid Bergman</td>\n",
       "      <td>1915</td>\n",
       "      <td>1982</td>\n",
       "      <td>actress,soundtrack,producer</td>\n",
       "      <td>tt0038787,tt0036855,tt0034583,tt0038109</td>\n",
       "    </tr>\n",
       "    <tr>\n",
       "      <th>6</th>\n",
       "      <td>nm0000007</td>\n",
       "      <td>Humphrey Bogart</td>\n",
       "      <td>1899</td>\n",
       "      <td>1957</td>\n",
       "      <td>actor,soundtrack,producer</td>\n",
       "      <td>tt0034583,tt0040897,tt0043265,tt0037382</td>\n",
       "    </tr>\n",
       "    <tr>\n",
       "      <th>7</th>\n",
       "      <td>nm0000008</td>\n",
       "      <td>Marlon Brando</td>\n",
       "      <td>1924</td>\n",
       "      <td>2004</td>\n",
       "      <td>actor,soundtrack,director</td>\n",
       "      <td>tt0078788,tt0068646,tt0047296,tt0070849</td>\n",
       "    </tr>\n",
       "    <tr>\n",
       "      <th>8</th>\n",
       "      <td>nm0000009</td>\n",
       "      <td>Richard Burton</td>\n",
       "      <td>1925</td>\n",
       "      <td>1984</td>\n",
       "      <td>actor,soundtrack,producer</td>\n",
       "      <td>tt0057877,tt0059749,tt0061184,tt0087803</td>\n",
       "    </tr>\n",
       "    <tr>\n",
       "      <th>9</th>\n",
       "      <td>nm0000010</td>\n",
       "      <td>James Cagney</td>\n",
       "      <td>1899</td>\n",
       "      <td>1986</td>\n",
       "      <td>actor,soundtrack,director</td>\n",
       "      <td>tt0035575,tt0042041,tt0031867,tt0029870</td>\n",
       "    </tr>\n",
       "  </tbody>\n",
       "</table>\n",
       "</div>"
      ],
      "text/plain": [
       "      nconst      primaryName birthYear deathYear  \\\n",
       "0  nm0000001     Fred Astaire      1899      1987   \n",
       "1  nm0000002    Lauren Bacall      1924      2014   \n",
       "2  nm0000003  Brigitte Bardot      1934        \\N   \n",
       "3  nm0000004     John Belushi      1949      1982   \n",
       "4  nm0000005   Ingmar Bergman      1918      2007   \n",
       "5  nm0000006   Ingrid Bergman      1915      1982   \n",
       "6  nm0000007  Humphrey Bogart      1899      1957   \n",
       "7  nm0000008    Marlon Brando      1924      2004   \n",
       "8  nm0000009   Richard Burton      1925      1984   \n",
       "9  nm0000010     James Cagney      1899      1986   \n",
       "\n",
       "                     primaryProfession  \\\n",
       "0       soundtrack,actor,miscellaneous   \n",
       "1                   actress,soundtrack   \n",
       "2  actress,soundtrack,music_department   \n",
       "3              actor,soundtrack,writer   \n",
       "4                writer,director,actor   \n",
       "5          actress,soundtrack,producer   \n",
       "6            actor,soundtrack,producer   \n",
       "7            actor,soundtrack,director   \n",
       "8            actor,soundtrack,producer   \n",
       "9            actor,soundtrack,director   \n",
       "\n",
       "                            knownForTitles  \n",
       "0  tt0053137,tt0031983,tt0050419,tt0072308  \n",
       "1  tt0038355,tt0071877,tt0117057,tt0037382  \n",
       "2  tt0059956,tt0054452,tt0057345,tt0049189  \n",
       "3  tt0078723,tt0072562,tt0080455,tt0077975  \n",
       "4  tt0083922,tt0060827,tt0050986,tt0050976  \n",
       "5  tt0038787,tt0036855,tt0034583,tt0038109  \n",
       "6  tt0034583,tt0040897,tt0043265,tt0037382  \n",
       "7  tt0078788,tt0068646,tt0047296,tt0070849  \n",
       "8  tt0057877,tt0059749,tt0061184,tt0087803  \n",
       "9  tt0035575,tt0042041,tt0031867,tt0029870  "
      ]
     },
     "execution_count": 22,
     "metadata": {},
     "output_type": "execute_result"
    }
   ],
   "source": [
    "pd.read_sql('SELECT DISTINCT * FROM names LIMIT 10;', conn)"
   ]
  },
  {
   "cell_type": "markdown",
   "id": "7e0d8d6f",
   "metadata": {
    "id": "9ODPVZDt8klp"
   },
   "source": [
    "We can create a DataFrame of selected information and people (using a query `select_actors`).  Only consider actors and actresses, born after 1950, list only their first known movie id. "
   ]
  },
  {
   "cell_type": "code",
   "execution_count": 23,
   "id": "c4328e32",
   "metadata": {
    "colab": {
     "base_uri": "https://localhost:8080/",
     "height": 355
    },
    "id": "b447jgT28hRn",
    "outputId": "ba8e54c0-739a-41bf-fec3-fc012bbd0484",
    "tags": []
   },
   "outputs": [
    {
     "data": {
      "text/html": [
       "<div>\n",
       "<style scoped>\n",
       "    .dataframe tbody tr th:only-of-type {\n",
       "        vertical-align: middle;\n",
       "    }\n",
       "\n",
       "    .dataframe tbody tr th {\n",
       "        vertical-align: top;\n",
       "    }\n",
       "\n",
       "    .dataframe thead th {\n",
       "        text-align: right;\n",
       "    }\n",
       "</style>\n",
       "<table border=\"1\" class=\"dataframe\">\n",
       "  <thead>\n",
       "    <tr style=\"text-align: right;\">\n",
       "      <th></th>\n",
       "      <th>name</th>\n",
       "      <th>born</th>\n",
       "      <th>movie_id</th>\n",
       "      <th>profession</th>\n",
       "    </tr>\n",
       "  </thead>\n",
       "  <tbody>\n",
       "    <tr>\n",
       "      <th>0</th>\n",
       "      <td>Margaux Hemingway</td>\n",
       "      <td>1954</td>\n",
       "      <td>tt0102122</td>\n",
       "      <td>actress</td>\n",
       "    </tr>\n",
       "    <tr>\n",
       "      <th>1</th>\n",
       "      <td>Li Gong</td>\n",
       "      <td>1965</td>\n",
       "      <td>tt0397535</td>\n",
       "      <td>actress</td>\n",
       "    </tr>\n",
       "    <tr>\n",
       "      <th>2</th>\n",
       "      <td>Elena Koreneva</td>\n",
       "      <td>1953</td>\n",
       "      <td>tt7529350</td>\n",
       "      <td>actress</td>\n",
       "    </tr>\n",
       "    <tr>\n",
       "      <th>3</th>\n",
       "      <td>Brad Pitt</td>\n",
       "      <td>1963</td>\n",
       "      <td>tt0114746</td>\n",
       "      <td>actor</td>\n",
       "    </tr>\n",
       "    <tr>\n",
       "      <th>4</th>\n",
       "      <td>Gillian Anderson</td>\n",
       "      <td>1968</td>\n",
       "      <td>tt2294189</td>\n",
       "      <td>actress</td>\n",
       "    </tr>\n",
       "    <tr>\n",
       "      <th>5</th>\n",
       "      <td>Pamela Anderson</td>\n",
       "      <td>1967</td>\n",
       "      <td>tt0426592</td>\n",
       "      <td>actress</td>\n",
       "    </tr>\n",
       "    <tr>\n",
       "      <th>6</th>\n",
       "      <td>Jennifer Aniston</td>\n",
       "      <td>1969</td>\n",
       "      <td>tt0108778</td>\n",
       "      <td>actress</td>\n",
       "    </tr>\n",
       "    <tr>\n",
       "      <th>7</th>\n",
       "      <td>Patricia Arquette</td>\n",
       "      <td>1968</td>\n",
       "      <td>tt1065073</td>\n",
       "      <td>actress</td>\n",
       "    </tr>\n",
       "    <tr>\n",
       "      <th>8</th>\n",
       "      <td>Rowan Atkinson</td>\n",
       "      <td>1955</td>\n",
       "      <td>tt0110357</td>\n",
       "      <td>actor</td>\n",
       "    </tr>\n",
       "    <tr>\n",
       "      <th>9</th>\n",
       "      <td>Dan Aykroyd</td>\n",
       "      <td>1952</td>\n",
       "      <td>tt0080455</td>\n",
       "      <td>actor</td>\n",
       "    </tr>\n",
       "  </tbody>\n",
       "</table>\n",
       "</div>"
      ],
      "text/plain": [
       "                name  born   movie_id profession\n",
       "0  Margaux Hemingway  1954  tt0102122    actress\n",
       "1            Li Gong  1965  tt0397535    actress\n",
       "2     Elena Koreneva  1953  tt7529350    actress\n",
       "3          Brad Pitt  1963  tt0114746      actor\n",
       "4   Gillian Anderson  1968  tt2294189    actress\n",
       "5    Pamela Anderson  1967  tt0426592    actress\n",
       "6   Jennifer Aniston  1969  tt0108778    actress\n",
       "7  Patricia Arquette  1968  tt1065073    actress\n",
       "8     Rowan Atkinson  1955  tt0110357      actor\n",
       "9        Dan Aykroyd  1952  tt0080455      actor"
      ]
     },
     "execution_count": 23,
     "metadata": {},
     "output_type": "execute_result"
    }
   ],
   "source": [
    "name = 'primaryName'\n",
    "known = 'knownForTitles'\n",
    "profession = 'primaryProfession'\n",
    "born = 'birthYear'\n",
    "\n",
    "select_actors = f'''\n",
    "    SELECT DISTINCT {name} AS name, \n",
    "           CAST({born} AS int) AS born,\n",
    "           SUBSTR({known}, 0, INSTR({known}, ',')) AS movie_id,\n",
    "           CASE WHEN {profession} LIKE '%actor%' THEN 'actor' \n",
    "                WHEN {profession} LIKE '%actress%' THEN 'actress'   \n",
    "                END AS profession\n",
    "    FROM names\n",
    "    WHERE {profession} LIKE '%act%' AND\n",
    "          born > 1950\n",
    "    '''\n",
    "pd.read_sql(f'{select_actors} LIMIT 10', conn)"
   ]
  },
  {
   "cell_type": "markdown",
   "id": "4e87680e",
   "metadata": {
    "deletable": false,
    "editable": false,
    "id": "Q7I_0DRR9B41"
   },
   "source": [
    "<!-- BEGIN QUESTION -->\n",
    "\n",
    "## Exercise 7A\n",
    "\n",
    "Create a new table `dramatics` that joins the `select_actors` (from query above) with the `dramas` table by `movie_id` and returns the actor's `name`, `profession`, year `born` as well as their movie they are known for `title` and `year` it was released. \n",
    "\n",
    "\n",
    "Consider the `select_actors` query as a subquery.  Take a look at the information here on subqueries and the examples: \n",
    "https://www.sqlitetutorial.net/sqlite-subquery/  \n",
    "https://www.w3resource.com/sqlite/sqlite-subqueries.php\n",
    "\n"
   ]
  },
  {
   "cell_type": "code",
   "execution_count": 24,
   "id": "306c88fa",
   "metadata": {
    "colab": {
     "base_uri": "https://localhost:8080/",
     "height": 355
    },
    "id": "McFwySjP86D6",
    "outputId": "2a0788cb-625f-46e2-ab1d-7d9127def090",
    "tags": []
   },
   "outputs": [
    {
     "data": {
      "text/plain": [
       "<sqlite3.Cursor at 0x7f8bf67b45c0>"
      ]
     },
     "execution_count": 24,
     "metadata": {},
     "output_type": "execute_result"
    }
   ],
   "source": [
    "select = f'''\n",
    "    CREATE TABLE IF NOT EXISTS dramatics AS\n",
    "    SELECT sa.name, \n",
    "           sa.profession, \n",
    "           sa.born, \n",
    "           d.title, \n",
    "           d.year\n",
    "    FROM ({select_actors}) AS sa\n",
    "    JOIN dramas d\n",
    "    ON sa.movie_id = d.id;\n",
    "'''\n",
    "\n",
    "conn.executescript(select)"
   ]
  },
  {
   "cell_type": "markdown",
   "id": "75a916de-d4bc-4298-bea5-dd5f31270505",
   "metadata": {
    "deletable": false,
    "editable": false
   },
   "source": [
    "<!-- END QUESTION -->\n",
    "\n",
    "## Exercise 7B \n",
    "\n",
    "Now query the new table `dramatics` created above and return 10 rows (all attributes) sorted by ascending year born and then year of movie ."
   ]
  },
  {
   "cell_type": "code",
   "execution_count": 25,
   "id": "cc80cb05-c05d-4578-a923-e32f2f7ab61e",
   "metadata": {
    "tags": []
   },
   "outputs": [
    {
     "name": "stdout",
     "output_type": "stream",
     "text": [
      "> \n",
      "SELECT *\n",
      "FROM dramatics\n",
      "ORDER BY born ASC, year ASC\n",
      "LIMIT 10;\n",
      "\n"
     ]
    },
    {
     "data": {
      "text/html": [
       "<div>\n",
       "<style scoped>\n",
       "    .dataframe tbody tr th:only-of-type {\n",
       "        vertical-align: middle;\n",
       "    }\n",
       "\n",
       "    .dataframe tbody tr th {\n",
       "        vertical-align: top;\n",
       "    }\n",
       "\n",
       "    .dataframe thead th {\n",
       "        text-align: right;\n",
       "    }\n",
       "</style>\n",
       "<table border=\"1\" class=\"dataframe\">\n",
       "  <thead>\n",
       "    <tr style=\"text-align: right;\">\n",
       "      <th></th>\n",
       "      <th>name</th>\n",
       "      <th>profession</th>\n",
       "      <th>born</th>\n",
       "      <th>title</th>\n",
       "      <th>year</th>\n",
       "    </tr>\n",
       "  </thead>\n",
       "  <tbody>\n",
       "    <tr>\n",
       "      <th>0</th>\n",
       "      <td>Susie Mathers</td>\n",
       "      <td>actress</td>\n",
       "      <td>1951</td>\n",
       "      <td>This Is My Love</td>\n",
       "      <td>1954</td>\n",
       "    </tr>\n",
       "    <tr>\n",
       "      <th>1</th>\n",
       "      <td>Dominique Vincent</td>\n",
       "      <td>actress</td>\n",
       "      <td>1951</td>\n",
       "      <td>Il prigioniero del re</td>\n",
       "      <td>1954</td>\n",
       "    </tr>\n",
       "    <tr>\n",
       "      <th>2</th>\n",
       "      <td>Columba Powell</td>\n",
       "      <td>actor</td>\n",
       "      <td>1951</td>\n",
       "      <td>Pursuit of the Graf Spee</td>\n",
       "      <td>1956</td>\n",
       "    </tr>\n",
       "    <tr>\n",
       "      <th>3</th>\n",
       "      <td>Tito Romalio</td>\n",
       "      <td>actor</td>\n",
       "      <td>1951</td>\n",
       "      <td>Priklyucheniya Artyomki</td>\n",
       "      <td>1956</td>\n",
       "    </tr>\n",
       "    <tr>\n",
       "      <th>4</th>\n",
       "      <td>Bad Latiff</td>\n",
       "      <td>actor</td>\n",
       "      <td>1951</td>\n",
       "      <td>Batu Belah Batu Bertangkup</td>\n",
       "      <td>1959</td>\n",
       "    </tr>\n",
       "    <tr>\n",
       "      <th>5</th>\n",
       "      <td>Michal Koblic</td>\n",
       "      <td>actor</td>\n",
       "      <td>1951</td>\n",
       "      <td>Lidé jako ty</td>\n",
       "      <td>1960</td>\n",
       "    </tr>\n",
       "    <tr>\n",
       "      <th>6</th>\n",
       "      <td>Peter Pike</td>\n",
       "      <td>actor</td>\n",
       "      <td>1951</td>\n",
       "      <td>It Takes a Thief</td>\n",
       "      <td>1960</td>\n",
       "    </tr>\n",
       "    <tr>\n",
       "      <th>7</th>\n",
       "      <td>Donald Losby</td>\n",
       "      <td>actor</td>\n",
       "      <td>1951</td>\n",
       "      <td>Tower of London</td>\n",
       "      <td>1962</td>\n",
       "    </tr>\n",
       "    <tr>\n",
       "      <th>8</th>\n",
       "      <td>Alan Howard</td>\n",
       "      <td>actor</td>\n",
       "      <td>1951</td>\n",
       "      <td>Ladybug Ladybug</td>\n",
       "      <td>1963</td>\n",
       "    </tr>\n",
       "    <tr>\n",
       "      <th>9</th>\n",
       "      <td>Ion Bocancea</td>\n",
       "      <td>actor</td>\n",
       "      <td>1951</td>\n",
       "      <td>Camera alba</td>\n",
       "      <td>1965</td>\n",
       "    </tr>\n",
       "  </tbody>\n",
       "</table>\n",
       "</div>"
      ],
      "text/plain": [
       "                name profession  born                       title  year\n",
       "0      Susie Mathers    actress  1951             This Is My Love  1954\n",
       "1  Dominique Vincent    actress  1951       Il prigioniero del re  1954\n",
       "2     Columba Powell      actor  1951    Pursuit of the Graf Spee  1956\n",
       "3       Tito Romalio      actor  1951     Priklyucheniya Artyomki  1956\n",
       "4         Bad Latiff      actor  1951  Batu Belah Batu Bertangkup  1959\n",
       "5      Michal Koblic      actor  1951                Lidé jako ty  1960\n",
       "6         Peter Pike      actor  1951            It Takes a Thief  1960\n",
       "7       Donald Losby      actor  1951             Tower of London  1962\n",
       "8        Alan Howard      actor  1951             Ladybug Ladybug  1963\n",
       "9       Ion Bocancea      actor  1951                 Camera alba  1965"
      ]
     },
     "metadata": {},
     "output_type": "display_data"
    }
   ],
   "source": [
    "q7bquery = \"\"\"\n",
    "SELECT *\n",
    "FROM dramatics\n",
    "ORDER BY born ASC, year ASC\n",
    "LIMIT 10;\n",
    "\"\"\"\n",
    "q7bdf = pretty_print_sql(conn, q7bquery)"
   ]
  },
  {
   "cell_type": "code",
   "execution_count": 26,
   "id": "bf337d2b",
   "metadata": {
    "deletable": false,
    "editable": false
   },
   "outputs": [
    {
     "data": {
      "text/html": [
       "<p><strong><pre style='display: inline;'>q7b</pre></strong> passed! 🌈</p>"
      ],
      "text/plain": [
       "q7b results: All test cases passed!"
      ]
     },
     "execution_count": 26,
     "metadata": {},
     "output_type": "execute_result"
    }
   ],
   "source": [
    "grader.check(\"q7b\")"
   ]
  },
  {
   "cell_type": "markdown",
   "id": "8efee600",
   "metadata": {
    "id": "vPyyyiJYTZP2"
   },
   "source": [
    "## Example 3 - Add new tables \n",
    "\n",
    "Note, both the `titles` and `names` tables have fields that contains array of items, e.g., `names`- `knownForTitles`, `names` - `primaryProfession`, `titles` - `genres`, etc. \n",
    "\n",
    "We saw in Example 1 and Exercise 5 we can still extract rows that match a certain genre, e.g., \"%Drama%\".  Or, in Example 2, we can select the first title that an person is known for.  \n",
    "\n",
    "However, classic relational database design should not contain lists of items in a field.  Therefore, we will expand out these fields to new tables. \n",
    "\n",
    "First, we will add a new table `name_to_title` that matches each name id `nconst` with the title id `tconst`.\n",
    "\n",
    "\n",
    "\n"
   ]
  },
  {
   "cell_type": "code",
   "execution_count": 27,
   "id": "7b833489",
   "metadata": {
    "colab": {
     "base_uri": "https://localhost:8080/"
    },
    "id": "R2jjlYblY50-",
    "outputId": "93458306-7df2-4205-f52a-ac490fca83cb",
    "tags": []
   },
   "outputs": [],
   "source": [
    "cursor = conn.cursor()\n",
    "cursor.execute(\"\"\"Select * from names\"\"\")\n",
    "all_data = cursor.fetchall()"
   ]
  },
  {
   "cell_type": "code",
   "execution_count": 28,
   "id": "cf8ebf36",
   "metadata": {
    "tags": []
   },
   "outputs": [
    {
     "data": {
      "text/plain": [
       "<sqlite3.Cursor at 0x7f89c330f1c0>"
      ]
     },
     "execution_count": 28,
     "metadata": {},
     "output_type": "execute_result"
    }
   ],
   "source": [
    "cursor.execute(\"\"\"CREATE TABLE IF NOT EXISTS name_to_title\n",
    "                    (nconst TEXT,\n",
    "                    tconst TEXT)\"\"\")"
   ]
  },
  {
   "cell_type": "code",
   "execution_count": 29,
   "id": "cd176ac8",
   "metadata": {
    "id": "i95RV55CkYcA",
    "tags": []
   },
   "outputs": [],
   "source": [
    "for single_data in all_data:\n",
    "    person  = single_data[5].split(\",\")\n",
    "    for single_data2 in person:\n",
    "        cursor.execute(\"INSERT INTO name_to_title VALUES(:nconst,:tconst)\", \n",
    "                       { \"nconst\": single_data[0], \"tconst\": single_data2 })\n",
    "conn.commit()"
   ]
  },
  {
   "cell_type": "code",
   "execution_count": 30,
   "id": "9b761ba9",
   "metadata": {
    "colab": {
     "base_uri": "https://localhost:8080/"
    },
    "id": "oHDT4hOAYq-5",
    "outputId": "17c57b8d-589e-4dd5-8cdb-6039aba2ef65",
    "tags": []
   },
   "outputs": [
    {
     "name": "stdout",
     "output_type": "stream",
     "text": [
      "> SELECT * FROM name_to_title LIMIT 10;\n",
      "('nm0000001', 'tt0053137')\n",
      "('nm0000001', 'tt0031983')\n",
      "('nm0000001', 'tt0050419')\n",
      "('nm0000001', 'tt0072308')\n",
      "('nm0000002', 'tt0038355')\n",
      "('nm0000002', 'tt0071877')\n",
      "('nm0000002', 'tt0117057')\n",
      "('nm0000002', 'tt0037382')\n",
      "('nm0000003', 'tt0059956')\n",
      "('nm0000003', 'tt0054452')\n",
      "\n"
     ]
    }
   ],
   "source": [
    "print_sql(conn, 'SELECT * FROM name_to_title LIMIT 10;')"
   ]
  },
  {
   "cell_type": "markdown",
   "id": "7a98f015",
   "metadata": {
    "id": "Ztn3Z37JAnrc"
   },
   "source": [
    "We can also separate out the list of professions to a separate table `name_to_profession`. "
   ]
  },
  {
   "cell_type": "code",
   "execution_count": 31,
   "id": "0dade163",
   "metadata": {
    "colab": {
     "base_uri": "https://localhost:8080/"
    },
    "id": "iNEDzHrw6Udw",
    "outputId": "3382819e-04e5-43e7-9c6b-639b1a273a07",
    "tags": []
   },
   "outputs": [],
   "source": [
    "cursor = conn.cursor()\n",
    "cursor.execute(\"\"\"Select * from names\"\"\")\n",
    "all_data = cursor.fetchall()"
   ]
  },
  {
   "cell_type": "code",
   "execution_count": 32,
   "id": "27635c85",
   "metadata": {
    "tags": []
   },
   "outputs": [
    {
     "data": {
      "text/plain": [
       "<sqlite3.Cursor at 0x7f888b8e8bc0>"
      ]
     },
     "execution_count": 32,
     "metadata": {},
     "output_type": "execute_result"
    }
   ],
   "source": [
    "cursor.execute(\"\"\"CREATE TABLE IF NOT EXISTS name_to_profession\n",
    "                    (nconst TEXT,\n",
    "                    profession TEXT)\"\"\")"
   ]
  },
  {
   "cell_type": "code",
   "execution_count": 33,
   "id": "20045bc3",
   "metadata": {
    "id": "B_dgOzRh69Eh",
    "tags": []
   },
   "outputs": [],
   "source": [
    "for single_data in all_data:\n",
    "    person  = single_data[4].split(\",\")\n",
    "    for single_data2 in person:\n",
    "        cursor.execute(\"INSERT INTO name_to_profession VALUES(:nconst,:prof)\", \n",
    "                       { \"nconst\": single_data[0], \"prof\": single_data2 })\n",
    "conn.commit()"
   ]
  },
  {
   "cell_type": "code",
   "execution_count": 34,
   "id": "d4d3cd74",
   "metadata": {
    "colab": {
     "base_uri": "https://localhost:8080/"
    },
    "id": "xmiHQ8699b-u",
    "outputId": "b44353da-173d-4c77-e736-636d9a8bf934",
    "tags": []
   },
   "outputs": [
    {
     "name": "stdout",
     "output_type": "stream",
     "text": [
      "> SELECT * FROM name_to_profession LIMIT 10;\n",
      "('nm0000001', 'soundtrack')\n",
      "('nm0000001', 'actor')\n",
      "('nm0000001', 'miscellaneous')\n",
      "('nm0000002', 'actress')\n",
      "('nm0000002', 'soundtrack')\n",
      "('nm0000003', 'actress')\n",
      "('nm0000003', 'soundtrack')\n",
      "('nm0000003', 'music_department')\n",
      "('nm0000004', 'actor')\n",
      "('nm0000004', 'soundtrack')\n",
      "\n"
     ]
    }
   ],
   "source": [
    "print_sql(conn, 'SELECT * FROM name_to_profession LIMIT 10;')"
   ]
  },
  {
   "cell_type": "code",
   "execution_count": 35,
   "id": "6fbc0e9c",
   "metadata": {
    "id": "2SCJrGy59nGD",
    "tags": []
   },
   "outputs": [],
   "source": [
    "# Clean up variables (reduce memory usage)\n",
    "del all_data"
   ]
  },
  {
   "cell_type": "markdown",
   "id": "78fec7c1",
   "metadata": {
    "id": "DNqaJ9E--UM8"
   },
   "source": [
    "## Example 4 -  Age of Actors in Films \n",
    "\n",
    "We are now interested in looking at the age of actors (both actors and actresses) in movies. \n",
    "\n",
    "We can start to look at this by first examining the actors and actresses. \n",
    "\n"
   ]
  },
  {
   "cell_type": "code",
   "execution_count": 36,
   "id": "38042046",
   "metadata": {
    "colab": {
     "base_uri": "https://localhost:8080/",
     "height": 551
    },
    "id": "pkWAljmnBLjX",
    "outputId": "21045bef-aeb7-42c7-c5a0-d136829fc30d",
    "tags": []
   },
   "outputs": [
    {
     "name": "stdout",
     "output_type": "stream",
     "text": [
      "> \n",
      "SELECT n.nconst, \n",
      "    n.primaryName AS name, \n",
      "    n.birthYear AS born,\n",
      "    ntp.profession\n",
      "FROM names n, name_to_profession ntp\n",
      "WHERE \n",
      "    n.nconst = ntp.nconst AND\n",
      "    (ntp.profession = 'actor' OR ntp.profession = 'actress') \n",
      "LIMIT 10;\n",
      "\n"
     ]
    },
    {
     "data": {
      "text/html": [
       "<div>\n",
       "<style scoped>\n",
       "    .dataframe tbody tr th:only-of-type {\n",
       "        vertical-align: middle;\n",
       "    }\n",
       "\n",
       "    .dataframe tbody tr th {\n",
       "        vertical-align: top;\n",
       "    }\n",
       "\n",
       "    .dataframe thead th {\n",
       "        text-align: right;\n",
       "    }\n",
       "</style>\n",
       "<table border=\"1\" class=\"dataframe\">\n",
       "  <thead>\n",
       "    <tr style=\"text-align: right;\">\n",
       "      <th></th>\n",
       "      <th>nconst</th>\n",
       "      <th>name</th>\n",
       "      <th>born</th>\n",
       "      <th>profession</th>\n",
       "    </tr>\n",
       "  </thead>\n",
       "  <tbody>\n",
       "    <tr>\n",
       "      <th>0</th>\n",
       "      <td>nm0000001</td>\n",
       "      <td>Fred Astaire</td>\n",
       "      <td>1899</td>\n",
       "      <td>actor</td>\n",
       "    </tr>\n",
       "    <tr>\n",
       "      <th>1</th>\n",
       "      <td>nm0000002</td>\n",
       "      <td>Lauren Bacall</td>\n",
       "      <td>1924</td>\n",
       "      <td>actress</td>\n",
       "    </tr>\n",
       "    <tr>\n",
       "      <th>2</th>\n",
       "      <td>nm0000003</td>\n",
       "      <td>Brigitte Bardot</td>\n",
       "      <td>1934</td>\n",
       "      <td>actress</td>\n",
       "    </tr>\n",
       "    <tr>\n",
       "      <th>3</th>\n",
       "      <td>nm0000004</td>\n",
       "      <td>John Belushi</td>\n",
       "      <td>1949</td>\n",
       "      <td>actor</td>\n",
       "    </tr>\n",
       "    <tr>\n",
       "      <th>4</th>\n",
       "      <td>nm0000005</td>\n",
       "      <td>Ingmar Bergman</td>\n",
       "      <td>1918</td>\n",
       "      <td>actor</td>\n",
       "    </tr>\n",
       "    <tr>\n",
       "      <th>5</th>\n",
       "      <td>nm0000006</td>\n",
       "      <td>Ingrid Bergman</td>\n",
       "      <td>1915</td>\n",
       "      <td>actress</td>\n",
       "    </tr>\n",
       "    <tr>\n",
       "      <th>6</th>\n",
       "      <td>nm0000007</td>\n",
       "      <td>Humphrey Bogart</td>\n",
       "      <td>1899</td>\n",
       "      <td>actor</td>\n",
       "    </tr>\n",
       "    <tr>\n",
       "      <th>7</th>\n",
       "      <td>nm0000008</td>\n",
       "      <td>Marlon Brando</td>\n",
       "      <td>1924</td>\n",
       "      <td>actor</td>\n",
       "    </tr>\n",
       "    <tr>\n",
       "      <th>8</th>\n",
       "      <td>nm0000009</td>\n",
       "      <td>Richard Burton</td>\n",
       "      <td>1925</td>\n",
       "      <td>actor</td>\n",
       "    </tr>\n",
       "    <tr>\n",
       "      <th>9</th>\n",
       "      <td>nm0000010</td>\n",
       "      <td>James Cagney</td>\n",
       "      <td>1899</td>\n",
       "      <td>actor</td>\n",
       "    </tr>\n",
       "  </tbody>\n",
       "</table>\n",
       "</div>"
      ],
      "text/plain": [
       "      nconst             name  born profession\n",
       "0  nm0000001     Fred Astaire  1899      actor\n",
       "1  nm0000002    Lauren Bacall  1924    actress\n",
       "2  nm0000003  Brigitte Bardot  1934    actress\n",
       "3  nm0000004     John Belushi  1949      actor\n",
       "4  nm0000005   Ingmar Bergman  1918      actor\n",
       "5  nm0000006   Ingrid Bergman  1915    actress\n",
       "6  nm0000007  Humphrey Bogart  1899      actor\n",
       "7  nm0000008    Marlon Brando  1924      actor\n",
       "8  nm0000009   Richard Burton  1925      actor\n",
       "9  nm0000010     James Cagney  1899      actor"
      ]
     },
     "metadata": {},
     "output_type": "display_data"
    }
   ],
   "source": [
    "ex4 = pretty_print_sql(conn, \"\"\"\n",
    "SELECT n.nconst, \n",
    "    n.primaryName AS name, \n",
    "    n.birthYear AS born,\n",
    "    ntp.profession\n",
    "FROM names n, name_to_profession ntp\n",
    "WHERE \n",
    "    n.nconst = ntp.nconst AND\n",
    "    (ntp.profession = 'actor' OR ntp.profession = 'actress') \n",
    "LIMIT 10;\n",
    "\"\"\")"
   ]
  },
  {
   "cell_type": "markdown",
   "id": "cff376f7",
   "metadata": {
    "id": "3XvAiPH3BohB"
   },
   "source": [
    "Next we want to examine the age of actors in different movies.  This means we need to combine the `actor` information with the date of the films.  \n",
    "\n",
    "We can use a [Common Table Expression](https://www.essentialsql.com/introduction-common-table-expressions-ctes/). "
   ]
  },
  {
   "cell_type": "code",
   "execution_count": 37,
   "id": "5e53df2a",
   "metadata": {
    "colab": {
     "base_uri": "https://localhost:8080/",
     "height": 817
    },
    "id": "tZAy8zKrwV4t",
    "outputId": "d1d2da07-2f68-4433-dfe6-7b2a85bc13b7",
    "tags": []
   },
   "outputs": [
    {
     "name": "stdout",
     "output_type": "stream",
     "text": [
      "> \n",
      "WITH actors AS (\n",
      "    SELECT n.nconst, \n",
      "        n.primaryName AS name, \n",
      "        n.birthYear AS born,\n",
      "        ntp.profession\n",
      "    FROM names n, name_to_profession ntp\n",
      "    WHERE \n",
      "        n.nconst = ntp.nconst AND\n",
      "        (ntp.profession = 'actor' OR ntp.profession = 'actress') \n",
      "    )\n",
      "SELECT \n",
      "    a.nconst,\n",
      "    a.name,\n",
      "    t.startYear - a.born AS age,\n",
      "    t.startYear,\n",
      "    t.primaryTitle,\n",
      "    a.profession\n",
      "FROM \n",
      "    actors a, \n",
      "    name_to_title nt, \n",
      "    titles t\n",
      "WHERE \n",
      "    a.nconst = nt.nconst AND nt.tconst = t.tconst \n",
      "LIMIT 10;\n",
      "\n"
     ]
    },
    {
     "data": {
      "text/html": [
       "<div>\n",
       "<style scoped>\n",
       "    .dataframe tbody tr th:only-of-type {\n",
       "        vertical-align: middle;\n",
       "    }\n",
       "\n",
       "    .dataframe tbody tr th {\n",
       "        vertical-align: top;\n",
       "    }\n",
       "\n",
       "    .dataframe thead th {\n",
       "        text-align: right;\n",
       "    }\n",
       "</style>\n",
       "<table border=\"1\" class=\"dataframe\">\n",
       "  <thead>\n",
       "    <tr style=\"text-align: right;\">\n",
       "      <th></th>\n",
       "      <th>nconst</th>\n",
       "      <th>name</th>\n",
       "      <th>age</th>\n",
       "      <th>startYear</th>\n",
       "      <th>primaryTitle</th>\n",
       "      <th>profession</th>\n",
       "    </tr>\n",
       "  </thead>\n",
       "  <tbody>\n",
       "    <tr>\n",
       "      <th>0</th>\n",
       "      <td>nm0000001</td>\n",
       "      <td>Fred Astaire</td>\n",
       "      <td>40</td>\n",
       "      <td>1939</td>\n",
       "      <td>The Story of Vernon and Irene Castle</td>\n",
       "      <td>actor</td>\n",
       "    </tr>\n",
       "    <tr>\n",
       "      <th>1</th>\n",
       "      <td>nm0000001</td>\n",
       "      <td>Fred Astaire</td>\n",
       "      <td>40</td>\n",
       "      <td>1939</td>\n",
       "      <td>The Story of Vernon and Irene Castle</td>\n",
       "      <td>actor</td>\n",
       "    </tr>\n",
       "    <tr>\n",
       "      <th>2</th>\n",
       "      <td>nm0000001</td>\n",
       "      <td>Fred Astaire</td>\n",
       "      <td>58</td>\n",
       "      <td>1957</td>\n",
       "      <td>Funny Face</td>\n",
       "      <td>actor</td>\n",
       "    </tr>\n",
       "    <tr>\n",
       "      <th>3</th>\n",
       "      <td>nm0000001</td>\n",
       "      <td>Fred Astaire</td>\n",
       "      <td>58</td>\n",
       "      <td>1957</td>\n",
       "      <td>Funny Face</td>\n",
       "      <td>actor</td>\n",
       "    </tr>\n",
       "    <tr>\n",
       "      <th>4</th>\n",
       "      <td>nm0000001</td>\n",
       "      <td>Fred Astaire</td>\n",
       "      <td>60</td>\n",
       "      <td>1959</td>\n",
       "      <td>On the Beach</td>\n",
       "      <td>actor</td>\n",
       "    </tr>\n",
       "    <tr>\n",
       "      <th>5</th>\n",
       "      <td>nm0000001</td>\n",
       "      <td>Fred Astaire</td>\n",
       "      <td>60</td>\n",
       "      <td>1959</td>\n",
       "      <td>On the Beach</td>\n",
       "      <td>actor</td>\n",
       "    </tr>\n",
       "    <tr>\n",
       "      <th>6</th>\n",
       "      <td>nm0000001</td>\n",
       "      <td>Fred Astaire</td>\n",
       "      <td>75</td>\n",
       "      <td>1974</td>\n",
       "      <td>The Towering Inferno</td>\n",
       "      <td>actor</td>\n",
       "    </tr>\n",
       "    <tr>\n",
       "      <th>7</th>\n",
       "      <td>nm0000001</td>\n",
       "      <td>Fred Astaire</td>\n",
       "      <td>75</td>\n",
       "      <td>1974</td>\n",
       "      <td>The Towering Inferno</td>\n",
       "      <td>actor</td>\n",
       "    </tr>\n",
       "    <tr>\n",
       "      <th>8</th>\n",
       "      <td>nm0000002</td>\n",
       "      <td>Lauren Bacall</td>\n",
       "      <td>20</td>\n",
       "      <td>1944</td>\n",
       "      <td>To Have and Have Not</td>\n",
       "      <td>actress</td>\n",
       "    </tr>\n",
       "    <tr>\n",
       "      <th>9</th>\n",
       "      <td>nm0000002</td>\n",
       "      <td>Lauren Bacall</td>\n",
       "      <td>20</td>\n",
       "      <td>1944</td>\n",
       "      <td>To Have and Have Not</td>\n",
       "      <td>actress</td>\n",
       "    </tr>\n",
       "  </tbody>\n",
       "</table>\n",
       "</div>"
      ],
      "text/plain": [
       "      nconst           name  age startYear  \\\n",
       "0  nm0000001   Fred Astaire   40      1939   \n",
       "1  nm0000001   Fred Astaire   40      1939   \n",
       "2  nm0000001   Fred Astaire   58      1957   \n",
       "3  nm0000001   Fred Astaire   58      1957   \n",
       "4  nm0000001   Fred Astaire   60      1959   \n",
       "5  nm0000001   Fred Astaire   60      1959   \n",
       "6  nm0000001   Fred Astaire   75      1974   \n",
       "7  nm0000001   Fred Astaire   75      1974   \n",
       "8  nm0000002  Lauren Bacall   20      1944   \n",
       "9  nm0000002  Lauren Bacall   20      1944   \n",
       "\n",
       "                           primaryTitle profession  \n",
       "0  The Story of Vernon and Irene Castle      actor  \n",
       "1  The Story of Vernon and Irene Castle      actor  \n",
       "2                            Funny Face      actor  \n",
       "3                            Funny Face      actor  \n",
       "4                          On the Beach      actor  \n",
       "5                          On the Beach      actor  \n",
       "6                  The Towering Inferno      actor  \n",
       "7                  The Towering Inferno      actor  \n",
       "8                  To Have and Have Not    actress  \n",
       "9                  To Have and Have Not    actress  "
      ]
     },
     "metadata": {},
     "output_type": "display_data"
    }
   ],
   "source": [
    "ex4b = pretty_print_sql(conn, \"\"\"\n",
    "WITH actors AS (\n",
    "    SELECT n.nconst, \n",
    "        n.primaryName AS name, \n",
    "        n.birthYear AS born,\n",
    "        ntp.profession\n",
    "    FROM names n, name_to_profession ntp\n",
    "    WHERE \n",
    "        n.nconst = ntp.nconst AND\n",
    "        (ntp.profession = 'actor' OR ntp.profession = 'actress') \n",
    "    )\n",
    "SELECT \n",
    "    a.nconst,\n",
    "    a.name,\n",
    "    t.startYear - a.born AS age,\n",
    "    t.startYear,\n",
    "    t.primaryTitle,\n",
    "    a.profession\n",
    "FROM \n",
    "    actors a, \n",
    "    name_to_title nt, \n",
    "    titles t\n",
    "WHERE \n",
    "    a.nconst = nt.nconst AND nt.tconst = t.tconst \n",
    "LIMIT 10;\n",
    "\"\"\")"
   ]
  },
  {
   "cell_type": "markdown",
   "id": "fe5e0910",
   "metadata": {
    "id": "tvJ2OxNTDGkQ"
   },
   "source": [
    "We can use \"format strings\" to plug into the queries. "
   ]
  },
  {
   "cell_type": "code",
   "execution_count": 38,
   "id": "441af384",
   "metadata": {
    "id": "c1WV6neqDR9T",
    "tags": []
   },
   "outputs": [],
   "source": [
    "actors_query = \"\"\"\n",
    "SELECT n.nconst, \n",
    "    n.primaryName AS name, \n",
    "    n.birthYear AS born,\n",
    "    ntp.profession\n",
    "FROM names n, name_to_profession ntp\n",
    "WHERE \n",
    "    n.nconst = ntp.nconst AND\n",
    "    (ntp.profession = 'actor' OR ntp.profession = 'actress') \n",
    "\"\"\""
   ]
  },
  {
   "cell_type": "code",
   "execution_count": 39,
   "id": "bda8e4f4",
   "metadata": {
    "colab": {
     "base_uri": "https://localhost:8080/",
     "height": 817
    },
    "id": "MJaq8okODcuy",
    "outputId": "d4ff8a24-82ef-46d5-b8ba-b05365e5b0c9",
    "tags": []
   },
   "outputs": [
    {
     "name": "stdout",
     "output_type": "stream",
     "text": [
      "> \n",
      "WITH actors AS (\n",
      "SELECT n.nconst, \n",
      "    n.primaryName AS name, \n",
      "    n.birthYear AS born,\n",
      "    ntp.profession\n",
      "FROM names n, name_to_profession ntp\n",
      "WHERE \n",
      "    n.nconst = ntp.nconst AND\n",
      "    (ntp.profession = 'actor' OR ntp.profession = 'actress') \n",
      ")\n",
      "SELECT \n",
      "    a.nconst,\n",
      "    a.name,\n",
      "    t.startYear - a.born AS age,\n",
      "    t.startYear,\n",
      "    t.primaryTitle,\n",
      "    a.profession\n",
      "FROM \n",
      "    actors a, \n",
      "    name_to_title nt, \n",
      "    titles t\n",
      "WHERE \n",
      "    a.nconst = nt.nconst AND nt.tconst = t.tconst \n",
      "LIMIT 10;\n",
      "\n"
     ]
    },
    {
     "data": {
      "text/html": [
       "<div>\n",
       "<style scoped>\n",
       "    .dataframe tbody tr th:only-of-type {\n",
       "        vertical-align: middle;\n",
       "    }\n",
       "\n",
       "    .dataframe tbody tr th {\n",
       "        vertical-align: top;\n",
       "    }\n",
       "\n",
       "    .dataframe thead th {\n",
       "        text-align: right;\n",
       "    }\n",
       "</style>\n",
       "<table border=\"1\" class=\"dataframe\">\n",
       "  <thead>\n",
       "    <tr style=\"text-align: right;\">\n",
       "      <th></th>\n",
       "      <th>nconst</th>\n",
       "      <th>name</th>\n",
       "      <th>age</th>\n",
       "      <th>startYear</th>\n",
       "      <th>primaryTitle</th>\n",
       "      <th>profession</th>\n",
       "    </tr>\n",
       "  </thead>\n",
       "  <tbody>\n",
       "    <tr>\n",
       "      <th>0</th>\n",
       "      <td>nm0000001</td>\n",
       "      <td>Fred Astaire</td>\n",
       "      <td>40</td>\n",
       "      <td>1939</td>\n",
       "      <td>The Story of Vernon and Irene Castle</td>\n",
       "      <td>actor</td>\n",
       "    </tr>\n",
       "    <tr>\n",
       "      <th>1</th>\n",
       "      <td>nm0000001</td>\n",
       "      <td>Fred Astaire</td>\n",
       "      <td>40</td>\n",
       "      <td>1939</td>\n",
       "      <td>The Story of Vernon and Irene Castle</td>\n",
       "      <td>actor</td>\n",
       "    </tr>\n",
       "    <tr>\n",
       "      <th>2</th>\n",
       "      <td>nm0000001</td>\n",
       "      <td>Fred Astaire</td>\n",
       "      <td>58</td>\n",
       "      <td>1957</td>\n",
       "      <td>Funny Face</td>\n",
       "      <td>actor</td>\n",
       "    </tr>\n",
       "    <tr>\n",
       "      <th>3</th>\n",
       "      <td>nm0000001</td>\n",
       "      <td>Fred Astaire</td>\n",
       "      <td>58</td>\n",
       "      <td>1957</td>\n",
       "      <td>Funny Face</td>\n",
       "      <td>actor</td>\n",
       "    </tr>\n",
       "    <tr>\n",
       "      <th>4</th>\n",
       "      <td>nm0000001</td>\n",
       "      <td>Fred Astaire</td>\n",
       "      <td>60</td>\n",
       "      <td>1959</td>\n",
       "      <td>On the Beach</td>\n",
       "      <td>actor</td>\n",
       "    </tr>\n",
       "    <tr>\n",
       "      <th>5</th>\n",
       "      <td>nm0000001</td>\n",
       "      <td>Fred Astaire</td>\n",
       "      <td>60</td>\n",
       "      <td>1959</td>\n",
       "      <td>On the Beach</td>\n",
       "      <td>actor</td>\n",
       "    </tr>\n",
       "    <tr>\n",
       "      <th>6</th>\n",
       "      <td>nm0000001</td>\n",
       "      <td>Fred Astaire</td>\n",
       "      <td>75</td>\n",
       "      <td>1974</td>\n",
       "      <td>The Towering Inferno</td>\n",
       "      <td>actor</td>\n",
       "    </tr>\n",
       "    <tr>\n",
       "      <th>7</th>\n",
       "      <td>nm0000001</td>\n",
       "      <td>Fred Astaire</td>\n",
       "      <td>75</td>\n",
       "      <td>1974</td>\n",
       "      <td>The Towering Inferno</td>\n",
       "      <td>actor</td>\n",
       "    </tr>\n",
       "    <tr>\n",
       "      <th>8</th>\n",
       "      <td>nm0000002</td>\n",
       "      <td>Lauren Bacall</td>\n",
       "      <td>20</td>\n",
       "      <td>1944</td>\n",
       "      <td>To Have and Have Not</td>\n",
       "      <td>actress</td>\n",
       "    </tr>\n",
       "    <tr>\n",
       "      <th>9</th>\n",
       "      <td>nm0000002</td>\n",
       "      <td>Lauren Bacall</td>\n",
       "      <td>20</td>\n",
       "      <td>1944</td>\n",
       "      <td>To Have and Have Not</td>\n",
       "      <td>actress</td>\n",
       "    </tr>\n",
       "  </tbody>\n",
       "</table>\n",
       "</div>"
      ],
      "text/plain": [
       "      nconst           name  age startYear  \\\n",
       "0  nm0000001   Fred Astaire   40      1939   \n",
       "1  nm0000001   Fred Astaire   40      1939   \n",
       "2  nm0000001   Fred Astaire   58      1957   \n",
       "3  nm0000001   Fred Astaire   58      1957   \n",
       "4  nm0000001   Fred Astaire   60      1959   \n",
       "5  nm0000001   Fred Astaire   60      1959   \n",
       "6  nm0000001   Fred Astaire   75      1974   \n",
       "7  nm0000001   Fred Astaire   75      1974   \n",
       "8  nm0000002  Lauren Bacall   20      1944   \n",
       "9  nm0000002  Lauren Bacall   20      1944   \n",
       "\n",
       "                           primaryTitle profession  \n",
       "0  The Story of Vernon and Irene Castle      actor  \n",
       "1  The Story of Vernon and Irene Castle      actor  \n",
       "2                            Funny Face      actor  \n",
       "3                            Funny Face      actor  \n",
       "4                          On the Beach      actor  \n",
       "5                          On the Beach      actor  \n",
       "6                  The Towering Inferno      actor  \n",
       "7                  The Towering Inferno      actor  \n",
       "8                  To Have and Have Not    actress  \n",
       "9                  To Have and Have Not    actress  "
      ]
     },
     "metadata": {},
     "output_type": "display_data"
    }
   ],
   "source": [
    "ex4c = pretty_print_sql(conn, f\"\"\"\n",
    "WITH actors AS ({actors_query})\n",
    "SELECT \n",
    "    a.nconst,\n",
    "    a.name,\n",
    "    t.startYear - a.born AS age,\n",
    "    t.startYear,\n",
    "    t.primaryTitle,\n",
    "    a.profession\n",
    "FROM \n",
    "    actors a, \n",
    "    name_to_title nt, \n",
    "    titles t\n",
    "WHERE \n",
    "    a.nconst = nt.nconst AND nt.tconst = t.tconst \n",
    "LIMIT 10;\n",
    "\"\"\")"
   ]
  },
  {
   "cell_type": "markdown",
   "id": "8c716e5a",
   "metadata": {
    "deletable": false,
    "editable": false,
    "id": "D3-89hQ0D5Fw"
   },
   "source": [
    "<!-- BEGIN QUESTION -->\n",
    "\n",
    "## Exercise 8 \n",
    "\n",
    "Let's calculate the average age of an actor (actors and actresses) in a movie (the `startYear` for a movie - when an actor was born `birthYear`), for all actors born after 1900. \n",
    "\n",
    "Your answer should be a single entry in a DataFrame."
   ]
  },
  {
   "cell_type": "code",
   "execution_count": 40,
   "id": "255b34a8",
   "metadata": {
    "colab": {
     "base_uri": "https://localhost:8080/",
     "height": 470
    },
    "id": "8YhOKmsmEC3X",
    "outputId": "5739ba4c-0805-4768-cfa4-c13fef79a59b",
    "tags": []
   },
   "outputs": [
    {
     "name": "stdout",
     "output_type": "stream",
     "text": [
      "> \n",
      "WITH actors AS (\n",
      "    SELECT n.nconst, \n",
      "           n.birthYear AS born,\n",
      "           ntp.profession\n",
      "    FROM names n\n",
      "    JOIN name_to_profession ntp ON n.nconst = ntp.nconst\n",
      "    WHERE (ntp.profession = 'actor' OR ntp.profession = 'actress') \n",
      "      AND n.birthYear > 1900\n",
      ")\n",
      "SELECT \n",
      "    AVG(t.startYear - a.born) AS average_age\n",
      "FROM \n",
      "    actors a\n",
      "JOIN name_to_title nt ON a.nconst = nt.nconst\n",
      "JOIN titles t ON nt.tconst = t.tconst\n",
      "WHERE t.startYear IS NOT NULL AND a.born IS NOT NULL;\n",
      "\n"
     ]
    },
    {
     "data": {
      "text/html": [
       "<div>\n",
       "<style scoped>\n",
       "    .dataframe tbody tr th:only-of-type {\n",
       "        vertical-align: middle;\n",
       "    }\n",
       "\n",
       "    .dataframe tbody tr th {\n",
       "        vertical-align: top;\n",
       "    }\n",
       "\n",
       "    .dataframe thead th {\n",
       "        text-align: right;\n",
       "    }\n",
       "</style>\n",
       "<table border=\"1\" class=\"dataframe\">\n",
       "  <thead>\n",
       "    <tr style=\"text-align: right;\">\n",
       "      <th></th>\n",
       "      <th>average_age</th>\n",
       "    </tr>\n",
       "  </thead>\n",
       "  <tbody>\n",
       "    <tr>\n",
       "      <th>0</th>\n",
       "      <td>1673.373891</td>\n",
       "    </tr>\n",
       "  </tbody>\n",
       "</table>\n",
       "</div>"
      ],
      "text/plain": [
       "   average_age\n",
       "0  1673.373891"
      ]
     },
     "metadata": {},
     "output_type": "display_data"
    }
   ],
   "source": [
    "actor_query = '''\n",
    "WITH actors AS (\n",
    "    SELECT n.nconst, \n",
    "           n.birthYear AS born,\n",
    "           ntp.profession\n",
    "    FROM names n\n",
    "    JOIN name_to_profession ntp ON n.nconst = ntp.nconst\n",
    "    WHERE (ntp.profession = 'actor' OR ntp.profession = 'actress') \n",
    "      AND n.birthYear > 1900\n",
    ")\n",
    "SELECT \n",
    "    AVG(t.startYear - a.born) AS average_age\n",
    "FROM \n",
    "    actors a\n",
    "JOIN name_to_title nt ON a.nconst = nt.nconst\n",
    "JOIN titles t ON nt.tconst = t.tconst\n",
    "WHERE t.startYear IS NOT NULL AND a.born IS NOT NULL;\n",
    "'''   \n",
    "\n",
    "\n",
    "q8df = pretty_print_sql(conn, actor_query)"
   ]
  },
  {
   "cell_type": "markdown",
   "id": "8d47f8aa",
   "metadata": {
    "deletable": false,
    "editable": false,
    "id": "hBLPtStfMU14"
   },
   "source": [
    "<!-- END QUESTION -->\n",
    "\n",
    "Note, you may get a value that doesn't really make sense.  We will try to fix this in the Bonus Question. "
   ]
  },
  {
   "cell_type": "markdown",
   "id": "635e9fe2",
   "metadata": {
    "deletable": false,
    "editable": false,
    "id": "Xz1sieq5IioL"
   },
   "source": [
    "<!-- BEGIN QUESTION -->\n",
    "\n",
    "## Bonus Question\n",
    "\n",
    "Let's dive into the results. Because these queries can take a while, let's pull this information from Exercise 8 into a DataFrame, but returning information like `name`, `age`, `title.startYear`, `t.primaryTitle`.  \n",
    "\n",
    "Use `df = pd.read_sql(\"query\", conn)`"
   ]
  },
  {
   "cell_type": "code",
   "execution_count": 41,
   "id": "95903d06",
   "metadata": {
    "id": "ckO8K8KTJJ4U",
    "tags": []
   },
   "outputs": [],
   "source": [
    "...\n",
    "actor_query = '''\n",
    "WITH actors AS (\n",
    "    SELECT n.nconst, \n",
    "           n.primaryName AS name,\n",
    "           n.birthYear AS born,\n",
    "           ntp.profession\n",
    "    FROM names n\n",
    "    JOIN name_to_profession ntp ON n.nconst = ntp.nconst\n",
    "    WHERE (ntp.profession = 'actor' OR ntp.profession = 'actress') \n",
    "      AND n.birthYear > 1900\n",
    ")\n",
    "SELECT \n",
    "    t.startYear,\n",
    "    a.profession,\n",
    "    t.primaryTitle AS title,\n",
    "    a.name,\n",
    "    (t.startYear - a.born) AS age\n",
    "FROM \n",
    "    actors a\n",
    "JOIN name_to_title nt ON a.nconst = nt.nconst\n",
    "JOIN titles t ON nt.tconst = t.tconst\n",
    "WHERE \n",
    "    t.startYear BETWEEN 1940 AND 2020\n",
    "    AND a.born IS NOT NULL\n",
    "    AND t.startYear IS NOT NULL\n",
    "    AND a.born < t.startYear  -- Ensures age is positive\n",
    "'''  \n",
    "\n",
    "\n",
    "df = pd.read_sql(actor_query, conn)"
   ]
  },
  {
   "cell_type": "code",
   "execution_count": 42,
   "id": "e838eca3",
   "metadata": {
    "colab": {
     "base_uri": "https://localhost:8080/"
    },
    "deletable": false,
    "editable": false,
    "id": "n6fD8DFqL9EI",
    "outputId": "364f3baa-9d42-450a-8d54-bd1bda2881d7",
    "tags": []
   },
   "outputs": [
    {
     "data": {
      "text/plain": [
       "np.float64(35.43558002339893)"
      ]
     },
     "execution_count": 42,
     "metadata": {},
     "output_type": "execute_result"
    }
   ],
   "source": [
    "df.age.mean()"
   ]
  },
  {
   "cell_type": "code",
   "execution_count": 43,
   "id": "ca7b349c",
   "metadata": {
    "colab": {
     "base_uri": "https://localhost:8080/",
     "height": 202
    },
    "deletable": false,
    "editable": false,
    "id": "WTywcpyEMB0d",
    "outputId": "1ccdebb3-8e96-4943-b72a-e1dcfca1fc85",
    "tags": []
   },
   "outputs": [
    {
     "data": {
      "text/html": [
       "<div>\n",
       "<style scoped>\n",
       "    .dataframe tbody tr th:only-of-type {\n",
       "        vertical-align: middle;\n",
       "    }\n",
       "\n",
       "    .dataframe tbody tr th {\n",
       "        vertical-align: top;\n",
       "    }\n",
       "\n",
       "    .dataframe thead th {\n",
       "        text-align: right;\n",
       "    }\n",
       "</style>\n",
       "<table border=\"1\" class=\"dataframe\">\n",
       "  <thead>\n",
       "    <tr style=\"text-align: right;\">\n",
       "      <th></th>\n",
       "      <th>startYear</th>\n",
       "      <th>profession</th>\n",
       "      <th>title</th>\n",
       "      <th>name</th>\n",
       "      <th>age</th>\n",
       "    </tr>\n",
       "  </thead>\n",
       "  <tbody>\n",
       "    <tr>\n",
       "      <th>3826825</th>\n",
       "      <td>1964</td>\n",
       "      <td>actress</td>\n",
       "      <td>Acemi çapkin</td>\n",
       "      <td>Nihal Kaplangi</td>\n",
       "      <td>1</td>\n",
       "    </tr>\n",
       "    <tr>\n",
       "      <th>3826832</th>\n",
       "      <td>1964</td>\n",
       "      <td>actress</td>\n",
       "      <td>Acemi çapkin</td>\n",
       "      <td>Nihal Kaplangi</td>\n",
       "      <td>1</td>\n",
       "    </tr>\n",
       "    <tr>\n",
       "      <th>3826833</th>\n",
       "      <td>1964</td>\n",
       "      <td>actress</td>\n",
       "      <td>Acemi çapkin</td>\n",
       "      <td>Nihal Kaplangi</td>\n",
       "      <td>1</td>\n",
       "    </tr>\n",
       "    <tr>\n",
       "      <th>4686102</th>\n",
       "      <td>1970</td>\n",
       "      <td>actress</td>\n",
       "      <td>Tatort</td>\n",
       "      <td>Angelika Gersdorf</td>\n",
       "      <td>1</td>\n",
       "    </tr>\n",
       "    <tr>\n",
       "      <th>4686103</th>\n",
       "      <td>1970</td>\n",
       "      <td>actress</td>\n",
       "      <td>Tatort</td>\n",
       "      <td>Angelika Gersdorf</td>\n",
       "      <td>1</td>\n",
       "    </tr>\n",
       "  </tbody>\n",
       "</table>\n",
       "</div>"
      ],
      "text/plain": [
       "        startYear profession         title               name  age\n",
       "3826825      1964    actress  Acemi çapkin     Nihal Kaplangi    1\n",
       "3826832      1964    actress  Acemi çapkin     Nihal Kaplangi    1\n",
       "3826833      1964    actress  Acemi çapkin     Nihal Kaplangi    1\n",
       "4686102      1970    actress        Tatort  Angelika Gersdorf    1\n",
       "4686103      1970    actress        Tatort  Angelika Gersdorf    1"
      ]
     },
     "execution_count": 43,
     "metadata": {},
     "output_type": "execute_result"
    }
   ],
   "source": [
    "df.sort_values(\"age\").head()"
   ]
  },
  {
   "cell_type": "markdown",
   "id": "a37977f3",
   "metadata": {
    "deletable": false,
    "editable": false,
    "id": "K1DP3woHNCmm"
   },
   "source": [
    "Try to solve issues the \"\\N\" missing values introduce. \n",
    "\n",
    "You can scan and sort through your DataFrame `df` to spot different potential issues. \n",
    "\n",
    "Considering only movies with a start year between 1940 and 2020, list all the issues the missing values that must be considered and accounted for. "
   ]
  },
  {
   "cell_type": "markdown",
   "id": "ef205daf",
   "metadata": {},
   "source": [
    "* ...\n",
    "* ..."
   ]
  },
  {
   "cell_type": "markdown",
   "id": "952e7453",
   "metadata": {
    "deletable": false,
    "editable": false
   },
   "source": [
    "Rewrite your query to account for these issues and produce a DataFrame that has for each year of film, the profession ('actor' and 'actress'), the average age of profession, and the number (\"count\") of the profession."
   ]
  },
  {
   "cell_type": "code",
   "execution_count": null,
   "id": "93e4826e",
   "metadata": {
    "colab": {
     "base_uri": "https://localhost:8080/",
     "height": 202
    },
    "id": "Zjgrcn6DRNfB",
    "outputId": "b3e1c0fe-8e74-436f-f6b0-28e4c025af99",
    "tags": []
   },
   "outputs": [],
   "source": [
    "actor_query = \"\"\"\n",
    "WITH actors AS (\n",
    "    SELECT n.nconst, \n",
    "           n.birthYear AS born,\n",
    "           ntp.profession\n",
    "    FROM names n\n",
    "    JOIN name_to_profession ntp ON n.nconst = ntp.nconst\n",
    "    WHERE (ntp.profession = 'actor' OR ntp.profession = 'actress') \n",
    "      AND n.birthYear > 1900\n",
    ")\n",
    "SELECT \n",
    "    t.startYear AS year,\n",
    "    a.profession,\n",
    "    AVG(t.startYear - a.born) AS average_age,\n",
    "    COUNT(a.nconst) AS count\n",
    "FROM \n",
    "    actors a\n",
    "JOIN name_to_title nt ON a.nconst = nt.nconst\n",
    "JOIN titles t ON nt.tconst = t.tconst\n",
    "WHERE \n",
    "    t.startYear BETWEEN 1940 AND 2020\n",
    "    AND a.born IS NOT NULL\n",
    "    AND t.startYear IS NOT NULL\n",
    "    AND a.born < t.startYear  -- Ensures age is positive\n",
    "GROUP BY \n",
    "    t.startYear, \n",
    "    a.profession\n",
    "ORDER BY \n",
    "    t.startYear, \n",
    "    a.profession;\n",
    "\"\"\"\n",
    "\n",
    "# Execute the query and load the result into a DataFrame\n",
    "df = pd.read_sql(actor_query, conn)\n",
    "df.head(20)"
   ]
  },
  {
   "cell_type": "markdown",
   "id": "a3b05a87",
   "metadata": {
    "deletable": false,
    "editable": false
   },
   "source": [
    "<!-- END QUESTION -->\n",
    "\n"
   ]
  },
  {
   "cell_type": "code",
   "execution_count": null,
   "id": "06d841cb",
   "metadata": {
    "tags": []
   },
   "outputs": [],
   "source": [
    "# Close your DB connection \n",
    "conn.close()"
   ]
  },
  {
   "cell_type": "markdown",
   "id": "daa055f7-e004-4ae2-ab0b-b7695811900c",
   "metadata": {},
   "source": [
    "## Congratulations! You have finished Lab 11!\n",
    "\n",
    "For this assignment, the results and variables you create in your notebook will be saved out to a log file `.OTTER_LOG`.  This file will be included in your zip, when you run the export function below. \n",
    "\n",
    "\n",
    "Make sure you have run all cells in your notebook **in order** before running the cell below, so that all information gets saved to the log file correctly. The cell below will generate a zip file for you to submit. **Please save before exporting!**\n",
    "\n",
    "If you run the notebook repeatedly, more and more information gets added to the `.OTTER_LOG` file. \n",
    "\n",
    "<div class=\"alert alert-warning\">\n",
    "<strong>Warning! - Clean log file</strong>     \n",
    "    Before running your last single run through the notebook, clear all clear, restart the kernel, delete the `.OTTER_LOG` so that a fresh one is created. \n",
    "</div>\n",
    "\n",
    "Your `.OTTER_LOG` file and `lab11.otter` should be part of the zip submission (the export function does this automatically).   "
   ]
  },
  {
   "cell_type": "markdown",
   "id": "af36add3",
   "metadata": {
    "deletable": false,
    "editable": false
   },
   "source": [
    "## Submission\n",
    "\n",
    "Make sure you have run all cells in your notebook in order before running the cell below, so that all images/graphs appear in the output. The cell below will generate a zip file for you to submit. **Please save before exporting!**"
   ]
  },
  {
   "cell_type": "code",
   "execution_count": null,
   "id": "5c7f7e15",
   "metadata": {
    "deletable": false,
    "editable": false
   },
   "outputs": [],
   "source": [
    "# Save your notebook first, then run this cell to export your submission.\n",
    "grader.export(pdf=False)"
   ]
  },
  {
   "cell_type": "markdown",
   "id": "ce842590",
   "metadata": {},
   "source": [
    " "
   ]
  }
 ],
 "metadata": {
  "kernelspec": {
   "display_name": "un5550fa24",
   "language": "python",
   "name": "un5550fa24"
  },
  "language_info": {
   "codemirror_mode": {
    "name": "ipython",
    "version": 3
   },
   "file_extension": ".py",
   "mimetype": "text/x-python",
   "name": "python",
   "nbconvert_exporter": "python",
   "pygments_lexer": "ipython3",
   "version": "3.10.15"
  },
  "otter": {
   "OK_FORMAT": true,
   "assignment_name": "lab11",
   "tests": {
    "q2": {
     "name": "q2",
     "points": 6,
     "suites": [
      {
       "cases": [
        {
         "code": ">>> q2df.shape == (10, 9)\nTrue",
         "hidden": false,
         "locked": false
        },
        {
         "code": ">>> all(q2df.columns == ['tconst', 'titleType', 'primaryTitle', 'originalTitle', 'isAdult', 'startYear', 'endYear', 'runtimeMinutes', 'genres'])\nTrue",
         "hidden": false,
         "locked": false
        },
        {
         "code": ">>> all(q2df.iloc[3:8, 5] == ['1892', '1893', '1894', '1894', '1894'])\nTrue",
         "hidden": false,
         "locked": false
        },
        {
         "code": ">>> all(q2df.iloc[0:5, 7] == ['1', '5', '4', '12', '1'])\nTrue",
         "hidden": false,
         "locked": false
        },
        {
         "code": ">>> all(q2df.iloc[8:10, 2] == ['Miss Jerry', 'Leaving the Factory'])\nTrue",
         "hidden": false,
         "locked": false
        },
        {
         "code": ">>> all(q2df.iloc[7:10, 1] == ['short', 'movie', 'short'])\nTrue",
         "hidden": false,
         "locked": false
        },
        {
         "code": ">>> all(q2df.iloc[0:3, 0] == ['tt0000001', 'tt0000002', 'tt0000003'])\nTrue",
         "hidden": false,
         "locked": false
        },
        {
         "code": ">>> all(q2df.iloc[7:9, 0] == ['tt0000008', 'tt0000009'])\nTrue",
         "hidden": false,
         "locked": false
        }
       ],
       "scored": true,
       "setup": "",
       "teardown": "",
       "type": "doctest"
      }
     ]
    },
    "q3": {
     "name": "q3",
     "points": [
      0.5,
      0.5,
      0.5
     ],
     "suites": [
      {
       "cases": [
        {
         "code": ">>> q3df.shape == (10, 9)\nTrue",
         "hidden": false,
         "locked": false
        },
        {
         "code": ">>> all(q3df.columns == ['tconst', 'titleType', 'primaryTitle', 'originalTitle', 'isAdult', 'startYear', 'endYear', 'runtimeMinutes', 'genres'])\nTrue",
         "hidden": false,
         "locked": false
        },
        {
         "code": ">>> q3df.iloc[0, 2] == 'Frivolinas'\nTrue",
         "hidden": false,
         "locked": false
        }
       ],
       "scored": true,
       "setup": "",
       "teardown": "",
       "type": "doctest"
      }
     ]
    },
    "q4": {
     "name": "q4",
     "points": [
      1,
      1
     ],
     "suites": [
      {
       "cases": [
        {
         "code": ">>> q4df.shape == (10, 9)\nTrue",
         "hidden": false,
         "locked": false
        },
        {
         "code": ">>> all(q4df.columns == ['tconst', 'titleType', 'primaryTitle', 'originalTitle', 'isAdult', 'startYear', 'endYear', 'runtimeMinutes', 'genres'])\nTrue",
         "hidden": false,
         "locked": false
        }
       ],
       "scored": true,
       "setup": "",
       "teardown": "",
       "type": "doctest"
      }
     ]
    },
    "q6": {
     "name": "q6",
     "points": 8,
     "suites": [
      {
       "cases": [
        {
         "code": ">>> q6df.shape == (110, 2)\nTrue",
         "hidden": false,
         "locked": false
        },
        {
         "code": ">>> all(q6df.columns == ['year', 'meanTime'])\nTrue",
         "hidden": false,
         "locked": false
        }
       ],
       "scored": true,
       "setup": "",
       "teardown": "",
       "type": "doctest"
      }
     ]
    },
    "q7b": {
     "name": "q7b",
     "points": 8,
     "suites": [
      {
       "cases": [
        {
         "code": ">>> q7bdf.shape == (10, 5)\nTrue",
         "hidden": false,
         "locked": false
        },
        {
         "code": ">>> all(q7bdf.columns == ['name', 'profession', 'born', 'title', 'year'])\nTrue",
         "hidden": false,
         "locked": false
        }
       ],
       "scored": true,
       "setup": "",
       "teardown": "",
       "type": "doctest"
      }
     ]
    }
   }
  }
 },
 "nbformat": 4,
 "nbformat_minor": 5
}
