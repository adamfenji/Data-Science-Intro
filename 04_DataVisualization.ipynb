{
 "cells": [
  {
   "cell_type": "markdown",
   "id": "0f880660",
   "metadata": {
    "id": "5LxLUIA9mBRk"
   },
   "source": [
    "# Lab 4"
   ]
  },
  {
   "cell_type": "markdown",
   "id": "41cb9dda",
   "metadata": {
    "id": "WGwt12I8mBRl"
   },
   "source": [
    "In Tuesday's class you had learnt about how to infer parameters of, and draw conclusions about a population using a statistic (number/property describing a characteristic of a sample). \n",
    "Further, there were examples of wine-data which provided information about:\n",
    "* Understanding sampling distributions\n",
    "* Method 1: Point estimates\n",
    "* Method 2: Confidence intervals\n",
    "* Method 3: Hypothesis testing\n",
    "\n",
    "In this lab session, we will look into the following\n",
    "* Exercise importing function for files of .txt, .xlsx, .csv \n",
    "* Demostration of Central Limit Theorem.\n",
    "* Confidence Intervals. \n",
    "* t-distributions and stats packages. \n",
    "\n",
    "In some point, we will make use of random numbers as data and/or wine-data. "
   ]
  },
  {
   "cell_type": "markdown",
   "id": "4701d4ad",
   "metadata": {},
   "source": [
    "## Lab Setup"
   ]
  },
  {
   "cell_type": "code",
   "execution_count": 1,
   "id": "2c9430a1",
   "metadata": {
    "id": "M8X9ymYomBRm",
    "tags": []
   },
   "outputs": [],
   "source": [
    "import pandas as pd\n",
    "import numpy as np\n",
    "rng_seed = 42\n",
    "import seaborn as sns\n",
    "from scipy import stats \n",
    "from scipy.stats import norm\n",
    "import zipfile\n",
    "import sys\n",
    "import matplotlib.pyplot as plt\n",
    "import matplotlib as mpl\n",
    "%matplotlib inline\n",
    "\n",
    "import otter\n",
    "grader = otter.Notebook()"
   ]
  },
  {
   "cell_type": "code",
   "execution_count": 2,
   "id": "8069dbf6",
   "metadata": {
    "tags": []
   },
   "outputs": [],
   "source": [
    "# set up random number generator \n",
    "rng = np.random.default_rng(rng_seed)"
   ]
  },
  {
   "cell_type": "markdown",
   "id": "82ba7e26",
   "metadata": {
    "id": "lC3NHp7xzk3M"
   },
   "source": [
    "## Examples "
   ]
  },
  {
   "cell_type": "markdown",
   "id": "d1561319",
   "metadata": {},
   "source": [
    "### Importing datafiles"
   ]
  },
  {
   "cell_type": "markdown",
   "id": "c96b6e5a",
   "metadata": {
    "id": "NA_dBHmlmBRq"
   },
   "source": [
    "\n",
    "\n",
    "#### Importing Excel files\n",
    "For importing the files as with multiple sheet in excel workbook, in Python 3.0+, you can use `pd.read_excel()`.\n",
    "\n",
    "For example, if workbook.xlsx has sheets 'Sheet1' and 'Sheet2', then use `pd.read_excel('workbook.xlsx', 'Sheet1')` or  `('workbook.xlsx', 'Sheet2')`. \n",
    "\n"
   ]
  },
  {
   "cell_type": "markdown",
   "id": "177484b4",
   "metadata": {},
   "source": [
    "#### Importing from Zipped files \n",
    "\n",
    "Now, try importing csv file present inside the zip file named 'avocado' directly (make use of 'zipfile' module).\n",
    "* https://docs.python.org/3/library/zipfile.html"
   ]
  },
  {
   "cell_type": "code",
   "execution_count": 3,
   "id": "4ef1685d",
   "metadata": {
    "id": "puhk3087mBRq",
    "tags": []
   },
   "outputs": [
    {
     "data": {
      "text/html": [
       "<div>\n",
       "<style scoped>\n",
       "    .dataframe tbody tr th:only-of-type {\n",
       "        vertical-align: middle;\n",
       "    }\n",
       "\n",
       "    .dataframe tbody tr th {\n",
       "        vertical-align: top;\n",
       "    }\n",
       "\n",
       "    .dataframe thead th {\n",
       "        text-align: right;\n",
       "    }\n",
       "</style>\n",
       "<table border=\"1\" class=\"dataframe\">\n",
       "  <thead>\n",
       "    <tr style=\"text-align: right;\">\n",
       "      <th></th>\n",
       "      <th>Date</th>\n",
       "      <th>AveragePrice</th>\n",
       "      <th>Total Volume</th>\n",
       "      <th>4046</th>\n",
       "      <th>4225</th>\n",
       "      <th>4770</th>\n",
       "      <th>Total Bags</th>\n",
       "      <th>Small Bags</th>\n",
       "      <th>Large Bags</th>\n",
       "      <th>XLarge Bags</th>\n",
       "      <th>type</th>\n",
       "      <th>year</th>\n",
       "      <th>region</th>\n",
       "    </tr>\n",
       "  </thead>\n",
       "  <tbody>\n",
       "    <tr>\n",
       "      <th>0</th>\n",
       "      <td>2015-12-27</td>\n",
       "      <td>1.33</td>\n",
       "      <td>64236.62</td>\n",
       "      <td>1036.74</td>\n",
       "      <td>54454.85</td>\n",
       "      <td>48.16</td>\n",
       "      <td>8696.87</td>\n",
       "      <td>8603.62</td>\n",
       "      <td>93.25</td>\n",
       "      <td>0.0</td>\n",
       "      <td>conventional</td>\n",
       "      <td>2015</td>\n",
       "      <td>Albany</td>\n",
       "    </tr>\n",
       "    <tr>\n",
       "      <th>1</th>\n",
       "      <td>2015-12-20</td>\n",
       "      <td>1.35</td>\n",
       "      <td>54876.98</td>\n",
       "      <td>674.28</td>\n",
       "      <td>44638.81</td>\n",
       "      <td>58.33</td>\n",
       "      <td>9505.56</td>\n",
       "      <td>9408.07</td>\n",
       "      <td>97.49</td>\n",
       "      <td>0.0</td>\n",
       "      <td>conventional</td>\n",
       "      <td>2015</td>\n",
       "      <td>Albany</td>\n",
       "    </tr>\n",
       "    <tr>\n",
       "      <th>2</th>\n",
       "      <td>2015-12-13</td>\n",
       "      <td>0.93</td>\n",
       "      <td>118220.22</td>\n",
       "      <td>794.70</td>\n",
       "      <td>109149.67</td>\n",
       "      <td>130.50</td>\n",
       "      <td>8145.35</td>\n",
       "      <td>8042.21</td>\n",
       "      <td>103.14</td>\n",
       "      <td>0.0</td>\n",
       "      <td>conventional</td>\n",
       "      <td>2015</td>\n",
       "      <td>Albany</td>\n",
       "    </tr>\n",
       "    <tr>\n",
       "      <th>3</th>\n",
       "      <td>2015-12-06</td>\n",
       "      <td>1.08</td>\n",
       "      <td>78992.15</td>\n",
       "      <td>1132.00</td>\n",
       "      <td>71976.41</td>\n",
       "      <td>72.58</td>\n",
       "      <td>5811.16</td>\n",
       "      <td>5677.40</td>\n",
       "      <td>133.76</td>\n",
       "      <td>0.0</td>\n",
       "      <td>conventional</td>\n",
       "      <td>2015</td>\n",
       "      <td>Albany</td>\n",
       "    </tr>\n",
       "    <tr>\n",
       "      <th>4</th>\n",
       "      <td>2015-11-29</td>\n",
       "      <td>1.28</td>\n",
       "      <td>51039.60</td>\n",
       "      <td>941.48</td>\n",
       "      <td>43838.39</td>\n",
       "      <td>75.78</td>\n",
       "      <td>6183.95</td>\n",
       "      <td>5986.26</td>\n",
       "      <td>197.69</td>\n",
       "      <td>0.0</td>\n",
       "      <td>conventional</td>\n",
       "      <td>2015</td>\n",
       "      <td>Albany</td>\n",
       "    </tr>\n",
       "  </tbody>\n",
       "</table>\n",
       "</div>"
      ],
      "text/plain": [
       "         Date  AveragePrice  Total Volume     4046       4225    4770   \n",
       "0  2015-12-27          1.33      64236.62  1036.74   54454.85   48.16  \\\n",
       "1  2015-12-20          1.35      54876.98   674.28   44638.81   58.33   \n",
       "2  2015-12-13          0.93     118220.22   794.70  109149.67  130.50   \n",
       "3  2015-12-06          1.08      78992.15  1132.00   71976.41   72.58   \n",
       "4  2015-11-29          1.28      51039.60   941.48   43838.39   75.78   \n",
       "\n",
       "   Total Bags  Small Bags  Large Bags  XLarge Bags          type  year  region  \n",
       "0     8696.87     8603.62       93.25          0.0  conventional  2015  Albany  \n",
       "1     9505.56     9408.07       97.49          0.0  conventional  2015  Albany  \n",
       "2     8145.35     8042.21      103.14          0.0  conventional  2015  Albany  \n",
       "3     5811.16     5677.40      133.76          0.0  conventional  2015  Albany  \n",
       "4     6183.95     5986.26      197.69          0.0  conventional  2015  Albany  "
      ]
     },
     "execution_count": 3,
     "metadata": {},
     "output_type": "execute_result"
    }
   ],
   "source": [
    "# Example code of how to load in data stored within a zip-file\n",
    "# import zipfile  # already imported above \n",
    "zf = zipfile.ZipFile('data/avocado.zip')\n",
    "avacado = pd.read_csv(zf.open('avocado.csv'), index_col = 0)\n",
    "avacado.head()"
   ]
  },
  {
   "cell_type": "markdown",
   "id": "b9c003c4",
   "metadata": {
    "id": "9Hyz9pChzBXC"
   },
   "source": [
    "### System information \n",
    "\n",
    "If you ever need to check which version of Python or what version of a module you are working with you can use something similar to the following code. "
   ]
  },
  {
   "cell_type": "code",
   "execution_count": 4,
   "id": "099c8f4a",
   "metadata": {
    "id": "-5f0KkoYmBRv",
    "tags": []
   },
   "outputs": [
    {
     "name": "stdout",
     "output_type": "stream",
     "text": [
      "Python version: 3.10.11 | packaged by conda-forge | (main, May 10 2023, 18:58:44) [GCC 11.3.0] \n",
      "\n",
      "Pandas version: 1.24.3 \n",
      "\n",
      "Seaborn version:  0.12.2 \n",
      "\n"
     ]
    }
   ],
   "source": [
    "# Get to know your system versions\n",
    "# import sys  # already imported above\n",
    "print('Python version:', sys.version, '\\n')\n",
    "print('Pandas version:', np.__version__ , '\\n')\n",
    "print('Seaborn version: ', sns.__version__, '\\n')"
   ]
  },
  {
   "cell_type": "markdown",
   "id": "397f8f4e",
   "metadata": {
    "id": "7pvHMprLzuiV"
   },
   "source": [
    "Let's load the wine data again."
   ]
  },
  {
   "cell_type": "code",
   "execution_count": 5,
   "id": "8627d153",
   "metadata": {
    "id": "da9TWd6gWUv3",
    "tags": []
   },
   "outputs": [
    {
     "data": {
      "text/html": [
       "<div>\n",
       "<style scoped>\n",
       "    .dataframe tbody tr th:only-of-type {\n",
       "        vertical-align: middle;\n",
       "    }\n",
       "\n",
       "    .dataframe tbody tr th {\n",
       "        vertical-align: top;\n",
       "    }\n",
       "\n",
       "    .dataframe thead th {\n",
       "        text-align: right;\n",
       "    }\n",
       "</style>\n",
       "<table border=\"1\" class=\"dataframe\">\n",
       "  <thead>\n",
       "    <tr style=\"text-align: right;\">\n",
       "      <th></th>\n",
       "      <th>fixed acidity</th>\n",
       "      <th>volatile acidity</th>\n",
       "      <th>citric acid</th>\n",
       "      <th>residual sugar</th>\n",
       "      <th>chlorides</th>\n",
       "      <th>free sulfur dioxide</th>\n",
       "      <th>total sulfur dioxide</th>\n",
       "      <th>density</th>\n",
       "      <th>pH</th>\n",
       "      <th>sulphates</th>\n",
       "      <th>alcohol</th>\n",
       "      <th>quality</th>\n",
       "    </tr>\n",
       "  </thead>\n",
       "  <tbody>\n",
       "    <tr>\n",
       "      <th>0</th>\n",
       "      <td>7.4</td>\n",
       "      <td>0.70</td>\n",
       "      <td>0.00</td>\n",
       "      <td>1.9</td>\n",
       "      <td>0.076</td>\n",
       "      <td>11.0</td>\n",
       "      <td>34.0</td>\n",
       "      <td>0.9978</td>\n",
       "      <td>3.51</td>\n",
       "      <td>0.56</td>\n",
       "      <td>9.4</td>\n",
       "      <td>5</td>\n",
       "    </tr>\n",
       "    <tr>\n",
       "      <th>1</th>\n",
       "      <td>7.8</td>\n",
       "      <td>0.88</td>\n",
       "      <td>0.00</td>\n",
       "      <td>2.6</td>\n",
       "      <td>0.098</td>\n",
       "      <td>25.0</td>\n",
       "      <td>67.0</td>\n",
       "      <td>0.9968</td>\n",
       "      <td>3.20</td>\n",
       "      <td>0.68</td>\n",
       "      <td>9.8</td>\n",
       "      <td>5</td>\n",
       "    </tr>\n",
       "    <tr>\n",
       "      <th>2</th>\n",
       "      <td>7.8</td>\n",
       "      <td>0.76</td>\n",
       "      <td>0.04</td>\n",
       "      <td>2.3</td>\n",
       "      <td>0.092</td>\n",
       "      <td>15.0</td>\n",
       "      <td>54.0</td>\n",
       "      <td>0.9970</td>\n",
       "      <td>3.26</td>\n",
       "      <td>0.65</td>\n",
       "      <td>9.8</td>\n",
       "      <td>5</td>\n",
       "    </tr>\n",
       "    <tr>\n",
       "      <th>3</th>\n",
       "      <td>11.2</td>\n",
       "      <td>0.28</td>\n",
       "      <td>0.56</td>\n",
       "      <td>1.9</td>\n",
       "      <td>0.075</td>\n",
       "      <td>17.0</td>\n",
       "      <td>60.0</td>\n",
       "      <td>0.9980</td>\n",
       "      <td>3.16</td>\n",
       "      <td>0.58</td>\n",
       "      <td>9.8</td>\n",
       "      <td>6</td>\n",
       "    </tr>\n",
       "    <tr>\n",
       "      <th>4</th>\n",
       "      <td>7.4</td>\n",
       "      <td>0.70</td>\n",
       "      <td>0.00</td>\n",
       "      <td>1.9</td>\n",
       "      <td>0.076</td>\n",
       "      <td>11.0</td>\n",
       "      <td>34.0</td>\n",
       "      <td>0.9978</td>\n",
       "      <td>3.51</td>\n",
       "      <td>0.56</td>\n",
       "      <td>9.4</td>\n",
       "      <td>5</td>\n",
       "    </tr>\n",
       "  </tbody>\n",
       "</table>\n",
       "</div>"
      ],
      "text/plain": [
       "   fixed acidity  volatile acidity  citric acid  residual sugar  chlorides   \n",
       "0            7.4              0.70         0.00             1.9      0.076  \\\n",
       "1            7.8              0.88         0.00             2.6      0.098   \n",
       "2            7.8              0.76         0.04             2.3      0.092   \n",
       "3           11.2              0.28         0.56             1.9      0.075   \n",
       "4            7.4              0.70         0.00             1.9      0.076   \n",
       "\n",
       "   free sulfur dioxide  total sulfur dioxide  density    pH  sulphates   \n",
       "0                 11.0                  34.0   0.9978  3.51       0.56  \\\n",
       "1                 25.0                  67.0   0.9968  3.20       0.68   \n",
       "2                 15.0                  54.0   0.9970  3.26       0.65   \n",
       "3                 17.0                  60.0   0.9980  3.16       0.58   \n",
       "4                 11.0                  34.0   0.9978  3.51       0.56   \n",
       "\n",
       "   alcohol  quality  \n",
       "0      9.4        5  \n",
       "1      9.8        5  \n",
       "2      9.8        5  \n",
       "3      9.8        6  \n",
       "4      9.4        5  "
      ]
     },
     "execution_count": 5,
     "metadata": {},
     "output_type": "execute_result"
    }
   ],
   "source": [
    "# Load wine data \n",
    "url  =  \"https://archive.ics.uci.edu/ml/machine-learning-databases/wine-quality/winequality-red.csv\" \n",
    "wine = pd.read_csv(url, sep=\";\")\n",
    "wine.head()"
   ]
  },
  {
   "cell_type": "code",
   "execution_count": 6,
   "id": "2f4b5a65",
   "metadata": {
    "tags": []
   },
   "outputs": [
    {
     "data": {
      "text/plain": [
       "(1599, 12)"
      ]
     },
     "execution_count": 6,
     "metadata": {},
     "output_type": "execute_result"
    }
   ],
   "source": [
    "wine.shape"
   ]
  },
  {
   "cell_type": "markdown",
   "id": "39991ba1",
   "metadata": {
    "id": "R4dRAdoMmBRz"
   },
   "source": [
    "# Inferential Statistics"
   ]
  },
  {
   "cell_type": "markdown",
   "id": "e783b013",
   "metadata": {
    "id": "FJ3fBdLAmBRz"
   },
   "source": [
    "The piece of code below is adapted from `nb.week4.ipynb` class material. A sample of size 5 is selected and the mean is calculated.  This is repeated 1000 times, collecting the sample means. \n",
    "A histogram function is invoked for sampled means. \n",
    "\n",
    "Observe the distribution of the mean samples - is it normal, uniform, gamma, beta ..... ?"
   ]
  },
  {
   "cell_type": "code",
   "execution_count": 40,
   "id": "be3a1de3",
   "metadata": {
    "id": "_zji_07SmBR0",
    "tags": []
   },
   "outputs": [
    {
     "name": "stdout",
     "output_type": "stream",
     "text": [
      "mean pH, mu = 3.3111131957473416\n"
     ]
    },
    {
     "data": {
      "image/png": "[encoded data removed]",
      "text/plain": [
       "<Figure size 640x480 with 1 Axes>"
      ]
     },
     "metadata": {},
     "output_type": "display_data"
    },
    {
     "data": {
      "image/png": "[encoded data removed]",
      "text/plain": [
       "<Figure size 800x600 with 1 Axes>"
      ]
     },
     "metadata": {},
     "output_type": "display_data"
    }
   ],
   "source": [
    "'''The piece of code from nb.week3.ipynb is provided, use it to  \n",
    "compute the mean for the 'n' random samples and store in array, means[i]\n",
    "This is repeated 'N_tests' times. '''\n",
    "\n",
    "mu = wine[\"pH\"].mean()                                # Mean of population\n",
    "print(\"mean pH, mu = \" + str(mu))\n",
    "\n",
    "N_tests = 1000                                        # Num of test to perform\n",
    "n = 5                                                 # number of samples\n",
    "means = [0] * N_tests\n",
    "\n",
    "for i in range(N_tests):\n",
    "    observations = rng.choice(wine.index.values,n)\n",
    "    sampled_wines = wine.loc[observations]\n",
    "    means[i] = sampled_wines[\"pH\"].mean()\n",
    "    \n",
    "# Histogram in Matplotlib    \n",
    "nbins = 15\n",
    "_ = plt.hist(means, nbins, color= 'red' )\n",
    "plt.title(' Histogram for sampled mean of pH')\n",
    "plt.xlabel('pH')\n",
    "plt.ylabel('Counts')\n",
    "\n",
    "# Histogram in seaborn\n",
    "sns.set_style('whitegrid')\n",
    "sns.set_style('ticks')\n",
    "fig, ax = plt.subplots()\n",
    "fig.set_size_inches(8, 6)\n",
    "sns.histplot(means, bins=nbins, color ='green', kde=True)\n",
    "plt.title('Histogram for sampled mean of wine[ph] distribution')\n",
    "plt.xlabel('pH')\n",
    "\n",
    "plt.show()"
   ]
  },
  {
   "cell_type": "markdown",
   "id": "d8b3e060",
   "metadata": {
    "id": "r_NAMGwNmBR3"
   },
   "source": [
    "### Central Limit Theorem\n",
    "\n",
    "From Chap 4, we had a chance to look into Central Limit Theorem. The initial population distribution was not observed in the class and the mean sampled distribution, i.e., mean of `wine['pH']`, evidently displayed normal distribution (see the plots above).\n",
    "\n"
   ]
  },
  {
   "cell_type": "markdown",
   "id": "2f4ccd58",
   "metadata": {
    "deletable": false,
    "editable": false,
    "id": "ZTsvNRZFoHWA"
   },
   "source": [
    "<!-- BEGIN QUESTION -->\n",
    "\n",
    "## Exercise 1\n",
    "\n",
    "Check what was the distribution of the initial population ? Create the  Histogram and read the discussion below.\n",
    "\n",
    "https://seaborn.pydata.org/generated/seaborn.histplot.html#seaborn.histplot"
   ]
  },
  {
   "cell_type": "code",
   "execution_count": 8,
   "id": "6085d546",
   "metadata": {
    "id": "Ts7fhR6AmBR4",
    "tags": []
   },
   "outputs": [
    {
     "data": {
      "image/png": "[encoded data removed]",
      "text/plain": [
       "<Figure size 800x600 with 1 Axes>"
      ]
     },
     "metadata": {},
     "output_type": "display_data"
    }
   ],
   "source": [
    "# Plot the distribution of the population itself i.e., wine['pH']. \n",
    "#  Use seaborn rather than matplotlib to create the histogram\n",
    "\n",
    "sns.set_style('whitegrid')\n",
    "sns.set_style('ticks')\n",
    "fig, ax = plt.subplots()\n",
    "fig.set_size_inches(8, 6)\n",
    "sns.histplot(data=wine['pH'],  color ='blue')\n",
    "plt.title('Histogram for population of wine[ph] distribution')\n",
    "plt.xlabel('pH')\n",
    "\n",
    "plt.show()\n"
   ]
  },
  {
   "cell_type": "markdown",
   "id": "c8e98506",
   "metadata": {
    "deletable": false,
    "editable": false,
    "id": "k5wxWpgDmBR7"
   },
   "source": [
    "<!-- END QUESTION -->\n",
    "\n",
    "Since, the population distribution was also normal distribution plot. We might expect that the sampled mean could be normal distribution. What if we try with different population distribution using random generator available in python library and observe the profile. Does it agree with Central Limit Theorem?\n",
    "\n",
    "For options regarding random numbers generation in certain distribution pattern, see the link:  \n",
    "https://docs.scipy.org/doc/numpy-1.14.0/reference/routines.random.html"
   ]
  },
  {
   "cell_type": "markdown",
   "id": "9f4d559a",
   "metadata": {
    "id": "ISUsYMUZmBR7"
   },
   "source": [
    "*Think about:* What if the initial population is other than normal distribution. Would CLT come into picture? \n",
    "\n"
   ]
  },
  {
   "cell_type": "markdown",
   "id": "671b46ee",
   "metadata": {
    "id": "bKv0PFJwoQJk"
   },
   "source": [
    "## Exercise 2 - Uniform distribution\n",
    "\n",
    "In Exercise 1, the distribution of wine pH values is approximately normal.  What about if this data follows another distribution?  How does it affect the distribution of the sampled means?\n",
    "\n",
    "Let's look if the initial data came from a Uniform distribution."
   ]
  },
  {
   "cell_type": "markdown",
   "id": "abeff67a-23e6-4b7b-9ce8-10594164c74e",
   "metadata": {},
   "source": [
    "### Exercise 2A - Create distribution\n",
    "\n",
    "Create a DataSeries sampling 1000 numbers from the uniform distribution. "
   ]
  },
  {
   "cell_type": "code",
   "execution_count": 9,
   "id": "5a5aceff-31a7-4981-a34c-4e3d06807992",
   "metadata": {
    "tags": []
   },
   "outputs": [
    {
     "data": {
      "text/plain": [
       "0    0.033878\n",
       "1    0.683015\n",
       "2    0.950496\n",
       "3    0.829150\n",
       "4    0.277198\n",
       "dtype: float64"
      ]
     },
     "execution_count": 9,
     "metadata": {},
     "output_type": "execute_result"
    }
   ],
   "source": [
    "# Create a pandas DataSeries - created using random numbers \n",
    "#  Sample 1000 numbers from the uniform distribution - unif(0,1) \n",
    "#  Hint: look at using the random number generator\n",
    "#   seeded above:  rng.uniform()\n",
    "\n",
    "s = pd.Series(rng.uniform(0,1, 1000))\n",
    "\n",
    "s.head()"
   ]
  },
  {
   "cell_type": "code",
   "execution_count": 10,
   "id": "c5e2f667",
   "metadata": {
    "deletable": false,
    "editable": false
   },
   "outputs": [
    {
     "data": {
      "text/html": [
       "<p><strong><pre style='display: inline;'>q2a</pre></strong> passed! 🍀</p>"
      ],
      "text/plain": [
       "q2a results: All test cases passed!"
      ]
     },
     "execution_count": 10,
     "metadata": {},
     "output_type": "execute_result"
    }
   ],
   "source": [
    "grader.check(\"q2a\")"
   ]
  },
  {
   "cell_type": "markdown",
   "id": "1420fbed-9f7e-46d7-bd3c-bffedc2a695e",
   "metadata": {},
   "source": [
    "### Exercise 2B - Histogram \n",
    "\n",
    "Create a histogram of the samples stored in `s` above (the values sampled from the uniform distribution). "
   ]
  },
  {
   "cell_type": "markdown",
   "id": "60fb1c29",
   "metadata": {
    "deletable": false,
    "editable": false
   },
   "source": [
    "<!-- BEGIN QUESTION -->\n",
    "\n"
   ]
  },
  {
   "cell_type": "code",
   "execution_count": 11,
   "id": "337822f6",
   "metadata": {
    "id": "3-ommH1HYfJ1",
    "tags": []
   },
   "outputs": [
    {
     "data": {
      "image/png": "[encoded data removed]",
      "text/plain": [
       "<Figure size 800x600 with 1 Axes>"
      ]
     },
     "metadata": {},
     "output_type": "display_data"
    },
    {
     "data": {
      "text/plain": [
       "Ellipsis"
      ]
     },
     "execution_count": 11,
     "metadata": {},
     "output_type": "execute_result"
    }
   ],
   "source": [
    "# Plot a histogram for the initial population, stored in 's'\n",
    "#  Use seaborn for the plot \n",
    "sns.set_style('whitegrid')\n",
    "sns.set_style('ticks')\n",
    "fig, ax = plt.subplots()\n",
    "sns.histplot(data=s,color='blue')\n",
    "fig.set_size_inches(8, 6)\n",
    "plt.title('Histogram for initial population stored in s')\n",
    "plt.show()\n",
    "...\n"
   ]
  },
  {
   "cell_type": "markdown",
   "id": "9cb1beec-b175-43bb-8169-84f224c949cf",
   "metadata": {
    "deletable": false,
    "editable": false
   },
   "source": [
    "<!-- END QUESTION -->\n",
    "\n",
    "### Exercise 2C - Histogram of Sampled Means\n",
    "\n",
    "Create a histogram of the sampled means. "
   ]
  },
  {
   "cell_type": "markdown",
   "id": "3015cb38",
   "metadata": {
    "deletable": false,
    "editable": false
   },
   "source": [
    "<!-- BEGIN QUESTION -->\n",
    "\n"
   ]
  },
  {
   "cell_type": "code",
   "execution_count": 12,
   "id": "4a198147",
   "metadata": {
    "id": "ytTaCGNrmBSA",
    "tags": []
   },
   "outputs": [
    {
     "name": "stdout",
     "output_type": "stream",
     "text": [
      "mean population, mu = 0.4963409482555792\n"
     ]
    },
    {
     "data": {
      "text/plain": [
       "Ellipsis"
      ]
     },
     "execution_count": 12,
     "metadata": {},
     "output_type": "execute_result"
    },
    {
     "data": {
      "image/png": "[encoded data removed]",
      "text/plain": [
       "<Figure size 640x480 with 1 Axes>"
      ]
     },
     "metadata": {},
     "output_type": "display_data"
    }
   ],
   "source": [
    "# In this cell, collection of 'n' random samples 'N-test' times \n",
    "#  storing the mean of each collection in the array.  \n",
    "# Then, create a histogram of the sampled means. \n",
    "\n",
    "# As a start I have copied the most of the code for where this was done for wine-pH.  \n",
    "# Modify it to get the sample means of the uniformly distributed sample population.\n",
    "\n",
    "mu = s.mean()\n",
    "print(\"mean population, mu = \" + str(mu))\n",
    "\n",
    "N_tests = 1000\n",
    "n = 50 \n",
    "means = [0] * N_tests\n",
    "\n",
    "for i in range(N_tests):\n",
    "    observations = rng.choice(s.index.values,n)\n",
    "    sampled_pop = s.loc[observations]\n",
    "    means[i] = sampled_pop.mean()\n",
    "    \n",
    "    \n",
    "nbins = 15\n",
    "# Create a histogram of the sampled means from the uniform distribution\n",
    "plt.hist(means,nbins,density=True)\n",
    "plt.ylabel('Probability')\n",
    "plt.xlabel('mean population')\n",
    "...\n"
   ]
  },
  {
   "cell_type": "markdown",
   "id": "1342a03a",
   "metadata": {
    "deletable": false,
    "editable": false,
    "id": "k__0foeWmBSC"
   },
   "source": [
    "<!-- END QUESTION -->\n",
    "\n",
    "#####  Once the code is up and running. Examine the following for better understanding. \n",
    " * How is plot sensitive for 'n' - no of samples drawn from population?\n",
    " * How does the profile change when 'N_test' - is increased or decreased?"
   ]
  },
  {
   "cell_type": "markdown",
   "id": "4c999070",
   "metadata": {
    "id": "7I-VkZAHmBSD"
   },
   "source": [
    "## Exercise 3 - Gamma distributions\n",
    "\n",
    "Let's examine this again if the initial data is from a Gamma distributions. \n",
    "\n",
    "Will the Central Limit Theorem agree here as well? \n",
    "\n",
    "Read through Chapter 4 for more information.  "
   ]
  },
  {
   "cell_type": "code",
   "execution_count": 13,
   "id": "88540521",
   "metadata": {
    "id": "4iAuzsUjmBSD",
    "tags": []
   },
   "outputs": [
    {
     "data": {
      "text/plain": [
       "0    3.627469\n",
       "1    1.138921\n",
       "2    0.258975\n",
       "3    0.849255\n",
       "4    8.475434\n",
       "dtype: float64"
      ]
     },
     "execution_count": 13,
     "metadata": {},
     "output_type": "execute_result"
    }
   ],
   "source": [
    "\n",
    "# To try Gamma distribution function - np.random.gamma\n",
    "#   with the random number generator - rng.gamma\n",
    "\n",
    "s = pd.Series(rng.gamma(2,2,5000))\n",
    "s.head()\n"
   ]
  },
  {
   "cell_type": "code",
   "execution_count": 14,
   "id": "64facb15",
   "metadata": {
    "deletable": false,
    "editable": false
   },
   "outputs": [
    {
     "data": {
      "text/html": [
       "<p><strong><pre style='display: inline;'>q3a</pre></strong> passed! 🚀</p>"
      ],
      "text/plain": [
       "q3a results: All test cases passed!"
      ]
     },
     "execution_count": 14,
     "metadata": {},
     "output_type": "execute_result"
    }
   ],
   "source": [
    "grader.check(\"q3a\")"
   ]
  },
  {
   "cell_type": "markdown",
   "id": "36cc1b23-b637-44e4-8e42-ed6522e7117d",
   "metadata": {
    "deletable": false,
    "editable": false
   },
   "source": [
    "<!-- BEGIN QUESTION -->\n",
    "\n",
    "### Exercise 3B - Histogram \n",
    "\n",
    "Create a histogram of the samples stored in `s` above (the values sampled from the gamma distribution). "
   ]
  },
  {
   "cell_type": "code",
   "execution_count": 15,
   "id": "a077b9a2-3508-4e42-9cc2-9bac454db651",
   "metadata": {
    "tags": []
   },
   "outputs": [
    {
     "data": {
      "image/png": "[encoded data removed]",
      "text/plain": [
       "<Figure size 800x600 with 1 Axes>"
      ]
     },
     "metadata": {},
     "output_type": "display_data"
    },
    {
     "data": {
      "text/plain": [
       "Ellipsis"
      ]
     },
     "execution_count": 15,
     "metadata": {},
     "output_type": "execute_result"
    }
   ],
   "source": [
    "# Histogram plot of initial population\n",
    "#  Use seaborn for the plot\n",
    "sns.set_style('whitegrid')\n",
    "sns.set_style('ticks')\n",
    "fig, ax = plt.subplots()\n",
    "sns.histplot(data=s,color='blue')\n",
    "fig.set_size_inches(8, 6)\n",
    "plt.title('Histogram for initial population stored in s')\n",
    "plt.show()\n",
    "...\n"
   ]
  },
  {
   "cell_type": "markdown",
   "id": "ab1a9f12-a414-4558-9271-75cc222c275a",
   "metadata": {
    "deletable": false,
    "editable": false
   },
   "source": [
    "<!-- END QUESTION -->\n",
    "\n",
    "<!-- BEGIN QUESTION -->\n",
    "\n",
    "### Exercise 3C - Histogram of Sampled Means\n",
    "\n",
    "Create a histogram of the sampled means."
   ]
  },
  {
   "cell_type": "code",
   "execution_count": 16,
   "id": "711826fe-dd36-4aed-8914-64c9ec1e9814",
   "metadata": {
    "tags": []
   },
   "outputs": [
    {
     "name": "stdout",
     "output_type": "stream",
     "text": [
      "mean of random dataset, mu = 4.010088869965802\n"
     ]
    },
    {
     "data": {
      "text/plain": [
       "Ellipsis"
      ]
     },
     "execution_count": 16,
     "metadata": {},
     "output_type": "execute_result"
    },
    {
     "data": {
      "image/png": "[encoded data removed]",
      "text/plain": [
       "<Figure size 640x480 with 1 Axes>"
      ]
     },
     "metadata": {},
     "output_type": "display_data"
    }
   ],
   "source": [
    "# Perform the similar operation as above but on a different distribution, e.g., gamma. \n",
    "# Refer to the link  provided earlier to generate the initial samples. \n",
    "# Continue to use seaborn for plotting.\n",
    "\n",
    "mu = s.mean();\n",
    "print(\"mean of random dataset, mu = \" + str(mu))\n",
    "\n",
    "N_tests = 1000\n",
    "n = 50\n",
    "means = [0] * N_tests\n",
    "\n",
    "for i in range(N_tests):\n",
    "    observations = rng.choice(s.index.values,n)\n",
    "    sampled_pop = s.loc[observations]\n",
    "    means[i] = sampled_pop.mean()\n",
    "\n",
    "\n",
    "\n",
    "# Histogram of sampled means \n",
    " \n",
    "\n",
    "\n",
    "sns.histplot(data= means, bins=20)\n",
    "plt.ylabel('Probability')\n",
    "plt.xlabel('mean population')\n",
    "...\n"
   ]
  },
  {
   "cell_type": "markdown",
   "id": "8e37a89d",
   "metadata": {
    "deletable": false,
    "editable": false,
    "id": "7I-VkZAHmBSD"
   },
   "source": [
    "<!-- END QUESTION -->\n",
    "\n",
    "## Exercise 4 - Wald distributions\n",
    "\n",
    "Let's examine this again if the initial data is from a Wald distributions. \n",
    "\n",
    "Will the Central Limit Theorem agree here as well? \n",
    "\n",
    "Read through Chapter 4 for more information.  "
   ]
  },
  {
   "cell_type": "code",
   "execution_count": 17,
   "id": "215b1dfd",
   "metadata": {
    "id": "4iAuzsUjmBSD",
    "tags": []
   },
   "outputs": [
    {
     "data": {
      "text/plain": [
       "0        2.883868\n",
       "1        2.652752\n",
       "2        0.629714\n",
       "3        2.908177\n",
       "4        1.219464\n",
       "           ...   \n",
       "99995    3.940243\n",
       "99996    3.795515\n",
       "99997    1.237891\n",
       "99998    1.393138\n",
       "99999    5.553590\n",
       "Length: 100000, dtype: float64"
      ]
     },
     "execution_count": 17,
     "metadata": {},
     "output_type": "execute_result"
    }
   ],
   "source": [
    "\n",
    "# Perform the similar operation as above but on a different distribution, e.g., wald. \n",
    "# Refer to the link  provided earlier to generate the initial samples. \n",
    "# Continue to use seaborn for plotting.\n",
    "s \n",
    "\n",
    "# To try Wald distribution function - np.random.wald\n",
    "#  use the random number generator - rng.wald \n",
    "\n",
    "s = pd.Series(rng.wald(3,2,100000))\n",
    "s"
   ]
  },
  {
   "cell_type": "code",
   "execution_count": 18,
   "id": "cb884558",
   "metadata": {
    "deletable": false,
    "editable": false
   },
   "outputs": [
    {
     "data": {
      "text/html": [
       "<p><strong><pre style='display: inline;'>q4a</pre></strong> passed! 🙌</p>"
      ],
      "text/plain": [
       "q4a results: All test cases passed!"
      ]
     },
     "execution_count": 18,
     "metadata": {},
     "output_type": "execute_result"
    }
   ],
   "source": [
    "grader.check(\"q4a\")"
   ]
  },
  {
   "cell_type": "markdown",
   "id": "3fdf306b-f3d1-46af-8f8c-d5fb7c6252ae",
   "metadata": {
    "deletable": false,
    "editable": false
   },
   "source": [
    "<!-- BEGIN QUESTION -->\n",
    "\n",
    "### Exercise 4B \n",
    "\n",
    "Repeat the analysis from above using the Wald distribution. "
   ]
  },
  {
   "cell_type": "code",
   "execution_count": 19,
   "id": "d56770b1-3349-42eb-8045-454e8b374cf0",
   "metadata": {
    "tags": []
   },
   "outputs": [
    {
     "data": {
      "image/png": "[encoded data removed]",
      "text/plain": [
       "<Figure size 800x600 with 1 Axes>"
      ]
     },
     "metadata": {},
     "output_type": "display_data"
    }
   ],
   "source": [
    "# Histogram plot of initial population\n",
    "#  Use seaborn for the plot\n",
    "\n",
    "sns.set_style('whitegrid')\n",
    "sns.set_style('ticks')\n",
    "fig, ax = plt.subplots()\n",
    "sns.histplot(data=s,color='blue')\n",
    "fig.set_size_inches(8, 6)\n",
    "plt.title('Histogram for Wald initial population stored in s')\n",
    "plt.show()\n"
   ]
  },
  {
   "cell_type": "markdown",
   "id": "ed87f372-aa01-45eb-a277-c4c056341ac2",
   "metadata": {
    "deletable": false,
    "editable": false
   },
   "source": [
    "<!-- END QUESTION -->\n",
    "\n",
    "<!-- BEGIN QUESTION -->\n",
    "\n",
    "### Exercise 4C \n",
    "\n",
    "Repeat the analysis from above. "
   ]
  },
  {
   "cell_type": "code",
   "execution_count": 20,
   "id": "e5224533-afe3-4764-bd63-c0e52061e3f4",
   "metadata": {
    "tags": []
   },
   "outputs": [
    {
     "name": "stdout",
     "output_type": "stream",
     "text": [
      "mean of random dataset, mu = 3.0149374157377276\n"
     ]
    },
    {
     "data": {
      "text/plain": [
       "Text(0.5, 0, 'mean population')"
      ]
     },
     "execution_count": 20,
     "metadata": {},
     "output_type": "execute_result"
    },
    {
     "data": {
      "image/png": "[encoded data removed]",
      "text/plain": [
       "<Figure size 640x480 with 1 Axes>"
      ]
     },
     "metadata": {},
     "output_type": "display_data"
    }
   ],
   "source": [
    "# Perform the similar operation as above but on a different distribution, e.g., wald. \n",
    "# Refer to the link  provided earlier to generate the initial samples. \n",
    "# Continue to use seaborn for plotting.\n",
    "\n",
    "mu = s.mean();\n",
    "print(\"mean of random dataset, mu = \" + str(mu))\n",
    "\n",
    "N_tests = 1000\n",
    "n = 50\n",
    "means = [0] * N_tests\n",
    "\n",
    "for i in range(N_tests):\n",
    "    observations = rng.choice(s.index.values,n)\n",
    "    sampled_pop = s.loc[observations]\n",
    "    means[i] = sampled_pop.mean()\n",
    "\n",
    "\n",
    "\n",
    "\n",
    "\n",
    "# Histogram of sampled means \n",
    " \n",
    "sns.histplot(data= means, bins=20)\n",
    "plt.ylabel('Probability')\n",
    "plt.xlabel('mean population')\n"
   ]
  },
  {
   "cell_type": "markdown",
   "id": "96dfa097",
   "metadata": {
    "deletable": false,
    "editable": false,
    "id": "BU5mL6hzmBSG"
   },
   "source": [
    "<!-- END QUESTION -->\n",
    "\n",
    "## Measuring Variability of Estimates"
   ]
  },
  {
   "cell_type": "markdown",
   "id": "689c742f",
   "metadata": {
    "id": "jYFNBONvmBSG"
   },
   "source": [
    "Since, both the uniform and other distribution in population resulted in the normal (Gaussian) distribution type in the sampled mean. Now, Method-1 (point estimates) and Method 2 (Confidence Interval) can be applied.  \n",
    "\n"
   ]
  },
  {
   "cell_type": "markdown",
   "id": "aa9553b4",
   "metadata": {
    "deletable": false,
    "editable": false,
    "id": "r06LO6HxaTcZ"
   },
   "source": [
    "<!-- BEGIN QUESTION -->\n",
    "\n",
    "## Exercise 5 - Confidence Intervals\n",
    "\n",
    "Refer to section 4.3.1 and 4.3.2 in the textbook and from `nb.week4` notebook. \n",
    "\n",
    "**Q** Explain in words (in the below Markdown cell), what is a Confidence Interval? \n",
    "\n",
    "**Q** What does it mean 95% C.I ? "
   ]
  },
  {
   "cell_type": "markdown",
   "id": "b66e3e9f",
   "metadata": {},
   "source": [
    "**ANSWER HERE:**\n",
    "\n",
    "* A confidence interval is  ...\n",
    "\n",
    "* 95% CI ... "
   ]
  },
  {
   "cell_type": "markdown",
   "id": "0f57f926",
   "metadata": {
    "deletable": false,
    "editable": false,
    "id": "jxRthnJemBSH"
   },
   "source": [
    "<!-- END QUESTION -->\n",
    "\n",
    "### Example - Confidence Intervals\n",
    "\n",
    "Spend some time reviewing https://docs.scipy.org/doc/scipy/reference/stats.html\n",
    "\n",
    "\n",
    "* Below piece of code is replicated from `nb.week4`. Have a look into the calculation of Confidence Intervals. What happens when confidence level is changed? to 90% --> 95% --> 99% --> 99.9 %.\n",
    "\n",
    "* Check with different no of samples. \n",
    "* Check what happens if the no. of N-test is increased. \n",
    "\n",
    "Read: 4.3.2 in textbook"
   ]
  },
  {
   "cell_type": "code",
   "execution_count": 21,
   "id": "163ec55e",
   "metadata": {
    "id": "riXC8xuKmBSI",
    "tags": []
   },
   "outputs": [
    {
     "name": "stdout",
     "output_type": "stream",
     "text": [
      "We are 99.0 % confident that the interval,\n",
      "   [2.9313405776295287, 3.740659422370471] contains the mean.\n"
     ]
    },
    {
     "data": {
      "image/png": "[encoded data removed]",
      "text/plain": [
       "<Figure size 800x400 with 1 Axes>"
      ]
     },
     "metadata": {},
     "output_type": "display_data"
    }
   ],
   "source": [
    "''' observe the output plot while changing the Confidence level, \n",
    "no of samples and no of times the test is performed '''\n",
    "\n",
    "# some sampled mean. Note, not mean of population\n",
    "xbar = sampled_wines[\"pH\"].mean() \n",
    "# some sampled S.D. Note, not s.d. of population\n",
    "sigma = sampled_wines[\"pH\"].std() \n",
    "\n",
    "\n",
    "alpha = 0.01\n",
    "\n",
    "z_alphadiv2 = norm.ppf(1-alpha/2)\n",
    "confidence = norm.cdf(z_alphadiv2)-norm.cdf(-z_alphadiv2)\n",
    "ci = [xbar - sigma*z_alphadiv2, xbar + sigma*z_alphadiv2 ]\n",
    "print (\"We are\", round (confidence,5)*100 , \"% confident that the interval,\")\n",
    "print (\"  \",  ci,  \"contains the mean.\")\n",
    "\n",
    "N_test = 100\n",
    "n = 25\n",
    "\n",
    "means = np.array([0.0] * N_test)   # initialize list for means\n",
    "sigma = np.array([0.0] * N_test)   # initialize list for standard deviation\n",
    "ci = np.array([[0.0,0.0]] * N_test)  # initialize list for confidence intervals\n",
    "mu = wine[\"pH\"].mean()  # true mean\n",
    "\n",
    "\n",
    "for i in range(N_test):\n",
    "    observations = rng.choice(wine.index.values,n)\n",
    "    sampled_wines = wine.loc[observations]\n",
    "    means[i] = sampled_wines[\"pH\"].mean()\n",
    "    sigma[i] = sampled_wines[\"pH\"].std()\n",
    "    ci[i] = means[i] + np.array([-sigma[i] * z_alphadiv2/np.sqrt(n), \n",
    "                                 sigma[i]*z_alphadiv2/np.sqrt(n)])\n",
    "\n",
    "out1 = ci[:,0] > mu # flag CI that do not contain the \"true\" mean\n",
    "out2 = ci[:,1] < mu # flag CI that do not contain the \"true\" mean\n",
    "\n",
    "\n",
    "fig, ax = plt.subplots(1, 1, figsize=(8, 4))\n",
    "ind = np.arange(1, N_test+1)\n",
    "ax.axhline(y = mu, \n",
    "           xmin = 0, \n",
    "           xmax = N_test+1, \n",
    "           color = [0, 0, 0])\n",
    "\n",
    "ci = np.transpose(ci)\n",
    "ax.plot([ind,ind], \n",
    "        ci, \n",
    "        color = '0.75', \n",
    "        marker = '_', \n",
    "        ms = 0, \n",
    "        linewidth = 3)\n",
    "ax.plot([ind[out1],ind[out1]], \n",
    "        ci[:, out1], \n",
    "        color = [1, 0, 0, 0.8], \n",
    "        marker = '_', \n",
    "        ms = 0, \n",
    "        linewidth = 3)\n",
    "ax.plot([ind[out2],ind[out2]], \n",
    "        ci[:, out2], \n",
    "        color = [1, 0, 0, 0.8], \n",
    "        marker = '_',\n",
    "        ms = 0, \n",
    "        linewidth = 3)\n",
    "ax.plot(ind, \n",
    "        means, \n",
    "        color = [0, .8, .2, .8], \n",
    "        marker = '.',\n",
    "        ms = 10, \n",
    "        linestyle = '')\n",
    "ax.set_ylabel(\"Confidence interval for the samples' mean estimate\",\n",
    "              fontsize = 12)\n",
    "ax.set_xlabel('Samples (with %d observations). '  %n, \n",
    "              fontsize = 12)\n",
    "n = plt.show()"
   ]
  },
  {
   "cell_type": "markdown",
   "id": "04637ef8",
   "metadata": {
    "deletable": false,
    "editable": false,
    "id": "_qp8ojqHmBSL"
   },
   "source": [
    "## Exercise 6\n",
    "\n",
    "Now assume that only the good quality wines are distilled at one of the wineries. It is known they contain pH greater than and equal to 3.5. The sampled mean by a quality inspector was 3.56 for a batch of 15 such wines. What is the 95% CI for mean? \n",
    " "
   ]
  },
  {
   "cell_type": "code",
   "execution_count": 22,
   "id": "0e6d82a3",
   "metadata": {
    "id": "p-yHex5hmBSM",
    "tags": []
   },
   "outputs": [
    {
     "name": "stdout",
     "output_type": "stream",
     "text": [
      "The mean is : 3.5633333333333335 & the Std deviation is: 0.06229729031789735\n",
      "We are 95.0 % confident that the interval\n",
      "    [3.5284738005710556, 3.5915261994289445] contains the mean.\n"
     ]
    }
   ],
   "source": [
    "\n",
    "\n",
    "# We are interested in only a wines which have pH greater than 3.5. \n",
    "# This becomes our population  of interest\n",
    "rng = np.random.default_rng(rng_seed)\n",
    "\n",
    "n = 15\n",
    "alpha = 0.05\n",
    "\n",
    "# Sample Mean\n",
    "Xbar = 3.56\n",
    "\n",
    "# Filtering data for higher quality wines with pH >= 3.5 \n",
    "highquality = wine[wine['pH']>= 3.5]\n",
    "sigma = highquality['pH'].std()\n",
    "\n",
    "\n",
    "observations = rng.choice(highquality.index.values, 15)\n",
    "sampled_observations = highquality.loc[observations]\n",
    "\n",
    "mu = sampled_observations['pH'].mean()\n",
    "sigma = sampled_observations['pH'].std()\n",
    "print('The mean is :', mu, '& the Std deviation is:', sigma)\n",
    "\n",
    "\n",
    "# standard error computation\n",
    "se = sigma/np.sqrt(n)\n",
    "z_alphadiv2 = norm.ppf(1-alpha/2)\n",
    "confidence = norm.cdf(z_alphadiv2)-norm.cdf(-z_alphadiv2)\n",
    "CI = [Xbar - se*z_alphadiv2,Xbar + se*z_alphadiv2 ]\n",
    "\n",
    "print('We are', round(100*confidence,3), \"% confident that the interval\")\n",
    "print(\"   \", CI , \"contains the mean.\")\n"
   ]
  },
  {
   "cell_type": "code",
   "execution_count": 23,
   "id": "6d4ec7f3",
   "metadata": {
    "deletable": false,
    "editable": false
   },
   "outputs": [
    {
     "data": {
      "text/html": [
       "<p><strong><pre style='display: inline;'>q6</pre></strong> passed! 💯</p>"
      ],
      "text/plain": [
       "q6 results: All test cases passed!"
      ]
     },
     "execution_count": 23,
     "metadata": {},
     "output_type": "execute_result"
    }
   ],
   "source": [
    "grader.check(\"q6\")"
   ]
  },
  {
   "cell_type": "markdown",
   "id": "85665539",
   "metadata": {
    "deletable": false,
    "editable": false,
    "id": "qbMshbLXmBSO"
   },
   "source": [
    "## Exercise 7\n",
    "\n",
    "Using `stats.norm.interval()`, CI can be computed.  Use this function to compute the 95% CI for mean of 3.56 (batch of 15)"
   ]
  },
  {
   "cell_type": "code",
   "execution_count": 24,
   "id": "ac2cc589",
   "metadata": {
    "id": "VJ5iiWv6mBSP",
    "tags": []
   },
   "outputs": [
    {
     "name": "stdout",
     "output_type": "stream",
     "text": [
      "We are 95.0 % confident that the interval\n",
      "    (3.5284738005710556, 3.5915261994289445) contains the mean.\n"
     ]
    }
   ],
   "source": [
    "n = 15\n",
    "#alpha = 0.05\n",
    "#Xbar = 3.56\n",
    "se = sigma/np.sqrt(n)\n",
    "\n",
    "CIs = stats.norm.interval(0.95,3.56, scale=se)\n",
    "print('We are', round(100*confidence,3), \"% confident that the interval\")\n",
    "print('   ', CIs , \"contains the mean.\")\n",
    "       "
   ]
  },
  {
   "cell_type": "code",
   "execution_count": 25,
   "id": "3f92216a",
   "metadata": {
    "deletable": false,
    "editable": false
   },
   "outputs": [
    {
     "data": {
      "text/html": [
       "<p><strong><pre style='display: inline;'>q7</pre></strong> passed! ✨</p>"
      ],
      "text/plain": [
       "q7 results: All test cases passed!"
      ]
     },
     "execution_count": 25,
     "metadata": {},
     "output_type": "execute_result"
    }
   ],
   "source": [
    "grader.check(\"q7\")"
   ]
  },
  {
   "cell_type": "markdown",
   "id": "c56a8c79",
   "metadata": {
    "id": "BGEdO4bpmBSR"
   },
   "source": [
    "### Example - t distribution\n",
    "\n",
    "\n",
    "If number of samples are low, it is better to use the t distribution.\n",
    "\n",
    "Recall, the exercise from `nb.week4`.  An engineer working for Ford is interested in the population of all vehicles that have an engine size of 3.0L or larger, and is particular interested in $\\mu$, the highway mileage (mpg). Assume the population is normally distributed. The sample mean among a random sample of 14 vehicles is 18.3 mpg, and the sample standard deviation is 5.1 mpg (note: $\\sigma$ is unknown). What is the 95% CI for $\\mu$?"
   ]
  },
  {
   "cell_type": "code",
   "execution_count": 26,
   "id": "3c01c588",
   "metadata": {
    "id": "QaNuygxRmBSS",
    "tags": []
   },
   "outputs": [
    {
     "name": "stdout",
     "output_type": "stream",
     "text": [
      "we are 95.0 % confident that the interval\n",
      "    [15.355347668416327, 21.244652331583676] contains the mean.\n"
     ]
    }
   ],
   "source": [
    "from scipy.stats import t\n",
    "alpha = 0.05\n",
    "xbar = 18.3\n",
    "n = 14\n",
    "dof = n-1\n",
    "se = 5.1/np.sqrt(n)\n",
    "t_alphadiv2 = t.ppf(1-alpha/2,dof)\n",
    "confidence = t.cdf (t_alphadiv2,dof)-t.cdf(-t_alphadiv2, dof)\n",
    "ci = [xbar - se*t_alphadiv2, xbar + se*t_alphadiv2]\n",
    "\n",
    "\n",
    "print('we are', round(100*(1-alpha), 3), '%', \"confident that the interval\")\n",
    "print('   ',  ci , \"contains the mean.\")\n",
    "\n"
   ]
  },
  {
   "cell_type": "markdown",
   "id": "c9f7c68c",
   "metadata": {
    "id": "ip7cgqdYmBSV"
   },
   "source": [
    "## Exercise 8 \n",
    "\n",
    "We can make a function out of the above code and/or can invoke Stats package from SciPy for the same. Recommended is to get use to stats package - `scipy.stats.t()`\n",
    "\n",
    "Apply `stats.t.interval()` function here to obatin the 95% CI, the sigma for this is known to be around 5.1. `xbar` is 18.3. The degrees of freedom are same as above n-1. \n",
    "\n",
    "https://docs.scipy.org/doc/scipy/reference/generated/scipy.stats.t.html\n"
   ]
  },
  {
   "cell_type": "code",
   "execution_count": 27,
   "id": "b970ea23",
   "metadata": {
    "id": "vy0klJwbmBSW",
    "tags": []
   },
   "outputs": [
    {
     "name": "stdout",
     "output_type": "stream",
     "text": [
      "we are 95.0 % confident that the interval\n",
      "    (15.355347668416327, 21.244652331583676) contains the mean.\n"
     ]
    }
   ],
   "source": [
    "# Use scipy.stats  \n",
    "from scipy.stats import t\n",
    "alpha = 0.05\n",
    "xbar = 18.3\n",
    "n =14\n",
    "dof = n-1\n",
    "sigma = 5.1\n",
    "se = 5.1/np.sqrt(n)\n",
    "CIt = stats.t.interval(1-alpha,dof, loc=xbar,scale=se)\n",
    "print('we are', round(100*(1-alpha), 3), '%', \"confident that the interval\")\n",
    "print(\"   \", CIt , \"contains the mean.\")"
   ]
  },
  {
   "cell_type": "code",
   "execution_count": 28,
   "id": "27f79291",
   "metadata": {
    "deletable": false,
    "editable": false
   },
   "outputs": [
    {
     "data": {
      "text/html": [
       "<p><strong><pre style='display: inline;'>q8</pre></strong> passed! 🍀</p>"
      ],
      "text/plain": [
       "q8 results: All test cases passed!"
      ]
     },
     "execution_count": 28,
     "metadata": {},
     "output_type": "execute_result"
    }
   ],
   "source": [
    "grader.check(\"q8\")"
   ]
  },
  {
   "cell_type": "markdown",
   "id": "076a1557",
   "metadata": {
    "id": "KzbLwksYmBSZ"
   },
   "source": [
    "### Example \n",
    "\n",
    "Calculate the standard error using `scipy.stats.sem()`\n",
    "\n",
    "https://docs.scipy.org/doc/scipy-0.14.0/reference/generated/scipy.stats.sem.html\n",
    "\n",
    "Standard error is computed by \\begin{align}\n",
    "S.E = \\frac{\\sigma}{\\sqrt{n}}\n",
    "\\end{align}\n",
    "\n"
   ]
  },
  {
   "cell_type": "code",
   "execution_count": 29,
   "id": "2d8c6829",
   "metadata": {
    "id": "jd069nazmBSa"
   },
   "outputs": [
    {
     "name": "stdout",
     "output_type": "stream",
     "text": [
      "S.E from sigma and n is:  0.016085091194337667\n",
      " and S.E from stats is also:  0.016085091194337667\n"
     ]
    }
   ],
   "source": [
    "from scipy import stats\n",
    "alpha = 0.05\n",
    "sigma = sampled_observations['pH'].std()\n",
    "n = 15\n",
    "se = sigma/np.sqrt(n)\n",
    "sef =  stats.sem(sampled_observations['pH'])\n",
    "print('S.E from sigma and n is: ', se)\n",
    "print(' and S.E from stats is also: ', sef)"
   ]
  },
  {
   "cell_type": "markdown",
   "id": "09890c51",
   "metadata": {
    "id": "lSuIMl4kmBSf"
   },
   "source": [
    "## Exercise 9 \n",
    "\n",
    "Now you have worked on `stats.normal.interval` and `stats.t.interval` to compute the CI. Try to solve the questions below.\n",
    "\n",
    " The random daily quality check at packaging unit yielded sigma of 2.0 for a samples of 150 observations and the mean was 3.7. Find the 90% confidence interval for of the mean."
   ]
  },
  {
   "cell_type": "code",
   "execution_count": 30,
   "id": "80e8c534",
   "metadata": {
    "id": "xrP0yhpAmBSf",
    "tags": []
   },
   "outputs": [
    {
     "name": "stdout",
     "output_type": "stream",
     "text": [
      "S.E (standard error) is:  0.16329931618554522\n",
      "we are 90.0 % confident that the interval(normal) is\n",
      "    (3.4313965274935105, 3.9686034725064894) contains the mean.\n"
     ]
    }
   ],
   "source": [
    "# compute the S.E (standard Error) using the formula explained earlier. \n",
    "from scipy import stats\n",
    "sigma = 2.0\n",
    "n=150\n",
    "xbar=3.7\n",
    "se=sigma/np.sqrt(n)\n",
    "\n",
    "# Use the most appropriate function: norm.interval or t.interval \n",
    "alpha = 0.10\n",
    "# CIs = stats.norm.interval(...)\n",
    "# CIs = stats.t.interval(...)\n",
    "CIs_norm = stats.norm.interval(1-alpha, loc=xbar,scale=se)\n",
    "#dof=n-1\n",
    "#CIs_t = stats.t.interval(1-alpha, dof,loc=xbar,scale=se)\n",
    "#choosing norm dist because samples are above 30\n",
    "print('S.E (standard error) is: ', se)\n",
    "print('we are', round(100*(1-alpha), 3), \"% confident that the interval(normal) is\")\n",
    "print(\"   \", CIs_norm, \"contains the mean.\")\n",
    "#print('we are', round(100*(1-alpha), 3), \"% confident that the interval(t-distribution) is\")\n",
    "#print(\"   \", CIs_t, \"contains the mean.\")"
   ]
  },
  {
   "cell_type": "code",
   "execution_count": 31,
   "id": "fffb665e",
   "metadata": {
    "deletable": false,
    "editable": false
   },
   "outputs": [
    {
     "data": {
      "text/html": [
       "<p><strong><pre style='display: inline;'>q9</pre></strong> passed! ✨</p>"
      ],
      "text/plain": [
       "q9 results: All test cases passed!"
      ]
     },
     "execution_count": 31,
     "metadata": {},
     "output_type": "execute_result"
    }
   ],
   "source": [
    "grader.check(\"q9\")"
   ]
  },
  {
   "cell_type": "markdown",
   "id": "00bbc7ee",
   "metadata": {
    "id": "9OSXJv5TmBSi"
   },
   "source": [
    "### Extra Exercises \n",
    "\n",
    "Now, if you have time, try to implement what you have learnt in this session to the avacado dataset, we had extracted from zipfile.\n",
    "\n",
    "1. What is the distribution of average price in the dataset?\n",
    "2. Distribution of sampled price?\n",
    "3. CI for a case. "
   ]
  },
  {
   "cell_type": "code",
   "execution_count": 32,
   "id": "4b7ba335-0293-497e-8e84-ed623af2066f",
   "metadata": {},
   "outputs": [
    {
     "data": {
      "text/html": [
       "<div>\n",
       "<style scoped>\n",
       "    .dataframe tbody tr th:only-of-type {\n",
       "        vertical-align: middle;\n",
       "    }\n",
       "\n",
       "    .dataframe tbody tr th {\n",
       "        vertical-align: top;\n",
       "    }\n",
       "\n",
       "    .dataframe thead th {\n",
       "        text-align: right;\n",
       "    }\n",
       "</style>\n",
       "<table border=\"1\" class=\"dataframe\">\n",
       "  <thead>\n",
       "    <tr style=\"text-align: right;\">\n",
       "      <th></th>\n",
       "      <th>Date</th>\n",
       "      <th>AveragePrice</th>\n",
       "      <th>Total Volume</th>\n",
       "      <th>4046</th>\n",
       "      <th>4225</th>\n",
       "      <th>4770</th>\n",
       "      <th>Total Bags</th>\n",
       "      <th>Small Bags</th>\n",
       "      <th>Large Bags</th>\n",
       "      <th>XLarge Bags</th>\n",
       "      <th>type</th>\n",
       "      <th>year</th>\n",
       "      <th>region</th>\n",
       "    </tr>\n",
       "  </thead>\n",
       "  <tbody>\n",
       "    <tr>\n",
       "      <th>0</th>\n",
       "      <td>2015-12-27</td>\n",
       "      <td>1.33</td>\n",
       "      <td>64236.62</td>\n",
       "      <td>1036.74</td>\n",
       "      <td>54454.85</td>\n",
       "      <td>48.16</td>\n",
       "      <td>8696.87</td>\n",
       "      <td>8603.62</td>\n",
       "      <td>93.25</td>\n",
       "      <td>0.0</td>\n",
       "      <td>conventional</td>\n",
       "      <td>2015</td>\n",
       "      <td>Albany</td>\n",
       "    </tr>\n",
       "    <tr>\n",
       "      <th>1</th>\n",
       "      <td>2015-12-20</td>\n",
       "      <td>1.35</td>\n",
       "      <td>54876.98</td>\n",
       "      <td>674.28</td>\n",
       "      <td>44638.81</td>\n",
       "      <td>58.33</td>\n",
       "      <td>9505.56</td>\n",
       "      <td>9408.07</td>\n",
       "      <td>97.49</td>\n",
       "      <td>0.0</td>\n",
       "      <td>conventional</td>\n",
       "      <td>2015</td>\n",
       "      <td>Albany</td>\n",
       "    </tr>\n",
       "    <tr>\n",
       "      <th>2</th>\n",
       "      <td>2015-12-13</td>\n",
       "      <td>0.93</td>\n",
       "      <td>118220.22</td>\n",
       "      <td>794.70</td>\n",
       "      <td>109149.67</td>\n",
       "      <td>130.50</td>\n",
       "      <td>8145.35</td>\n",
       "      <td>8042.21</td>\n",
       "      <td>103.14</td>\n",
       "      <td>0.0</td>\n",
       "      <td>conventional</td>\n",
       "      <td>2015</td>\n",
       "      <td>Albany</td>\n",
       "    </tr>\n",
       "    <tr>\n",
       "      <th>3</th>\n",
       "      <td>2015-12-06</td>\n",
       "      <td>1.08</td>\n",
       "      <td>78992.15</td>\n",
       "      <td>1132.00</td>\n",
       "      <td>71976.41</td>\n",
       "      <td>72.58</td>\n",
       "      <td>5811.16</td>\n",
       "      <td>5677.40</td>\n",
       "      <td>133.76</td>\n",
       "      <td>0.0</td>\n",
       "      <td>conventional</td>\n",
       "      <td>2015</td>\n",
       "      <td>Albany</td>\n",
       "    </tr>\n",
       "    <tr>\n",
       "      <th>4</th>\n",
       "      <td>2015-11-29</td>\n",
       "      <td>1.28</td>\n",
       "      <td>51039.60</td>\n",
       "      <td>941.48</td>\n",
       "      <td>43838.39</td>\n",
       "      <td>75.78</td>\n",
       "      <td>6183.95</td>\n",
       "      <td>5986.26</td>\n",
       "      <td>197.69</td>\n",
       "      <td>0.0</td>\n",
       "      <td>conventional</td>\n",
       "      <td>2015</td>\n",
       "      <td>Albany</td>\n",
       "    </tr>\n",
       "    <tr>\n",
       "      <th>...</th>\n",
       "      <td>...</td>\n",
       "      <td>...</td>\n",
       "      <td>...</td>\n",
       "      <td>...</td>\n",
       "      <td>...</td>\n",
       "      <td>...</td>\n",
       "      <td>...</td>\n",
       "      <td>...</td>\n",
       "      <td>...</td>\n",
       "      <td>...</td>\n",
       "      <td>...</td>\n",
       "      <td>...</td>\n",
       "      <td>...</td>\n",
       "    </tr>\n",
       "    <tr>\n",
       "      <th>7</th>\n",
       "      <td>2018-02-04</td>\n",
       "      <td>1.63</td>\n",
       "      <td>17074.83</td>\n",
       "      <td>2046.96</td>\n",
       "      <td>1529.20</td>\n",
       "      <td>0.00</td>\n",
       "      <td>13498.67</td>\n",
       "      <td>13066.82</td>\n",
       "      <td>431.85</td>\n",
       "      <td>0.0</td>\n",
       "      <td>organic</td>\n",
       "      <td>2018</td>\n",
       "      <td>WestTexNewMexico</td>\n",
       "    </tr>\n",
       "    <tr>\n",
       "      <th>8</th>\n",
       "      <td>2018-01-28</td>\n",
       "      <td>1.71</td>\n",
       "      <td>13888.04</td>\n",
       "      <td>1191.70</td>\n",
       "      <td>3431.50</td>\n",
       "      <td>0.00</td>\n",
       "      <td>9264.84</td>\n",
       "      <td>8940.04</td>\n",
       "      <td>324.80</td>\n",
       "      <td>0.0</td>\n",
       "      <td>organic</td>\n",
       "      <td>2018</td>\n",
       "      <td>WestTexNewMexico</td>\n",
       "    </tr>\n",
       "    <tr>\n",
       "      <th>9</th>\n",
       "      <td>2018-01-21</td>\n",
       "      <td>1.87</td>\n",
       "      <td>13766.76</td>\n",
       "      <td>1191.92</td>\n",
       "      <td>2452.79</td>\n",
       "      <td>727.94</td>\n",
       "      <td>9394.11</td>\n",
       "      <td>9351.80</td>\n",
       "      <td>42.31</td>\n",
       "      <td>0.0</td>\n",
       "      <td>organic</td>\n",
       "      <td>2018</td>\n",
       "      <td>WestTexNewMexico</td>\n",
       "    </tr>\n",
       "    <tr>\n",
       "      <th>10</th>\n",
       "      <td>2018-01-14</td>\n",
       "      <td>1.93</td>\n",
       "      <td>16205.22</td>\n",
       "      <td>1527.63</td>\n",
       "      <td>2981.04</td>\n",
       "      <td>727.01</td>\n",
       "      <td>10969.54</td>\n",
       "      <td>10919.54</td>\n",
       "      <td>50.00</td>\n",
       "      <td>0.0</td>\n",
       "      <td>organic</td>\n",
       "      <td>2018</td>\n",
       "      <td>WestTexNewMexico</td>\n",
       "    </tr>\n",
       "    <tr>\n",
       "      <th>11</th>\n",
       "      <td>2018-01-07</td>\n",
       "      <td>1.62</td>\n",
       "      <td>17489.58</td>\n",
       "      <td>2894.77</td>\n",
       "      <td>2356.13</td>\n",
       "      <td>224.53</td>\n",
       "      <td>12014.15</td>\n",
       "      <td>11988.14</td>\n",
       "      <td>26.01</td>\n",
       "      <td>0.0</td>\n",
       "      <td>organic</td>\n",
       "      <td>2018</td>\n",
       "      <td>WestTexNewMexico</td>\n",
       "    </tr>\n",
       "  </tbody>\n",
       "</table>\n",
       "<p>18249 rows × 13 columns</p>\n",
       "</div>"
      ],
      "text/plain": [
       "          Date  AveragePrice  Total Volume     4046       4225    4770   \n",
       "0   2015-12-27          1.33      64236.62  1036.74   54454.85   48.16  \\\n",
       "1   2015-12-20          1.35      54876.98   674.28   44638.81   58.33   \n",
       "2   2015-12-13          0.93     118220.22   794.70  109149.67  130.50   \n",
       "3   2015-12-06          1.08      78992.15  1132.00   71976.41   72.58   \n",
       "4   2015-11-29          1.28      51039.60   941.48   43838.39   75.78   \n",
       "..         ...           ...           ...      ...        ...     ...   \n",
       "7   2018-02-04          1.63      17074.83  2046.96    1529.20    0.00   \n",
       "8   2018-01-28          1.71      13888.04  1191.70    3431.50    0.00   \n",
       "9   2018-01-21          1.87      13766.76  1191.92    2452.79  727.94   \n",
       "10  2018-01-14          1.93      16205.22  1527.63    2981.04  727.01   \n",
       "11  2018-01-07          1.62      17489.58  2894.77    2356.13  224.53   \n",
       "\n",
       "    Total Bags  Small Bags  Large Bags  XLarge Bags          type  year   \n",
       "0      8696.87     8603.62       93.25          0.0  conventional  2015  \\\n",
       "1      9505.56     9408.07       97.49          0.0  conventional  2015   \n",
       "2      8145.35     8042.21      103.14          0.0  conventional  2015   \n",
       "3      5811.16     5677.40      133.76          0.0  conventional  2015   \n",
       "4      6183.95     5986.26      197.69          0.0  conventional  2015   \n",
       "..         ...         ...         ...          ...           ...   ...   \n",
       "7     13498.67    13066.82      431.85          0.0       organic  2018   \n",
       "8      9264.84     8940.04      324.80          0.0       organic  2018   \n",
       "9      9394.11     9351.80       42.31          0.0       organic  2018   \n",
       "10    10969.54    10919.54       50.00          0.0       organic  2018   \n",
       "11    12014.15    11988.14       26.01          0.0       organic  2018   \n",
       "\n",
       "              region  \n",
       "0             Albany  \n",
       "1             Albany  \n",
       "2             Albany  \n",
       "3             Albany  \n",
       "4             Albany  \n",
       "..               ...  \n",
       "7   WestTexNewMexico  \n",
       "8   WestTexNewMexico  \n",
       "9   WestTexNewMexico  \n",
       "10  WestTexNewMexico  \n",
       "11  WestTexNewMexico  \n",
       "\n",
       "[18249 rows x 13 columns]"
      ]
     },
     "execution_count": 32,
     "metadata": {},
     "output_type": "execute_result"
    }
   ],
   "source": [
    "avacado"
   ]
  },
  {
   "cell_type": "code",
   "execution_count": 33,
   "id": "806687dd-c8c5-4799-93ad-4b9b116a8abc",
   "metadata": {},
   "outputs": [
    {
     "data": {
      "text/plain": [
       "0     1.33\n",
       "1     1.35\n",
       "2     0.93\n",
       "3     1.08\n",
       "4     1.28\n",
       "      ... \n",
       "7     1.63\n",
       "8     1.71\n",
       "9     1.87\n",
       "10    1.93\n",
       "11    1.62\n",
       "Name: AveragePrice, Length: 18249, dtype: float64"
      ]
     },
     "execution_count": 33,
     "metadata": {},
     "output_type": "execute_result"
    }
   ],
   "source": [
    "avacado['AveragePrice']"
   ]
  },
  {
   "cell_type": "markdown",
   "id": "a8a0a86b-f1c7-4715-8abe-a36246b7ff28",
   "metadata": {},
   "source": [
    "1. What is the distribution of average price in the dataset?"
   ]
  },
  {
   "cell_type": "code",
   "execution_count": 34,
   "id": "2113c77b-e889-4dc3-8212-c09a5016203a",
   "metadata": {},
   "outputs": [
    {
     "data": {
      "image/png": "[encoded data removed]",
      "text/plain": [
       "<Figure size 640x480 with 1 Axes>"
      ]
     },
     "metadata": {},
     "output_type": "display_data"
    }
   ],
   "source": [
    "sns.set_style('whitegrid')\n",
    "sns.set_style('ticks')\n",
    "fig, ax = plt.subplots()\n",
    "sns.histplot(data= avacado['AveragePrice'], bins=20, color='green')\n",
    "plt.title('Distribution of average price')\n",
    "plt.ylabel('Count of avacado')\n",
    "plt.xlabel('Average price')\n",
    "plt.show()"
   ]
  },
  {
   "cell_type": "markdown",
   "id": "46fbfe2a-605c-4c49-a154-3ebbe0a0caf9",
   "metadata": {},
   "source": [
    "2. Distribution of sampled price?\n",
    "Let's consider n = 4000 samples"
   ]
  },
  {
   "cell_type": "code",
   "execution_count": 35,
   "id": "e20e03a5-c621-4c2b-a7ca-8b66f402af48",
   "metadata": {},
   "outputs": [],
   "source": [
    "n=4000"
   ]
  },
  {
   "cell_type": "code",
   "execution_count": 36,
   "id": "df403a6f-9fe9-4293-aa22-1b0d4cfc36fd",
   "metadata": {},
   "outputs": [
    {
     "data": {
      "text/plain": [
       "27    0.94\n",
       "49    1.27\n",
       "16    1.76\n",
       "16    1.31\n",
       "25    0.70\n",
       "      ... \n",
       "43    1.67\n",
       "19    1.97\n",
       "29    1.08\n",
       "47    0.98\n",
       "5     2.01\n",
       "Name: AveragePrice, Length: 4000, dtype: float64"
      ]
     },
     "execution_count": 36,
     "metadata": {},
     "output_type": "execute_result"
    }
   ],
   "source": [
    "sample_prices = avacado['AveragePrice'].sample(n=4000)\n",
    "sample_prices"
   ]
  },
  {
   "cell_type": "code",
   "execution_count": 37,
   "id": "963e4603-47fe-4ded-8e97-46cc2489d268",
   "metadata": {},
   "outputs": [
    {
     "data": {
      "image/png": "[encoded data removed]",
      "text/plain": [
       "<Figure size 640x480 with 1 Axes>"
      ]
     },
     "metadata": {},
     "output_type": "display_data"
    }
   ],
   "source": [
    "sns.set_style('whitegrid')\n",
    "sns.set_style('ticks')\n",
    "fig, ax = plt.subplots()\n",
    "sns.histplot(data= sample_prices, bins=25, color='purple')\n",
    "plt.title('Distribution of sample average price')\n",
    "plt.ylabel('Count of avacado')\n",
    "plt.xlabel('Average price')\n",
    "plt.show()"
   ]
  },
  {
   "cell_type": "markdown",
   "id": "5809d1cc-df67-4028-82a2-88bf7c75b87b",
   "metadata": {},
   "source": [
    "3.CI for a case.\n",
    "Since the n value is greater than 30 , let's take normal distribution and compute the CI"
   ]
  },
  {
   "cell_type": "code",
   "execution_count": 38,
   "id": "e80454f4-bc52-4e21-b934-08847d84730c",
   "metadata": {},
   "outputs": [
    {
     "name": "stdout",
     "output_type": "stream",
     "text": [
      "We are 95.0 % confident that the interval\n",
      "    (1.4001360957000322, 1.411820723851724) contains the mean.\n",
      "    1.405978409775878 is the mean.\n"
     ]
    }
   ],
   "source": [
    "xbar = avacado['AveragePrice'].mean()\n",
    "#CI for 95%\n",
    "n=avacado['AveragePrice'].shape[0]\n",
    "alpha = 0.05\n",
    "sigma = avacado['AveragePrice'].std()\n",
    "se=sigma/np.sqrt(n)\n",
    "\n",
    "CIs = stats.norm.interval(0.95,loc=xbar, scale=se)\n",
    "print('We are', round(100*confidence,3), \"% confident that the interval\")\n",
    "print('   ', CIs , \"contains the mean.\")\n",
    "print('   ', xbar, \"is the mean.\")"
   ]
  },
  {
   "cell_type": "code",
   "execution_count": null,
   "id": "6815d826-d65d-4ded-9cc3-b8912c0c8bab",
   "metadata": {},
   "outputs": [],
   "source": []
  },
  {
   "cell_type": "code",
   "execution_count": null,
   "id": "2a269d6a-bfa1-4d39-8ded-3eded04d9657",
   "metadata": {},
   "outputs": [],
   "source": []
  },
  {
   "cell_type": "markdown",
   "id": "acf3bc14-35c3-4510-b579-5986bf6ae4c0",
   "metadata": {
    "id": "uiFRTCVEmBSi"
   },
   "source": [
    "## Congratulations! You have finished Lab4! \n",
    "\n",
    "### Submission Instructions\n",
    "\n",
    "Below, you will see a cell. Running this cell will automatically generate a zip file with your autograded answers. Once you submit this file to the Lab 4 assignment on Gradescope, Gradescope will automatically submit a PDF file with your some of your answers to the Lab 4 - Figures assignment (making them easier to grade). \n",
    "\n",
    "**Important**: Please check that your responses were generated and submitted correctly to the Lab 4 - Figures Assignment. \n",
    "\n",
    "**You are responsible for ensuring your submission follows our requirements and that the PDF for Lab 4 - Figures answers was generated/submitted correctly. We will not be granting regrade requests nor extensions to submissions that don't follow instructions.** If you encounter any difficulties with the submission, contact course staff well-ahead of the deadline. \n",
    "\n",
    "Make sure you have run all cells in your notebook **in order** before running the cell below, so that all images/graphs appear in the output. The cell below will generate a zip file for you to submit. **Please save before exporting!**"
   ]
  },
  {
   "cell_type": "markdown",
   "id": "77126b40",
   "metadata": {
    "deletable": false,
    "editable": false
   },
   "source": [
    "## Submission\n",
    "\n",
    "Make sure you have run all cells in your notebook in order before running the cell below, so that all images/graphs appear in the output. The cell below will generate a zip file for you to submit. **Please save before exporting!**"
   ]
  },
  {
   "cell_type": "code",
   "execution_count": 39,
   "id": "5de57e48",
   "metadata": {
    "deletable": false,
    "editable": false
   },
   "outputs": [
    {
     "data": {
      "text/html": [
       "\n",
       "            <p>Your submission has been exported. Click <a href=\"lab4_2024_09_25T19_27_15_133085.zip\" download=\"lab4_2024_09_25T19_27_15_133085.zip\" target=\"_blank\">here</a>\n",
       "            to download the zip file.</p>\n",
       "            "
      ],
      "text/plain": [
       "<IPython.core.display.HTML object>"
      ]
     },
     "metadata": {},
     "output_type": "display_data"
    }
   ],
   "source": [
    "# Save your notebook first, then run this cell to export your submission.\n",
    "grader.export()"
   ]
  },
  {
   "cell_type": "markdown",
   "id": "9387b0a6",
   "metadata": {},
   "source": [
    " "
   ]
  }
 ],
 "metadata": {
  "kernelspec": {
   "display_name": "Python 3 (ipykernel)",
   "language": "python",
   "name": "python3"
  },
  "language_info": {
   "codemirror_mode": {
    "name": "ipython",
    "version": 3
   },
   "file_extension": ".py",
   "mimetype": "text/x-python",
   "name": "python",
   "nbconvert_exporter": "python",
   "pygments_lexer": "ipython3",
   "version": "3.10.11"
  },
  "otter": {
   "OK_FORMAT": true,
   "assignment_name": "lab4",
   "tests": {
    "q2a": {
     "name": "q2a",
     "points": 2,
     "suites": [
      {
       "cases": [
        {
         "code": ">>> np.isclose(s[0], 0.033877795)\nTrue",
         "hidden": false,
         "locked": false
        },
        {
         "code": ">>> np.isclose(s[5], 0.053325084)\nTrue",
         "hidden": false,
         "locked": false
        }
       ],
       "scored": true,
       "setup": "",
       "teardown": "",
       "type": "doctest"
      }
     ]
    },
    "q3a": {
     "name": "q3a",
     "points": 2,
     "suites": [
      {
       "cases": [
        {
         "code": ">>> np.isclose(s[0], 3.627469487)\nTrue",
         "hidden": false,
         "locked": false
        },
        {
         "code": ">>> np.isclose(s[10], 4.451650170)\nTrue",
         "hidden": false,
         "locked": false
        }
       ],
       "scored": true,
       "setup": "",
       "teardown": "",
       "type": "doctest"
      }
     ]
    },
    "q4a": {
     "name": "q4a",
     "points": 2,
     "suites": [
      {
       "cases": [
        {
         "code": ">>> np.isclose(s[0], 2.883868)\nTrue",
         "hidden": false,
         "locked": false
        },
        {
         "code": ">>> np.isclose(s[10], 1.09204396)\nTrue",
         "hidden": false,
         "locked": false
        }
       ],
       "scored": true,
       "setup": "",
       "teardown": "",
       "type": "doctest"
      }
     ]
    },
    "q6": {
     "name": "q6",
     "points": [
      1,
      1,
      1,
      1
     ],
     "suites": [
      {
       "cases": [
        {
         "code": ">>> np.isclose(mu, 3.5633333)\nTrue",
         "hidden": false,
         "locked": false
        },
        {
         "code": ">>> np.isclose(sigma, 0.06229729)\nTrue",
         "hidden": false,
         "locked": false
        },
        {
         "code": ">>> np.isclose(round(100*confidence, 3), 95.0)\nTrue",
         "hidden": false,
         "locked": false
        },
        {
         "code": ">>> type(CI[0]) == np.float64\nTrue",
         "hidden": false,
         "locked": false
        }
       ],
       "scored": true,
       "setup": "",
       "teardown": "",
       "type": "doctest"
      }
     ]
    },
    "q7": {
     "name": "q7",
     "points": 4,
     "suites": [
      {
       "cases": [
        {
         "code": ">>> type(CIs[0]) == np.float64\nTrue",
         "hidden": false,
         "locked": false
        },
        {
         "code": ">>> type(CIs) == tuple\nTrue",
         "hidden": false,
         "locked": false
        }
       ],
       "scored": true,
       "setup": "",
       "teardown": "",
       "type": "doctest"
      }
     ]
    },
    "q8": {
     "name": "q8",
     "points": [
      1
     ],
     "suites": [
      {
       "cases": [
        {
         "code": ">>> type(CIt[0]) == np.float64\nTrue",
         "hidden": false,
         "locked": false
        }
       ],
       "scored": true,
       "setup": "",
       "teardown": "",
       "type": "doctest"
      }
     ]
    },
    "q9": {
     "name": "q9",
     "points": [
      1
     ],
     "suites": [
      {
       "cases": [
        {
         "code": ">>> type(CIs[0]) == np.float64\nTrue",
         "hidden": false,
         "locked": false
        }
       ],
       "scored": true,
       "setup": "",
       "teardown": "",
       "type": "doctest"
      }
     ]
    }
   }
  }
 },
 "nbformat": 4,
 "nbformat_minor": 5
}
