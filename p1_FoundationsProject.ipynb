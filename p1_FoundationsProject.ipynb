{
 "cells": [
  {
   "cell_type": "markdown",
   "id": "7134e515",
   "metadata": {
    "id": "W2ojiYcNJ-BQ"
   },
   "source": [
    "# P1 - Experience with Pandas\n",
    "\n",
    "\n",
    "\n",
    "In this project, you will be working with the Global Land Temperature Data set. \n",
    "\n",
    "    \"Berkeley Earth provides high-resolution land and ocean time series data and gridded temperature data. Our\n",
    "    peer-reviewed methodology incorporates more temperature observations than other available products, and often\n",
    "    has better coverage. Global datasets begin in 1850, with some land-only areas reported back to 1750. The \n",
    "    newest generation of our products are augmented by machine learning techniques to improve the spatial \n",
    "    resolution. This allows Berkeley Earth to provide the most comprehensive, high-resolution instrumental\n",
    "    temperature data product available.\"\n",
    "    -- https://berkeleyearth.org/data/\n",
    "\n",
    "The data we will be working with is available online at: \n",
    "https://berkeley-earth-temperature.s3.us-west-1.amazonaws.com/Global/Complete_TAVG_daily.txt\n",
    "\n",
    "Be sure to investigate and understand the data, format, and descriptions provided.\n",
    "\n"
   ]
  },
  {
   "cell_type": "markdown",
   "id": "4c785d8f",
   "metadata": {},
   "source": [
    "### Autograder Setup\n",
    "\n",
    "You will have access to a few tests for the project.  Note, when you submit the autograder will run additional \"hidden\" tests on your solutions. \n",
    "\n",
    "Always make sure that you are answering the question as asked.  Do not rely on passing the public tests to ensure that you have correctly or completely answered the problems. \n",
    " "
   ]
  },
  {
   "cell_type": "markdown",
   "id": "646fa752",
   "metadata": {},
   "source": [
    "### Project Setup \n",
    "\n",
    "You should use the following libraries to complete this assignment:"
   ]
  },
  {
   "cell_type": "code",
   "execution_count": 1,
   "id": "6e2b4457",
   "metadata": {
    "executionInfo": {
     "elapsed": 6,
     "status": "ok",
     "timestamp": 1631801601853,
     "user": {
      "displayName": "Laura Brown",
      "photoUrl": "https://lh3.googleusercontent.com/a-/AOh14GjYbC5So3kNOYBteW-fSY5JpgP-bBJa7kyAEluaKg=s64",
      "userId": "02180634349638765126"
     },
     "user_tz": 240
    },
    "id": "i7IZpH0fJ9Fk",
    "tags": []
   },
   "outputs": [],
   "source": [
    "# Imports\n",
    "import pandas as pd\n",
    "import numpy as np\n",
    "import seaborn as sns\n",
    "import matplotlib as mpl\n",
    "import matplotlib.pyplot as plt\n",
    "%matplotlib inline\n",
    "\n",
    "import os\n",
    "import otter\n",
    "grader = otter.Notebook()"
   ]
  },
  {
   "cell_type": "markdown",
   "id": "e5b1474a",
   "metadata": {
    "id": "xWVyWP8EKTQ2"
   },
   "source": [
    "## 1. (20 pts) Get the Data\n",
    "\n",
    "Read in the data from the link provided.  \n",
    "\n"
   ]
  },
  {
   "cell_type": "markdown",
   "id": "93b10fea",
   "metadata": {
    "deletable": false,
    "editable": false,
    "id": "ZFm_ciSKN2Wb"
   },
   "source": [
    "### 1a. Load the data\n",
    "\n",
    "Write a function to read in the data to a DataFrame object.  \n",
    "In the function, you will print the number of rows, columns, and data types of each column using a print statement.\n",
    "\n",
    "The function includes a few arguments that may be helpful for using the [`read_csv` function](https://pandas.pydata.org/pandas-docs/stable/reference/api/pandas.read_csv.html) \n",
    "\n",
    "Make sure to use the same column names as given in the data, but replacing '*space* ' with '_'.\n",
    "    \n",
    "*Hint: Column names should be coded as `Date_Number`, `Year`, `Month`, `Day`, `Day_of_Year`, `Anomaly`.*"
   ]
  },
  {
   "cell_type": "code",
   "execution_count": 2,
   "id": "de83c8a0",
   "metadata": {
    "colab": {
     "base_uri": "https://localhost:8080/",
     "height": 592
    },
    "executionInfo": {
     "elapsed": 871,
     "status": "ok",
     "timestamp": 1631801764595,
     "user": {
      "displayName": "Laura Brown",
      "photoUrl": "https://lh3.googleusercontent.com/a-/AOh14GjYbC5So3kNOYBteW-fSY5JpgP-bBJa7kyAEluaKg=s64",
      "userId": "02180634349638765126"
     },
     "user_tz": 240
    },
    "id": "KXDkKNkxJtsa",
    "outputId": "4e6d81a1-c991-442c-ab02-099860d03cde",
    "tags": []
   },
   "outputs": [
    {
     "name": "stdout",
     "output_type": "stream",
     "text": [
      "Number of Rows: 52077\n",
      "Number of Columns: 6\n",
      "Column Data Types:\n",
      "Date_Number    float64\n",
      "Year             int64\n",
      "Month            int64\n",
      "Day              int64\n",
      "Day_of_Year      int64\n",
      "Anomaly        float64\n",
      "dtype: object\n"
     ]
    },
    {
     "data": {
      "text/html": [
       "<div>\n",
       "<style scoped>\n",
       "    .dataframe tbody tr th:only-of-type {\n",
       "        vertical-align: middle;\n",
       "    }\n",
       "\n",
       "    .dataframe tbody tr th {\n",
       "        vertical-align: top;\n",
       "    }\n",
       "\n",
       "    .dataframe thead th {\n",
       "        text-align: right;\n",
       "    }\n",
       "</style>\n",
       "<table border=\"1\" class=\"dataframe\">\n",
       "  <thead>\n",
       "    <tr style=\"text-align: right;\">\n",
       "      <th></th>\n",
       "      <th>Date_Number</th>\n",
       "      <th>Year</th>\n",
       "      <th>Month</th>\n",
       "      <th>Day</th>\n",
       "      <th>Day_of_Year</th>\n",
       "      <th>Anomaly</th>\n",
       "    </tr>\n",
       "  </thead>\n",
       "  <tbody>\n",
       "    <tr>\n",
       "      <th>0</th>\n",
       "      <td>1880.001</td>\n",
       "      <td>1880</td>\n",
       "      <td>1</td>\n",
       "      <td>1</td>\n",
       "      <td>1</td>\n",
       "      <td>-0.692</td>\n",
       "    </tr>\n",
       "    <tr>\n",
       "      <th>1</th>\n",
       "      <td>1880.004</td>\n",
       "      <td>1880</td>\n",
       "      <td>1</td>\n",
       "      <td>2</td>\n",
       "      <td>2</td>\n",
       "      <td>-0.592</td>\n",
       "    </tr>\n",
       "    <tr>\n",
       "      <th>2</th>\n",
       "      <td>1880.007</td>\n",
       "      <td>1880</td>\n",
       "      <td>1</td>\n",
       "      <td>3</td>\n",
       "      <td>3</td>\n",
       "      <td>-0.673</td>\n",
       "    </tr>\n",
       "    <tr>\n",
       "      <th>3</th>\n",
       "      <td>1880.010</td>\n",
       "      <td>1880</td>\n",
       "      <td>1</td>\n",
       "      <td>4</td>\n",
       "      <td>4</td>\n",
       "      <td>-0.615</td>\n",
       "    </tr>\n",
       "    <tr>\n",
       "      <th>4</th>\n",
       "      <td>1880.012</td>\n",
       "      <td>1880</td>\n",
       "      <td>1</td>\n",
       "      <td>5</td>\n",
       "      <td>5</td>\n",
       "      <td>-0.681</td>\n",
       "    </tr>\n",
       "    <tr>\n",
       "      <th>...</th>\n",
       "      <td>...</td>\n",
       "      <td>...</td>\n",
       "      <td>...</td>\n",
       "      <td>...</td>\n",
       "      <td>...</td>\n",
       "      <td>...</td>\n",
       "    </tr>\n",
       "    <tr>\n",
       "      <th>52072</th>\n",
       "      <td>2022.568</td>\n",
       "      <td>2022</td>\n",
       "      <td>7</td>\n",
       "      <td>27</td>\n",
       "      <td>208</td>\n",
       "      <td>1.639</td>\n",
       "    </tr>\n",
       "    <tr>\n",
       "      <th>52073</th>\n",
       "      <td>2022.571</td>\n",
       "      <td>2022</td>\n",
       "      <td>7</td>\n",
       "      <td>28</td>\n",
       "      <td>209</td>\n",
       "      <td>1.631</td>\n",
       "    </tr>\n",
       "    <tr>\n",
       "      <th>52074</th>\n",
       "      <td>2022.574</td>\n",
       "      <td>2022</td>\n",
       "      <td>7</td>\n",
       "      <td>29</td>\n",
       "      <td>210</td>\n",
       "      <td>1.574</td>\n",
       "    </tr>\n",
       "    <tr>\n",
       "      <th>52075</th>\n",
       "      <td>2022.577</td>\n",
       "      <td>2022</td>\n",
       "      <td>7</td>\n",
       "      <td>30</td>\n",
       "      <td>211</td>\n",
       "      <td>1.577</td>\n",
       "    </tr>\n",
       "    <tr>\n",
       "      <th>52076</th>\n",
       "      <td>2022.579</td>\n",
       "      <td>2022</td>\n",
       "      <td>7</td>\n",
       "      <td>31</td>\n",
       "      <td>212</td>\n",
       "      <td>1.629</td>\n",
       "    </tr>\n",
       "  </tbody>\n",
       "</table>\n",
       "<p>52077 rows × 6 columns</p>\n",
       "</div>"
      ],
      "text/plain": [
       "       Date_Number  Year  Month  Day  Day_of_Year  Anomaly\n",
       "0         1880.001  1880      1    1            1   -0.692\n",
       "1         1880.004  1880      1    2            2   -0.592\n",
       "2         1880.007  1880      1    3            3   -0.673\n",
       "3         1880.010  1880      1    4            4   -0.615\n",
       "4         1880.012  1880      1    5            5   -0.681\n",
       "...            ...   ...    ...  ...          ...      ...\n",
       "52072     2022.568  2022      7   27          208    1.639\n",
       "52073     2022.571  2022      7   28          209    1.631\n",
       "52074     2022.574  2022      7   29          210    1.574\n",
       "52075     2022.577  2022      7   30          211    1.577\n",
       "52076     2022.579  2022      7   31          212    1.629\n",
       "\n",
       "[52077 rows x 6 columns]"
      ]
     },
     "execution_count": 2,
     "metadata": {},
     "output_type": "execute_result"
    }
   ],
   "source": [
    "def p1_q1a(url, column_names=None, separator=',', paramA=None):\n",
    "    '''\n",
    "    - Description - \n",
    "    Read in data from URL to a DataFrame object \n",
    "    Report the number of rows and columns with a print statement.\n",
    "    Addtionally, print the data types of each column\n",
    "    Use pandas.read_csv(...):\n",
    "    https://pandas.pydata.org/pandas-docs/stable/reference/api/pandas.read_csv.html\n",
    "\n",
    "    - Inputs - \n",
    "    url: location of dataset file, filepath_or_buffer\n",
    "    column_names: list of column names to add to DataFrame (default is None)\n",
    "    separator: delimiter to use (default is a comma)\n",
    "    paramA: additional parameter that may be passed to read_csv (default is None)\n",
    "\n",
    "    - Outputs - \n",
    "    df: return object is a DataFrame\n",
    "\n",
    "    - Print Statements you should include - \n",
    "    print(\"Number of Rows: ...\")\n",
    "    print(\"Number of Columns: ...\")\n",
    "    print(\"Column Data Types:\")\n",
    "    print(Data Types)\n",
    "    '''\n",
    "\n",
    "    df = pd.read_csv(url, names=column_names, sep=separator, comment=paramA)\n",
    "    print(\"Number of Rows: \" + str(len(df.index)))\n",
    "    print(\"Number of Columns: \" + str(len(df.columns)))\n",
    "    print(\"Column Data Types:\")\n",
    "    print(df.dtypes)\n",
    "    return df\n",
    "\n",
    "\n",
    "url = 'https://berkeley-earth-temperature.s3.us-west-1.amazonaws.com/Global/Complete_TAVG_daily.txt'\n",
    "cnames = ['Date_Number', 'Year', 'Month', 'Day', 'Day_of_Year', 'Anomaly']\n",
    "separator = r'\\s+'\n",
    "argA = '%'\n",
    "\n",
    "climate = p1_q1a(url, cnames, separator, argA)\n",
    "climate"
   ]
  },
  {
   "cell_type": "code",
   "execution_count": 3,
   "id": "491b8103",
   "metadata": {
    "deletable": false,
    "editable": false
   },
   "outputs": [
    {
     "data": {
      "text/html": [
       "<p><strong><pre style='display: inline;'>p1_q1a</pre></strong> passed! 💯</p>"
      ],
      "text/plain": [
       "p1_q1a results: All test cases passed!"
      ]
     },
     "execution_count": 3,
     "metadata": {},
     "output_type": "execute_result"
    }
   ],
   "source": [
    "grader.check(\"p1_q1a\")"
   ]
  },
  {
   "cell_type": "markdown",
   "id": "c47e2f6c",
   "metadata": {
    "deletable": false,
    "editable": false,
    "id": "4a4PIhFIKu8t"
   },
   "source": [
    "<!-- BEGIN QUESTION -->\n",
    "\n",
    "### 1b. Understand the Data\n",
    "\n",
    "What are the column names and what do they correspond to? *Use this Markdown cell to describe each succinctly (< 15 words per column)*\n",
    "\n",
    "Also, provide example code on how to detect if there are missing data in each column. This should only be a single line of code. *You can add a code cell to run the code and determine if there is missing entries, but then delete the cell you added.*\n",
    "\n",
    "State whether there is any missing entries in the DataFrame. "
   ]
  },
  {
   "cell_type": "markdown",
   "id": "30bf4c83",
   "metadata": {},
   "source": [
    "* `Date_Number` is the sequential number representing the date.\n",
    "* `Year` is the year of the observation.\n",
    "* `Month` is the month of the year.\n",
    "* `Day` is the day of the month.\n",
    "* `Day_of_Year` is the day number in the year.\n",
    "* `Anomaly` is the temperature anomaly in °C.\n",
    "\n",
    "Code for missing entries for each column \n",
    "```\n",
    "climate.isnull().sum()\n",
    "\n",
    "```\n",
    "\n",
    "There is no missing data"
   ]
  },
  {
   "cell_type": "code",
   "execution_count": 4,
   "id": "97584410-3a55-4f42-a250-3a4f38442833",
   "metadata": {},
   "outputs": [],
   "source": [
    "#climate.isnull().sum()"
   ]
  },
  {
   "cell_type": "markdown",
   "id": "1dd95d9d-83c8-4810-bcbd-6231a5b2082f",
   "metadata": {
    "deletable": false,
    "editable": false
   },
   "source": [
    "<!-- END QUESTION -->\n",
    "\n",
    "## 2. (8 pts) Manipulate Data"
   ]
  },
  {
   "cell_type": "markdown",
   "id": "53ed341f",
   "metadata": {
    "deletable": false,
    "editable": false,
    "id": "Heb-hPYyKz2O"
   },
   "source": [
    "### 2a.  Add Temperature Column \n",
    "\n",
    "Add a new column to your DataFrame. \n",
    "\n",
    "The new column `Temp_C` adds the anomaly information to the estimated average temperature given in the data description (use the value and ignore the +/- part).  "
   ]
  },
  {
   "cell_type": "code",
   "execution_count": 5,
   "id": "e4860399",
   "metadata": {
    "colab": {
     "base_uri": "https://localhost:8080/"
    },
    "executionInfo": {
     "elapsed": 167,
     "status": "ok",
     "timestamp": 1631801901949,
     "user": {
      "displayName": "Laura Brown",
      "photoUrl": "https://lh3.googleusercontent.com/a-/AOh14GjYbC5So3kNOYBteW-fSY5JpgP-bBJa7kyAEluaKg=s64",
      "userId": "02180634349638765126"
     },
     "user_tz": 240
    },
    "id": "mHHaQaBdKyqF",
    "outputId": "6c07ce42-d520-4992-8363-3b68dc6f164e",
    "tags": []
   },
   "outputs": [
    {
     "data": {
      "text/plain": [
       "8.688502563511724"
      ]
     },
     "execution_count": 5,
     "metadata": {},
     "output_type": "execute_result"
    }
   ],
   "source": [
    "# Create new column \"Temp_C\" \n",
    "climate['Temp_C'] = climate['Anomaly'] + 8.59\n",
    "climate['Temp_C'].mean()"
   ]
  },
  {
   "cell_type": "code",
   "execution_count": 6,
   "id": "192c6bb1",
   "metadata": {
    "deletable": false,
    "editable": false
   },
   "outputs": [
    {
     "data": {
      "text/html": [
       "<p><strong><pre style='display: inline;'>p1_q2a</pre></strong> passed! 🙌</p>"
      ],
      "text/plain": [
       "p1_q2a results: All test cases passed!"
      ]
     },
     "execution_count": 6,
     "metadata": {},
     "output_type": "execute_result"
    }
   ],
   "source": [
    "grader.check(\"p1_q2a\")"
   ]
  },
  {
   "cell_type": "markdown",
   "id": "500b470c-8f74-4f07-912c-bf32fbaa0226",
   "metadata": {
    "deletable": false,
    "editable": false
   },
   "source": [
    "### 2b. Add Temperature in Fahrenheit \n",
    "\n",
    "While much of the world using temperature in Celsius, the US uses Fahrenheit.  Add a column to the data `Temp_F` that reports the temperature of each value in Fahrenheit. \n",
    "\n",
    "$$ TempF = TempC * \\frac{9}{5} + 32 $$"
   ]
  },
  {
   "cell_type": "code",
   "execution_count": 7,
   "id": "12a489a9-54cc-426a-ba50-29f7537fc4ae",
   "metadata": {
    "tags": []
   },
   "outputs": [
    {
     "data": {
      "text/plain": [
       "47.6393046143211"
      ]
     },
     "execution_count": 7,
     "metadata": {},
     "output_type": "execute_result"
    }
   ],
   "source": [
    "climate['Temp_F'] = climate['Temp_C'] * (9 / 5) + 32\n",
    "climate['Temp_F'].mean()"
   ]
  },
  {
   "cell_type": "code",
   "execution_count": 8,
   "id": "5fce55ac",
   "metadata": {
    "deletable": false,
    "editable": false
   },
   "outputs": [
    {
     "data": {
      "text/html": [
       "<p><strong><pre style='display: inline;'>p1_q2b</pre></strong> passed! 🚀</p>"
      ],
      "text/plain": [
       "p1_q2b results: All test cases passed!"
      ]
     },
     "execution_count": 8,
     "metadata": {},
     "output_type": "execute_result"
    }
   ],
   "source": [
    "grader.check(\"p1_q2b\")"
   ]
  },
  {
   "cell_type": "markdown",
   "id": "c691a6cb",
   "metadata": {
    "id": "QeKP_jHiLV57"
   },
   "source": [
    "## 3. (37 pts) Calculate Statistics and Create Visualizations \n",
    "Pandas DataFrames have several methods for manipulation, aggregation, and calculation of meaningful statistics. The [documentation](https://pandas.pydata.org/pandas-docs/stable/reference/api/pandas.DataFrame.html) is very helpful to understand attributes and methods. Matplotlib [pyplot](https://matplotlib.org/3.1.1/api/_as_gen/matplotlib.pyplot.html) integrates well with both pandas DataFrames and numpy arrays for visualization tasks."
   ]
  },
  {
   "cell_type": "markdown",
   "id": "c902fbe1",
   "metadata": {
    "deletable": false,
    "editable": false,
    "id": "wWBAD0Z2Lx-L"
   },
   "source": [
    "### 3a. Calculate the mean temp by year.\n",
    "\n",
    "Create an `Index` of `years` and an 1-dimensional array of corresponding `mean_temp_year` holding the mean temperature for each year.  \n",
    "\n",
    "Use `Temp_F` or temperature in Farhenheit data.  \n",
    "\n",
    "*Hint: Use methods like `.groupby()` and `.mean()` to get the proper data, then use the `.keys()` method to get an index, and `.values` for an array.*\n",
    "\n"
   ]
  },
  {
   "cell_type": "code",
   "execution_count": 9,
   "id": "b29d19d5",
   "metadata": {
    "colab": {
     "base_uri": "https://localhost:8080/"
    },
    "executionInfo": {
     "elapsed": 194,
     "status": "ok",
     "timestamp": 1631802150175,
     "user": {
      "displayName": "Laura Brown",
      "photoUrl": "https://lh3.googleusercontent.com/a-/AOh14GjYbC5So3kNOYBteW-fSY5JpgP-bBJa7kyAEluaKg=s64",
      "userId": "02180634349638765126"
     },
     "user_tz": 240
    },
    "id": "C_4YFkZgLz6S",
    "outputId": "3c6b8644-826f-4fcb-815f-9d24424e2458",
    "tags": []
   },
   "outputs": [
    {
     "name": "stdout",
     "output_type": "stream",
     "text": [
      "Index([1880, 1881, 1882, 1883, 1884], dtype='int64', name='Year')\n",
      "[46.39200328 46.85968055 46.60975178 46.39126137 46.04338361]\n"
     ]
    }
   ],
   "source": [
    "grouped_data = climate.groupby('Year')['Temp_F'].mean()\n",
    "years = grouped_data.keys()\n",
    "mean_temp_year = grouped_data.values\n",
    "print(years[0:5])\n",
    "print(mean_temp_year[0:5])"
   ]
  },
  {
   "cell_type": "code",
   "execution_count": 10,
   "id": "de92c06f",
   "metadata": {
    "deletable": false,
    "editable": false
   },
   "outputs": [
    {
     "data": {
      "text/html": [
       "<p><strong><pre style='display: inline;'>p1_q3a</pre></strong> passed! 🙌</p>"
      ],
      "text/plain": [
       "p1_q3a results: All test cases passed!"
      ]
     },
     "execution_count": 10,
     "metadata": {},
     "output_type": "execute_result"
    }
   ],
   "source": [
    "grader.check(\"p1_q3a\")"
   ]
  },
  {
   "cell_type": "markdown",
   "id": "e3fae45c",
   "metadata": {
    "deletable": false,
    "editable": false,
    "id": "OGC8lziSL6Ye"
   },
   "source": [
    "<!-- BEGIN QUESTION -->\n",
    "\n",
    "### 3b. Plot `mean_temp_year` vs. `years`\n",
    "\n",
    "Plot the mean temperature per year vs. years.  \n",
    "\n",
    "Select an appropriate plot type.  \n",
    "\n",
    "Be sure to include a plot title, x-axis label, and y-axis label. "
   ]
  },
  {
   "cell_type": "code",
   "execution_count": 11,
   "id": "a10c930c",
   "metadata": {
    "colab": {
     "base_uri": "https://localhost:8080/",
     "height": 312
    },
    "executionInfo": {
     "elapsed": 358,
     "status": "ok",
     "timestamp": 1631802202041,
     "user": {
      "displayName": "Laura Brown",
      "photoUrl": "https://lh3.googleusercontent.com/a-/AOh14GjYbC5So3kNOYBteW-fSY5JpgP-bBJa7kyAEluaKg=s64",
      "userId": "02180634349638765126"
     },
     "user_tz": 240
    },
    "id": "lRvXJNjtL8MZ",
    "outputId": "65a21b36-9bf9-4451-9f88-d256d89bd13a",
    "tags": []
   },
   "outputs": [
    {
     "data": {
      "image/png": "[encoded data removed]",
      "text/plain": [
       "<Figure size 640x480 with 1 Axes>"
      ]
     },
     "metadata": {},
     "output_type": "display_data"
    }
   ],
   "source": [
    "# Plot for each year (x-axis) vs. the \"mean_temp_year\" value (y-axis)\n",
    "plt.plot(years, mean_temp_year)\n",
    "plt.xlabel('Year')\n",
    "plt.ylabel('Mean Temperature in °F')\n",
    "plt.title('Mean Temperature by Year in °F')\n",
    "plt.grid(True)\n",
    "plt.show()"
   ]
  },
  {
   "cell_type": "markdown",
   "id": "d346db05",
   "metadata": {
    "deletable": false,
    "editable": false,
    "id": "dB8TQHoHL_01"
   },
   "source": [
    "<!-- END QUESTION -->\n",
    "\n",
    "### 3c. Calculate the mean anomaly by month\n",
    "Create an `Index` of `months` and an array of `mean_anomaly_month` with the mean anomaly for each month. "
   ]
  },
  {
   "cell_type": "code",
   "execution_count": 12,
   "id": "c8fd2b9e",
   "metadata": {
    "tags": []
   },
   "outputs": [
    {
     "name": "stdout",
     "output_type": "stream",
     "text": [
      "Months index:\n",
      " Index([1, 2, 3, 4, 5], dtype='int64', name='Month')\n",
      "Means array:\n",
      " [0.01616693 0.03280391 0.14885924 0.31274965 0.17484615]\n"
     ]
    }
   ],
   "source": [
    "grouped_anomaly_data = climate.groupby('Month')['Anomaly'].mean()\n",
    "months = grouped_anomaly_data.keys()\n",
    "mean_anomaly_month = grouped_anomaly_data.values\n",
    "\n",
    "print('Months index:\\n', months[0:5])\n",
    "print('Means array:\\n', mean_anomaly_month[0:5])"
   ]
  },
  {
   "cell_type": "code",
   "execution_count": 13,
   "id": "fa9aa1ca",
   "metadata": {
    "deletable": false,
    "editable": false
   },
   "outputs": [
    {
     "data": {
      "text/html": [
       "<p><strong><pre style='display: inline;'>p1_q3c</pre></strong> passed! 🙌</p>"
      ],
      "text/plain": [
       "p1_q3c results: All test cases passed!"
      ]
     },
     "execution_count": 13,
     "metadata": {},
     "output_type": "execute_result"
    }
   ],
   "source": [
    "grader.check(\"p1_q3c\")"
   ]
  },
  {
   "cell_type": "markdown",
   "id": "237d0289",
   "metadata": {
    "deletable": false,
    "editable": false
   },
   "source": [
    "<!-- BEGIN QUESTION -->\n",
    "\n",
    "### 3d. Plot `mean_anomaly_month` vs. `months`\n",
    "\n",
    "Select an appropriate type of plot. \n",
    "\n",
    "Be sure to include a plot title, x-axis label, y-axis label, and black horizontal line at 0 mean anomaly on the plot. \n",
    "\n",
    "Label the months with 3 letter abbreviations: Jan, Feb, Mar, Apr, ..."
   ]
  },
  {
   "cell_type": "code",
   "execution_count": 14,
   "id": "18042651",
   "metadata": {
    "colab": {
     "base_uri": "https://localhost:8080/",
     "height": 536
    },
    "executionInfo": {
     "elapsed": 531,
     "status": "ok",
     "timestamp": 1631802407683,
     "user": {
      "displayName": "Laura Brown",
      "photoUrl": "https://lh3.googleusercontent.com/a-/AOh14GjYbC5So3kNOYBteW-fSY5JpgP-bBJa7kyAEluaKg=s64",
      "userId": "02180634349638765126"
     },
     "user_tz": 240
    },
    "id": "UEQOZoFc_KnB",
    "outputId": "1635d311-1260-404a-e46d-d81aadf73a0b",
    "tags": []
   },
   "outputs": [
    {
     "data": {
      "image/png": "[encoded data removed]",
      "text/plain": [
       "<Figure size 640x480 with 1 Axes>"
      ]
     },
     "metadata": {},
     "output_type": "display_data"
    }
   ],
   "source": [
    "month_labels = ['Jan', 'Feb', 'Mar', 'Apr', 'May', 'Jun', 'Jul', 'Aug', 'Sep', 'Oct', 'Nov', 'Dec']\n",
    "\n",
    "plt.plot(months, mean_anomaly_month)\n",
    "plt.xlabel('Month')\n",
    "plt.ylabel('Mean Anomaly in °C')\n",
    "plt.title('Mean Anomaly in °C by Month')\n",
    "plt.xticks(ticks=months, labels=month_labels)\n",
    "plt.axhline(0, color='black')\n",
    "plt.grid(True)\n",
    "plt.show()"
   ]
  },
  {
   "cell_type": "markdown",
   "id": "381361da",
   "metadata": {
    "deletable": false,
    "editable": false,
    "id": "74ZsdgJ3MRUF"
   },
   "source": [
    "<!-- END QUESTION -->\n",
    "\n",
    "<!-- BEGIN QUESTION -->\n",
    "\n",
    "### 3e. Plot distribution of the Anomaly data.\n",
    "\n",
    "Create an overlapping density plot of the Anomaly data for three time periods: \n",
    "\n",
    "* before the average time period, labeled 'Before Ave.'\n",
    "* during the average time period, labeled 'Ave. Period'\n",
    "* after the average time period, labeled 'After Ave.'\n",
    "\n",
    "Ensure that the density plots are normalized independently. \n",
    "\n",
    "Be sure to include a plot title, x-axis label, and y-axis label.\n",
    "\n",
    "**HINT** You may want to use [seaborn's `kdeplot`](https://seaborn.pydata.org/generated/seaborn.kdeplot.html).  You can also add a new column to the data specifying the time periods. "
   ]
  },
  {
   "cell_type": "code",
   "execution_count": 15,
   "id": "cfbe2eec",
   "metadata": {
    "colab": {
     "base_uri": "https://localhost:8080/",
     "height": 325
    },
    "executionInfo": {
     "elapsed": 330,
     "status": "ok",
     "timestamp": 1631802422092,
     "user": {
      "displayName": "Laura Brown",
      "photoUrl": "https://lh3.googleusercontent.com/a-/AOh14GjYbC5So3kNOYBteW-fSY5JpgP-bBJa7kyAEluaKg=s64",
      "userId": "02180634349638765126"
     },
     "user_tz": 240
    },
    "id": "wIEpv4uNMPqh",
    "outputId": "4a2c0bca-61e3-421a-944f-b03507b6547f",
    "tags": []
   },
   "outputs": [
    {
     "data": {
      "image/png": "[encoded data removed]",
      "text/plain": [
       "<Figure size 640x480 with 1 Axes>"
      ]
     },
     "metadata": {},
     "output_type": "display_data"
    }
   ],
   "source": [
    "#Function to find the time period\n",
    "def find_timeperiod(row):\n",
    "    if row['Year'] < 1951: return 'Before Ave.'\n",
    "    elif 1951 <= row['Year'] <= 1980: return 'Ave. Period'\n",
    "    else: return 'After Ave.'\n",
    "climate['Time_Period'] = climate.apply(find_timeperiod, axis=1)\n",
    "\n",
    "#Plotting\n",
    "sns.kdeplot(climate[climate['Time_Period'] == 'Before Ave.']['Anomaly'], label='Before Ave.', fill=True)\n",
    "sns.kdeplot(climate[climate['Time_Period'] == 'Ave. Period']['Anomaly'], label='Ave. Period', fill=True)\n",
    "sns.kdeplot(climate[climate['Time_Period'] == 'After Ave.']['Anomaly'], label='After Ave.', fill=True)\n",
    "plt.title('Density Plot of Anomaly Data by Time Period')\n",
    "plt.xlabel('Anomaly in °C')\n",
    "plt.ylabel('Density')\n",
    "plt.legend()\n",
    "plt.grid(True)\n",
    "plt.show()"
   ]
  },
  {
   "cell_type": "markdown",
   "id": "67c79c2a-5db8-4689-a127-be806d9ae1c1",
   "metadata": {
    "deletable": false,
    "editable": false
   },
   "source": [
    "<!-- END QUESTION -->\n",
    "\n",
    "## 4. (25 pts) Get Additional Data and Explore\n",
    "\n",
    "Let's also add additional information on the daily land-average max and min temperatures. \n",
    "\n"
   ]
  },
  {
   "cell_type": "markdown",
   "id": "f2049c3e-d2a6-49fa-a5fa-cea11654f953",
   "metadata": {
    "deletable": false,
    "editable": false
   },
   "source": [
    "### 4a. Load the additional data \n",
    "\n",
    "First, load in the data from the provide url's.  Use `pandas` `read_csv` function specifying the proper parameters. \n",
    "\n",
    "Use the same column names as in Question 1A. "
   ]
  },
  {
   "cell_type": "code",
   "execution_count": 16,
   "id": "4b1c5a7d-a118-4747-9e08-83e75770d026",
   "metadata": {
    "tags": []
   },
   "outputs": [
    {
     "name": "stdout",
     "output_type": "stream",
     "text": [
      "Expected climate_max shape: (52564, 6), Actual: (52808, 6)\n",
      "Expected climate_min shape: (52503, 6), Actual: (52808, 6)\n",
      "   Date_Number  Year  Month  Day  Day_of_Year  Anomaly\n",
      "0     1880.001  1880      1    1            1   -0.194\n",
      "1     1880.004  1880      1    2            2   -0.021\n",
      "2     1880.007  1880      1    3            3   -0.088\n",
      "3     1880.010  1880      1    4            4   -0.026\n",
      "4     1880.012  1880      1    5            5   -0.046\n",
      "   Date_Number  Year  Month  Day  Day_of_Year  Anomaly\n",
      "0     1880.001  1880      1    1            1   -1.072\n",
      "1     1880.004  1880      1    2            2   -0.913\n",
      "2     1880.007  1880      1    3            3   -0.994\n",
      "3     1880.010  1880      1    4            4   -0.880\n",
      "4     1880.012  1880      1    5            5   -0.976\n"
     ]
    }
   ],
   "source": [
    "url_max = 'https://berkeley-earth-temperature.s3.us-west-1.amazonaws.com/Global/Complete_TMAX_daily.txt'\n",
    "url_min = 'https://berkeley-earth-temperature.s3.us-west-1.amazonaws.com/Global/Complete_TMIN_daily.txt'\n",
    "\n",
    "column_names = ['Date_Number', 'Year', 'Month', 'Day', 'Day_of_Year', 'Anomaly']\n",
    "climate_max = pd.read_csv(url_max, sep=r'\\s+', names=column_names, comment='%')\n",
    "climate_min = pd.read_csv(url_min, sep=r'\\s+', names=column_names, comment='%')\n",
    "\n",
    "climate_max = climate_max.drop_duplicates()\n",
    "climate_min = climate_min.drop_duplicates()\n",
    "\n",
    "print(f\"Expected climate_max shape: (52564, 6), Actual: {climate_max.shape}\")\n",
    "print(f\"Expected climate_min shape: (52503, 6), Actual: {climate_min.shape}\")\n",
    "\n",
    "print(climate_max.head())\n",
    "print(climate_min.head())"
   ]
  },
  {
   "cell_type": "code",
   "execution_count": 17,
   "id": "11965ff5",
   "metadata": {
    "deletable": false,
    "editable": false
   },
   "outputs": [
    {
     "data": {
      "text/html": [
       "<p><strong style='color: red;'><pre style='display: inline;'>p1_q4a</pre> results:</strong></p><p><strong><pre style='display: inline;'>p1_q4a - 1</pre> result:</strong></p><pre>    ❌ Test case failed\n",
       "    Trying:\n",
       "        climate_max.shape == (52564, 6)\n",
       "    Expecting:\n",
       "        True\n",
       "    **********************************************************************\n",
       "    Line 1, in p1_q4a 0\n",
       "    Failed example:\n",
       "        climate_max.shape == (52564, 6)\n",
       "    Expected:\n",
       "        True\n",
       "    Got:\n",
       "        False\n",
       "</pre><p><strong><pre style='display: inline;'>p1_q4a - 2</pre> result:</strong></p><pre>    ❌ Test case failed\n",
       "    Trying:\n",
       "        climate_min.shape == (52503, 6)\n",
       "    Expecting:\n",
       "        True\n",
       "    **********************************************************************\n",
       "    Line 1, in p1_q4a 1\n",
       "    Failed example:\n",
       "        climate_min.shape == (52503, 6)\n",
       "    Expected:\n",
       "        True\n",
       "    Got:\n",
       "        False\n",
       "</pre><p><strong><pre style='display: inline;'>p1_q4a - 3</pre> result:</strong></p><pre>    ✅ Test case passed</pre><p><strong><pre style='display: inline;'>p1_q4a - 4</pre> result:</strong></p><pre>    ✅ Test case passed</pre>"
      ],
      "text/plain": [
       "p1_q4a results:\n",
       "    p1_q4a - 1 result:\n",
       "        ❌ Test case failed\n",
       "        Trying:\n",
       "            climate_max.shape == (52564, 6)\n",
       "        Expecting:\n",
       "            True\n",
       "        **********************************************************************\n",
       "        Line 1, in p1_q4a 0\n",
       "        Failed example:\n",
       "            climate_max.shape == (52564, 6)\n",
       "        Expected:\n",
       "            True\n",
       "        Got:\n",
       "            False\n",
       "\n",
       "    p1_q4a - 2 result:\n",
       "        ❌ Test case failed\n",
       "        Trying:\n",
       "            climate_min.shape == (52503, 6)\n",
       "        Expecting:\n",
       "            True\n",
       "        **********************************************************************\n",
       "        Line 1, in p1_q4a 1\n",
       "        Failed example:\n",
       "            climate_min.shape == (52503, 6)\n",
       "        Expected:\n",
       "            True\n",
       "        Got:\n",
       "            False\n",
       "\n",
       "    p1_q4a - 3 result:\n",
       "        ✅ Test case passed\n",
       "\n",
       "    p1_q4a - 4 result:\n",
       "        ✅ Test case passed"
      ]
     },
     "execution_count": 17,
     "metadata": {},
     "output_type": "execute_result"
    }
   ],
   "source": [
    "grader.check(\"p1_q4a\")"
   ]
  },
  {
   "cell_type": "markdown",
   "id": "af91d5d2-df9f-4f75-82fd-529b12437ccc",
   "metadata": {
    "deletable": false,
    "editable": false
   },
   "source": [
    "### 4b. Create single data frame\n",
    "\n",
    "Create a single DataFrame with the following columns: `Date_Number`, `Year`, `Month`, `Day`, `Day_of_Year`, `Temp_AVG`, `Temp_MIN`, and `Temp_MAX`.  The temperatures should reported in degree Celsius.  For the new DataFrames, `climate_min` and `climate_max` you will need to calculate temperature from the anomaly data.  \n",
    "\n",
    "The DataFrame should only contain observations when all temperature values (avg, min, max) are available.  \n",
    "\n",
    "You can assume that the date indices are the same for each data set and not missing any days. \n",
    "\n",
    "**Note:** You should not use the `merge` or `join` functions. "
   ]
  },
  {
   "cell_type": "code",
   "execution_count": 18,
   "id": "8e308ac6-2ac5-4668-be3f-feba5e2dabe7",
   "metadata": {
    "tags": []
   },
   "outputs": [
    {
     "name": "stdout",
     "output_type": "stream",
     "text": [
      "Expected full_data shape: (52077, 8), Actual: (52808, 8)\n"
     ]
    },
    {
     "data": {
      "text/html": [
       "<div>\n",
       "<style scoped>\n",
       "    .dataframe tbody tr th:only-of-type {\n",
       "        vertical-align: middle;\n",
       "    }\n",
       "\n",
       "    .dataframe tbody tr th {\n",
       "        vertical-align: top;\n",
       "    }\n",
       "\n",
       "    .dataframe thead th {\n",
       "        text-align: right;\n",
       "    }\n",
       "</style>\n",
       "<table border=\"1\" class=\"dataframe\">\n",
       "  <thead>\n",
       "    <tr style=\"text-align: right;\">\n",
       "      <th></th>\n",
       "      <th>Date_Number</th>\n",
       "      <th>Year</th>\n",
       "      <th>Month</th>\n",
       "      <th>Day</th>\n",
       "      <th>Day_of_Year</th>\n",
       "      <th>Temp_AVG</th>\n",
       "      <th>Temp_MIN</th>\n",
       "      <th>Temp_MAX</th>\n",
       "    </tr>\n",
       "  </thead>\n",
       "  <tbody>\n",
       "    <tr>\n",
       "      <th>0</th>\n",
       "      <td>1880.001</td>\n",
       "      <td>1880.0</td>\n",
       "      <td>1.0</td>\n",
       "      <td>1.0</td>\n",
       "      <td>1.0</td>\n",
       "      <td>7.898</td>\n",
       "      <td>7.518</td>\n",
       "      <td>8.396</td>\n",
       "    </tr>\n",
       "    <tr>\n",
       "      <th>1</th>\n",
       "      <td>1880.004</td>\n",
       "      <td>1880.0</td>\n",
       "      <td>1.0</td>\n",
       "      <td>2.0</td>\n",
       "      <td>2.0</td>\n",
       "      <td>7.998</td>\n",
       "      <td>7.677</td>\n",
       "      <td>8.569</td>\n",
       "    </tr>\n",
       "    <tr>\n",
       "      <th>2</th>\n",
       "      <td>1880.007</td>\n",
       "      <td>1880.0</td>\n",
       "      <td>1.0</td>\n",
       "      <td>3.0</td>\n",
       "      <td>3.0</td>\n",
       "      <td>7.917</td>\n",
       "      <td>7.596</td>\n",
       "      <td>8.502</td>\n",
       "    </tr>\n",
       "    <tr>\n",
       "      <th>3</th>\n",
       "      <td>1880.010</td>\n",
       "      <td>1880.0</td>\n",
       "      <td>1.0</td>\n",
       "      <td>4.0</td>\n",
       "      <td>4.0</td>\n",
       "      <td>7.975</td>\n",
       "      <td>7.710</td>\n",
       "      <td>8.564</td>\n",
       "    </tr>\n",
       "    <tr>\n",
       "      <th>4</th>\n",
       "      <td>1880.012</td>\n",
       "      <td>1880.0</td>\n",
       "      <td>1.0</td>\n",
       "      <td>5.0</td>\n",
       "      <td>5.0</td>\n",
       "      <td>7.909</td>\n",
       "      <td>7.614</td>\n",
       "      <td>8.544</td>\n",
       "    </tr>\n",
       "  </tbody>\n",
       "</table>\n",
       "</div>"
      ],
      "text/plain": [
       "   Date_Number    Year  Month  Day  Day_of_Year  Temp_AVG  Temp_MIN  Temp_MAX\n",
       "0     1880.001  1880.0    1.0  1.0          1.0     7.898     7.518     8.396\n",
       "1     1880.004  1880.0    1.0  2.0          2.0     7.998     7.677     8.569\n",
       "2     1880.007  1880.0    1.0  3.0          3.0     7.917     7.596     8.502\n",
       "3     1880.010  1880.0    1.0  4.0          4.0     7.975     7.710     8.564\n",
       "4     1880.012  1880.0    1.0  5.0          5.0     7.909     7.614     8.544"
      ]
     },
     "execution_count": 18,
     "metadata": {},
     "output_type": "execute_result"
    }
   ],
   "source": [
    "base_temp_celsius = 8.59\n",
    "\n",
    "climate['Temp_AVG'] = climate['Anomaly'] + base_temp_celsius\n",
    "climate_min['Temp_MIN'] = climate_min['Anomaly'] + base_temp_celsius\n",
    "climate_max['Temp_MAX'] = climate_max['Anomaly'] + base_temp_celsius\n",
    "\n",
    "full_data = pd.DataFrame({\n",
    "    'Date_Number': climate['Date_Number'],\n",
    "    'Year': climate['Year'],\n",
    "    'Month': climate['Month'],\n",
    "    'Day': climate['Day'],\n",
    "    'Day_of_Year': climate['Day_of_Year'],\n",
    "    'Temp_AVG': climate['Temp_AVG'],\n",
    "    'Temp_MIN': climate_min['Temp_MIN'],\n",
    "    'Temp_MAX': climate_max['Temp_MAX']\n",
    "})\n",
    "\n",
    "print(f\"Expected full_data shape: (52077, 8), Actual: {full_data.shape}\")\n",
    "\n",
    "full_data.head()"
   ]
  },
  {
   "cell_type": "code",
   "execution_count": 19,
   "id": "569e0c3c",
   "metadata": {
    "deletable": false,
    "editable": false
   },
   "outputs": [
    {
     "data": {
      "text/html": [
       "<p><strong style='color: red;'><pre style='display: inline;'>p1_q4b</pre> results:</strong></p><p><strong><pre style='display: inline;'>p1_q4b - 1</pre> result:</strong></p><pre>    ❌ Test case failed\n",
       "    Trying:\n",
       "        full_data.shape == (52077, 8)\n",
       "    Expecting:\n",
       "        True\n",
       "    **********************************************************************\n",
       "    Line 1, in p1_q4b 0\n",
       "    Failed example:\n",
       "        full_data.shape == (52077, 8)\n",
       "    Expected:\n",
       "        True\n",
       "    Got:\n",
       "        False\n",
       "</pre><p><strong><pre style='display: inline;'>p1_q4b - 2</pre> result:</strong></p><pre>    ✅ Test case passed</pre><p><strong><pre style='display: inline;'>p1_q4b - 3</pre> result:</strong></p><pre>    ✅ Test case passed</pre>"
      ],
      "text/plain": [
       "p1_q4b results:\n",
       "    p1_q4b - 1 result:\n",
       "        ❌ Test case failed\n",
       "        Trying:\n",
       "            full_data.shape == (52077, 8)\n",
       "        Expecting:\n",
       "            True\n",
       "        **********************************************************************\n",
       "        Line 1, in p1_q4b 0\n",
       "        Failed example:\n",
       "            full_data.shape == (52077, 8)\n",
       "        Expected:\n",
       "            True\n",
       "        Got:\n",
       "            False\n",
       "\n",
       "    p1_q4b - 2 result:\n",
       "        ✅ Test case passed\n",
       "\n",
       "    p1_q4b - 3 result:\n",
       "        ✅ Test case passed"
      ]
     },
     "execution_count": 19,
     "metadata": {},
     "output_type": "execute_result"
    }
   ],
   "source": [
    "grader.check(\"p1_q4b\")"
   ]
  },
  {
   "cell_type": "markdown",
   "id": "4b7535ac-ebf6-4b9a-9256-6a132d3c1176",
   "metadata": {
    "deletable": false,
    "editable": false
   },
   "source": [
    "<!-- BEGIN QUESTION -->\n",
    "\n",
    "### 4c. Plot mean, min, and max anomolies \n",
    "\n",
    "Create a plot showing the average temperature average for each year, the minimum temperature minimum for each year, and maximum temperate maximum for each year. \n",
    "\n",
    "Only plot the years since 1950.  \n",
    "\n",
    "Consider using the [`agg` function](https://pandas.pydata.org/docs/reference/api/pandas.core.groupby.DataFrameGroupBy.agg.html#) after doing a `groupby` operation.  Explore how to use `agg` to simplify your code. \n",
    "\n"
   ]
  },
  {
   "cell_type": "code",
   "execution_count": 20,
   "id": "ad09f541-f39a-4014-b2b9-8847e1a31a28",
   "metadata": {
    "tags": []
   },
   "outputs": [
    {
     "data": {
      "image/png": "[encoded data removed]",
      "text/plain": [
       "<Figure size 640x480 with 1 Axes>"
      ]
     },
     "metadata": {},
     "output_type": "display_data"
    }
   ],
   "source": [
    "#Filtering the right data\n",
    "data_since_1950 = full_data[full_data['Year'] >= 1950]\n",
    "stats = data_since_1950.groupby('Year').agg({ 'Temp_AVG': 'mean', 'Temp_MIN': 'min', 'Temp_MAX': 'max' })\n",
    "\n",
    "#Plot\n",
    "plt.plot(stats.index, stats['Temp_AVG'], label='Mean Temp in °C', color='blue')\n",
    "plt.plot(stats.index, stats['Temp_MIN'], label='Min Temp in °C', color='red')\n",
    "plt.plot(stats.index, stats['Temp_MAX'], label='Max Temp in °C', color='green')\n",
    "plt.xlabel('Year')\n",
    "plt.ylabel('Temperature in °C')\n",
    "plt.title('Mean, Min, and Max Temperatures by Year since 1950')\n",
    "plt.legend()\n",
    "plt.grid(True)\n",
    "plt.show()"
   ]
  },
  {
   "cell_type": "markdown",
   "id": "06889505",
   "metadata": {
    "deletable": false,
    "editable": false,
    "id": "_SmtrPzmMXpJ"
   },
   "source": [
    "<!-- END QUESTION -->\n",
    "\n",
    "<!-- BEGIN QUESTION -->\n",
    "\n",
    "## 5. Bonus \n",
    "\n",
    "Here is a bonus question. \n",
    "\n",
    "#### Bonus Plot \n",
    "\n",
    "The plot should show the average temperature difference for each day (max - min) since 1950 for each month. \n",
    "\n",
    "Label the months with 3 letter abbreviations: Jan, Feb, Mar, Apr, ...\n",
    "\n",
    "Choose an appropriate type of plot for this type of information. \n"
   ]
  },
  {
   "cell_type": "code",
   "execution_count": 21,
   "id": "356c6434-1939-40bd-91d1-31fc881c4a1b",
   "metadata": {
    "tags": []
   },
   "outputs": [
    {
     "name": "stderr",
     "output_type": "stream",
     "text": [
      "/tmp/ipykernel_538/1639150943.py:2: SettingWithCopyWarning: \n",
      "A value is trying to be set on a copy of a slice from a DataFrame.\n",
      "Try using .loc[row_indexer,col_indexer] = value instead\n",
      "\n",
      "See the caveats in the documentation: https://pandas.pydata.org/pandas-docs/stable/user_guide/indexing.html#returning-a-view-versus-a-copy\n",
      "  data_since_1950['Temp_Diff'] = data_since_1950['Temp_MAX'] - data_since_1950['Temp_MIN']\n"
     ]
    },
    {
     "data": {
      "image/png": "[encoded data removed]",
      "text/plain": [
       "<Figure size 640x480 with 1 Axes>"
      ]
     },
     "metadata": {},
     "output_type": "display_data"
    }
   ],
   "source": [
    "data_since_1950 = full_data[full_data['Year'] >= 1950]\n",
    "data_since_1950['Temp_Diff'] = data_since_1950['Temp_MAX'] - data_since_1950['Temp_MIN']\n",
    "monthly_temp_difference = data_since_1950.groupby('Month')['Temp_Diff'].mean()\n",
    "\n",
    "month_labels2 = ['Jan', 'Feb', 'Mar', 'Apr', 'May', 'Jun', 'Jul', 'Aug', 'Sep', 'Oct', 'Nov', 'Dec']\n",
    "\n",
    "plt.bar(month_labels2, monthly_temp_difference)\n",
    "plt.xlabel('Month')\n",
    "plt.ylabel('Average Temperature Difference in °C')\n",
    "plt.title('Average Daily Temperature Difference by Month Since 1950')\n",
    "plt.grid(True)\n",
    "plt.show()"
   ]
  },
  {
   "cell_type": "markdown",
   "id": "f8201164-702e-42b0-9694-123e4c844bc5",
   "metadata": {
    "deletable": false,
    "editable": false
   },
   "source": [
    "<!-- END QUESTION -->\n",
    "\n",
    "## Congratulations! You have finished P1! \n",
    "\n",
    "### Submission Instructions\n",
    "\n",
    "Below, you will see a cell. Running this cell will automatically generate a zip file with your autograded answers. Once you submit this file to the P1 assignment on Gradescope, Gradescope will automatically submit a PDF file with some of your answers to the P1 - Figures assignment (making them easier to grade). \n",
    "\n",
    "**Important**: Please check that your responses were generated and submitted correctly to the P1 - Figures Assignment. \n",
    "\n",
    "**You are responsible for ensuring your submission follows our requirements and that the PDF for P1 - Figures answers was generated/submitted correctly. We will not be granting regrade requests nor extensions to submissions that don't follow instructions.** If you encounter any difficulties with the submission, contact course staff well-ahead of the deadline. \n",
    "\n",
    "Make sure you have run all cells in your notebook **in order** before running the cell below, so that all images/graphs appear in the output. The cell below will generate a zip file for you to submit. **Please save before exporting!**"
   ]
  },
  {
   "cell_type": "markdown",
   "id": "69d73a6a",
   "metadata": {
    "deletable": false,
    "editable": false
   },
   "source": [
    "## Submission\n",
    "\n",
    "Make sure you have run all cells in your notebook in order before running the cell below, so that all images/graphs appear in the output. The cell below will generate a zip file for you to submit. **Please save before exporting!**"
   ]
  },
  {
   "cell_type": "code",
   "execution_count": 22,
   "id": "580c655b",
   "metadata": {
    "deletable": false,
    "editable": false
   },
   "outputs": [
    {
     "data": {
      "text/html": [
       "\n",
       "            <p>Your submission has been exported. Click <a href=\"p1_2024_09_27T00_47_19_624058.zip\" download=\"p1_2024_09_27T00_47_19_624058.zip\" target=\"_blank\">here</a>\n",
       "            to download the zip file.</p>\n",
       "            "
      ],
      "text/plain": [
       "<IPython.core.display.HTML object>"
      ]
     },
     "metadata": {},
     "output_type": "display_data"
    }
   ],
   "source": [
    "# Save your notebook first, then run this cell to export your submission.\n",
    "grader.export()"
   ]
  },
  {
   "cell_type": "markdown",
   "id": "a96de3be",
   "metadata": {},
   "source": [
    " "
   ]
  }
 ],
 "metadata": {
  "kernelspec": {
   "display_name": "Python 3 (ipykernel)",
   "language": "python",
   "name": "python3"
  },
  "language_info": {
   "codemirror_mode": {
    "name": "ipython",
    "version": 3
   },
   "file_extension": ".py",
   "mimetype": "text/x-python",
   "name": "python",
   "nbconvert_exporter": "python",
   "pygments_lexer": "ipython3",
   "version": "3.10.11"
  },
  "otter": {
   "OK_FORMAT": true,
   "assignment_name": "p1",
   "tests": {
    "p1_q1a": {
     "name": "p1_q1a",
     "points": 8,
     "suites": [
      {
       "cases": [
        {
         "code": ">>> climate.shape[0] == 52077\nTrue",
         "hidden": false,
         "locked": false
        },
        {
         "code": ">>> climate.shape[1] == 6\nTrue",
         "hidden": false,
         "locked": false
        },
        {
         "code": ">>> all(climate.columns == ['Date_Number', 'Year', 'Month', 'Day', 'Day_of_Year', \n...                         'Anomaly'])\nTrue",
         "hidden": false,
         "locked": false
        }
       ],
       "scored": true,
       "setup": "",
       "teardown": "",
       "type": "doctest"
      }
     ]
    },
    "p1_q2a": {
     "name": "p1_q2a",
     "points": [
      1,
      1
     ],
     "suites": [
      {
       "cases": [
        {
         "code": ">>> climate.shape[1] == 7\nTrue",
         "hidden": false,
         "locked": false
        },
        {
         "code": ">>> 'Temp_C' in climate.columns\nTrue",
         "hidden": false,
         "locked": false
        }
       ],
       "scored": true,
       "setup": "",
       "teardown": "",
       "type": "doctest"
      }
     ]
    },
    "p1_q2b": {
     "name": "p1_q2b",
     "points": [
      1,
      1,
      2
     ],
     "suites": [
      {
       "cases": [
        {
         "code": ">>> climate.shape[1] == 8\nTrue",
         "hidden": false,
         "locked": false
        },
        {
         "code": ">>> 'Temp_F' in climate.columns\nTrue",
         "hidden": false,
         "locked": false
        },
        {
         "code": ">>> np.isclose(climate['Temp_F'].mean(), 47.6393046)\nTrue",
         "hidden": false,
         "locked": false
        }
       ],
       "scored": true,
       "setup": "",
       "teardown": "",
       "type": "doctest"
      }
     ]
    },
    "p1_q3a": {
     "name": "p1_q3a",
     "points": 5,
     "suites": [
      {
       "cases": [
        {
         "code": ">>> len(years) == len(mean_temp_year)\nTrue",
         "hidden": false,
         "locked": false
        },
        {
         "code": ">>> type(years) == pd.core.indexes.base.Index\nTrue",
         "hidden": false,
         "locked": false
        },
        {
         "code": ">>> type(mean_temp_year) == np.ndarray\nTrue",
         "hidden": false,
         "locked": false
        },
        {
         "code": ">>> mean_temp_year.ndim == 1\nTrue",
         "hidden": false,
         "locked": false
        },
        {
         "code": ">>> min(years) == 1880\nTrue",
         "hidden": false,
         "locked": false
        },
        {
         "code": ">>> max(years) == 2022\nTrue",
         "hidden": false,
         "locked": false
        }
       ],
       "scored": true,
       "setup": "",
       "teardown": "",
       "type": "doctest"
      }
     ]
    },
    "p1_q3c": {
     "name": "p1_q3c",
     "points": 5,
     "suites": [
      {
       "cases": [
        {
         "code": ">>> len(months) == len(mean_anomaly_month)\nTrue",
         "hidden": false,
         "locked": false
        },
        {
         "code": ">>> type(months) is pd.core.indexes.base.Index\nTrue",
         "hidden": false,
         "locked": false
        },
        {
         "code": ">>> type(mean_anomaly_month) is np.ndarray\nTrue",
         "hidden": false,
         "locked": false
        },
        {
         "code": ">>> mean_anomaly_month.ndim == 1\nTrue",
         "hidden": false,
         "locked": false
        },
        {
         "code": ">>> len(months) == 12\nTrue",
         "hidden": false,
         "locked": false
        }
       ],
       "scored": true,
       "setup": "",
       "teardown": "",
       "type": "doctest"
      }
     ]
    },
    "p1_q4a": {
     "name": "p1_q4a",
     "points": 8,
     "suites": [
      {
       "cases": [
        {
         "code": ">>> climate_max.shape == (52564, 6)\nTrue",
         "hidden": false,
         "locked": false
        },
        {
         "code": ">>> climate_min.shape == (52503, 6)\nTrue",
         "hidden": false,
         "locked": false
        },
        {
         "code": ">>> all(climate_max.columns == ['Date_Number', 'Year', 'Month', 'Day', \n...                             'Day_of_Year', 'Anomaly'])\nTrue",
         "hidden": false,
         "locked": false
        },
        {
         "code": ">>> all(climate_min.columns == ['Date_Number', 'Year', 'Month', 'Day', \n...                             'Day_of_Year', 'Anomaly'])\nTrue",
         "hidden": false,
         "locked": false
        }
       ],
       "scored": true,
       "setup": "",
       "teardown": "",
       "type": "doctest"
      }
     ]
    },
    "p1_q4b": {
     "name": "p1_q4b",
     "points": 7,
     "suites": [
      {
       "cases": [
        {
         "code": ">>> full_data.shape == (52077, 8)\nTrue",
         "hidden": false,
         "locked": false
        },
        {
         "code": ">>> all(full_data.columns  == ['Date_Number', 'Year', 'Month', 'Day', 'Day_of_Year',\n...                            'Temp_AVG', 'Temp_MIN', 'Temp_MAX'])\nTrue",
         "hidden": false,
         "locked": false
        },
        {
         "code": ">>> np.isclose(full_data['Temp_AVG'].mean(), 8.68850256)\nTrue",
         "hidden": false,
         "locked": false
        }
       ],
       "scored": true,
       "setup": "",
       "teardown": "",
       "type": "doctest"
      }
     ]
    }
   }
  }
 },
 "nbformat": 4,
 "nbformat_minor": 5
}
