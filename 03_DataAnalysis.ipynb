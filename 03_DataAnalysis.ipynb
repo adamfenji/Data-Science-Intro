{
 "cells": [
  {
   "cell_type": "markdown",
   "id": "0583c8d9",
   "metadata": {},
   "source": [
    "# Lab 3 \n",
    "\n",
    "\n",
    "**Lab 3**\n",
    "Assignment Objectives:  \n",
    "Upon successful completion of this assignment, a student will be able to:\n",
    "* Gain experience using and writing functions.\n",
    "* Use basic statistical functions\n",
    "* Gain experience in exploratory data visualization\n",
    "* Use basic data cleaning."
   ]
  },
  {
   "cell_type": "code",
   "execution_count": 1,
   "id": "d1bd78d6",
   "metadata": {
    "tags": []
   },
   "outputs": [],
   "source": [
    "#  Import libraries \n",
    "import pandas as pd\n",
    "import numpy as np\n",
    "import matplotlib as mpl\n",
    "import matplotlib.pyplot as plt\n",
    "%matplotlib inline\n",
    "import seaborn as sns\n",
    "\n",
    "import otter\n",
    "grader = otter.Notebook()"
   ]
  },
  {
   "cell_type": "markdown",
   "id": "a39cd771",
   "metadata": {},
   "source": [
    "*Tip: It is good practice to list all imports needed at the top of the notebook.  You can import modules in later cells as needed, but listing them at the top clearly shows all which are needed to be available / installed.*"
   ]
  },
  {
   "cell_type": "markdown",
   "id": "abd68191",
   "metadata": {
    "id": "Tk_HzyPRF0pb"
   },
   "source": [
    "### Data Set - Mushroom\n",
    "\n",
    "You will be using the [Seconday Mushroom Dataset](https://archive.ics.uci.edu/dataset/848/secondary+mushroom+dataset) available on the [UCI Machine Learning Repository](https://archive.ics.uci.edu/)\n",
    "\n",
    "Please use the mushroom data files in your \"data\" folder. \n",
    "\n",
    "\n"
   ]
  },
  {
   "cell_type": "markdown",
   "id": "1c5ca841",
   "metadata": {
    "deletable": false,
    "editable": false,
    "id": "SODxVOmdGRW-",
    "tags": []
   },
   "source": [
    "### Exercise 1: Import Data \n",
    "You will want to create a function to import the data \n",
    "\n",
    "The function should be named `ImportDataMushroom(filepath)`    \n",
    "`ImportDataMushroom` has one input arguments: \n",
    "* `filepath` - a string that links to the data to be imported \n",
    "\n",
    "In the function, you should import the data using `read_csv`. You may need to use additional arguments in order to properly read in the data.  But let the function use it default reasoning on `na_values`.\n",
    "\n",
    "The function should return the DataFrame. \n",
    "\n",
    "Helpful links: \n",
    "\n",
    "* https://pandas.pydata.org/pandas-docs/stable/generated/pandas.read_csv.html#pandas.read_csv"
   ]
  },
  {
   "cell_type": "code",
   "execution_count": 2,
   "id": "838779a1",
   "metadata": {
    "colab": {
     "base_uri": "https://localhost:8080/",
     "height": 235
    },
    "executionInfo": {
     "elapsed": 702,
     "status": "ok",
     "timestamp": 1599773891853,
     "user": {
      "displayName": "Laura Brown",
      "photoUrl": "https://lh3.googleusercontent.com/a-/AOh14GjYbC5So3kNOYBteW-fSY5JpgP-bBJa7kyAEluaKg=s64",
      "userId": "02180634349638765126"
     },
     "user_tz": 240
    },
    "id": "Wl4t-wwZGxXN",
    "outputId": "05cf1cfa-3401-40d6-86da-7c035af0d602",
    "tags": []
   },
   "outputs": [
    {
     "data": {
      "text/html": [
       "<div>\n",
       "<style scoped>\n",
       "    .dataframe tbody tr th:only-of-type {\n",
       "        vertical-align: middle;\n",
       "    }\n",
       "\n",
       "    .dataframe tbody tr th {\n",
       "        vertical-align: top;\n",
       "    }\n",
       "\n",
       "    .dataframe thead th {\n",
       "        text-align: right;\n",
       "    }\n",
       "</style>\n",
       "<table border=\"1\" class=\"dataframe\">\n",
       "  <thead>\n",
       "    <tr style=\"text-align: right;\">\n",
       "      <th></th>\n",
       "      <th>class</th>\n",
       "      <th>cap-diameter</th>\n",
       "      <th>cap-shape</th>\n",
       "      <th>cap-surface</th>\n",
       "      <th>cap-color</th>\n",
       "      <th>does-bruise-or-bleed</th>\n",
       "      <th>gill-attachment</th>\n",
       "      <th>gill-spacing</th>\n",
       "      <th>gill-color</th>\n",
       "      <th>stem-height</th>\n",
       "      <th>...</th>\n",
       "      <th>stem-root</th>\n",
       "      <th>stem-surface</th>\n",
       "      <th>stem-color</th>\n",
       "      <th>veil-type</th>\n",
       "      <th>veil-color</th>\n",
       "      <th>has-ring</th>\n",
       "      <th>ring-type</th>\n",
       "      <th>spore-print-color</th>\n",
       "      <th>habitat</th>\n",
       "      <th>season</th>\n",
       "    </tr>\n",
       "  </thead>\n",
       "  <tbody>\n",
       "    <tr>\n",
       "      <th>0</th>\n",
       "      <td>p</td>\n",
       "      <td>15.26</td>\n",
       "      <td>x</td>\n",
       "      <td>g</td>\n",
       "      <td>o</td>\n",
       "      <td>f</td>\n",
       "      <td>e</td>\n",
       "      <td>NaN</td>\n",
       "      <td>w</td>\n",
       "      <td>16.95</td>\n",
       "      <td>...</td>\n",
       "      <td>s</td>\n",
       "      <td>y</td>\n",
       "      <td>w</td>\n",
       "      <td>u</td>\n",
       "      <td>w</td>\n",
       "      <td>t</td>\n",
       "      <td>g</td>\n",
       "      <td>NaN</td>\n",
       "      <td>d</td>\n",
       "      <td>w</td>\n",
       "    </tr>\n",
       "    <tr>\n",
       "      <th>1</th>\n",
       "      <td>p</td>\n",
       "      <td>16.60</td>\n",
       "      <td>x</td>\n",
       "      <td>g</td>\n",
       "      <td>o</td>\n",
       "      <td>f</td>\n",
       "      <td>e</td>\n",
       "      <td>NaN</td>\n",
       "      <td>w</td>\n",
       "      <td>17.99</td>\n",
       "      <td>...</td>\n",
       "      <td>s</td>\n",
       "      <td>y</td>\n",
       "      <td>w</td>\n",
       "      <td>u</td>\n",
       "      <td>w</td>\n",
       "      <td>t</td>\n",
       "      <td>g</td>\n",
       "      <td>NaN</td>\n",
       "      <td>d</td>\n",
       "      <td>u</td>\n",
       "    </tr>\n",
       "    <tr>\n",
       "      <th>2</th>\n",
       "      <td>p</td>\n",
       "      <td>14.07</td>\n",
       "      <td>x</td>\n",
       "      <td>g</td>\n",
       "      <td>o</td>\n",
       "      <td>f</td>\n",
       "      <td>e</td>\n",
       "      <td>NaN</td>\n",
       "      <td>w</td>\n",
       "      <td>17.80</td>\n",
       "      <td>...</td>\n",
       "      <td>s</td>\n",
       "      <td>y</td>\n",
       "      <td>w</td>\n",
       "      <td>u</td>\n",
       "      <td>w</td>\n",
       "      <td>t</td>\n",
       "      <td>g</td>\n",
       "      <td>NaN</td>\n",
       "      <td>d</td>\n",
       "      <td>w</td>\n",
       "    </tr>\n",
       "    <tr>\n",
       "      <th>3</th>\n",
       "      <td>p</td>\n",
       "      <td>14.17</td>\n",
       "      <td>f</td>\n",
       "      <td>h</td>\n",
       "      <td>e</td>\n",
       "      <td>f</td>\n",
       "      <td>e</td>\n",
       "      <td>NaN</td>\n",
       "      <td>w</td>\n",
       "      <td>15.77</td>\n",
       "      <td>...</td>\n",
       "      <td>s</td>\n",
       "      <td>y</td>\n",
       "      <td>w</td>\n",
       "      <td>u</td>\n",
       "      <td>w</td>\n",
       "      <td>t</td>\n",
       "      <td>p</td>\n",
       "      <td>NaN</td>\n",
       "      <td>d</td>\n",
       "      <td>w</td>\n",
       "    </tr>\n",
       "    <tr>\n",
       "      <th>4</th>\n",
       "      <td>p</td>\n",
       "      <td>14.64</td>\n",
       "      <td>x</td>\n",
       "      <td>h</td>\n",
       "      <td>o</td>\n",
       "      <td>f</td>\n",
       "      <td>e</td>\n",
       "      <td>NaN</td>\n",
       "      <td>w</td>\n",
       "      <td>16.53</td>\n",
       "      <td>...</td>\n",
       "      <td>s</td>\n",
       "      <td>y</td>\n",
       "      <td>w</td>\n",
       "      <td>u</td>\n",
       "      <td>w</td>\n",
       "      <td>t</td>\n",
       "      <td>p</td>\n",
       "      <td>NaN</td>\n",
       "      <td>d</td>\n",
       "      <td>w</td>\n",
       "    </tr>\n",
       "  </tbody>\n",
       "</table>\n",
       "<p>5 rows × 21 columns</p>\n",
       "</div>"
      ],
      "text/plain": [
       "  class  cap-diameter cap-shape cap-surface cap-color does-bruise-or-bleed   \n",
       "0     p         15.26         x           g         o                    f  \\\n",
       "1     p         16.60         x           g         o                    f   \n",
       "2     p         14.07         x           g         o                    f   \n",
       "3     p         14.17         f           h         e                    f   \n",
       "4     p         14.64         x           h         o                    f   \n",
       "\n",
       "  gill-attachment gill-spacing gill-color  stem-height  ...  stem-root   \n",
       "0               e          NaN          w        16.95  ...          s  \\\n",
       "1               e          NaN          w        17.99  ...          s   \n",
       "2               e          NaN          w        17.80  ...          s   \n",
       "3               e          NaN          w        15.77  ...          s   \n",
       "4               e          NaN          w        16.53  ...          s   \n",
       "\n",
       "  stem-surface stem-color veil-type veil-color has-ring ring-type   \n",
       "0            y          w         u          w        t         g  \\\n",
       "1            y          w         u          w        t         g   \n",
       "2            y          w         u          w        t         g   \n",
       "3            y          w         u          w        t         p   \n",
       "4            y          w         u          w        t         p   \n",
       "\n",
       "  spore-print-color habitat season  \n",
       "0               NaN       d      w  \n",
       "1               NaN       d      u  \n",
       "2               NaN       d      w  \n",
       "3               NaN       d      w  \n",
       "4               NaN       d      w  \n",
       "\n",
       "[5 rows x 21 columns]"
      ]
     },
     "execution_count": 2,
     "metadata": {},
     "output_type": "execute_result"
    }
   ],
   "source": [
    "# Create the function ImportData here and return the data \n",
    "\n",
    "def ImportDataMushroom(filepath):\n",
    "    # return the created DataFrame, df \n",
    "    df = pd.read_csv(filepath, sep = ';')\n",
    "    \n",
    "    return df\n",
    "\n",
    "filepath = \"./data/secondary_data.csv\"\n",
    "data = ImportDataMushroom(filepath)\n",
    "data.head()"
   ]
  },
  {
   "cell_type": "code",
   "execution_count": 3,
   "id": "2af7f112",
   "metadata": {
    "deletable": false,
    "editable": false
   },
   "outputs": [
    {
     "data": {
      "text/html": [
       "<p><strong><pre style='display: inline;'>q1</pre></strong> passed! 🌟</p>"
      ],
      "text/plain": [
       "q1 results: All test cases passed!"
      ]
     },
     "execution_count": 3,
     "metadata": {},
     "output_type": "execute_result"
    }
   ],
   "source": [
    "grader.check(\"q1\")"
   ]
  },
  {
   "cell_type": "markdown",
   "id": "151d11b0-eb60-4fcc-a92a-4b40495ef18e",
   "metadata": {},
   "source": [
    "### Exercise 2: Data Exploration\n"
   ]
  },
  {
   "cell_type": "markdown",
   "id": "805f01ff-dbd0-4fda-b794-cb23e36d231e",
   "metadata": {},
   "source": [
    "You will want to explore if this data has any missing data.  And if it does, handle the missing values. "
   ]
  },
  {
   "cell_type": "markdown",
   "id": "a1c10c26-5eed-4a8e-8d33-ab1c1e31e4ea",
   "metadata": {
    "deletable": false,
    "editable": false
   },
   "source": [
    "#### Exercise 2a: Columns with Missing Data\n",
    "\n",
    "First, you will determine whether each column has any missing values (a Boolean for each column). \n",
    "\n",
    "`col_missing_data` should be a DataSeries with each column name as an index value and Booleans for whether there is any missing data. \n",
    "\n",
    "You may want to consider the `isnull` or `isna` functions. \n",
    "\n",
    "**Caution:** Make sure to use the DataFrame `data` this frame is created using the `ImportDataMushroom` function.  Do not use `df` which is local to the function.  "
   ]
  },
  {
   "cell_type": "code",
   "execution_count": 4,
   "id": "134b0543-ef5e-4a32-ab19-f811d3c9b022",
   "metadata": {
    "tags": []
   },
   "outputs": [
    {
     "data": {
      "text/plain": [
       "class                   False\n",
       "cap-diameter            False\n",
       "cap-shape               False\n",
       "cap-surface              True\n",
       "cap-color               False\n",
       "does-bruise-or-bleed    False\n",
       "gill-attachment          True\n",
       "gill-spacing             True\n",
       "gill-color              False\n",
       "stem-height             False\n",
       "stem-width              False\n",
       "stem-root                True\n",
       "stem-surface             True\n",
       "stem-color              False\n",
       "veil-type                True\n",
       "veil-color               True\n",
       "has-ring                False\n",
       "ring-type                True\n",
       "spore-print-color        True\n",
       "habitat                 False\n",
       "season                  False\n",
       "dtype: bool"
      ]
     },
     "execution_count": 4,
     "metadata": {},
     "output_type": "execute_result"
    }
   ],
   "source": [
    "col_missing_data = data.isnull().any()\n",
    "col_missing_data"
   ]
  },
  {
   "cell_type": "markdown",
   "id": "76455326-fb66-4361-a5e4-8e9eb048c45e",
   "metadata": {},
   "source": [
    "Reference: https://note.nkmk.me/en/python-pandas-nan-extract/"
   ]
  },
  {
   "cell_type": "code",
   "execution_count": 5,
   "id": "52b3cf16",
   "metadata": {
    "deletable": false,
    "editable": false
   },
   "outputs": [
    {
     "data": {
      "text/html": [
       "<p><strong><pre style='display: inline;'>q2a</pre></strong> passed! 🌈</p>"
      ],
      "text/plain": [
       "q2a results: All test cases passed!"
      ]
     },
     "execution_count": 5,
     "metadata": {},
     "output_type": "execute_result"
    }
   ],
   "source": [
    "grader.check(\"q2a\")"
   ]
  },
  {
   "cell_type": "markdown",
   "id": "50b0f2b5-aa3b-49b0-b72c-259c34915c2b",
   "metadata": {
    "deletable": false,
    "editable": false
   },
   "source": [
    "#### Exercise 2b: Amount of Missing Data \n",
    "\n",
    "It is good to understand where and how your data is missing.  For instance are there any patterns to how it is missing?  \n",
    "\n",
    "Let's establish the amount of missing data. "
   ]
  },
  {
   "cell_type": "code",
   "execution_count": 6,
   "id": "e1f89ca9-38a6-410a-ba06-f1d9e4e9cdf3",
   "metadata": {
    "tags": []
   },
   "outputs": [
    {
     "data": {
      "text/plain": [
       "61069"
      ]
     },
     "execution_count": 6,
     "metadata": {},
     "output_type": "execute_result"
    },
    {
     "data": {
      "image/png": "[encoded data removed]",
      "text/plain": [
       "<Figure size 640x480 with 1 Axes>"
      ]
     },
     "metadata": {},
     "output_type": "display_data"
    }
   ],
   "source": [
    "counts = data.isna().sum(axis=1)\n",
    "num_rows_missing_graph = data.isna().sum(axis=1).groupby(counts).hist();\n",
    "# this shows the distribution of nans is somewhat normally distributed\n",
    "\n",
    "\n",
    "num_rows_missing = data.isna().sum(axis=1).count()\n",
    "num_rows_missing"
   ]
  },
  {
   "cell_type": "code",
   "execution_count": 7,
   "id": "08904ac1",
   "metadata": {
    "deletable": false,
    "editable": false
   },
   "outputs": [
    {
     "data": {
      "text/html": [
       "<p><strong><pre style='display: inline;'>q2b</pre></strong> passed! ✨</p>"
      ],
      "text/plain": [
       "q2b results: All test cases passed!"
      ]
     },
     "execution_count": 7,
     "metadata": {},
     "output_type": "execute_result"
    }
   ],
   "source": [
    "grader.check(\"q2b\")"
   ]
  },
  {
   "cell_type": "markdown",
   "id": "db5daa00-5dfd-4487-a2a9-418e45d4ed8d",
   "metadata": {},
   "source": [
    "The amount of missing data precludes eliminating the missing data, therefore additional analysis steps should understand there may be missing values. "
   ]
  },
  {
   "cell_type": "markdown",
   "id": "532d33cd-8394-4883-809e-19ebd642ad48",
   "metadata": {
    "deletable": false,
    "editable": false
   },
   "source": [
    "#### Exercise 2c: Types of Data\n",
    "\n",
    "Now you will explore the types of data in each column.  Does this match your expectations, look at the information provided in the data folder in `secondary_data_meta.txt`. "
   ]
  },
  {
   "cell_type": "code",
   "execution_count": 8,
   "id": "5740f332-d393-49fb-8b48-2889dfe4e2b1",
   "metadata": {
    "tags": []
   },
   "outputs": [
    {
     "data": {
      "text/plain": [
       "class                    object\n",
       "cap-diameter            float64\n",
       "cap-shape                object\n",
       "cap-surface              object\n",
       "cap-color                object\n",
       "does-bruise-or-bleed     object\n",
       "gill-attachment          object\n",
       "gill-spacing             object\n",
       "gill-color               object\n",
       "stem-height             float64\n",
       "stem-width              float64\n",
       "stem-root                object\n",
       "stem-surface             object\n",
       "stem-color               object\n",
       "veil-type                object\n",
       "veil-color               object\n",
       "has-ring                 object\n",
       "ring-type                object\n",
       "spore-print-color        object\n",
       "habitat                  object\n",
       "season                   object\n",
       "dtype: object"
      ]
     },
     "execution_count": 8,
     "metadata": {},
     "output_type": "execute_result"
    }
   ],
   "source": [
    "col_types = data.dtypes\n",
    "col_types\n",
    "# Yes, the types match our expectations. The continous variables are float64 and the categorical variables are objects. "
   ]
  },
  {
   "cell_type": "code",
   "execution_count": 9,
   "id": "c1cd634f",
   "metadata": {
    "deletable": false,
    "editable": false
   },
   "outputs": [
    {
     "data": {
      "text/html": [
       "<p><strong><pre style='display: inline;'>q2c</pre></strong> passed! 🚀</p>"
      ],
      "text/plain": [
       "q2c results: All test cases passed!"
      ]
     },
     "execution_count": 9,
     "metadata": {},
     "output_type": "execute_result"
    }
   ],
   "source": [
    "grader.check(\"q2c\")"
   ]
  },
  {
   "cell_type": "markdown",
   "id": "090d0ab4-2e88-4e33-bdc4-4a6502221414",
   "metadata": {},
   "source": [
    "### Exercise 3: Data Exploration and Visualization\n",
    "\n"
   ]
  },
  {
   "cell_type": "markdown",
   "id": "cb115559-924a-47eb-9290-4492a2c63574",
   "metadata": {
    "deletable": false,
    "editable": false
   },
   "source": [
    "#### Exercise 3a: Statistics \n",
    "\n",
    "Let's explore the properties of the `cap-diameter` variable.  \n",
    "\n",
    "First, calculate the mean and standard deviation for this variable.  \n",
    "\n",
    "Report (True / False) if there is any missing data in this column. "
   ]
  },
  {
   "cell_type": "code",
   "execution_count": 10,
   "id": "5a0d7d08-41f5-4c87-92fd-9979731dff00",
   "metadata": {
    "tags": []
   },
   "outputs": [
    {
     "name": "stdout",
     "output_type": "stream",
     "text": [
      "Mean cap-diameter: 6.7339\n",
      "std cap-diamter:   5.2648\n",
      "\n"
     ]
    }
   ],
   "source": [
    "mean_cap_diam = data['cap-diameter'].mean()\n",
    "std_cap_diam = data['cap-diameter'].std()\n",
    "miss_cap_diam = data['cap-diameter'].isnull().any()\n",
    "# False, there are no missing data in the column. \n",
    "print('Mean cap-diameter: %.4f\\nstd cap-diamter:   %.4f\\n' % \n",
    "      (mean_cap_diam, std_cap_diam))"
   ]
  },
  {
   "cell_type": "code",
   "execution_count": 11,
   "id": "f7c31d1d",
   "metadata": {
    "deletable": false,
    "editable": false
   },
   "outputs": [
    {
     "data": {
      "text/html": [
       "<p><strong><pre style='display: inline;'>q3a</pre></strong> passed! ✨</p>"
      ],
      "text/plain": [
       "q3a results: All test cases passed!"
      ]
     },
     "execution_count": 11,
     "metadata": {},
     "output_type": "execute_result"
    }
   ],
   "source": [
    "grader.check(\"q3a\")"
   ]
  },
  {
   "cell_type": "markdown",
   "id": "80ee75dd-a8cd-4aac-9497-570bd96530d4",
   "metadata": {
    "deletable": false,
    "editable": false
   },
   "source": [
    "<!-- BEGIN QUESTION -->\n",
    "\n",
    "#### Exercise 3b: Visualization \n",
    "\n",
    "Let's know look at the distribution of values for the cap diameter. \n",
    "\n",
    "Create a histogram with an appropriate number of bins for this data. \n",
    "\n",
    "Make sure the plot looks \"good\" and has labels, title, etc. "
   ]
  },
  {
   "cell_type": "code",
   "execution_count": 12,
   "id": "15dff756-6d17-42a0-8019-40a57366c4a0",
   "metadata": {
    "tags": []
   },
   "outputs": [
    {
     "data": {
      "image/png": "[encoded data removed]",
      "text/plain": [
       "<Figure size 640x480 with 1 Axes>"
      ]
     },
     "metadata": {},
     "output_type": "display_data"
    }
   ],
   "source": [
    "# Create the requested plot\n",
    "data['cap-diameter'].hist(bins= 40);\n",
    "plt.title('Histogram of Cap Diameter in cm');\n",
    "plt.xlabel('Cap Diameter (cm)');\n",
    "plt.ylabel('Count');"
   ]
  },
  {
   "cell_type": "markdown",
   "id": "d35e1af8-b55c-4a6e-91dc-7b5fe15913d1",
   "metadata": {
    "deletable": false,
    "editable": false
   },
   "source": [
    "<!-- END QUESTION -->\n",
    "\n",
    "<!-- BEGIN QUESTION -->\n",
    "\n",
    "#### Exercise 3c: Visualiation \n",
    "\n",
    "Let's look at another variable `cap-shape`.  This is a categorical variable (specifically a nominal variable). \n",
    "\n",
    "Plot the number of samples of each type of shape (suggest using a bar plot). \n",
    "\n",
    "You should use the full names for each type of `cap-shape`, e.g., `bell`, `conical`, `convex`, etc. \n",
    "\n",
    "You will find the `xticks()` function useful  \n",
    "https://matplotlib.org/stable/api/_as_gen/matplotlib.pyplot.xticks.html#matplotlib.pyplot.xticks\n",
    "\n"
   ]
  },
  {
   "cell_type": "code",
   "execution_count": 13,
   "id": "6ee43dd9-6552-4433-9449-4d578d2543b3",
   "metadata": {
    "tags": []
   },
   "outputs": [
    {
     "data": {
      "image/png": "[encoded data removed]",
      "text/plain": [
       "<Figure size 640x480 with 1 Axes>"
      ]
     },
     "metadata": {},
     "output_type": "display_data"
    }
   ],
   "source": [
    "# Create the requested plot\n",
    "names = { 'x':'convex' , 'f':'flat', 'p':'spherical', 'b':'bell', 'c':'conical', 's':'sunken','o':'others'};\n",
    "names2 = list(names.keys())\n",
    "values = list(names.values())\n",
    "counts = data.groupby('cap-shape').size()\n",
    "plt.bar(values,counts)\n",
    "plt.title('Bar Plot of Cap Shape Counts');\n",
    "plt.xlabel('Cap Shape');\n",
    "plt.ylabel('Count');"
   ]
  },
  {
   "cell_type": "markdown",
   "id": "db305d96-768f-4c5b-96af-a2eb058bd68f",
   "metadata": {
    "deletable": false,
    "editable": false
   },
   "source": [
    "<!-- END QUESTION -->\n",
    "\n",
    "<!-- BEGIN QUESTION -->\n",
    "\n",
    "#### Exercise 3d: Visualization \n",
    "\n",
    "Let's now look to plot overlapping density plots of the `cap-diameter` variable by the mushroom `cap-shape`. \n",
    "\n",
    "Use the full shape name when appropriate on your plot. "
   ]
  },
  {
   "cell_type": "code",
   "execution_count": 14,
   "id": "17000a1e-ae10-4a04-8013-c8e30c8ddcd5",
   "metadata": {
    "tags": []
   },
   "outputs": [
    {
     "data": {
      "image/png": "[encoded data removed]",
      "text/plain": [
       "<Figure size 640x480 with 1 Axes>"
      ]
     },
     "metadata": {},
     "output_type": "display_data"
    }
   ],
   "source": [
    "# Create the requested plot\n",
    "sns.kdeplot(data, x = 'cap-diameter', hue = 'cap-shape');\n",
    "plt.legend( title = 'Cap Shape', labels = values);\n",
    "plt.title('Density Plots of Cap-Diameter Variable by the Mushroom Cap Shape');"
   ]
  },
  {
   "cell_type": "markdown",
   "id": "ac5bec1d-6290-46a5-a5ce-176841e0e8af",
   "metadata": {
    "deletable": false,
    "editable": false
   },
   "source": [
    "<!-- END QUESTION -->\n",
    "\n",
    "## Data Set - Auto-MPG \n",
    "\n",
    "For the remaining problems, you will using the Auto-MPG data set available in the UCI ML Repository. \n",
    "\n",
    "https://archive.ics.uci.edu/ml/datasets/Auto+MPG"
   ]
  },
  {
   "cell_type": "markdown",
   "id": "58811148-a19b-4511-862c-b1d3f441f19a",
   "metadata": {
    "deletable": false,
    "editable": false
   },
   "source": [
    "### Exercise 4: Import Data \n",
    "\n",
    "You will want to create a function to import the data \n",
    "\n",
    "The function should be named `ImportDataAuto(filepath, col_names)`    \n",
    "`ImportDataAuto` has one input arguments: \n",
    "* `filepath` - a string that links to the data or url to be imported, \n",
    "* `col_names` = a list of strings with the column names. \n",
    "\n",
    "In the function, you should import the data using `read_csv`. You may need to use additional arguments in order to properly read in the data.  But let the function use it default reasoning on `na_values`.\n",
    "\n",
    "The column names should be set to: 'mpg', 'cyl', 'disp', 'hp', 'weight', 'accel', 'model year', 'origin', 'car name'. \n",
    "\n",
    "The function should return the DataFrame. \n",
    "\n",
    "Helpful links: \n",
    "\n",
    "* https://pandas.pydata.org/pandas-docs/stable/generated/pandas.read_csv.html#pandas.read_csv"
   ]
  },
  {
   "cell_type": "code",
   "execution_count": 15,
   "id": "0cba9a11-0092-4519-8804-82fe906d7aea",
   "metadata": {
    "tags": []
   },
   "outputs": [
    {
     "data": {
      "text/html": [
       "<div>\n",
       "<style scoped>\n",
       "    .dataframe tbody tr th:only-of-type {\n",
       "        vertical-align: middle;\n",
       "    }\n",
       "\n",
       "    .dataframe tbody tr th {\n",
       "        vertical-align: top;\n",
       "    }\n",
       "\n",
       "    .dataframe thead th {\n",
       "        text-align: right;\n",
       "    }\n",
       "</style>\n",
       "<table border=\"1\" class=\"dataframe\">\n",
       "  <thead>\n",
       "    <tr style=\"text-align: right;\">\n",
       "      <th></th>\n",
       "      <th>mpg</th>\n",
       "      <th>cyl</th>\n",
       "      <th>disp</th>\n",
       "      <th>hp</th>\n",
       "      <th>weight</th>\n",
       "      <th>accel</th>\n",
       "      <th>model year</th>\n",
       "      <th>origin</th>\n",
       "      <th>car name</th>\n",
       "    </tr>\n",
       "  </thead>\n",
       "  <tbody>\n",
       "    <tr>\n",
       "      <th>0</th>\n",
       "      <td>18.0</td>\n",
       "      <td>8</td>\n",
       "      <td>307.0</td>\n",
       "      <td>130.0</td>\n",
       "      <td>3504.0</td>\n",
       "      <td>12.0</td>\n",
       "      <td>70</td>\n",
       "      <td>1</td>\n",
       "      <td>chevrolet chevelle malibu</td>\n",
       "    </tr>\n",
       "    <tr>\n",
       "      <th>1</th>\n",
       "      <td>15.0</td>\n",
       "      <td>8</td>\n",
       "      <td>350.0</td>\n",
       "      <td>165.0</td>\n",
       "      <td>3693.0</td>\n",
       "      <td>11.5</td>\n",
       "      <td>70</td>\n",
       "      <td>1</td>\n",
       "      <td>buick skylark 320</td>\n",
       "    </tr>\n",
       "    <tr>\n",
       "      <th>2</th>\n",
       "      <td>18.0</td>\n",
       "      <td>8</td>\n",
       "      <td>318.0</td>\n",
       "      <td>150.0</td>\n",
       "      <td>3436.0</td>\n",
       "      <td>11.0</td>\n",
       "      <td>70</td>\n",
       "      <td>1</td>\n",
       "      <td>plymouth satellite</td>\n",
       "    </tr>\n",
       "    <tr>\n",
       "      <th>3</th>\n",
       "      <td>16.0</td>\n",
       "      <td>8</td>\n",
       "      <td>304.0</td>\n",
       "      <td>150.0</td>\n",
       "      <td>3433.0</td>\n",
       "      <td>12.0</td>\n",
       "      <td>70</td>\n",
       "      <td>1</td>\n",
       "      <td>amc rebel sst</td>\n",
       "    </tr>\n",
       "    <tr>\n",
       "      <th>4</th>\n",
       "      <td>17.0</td>\n",
       "      <td>8</td>\n",
       "      <td>302.0</td>\n",
       "      <td>140.0</td>\n",
       "      <td>3449.0</td>\n",
       "      <td>10.5</td>\n",
       "      <td>70</td>\n",
       "      <td>1</td>\n",
       "      <td>ford torino</td>\n",
       "    </tr>\n",
       "  </tbody>\n",
       "</table>\n",
       "</div>"
      ],
      "text/plain": [
       "    mpg  cyl   disp     hp  weight  accel  model year  origin   \n",
       "0  18.0    8  307.0  130.0  3504.0   12.0          70       1  \\\n",
       "1  15.0    8  350.0  165.0  3693.0   11.5          70       1   \n",
       "2  18.0    8  318.0  150.0  3436.0   11.0          70       1   \n",
       "3  16.0    8  304.0  150.0  3433.0   12.0          70       1   \n",
       "4  17.0    8  302.0  140.0  3449.0   10.5          70       1   \n",
       "\n",
       "                    car name  \n",
       "0  chevrolet chevelle malibu  \n",
       "1          buick skylark 320  \n",
       "2         plymouth satellite  \n",
       "3              amc rebel sst  \n",
       "4                ford torino  "
      ]
     },
     "execution_count": 15,
     "metadata": {},
     "output_type": "execute_result"
    }
   ],
   "source": [
    "# Create the function ImportDataAuto here and return the data \n",
    "\n",
    "def ImportDataAuto(filepath, col_names):\n",
    "    # return the created DataFrame, df \n",
    "    df = pd.read_csv(url, header = None, names = cNames, delimiter='\\s+')\n",
    "    \n",
    "    return df\n",
    "\n",
    "url = 'https://archive.ics.uci.edu/ml/machine-learning-databases/auto-mpg/auto-mpg.data'  \n",
    "cNames = ['mpg', 'cyl', 'disp', 'hp', 'weight', 'accel', 'model year', 'origin', 'car name']\n",
    "data = ImportDataAuto(url, cNames)\n",
    "data.head()"
   ]
  },
  {
   "cell_type": "markdown",
   "id": "8404546c-82d1-4ac2-9191-8b314663fa51",
   "metadata": {},
   "source": [
    "#reference : https://www.geeksforgeeks.org/how-to-read-space-delimited-files-in-pandas/"
   ]
  },
  {
   "cell_type": "code",
   "execution_count": 16,
   "id": "0690994b",
   "metadata": {
    "deletable": false,
    "editable": false
   },
   "outputs": [
    {
     "data": {
      "text/html": [
       "<p><strong><pre style='display: inline;'>q4</pre></strong> passed! 🍀</p>"
      ],
      "text/plain": [
       "q4 results: All test cases passed!"
      ]
     },
     "execution_count": 16,
     "metadata": {},
     "output_type": "execute_result"
    }
   ],
   "source": [
    "grader.check(\"q4\")"
   ]
  },
  {
   "cell_type": "markdown",
   "id": "e4072b43-0221-4f53-8ee1-5ecf79b20a7b",
   "metadata": {},
   "source": [
    "### Exercise 5: Data Exploration"
   ]
  },
  {
   "cell_type": "markdown",
   "id": "203cb493-70df-417d-b728-b6ae196845e0",
   "metadata": {
    "deletable": false,
    "editable": false
   },
   "source": [
    "#### Exercise 5a: Columns with Missing Data \n",
    "First, you will determine whether each column has any missing values (a Boolean for each column).\n",
    "\n",
    "`auto_col_missing_data` should be a DataSeries with each column name as an index value and Booleans for whether there is any missing data.\n",
    "\n",
    "You may want to consider the `isnull` or `isna` functions.\n"
   ]
  },
  {
   "cell_type": "code",
   "execution_count": 17,
   "id": "bbaa768a-5511-4f00-9d3a-67f4947e6c3e",
   "metadata": {
    "tags": []
   },
   "outputs": [
    {
     "data": {
      "text/plain": [
       "mpg           False\n",
       "cyl           False\n",
       "disp          False\n",
       "hp            False\n",
       "weight        False\n",
       "accel         False\n",
       "model year    False\n",
       "origin        False\n",
       "car name      False\n",
       "dtype: bool"
      ]
     },
     "execution_count": 17,
     "metadata": {},
     "output_type": "execute_result"
    }
   ],
   "source": [
    "auto_col_missing_data = data.isnull().any()\n",
    "auto_col_missing_data"
   ]
  },
  {
   "cell_type": "code",
   "execution_count": 18,
   "id": "e18da76e",
   "metadata": {
    "deletable": false,
    "editable": false
   },
   "outputs": [
    {
     "data": {
      "text/html": [
       "<p><strong><pre style='display: inline;'>q5a</pre></strong> passed! 🎉</p>"
      ],
      "text/plain": [
       "q5a results: All test cases passed!"
      ]
     },
     "execution_count": 18,
     "metadata": {},
     "output_type": "execute_result"
    }
   ],
   "source": [
    "grader.check(\"q5a\")"
   ]
  },
  {
   "cell_type": "markdown",
   "id": "7448f18d-616a-4e70-8977-e7435725b19e",
   "metadata": {
    "deletable": false,
    "editable": false
   },
   "source": [
    "#### Exercise 5b: Types of Data \n",
    "\n",
    "Now you will explore the types of data in each column.  Store the results in `auto_col_types`."
   ]
  },
  {
   "cell_type": "code",
   "execution_count": 19,
   "id": "d16bf144-e4c8-45c7-8818-87b42c7f184f",
   "metadata": {
    "tags": []
   },
   "outputs": [
    {
     "data": {
      "text/plain": [
       "mpg           float64\n",
       "cyl             int64\n",
       "disp          float64\n",
       "hp             object\n",
       "weight        float64\n",
       "accel         float64\n",
       "model year      int64\n",
       "origin          int64\n",
       "car name       object\n",
       "dtype: object"
      ]
     },
     "execution_count": 19,
     "metadata": {},
     "output_type": "execute_result"
    }
   ],
   "source": [
    "auto_col_types = data.dtypes\n",
    "auto_col_types"
   ]
  },
  {
   "cell_type": "code",
   "execution_count": 20,
   "id": "eedc753e",
   "metadata": {
    "deletable": false,
    "editable": false
   },
   "outputs": [
    {
     "data": {
      "text/html": [
       "<p><strong><pre style='display: inline;'>q5b</pre></strong> passed! 🌈</p>"
      ],
      "text/plain": [
       "q5b results: All test cases passed!"
      ]
     },
     "execution_count": 20,
     "metadata": {},
     "output_type": "execute_result"
    }
   ],
   "source": [
    "grader.check(\"q5b\")"
   ]
  },
  {
   "cell_type": "markdown",
   "id": "92d048e0-8a4e-4ceb-bc20-6a31a9e27e0e",
   "metadata": {},
   "source": [
    "**What is wrong with this information?** \n",
    "\n",
    "Horsepower, `hp` is considered an object.  But, this should be a float.  What is the problem?"
   ]
  },
  {
   "cell_type": "code",
   "execution_count": 21,
   "id": "364230f6-18a8-4df3-9103-af2b33c65b91",
   "metadata": {},
   "outputs": [
    {
     "data": {
      "text/html": [
       "<div>\n",
       "<style scoped>\n",
       "    .dataframe tbody tr th:only-of-type {\n",
       "        vertical-align: middle;\n",
       "    }\n",
       "\n",
       "    .dataframe tbody tr th {\n",
       "        vertical-align: top;\n",
       "    }\n",
       "\n",
       "    .dataframe thead th {\n",
       "        text-align: right;\n",
       "    }\n",
       "</style>\n",
       "<table border=\"1\" class=\"dataframe\">\n",
       "  <thead>\n",
       "    <tr style=\"text-align: right;\">\n",
       "      <th></th>\n",
       "      <th>mpg</th>\n",
       "      <th>cyl</th>\n",
       "      <th>disp</th>\n",
       "      <th>hp</th>\n",
       "      <th>weight</th>\n",
       "      <th>accel</th>\n",
       "      <th>model year</th>\n",
       "      <th>origin</th>\n",
       "      <th>car name</th>\n",
       "    </tr>\n",
       "  </thead>\n",
       "  <tbody>\n",
       "    <tr>\n",
       "      <th>32</th>\n",
       "      <td>25.0</td>\n",
       "      <td>4</td>\n",
       "      <td>98.0</td>\n",
       "      <td>?</td>\n",
       "      <td>2046.0</td>\n",
       "      <td>19.0</td>\n",
       "      <td>71</td>\n",
       "      <td>1</td>\n",
       "      <td>ford pinto</td>\n",
       "    </tr>\n",
       "    <tr>\n",
       "      <th>126</th>\n",
       "      <td>21.0</td>\n",
       "      <td>6</td>\n",
       "      <td>200.0</td>\n",
       "      <td>?</td>\n",
       "      <td>2875.0</td>\n",
       "      <td>17.0</td>\n",
       "      <td>74</td>\n",
       "      <td>1</td>\n",
       "      <td>ford maverick</td>\n",
       "    </tr>\n",
       "    <tr>\n",
       "      <th>330</th>\n",
       "      <td>40.9</td>\n",
       "      <td>4</td>\n",
       "      <td>85.0</td>\n",
       "      <td>?</td>\n",
       "      <td>1835.0</td>\n",
       "      <td>17.3</td>\n",
       "      <td>80</td>\n",
       "      <td>2</td>\n",
       "      <td>renault lecar deluxe</td>\n",
       "    </tr>\n",
       "    <tr>\n",
       "      <th>336</th>\n",
       "      <td>23.6</td>\n",
       "      <td>4</td>\n",
       "      <td>140.0</td>\n",
       "      <td>?</td>\n",
       "      <td>2905.0</td>\n",
       "      <td>14.3</td>\n",
       "      <td>80</td>\n",
       "      <td>1</td>\n",
       "      <td>ford mustang cobra</td>\n",
       "    </tr>\n",
       "    <tr>\n",
       "      <th>354</th>\n",
       "      <td>34.5</td>\n",
       "      <td>4</td>\n",
       "      <td>100.0</td>\n",
       "      <td>?</td>\n",
       "      <td>2320.0</td>\n",
       "      <td>15.8</td>\n",
       "      <td>81</td>\n",
       "      <td>2</td>\n",
       "      <td>renault 18i</td>\n",
       "    </tr>\n",
       "    <tr>\n",
       "      <th>374</th>\n",
       "      <td>23.0</td>\n",
       "      <td>4</td>\n",
       "      <td>151.0</td>\n",
       "      <td>?</td>\n",
       "      <td>3035.0</td>\n",
       "      <td>20.5</td>\n",
       "      <td>82</td>\n",
       "      <td>1</td>\n",
       "      <td>amc concord dl</td>\n",
       "    </tr>\n",
       "  </tbody>\n",
       "</table>\n",
       "</div>"
      ],
      "text/plain": [
       "      mpg  cyl   disp hp  weight  accel  model year  origin   \n",
       "32   25.0    4   98.0  ?  2046.0   19.0          71       1  \\\n",
       "126  21.0    6  200.0  ?  2875.0   17.0          74       1   \n",
       "330  40.9    4   85.0  ?  1835.0   17.3          80       2   \n",
       "336  23.6    4  140.0  ?  2905.0   14.3          80       1   \n",
       "354  34.5    4  100.0  ?  2320.0   15.8          81       2   \n",
       "374  23.0    4  151.0  ?  3035.0   20.5          82       1   \n",
       "\n",
       "                 car name  \n",
       "32             ford pinto  \n",
       "126         ford maverick  \n",
       "330  renault lecar deluxe  \n",
       "336    ford mustang cobra  \n",
       "354           renault 18i  \n",
       "374        amc concord dl  "
      ]
     },
     "execution_count": 21,
     "metadata": {},
     "output_type": "execute_result"
    }
   ],
   "source": [
    "data[data['hp'] == '?']"
   ]
  },
  {
   "cell_type": "markdown",
   "id": "836a97ac-aa61-480f-b91c-4f2eba62d84c",
   "metadata": {},
   "source": [
    "There are some missing values in this column that need to be handled.\n",
    "\n",
    "We could change our import function to recognize \"?\" values as `NaN`.  Here let's instead create a function that replaces the \"?\" values after the data is imported.  \n",
    "\n"
   ]
  },
  {
   "cell_type": "markdown",
   "id": "84bf7e98-47fa-49a6-9b84-50d61ec02437",
   "metadata": {
    "deletable": false,
    "editable": false
   },
   "source": [
    "#### Exercise 5c: Handle Missing Data \n",
    "\n",
    "Create a function `HandleQuestionMark(df, col)`, that changes all the \"?\" values to a replacement value 99 and converts the column to be a float, where\n",
    "* `df` is a DataFrame to be worked on \n",
    "* `col` is the name of the column to be \"handled\"\n",
    "\n",
    "*Note* In practice, you most likely do not want to replace the missing values with a replacement as given.  As it will throw of the distribution.  "
   ]
  },
  {
   "cell_type": "code",
   "execution_count": 22,
   "id": "90731cf9",
   "metadata": {
    "colab": {
     "base_uri": "https://localhost:8080/",
     "height": 221
    },
    "executionInfo": {
     "elapsed": 303,
     "status": "ok",
     "timestamp": 1599760074063,
     "user": {
      "displayName": "Laura Brown",
      "photoUrl": "https://lh3.googleusercontent.com/a-/AOh14GjYbC5So3kNOYBteW-fSY5JpgP-bBJa7kyAEluaKg=s64",
      "userId": "02180634349638765126"
     },
     "user_tz": 240
    },
    "id": "ge75D24jHTEP",
    "outputId": "e570c17a-126d-4d9a-ec2a-78a36f8a43c4",
    "tags": []
   },
   "outputs": [
    {
     "name": "stdout",
     "output_type": "stream",
     "text": [
      "  Current data type is :  object\n",
      "  Changed data type is :  float64\n",
      "mpg           float64\n",
      "cyl             int64\n",
      "disp          float64\n",
      "hp            float64\n",
      "weight        float64\n",
      "accel         float64\n",
      "model year      int64\n",
      "origin          int64\n",
      "car name       object\n",
      "dtype: object\n",
      "    mpg  cyl   disp     hp  weight  accel  model year  origin   \n",
      "0  18.0    8  307.0  130.0  3504.0   12.0          70       1  \\\n",
      "1  15.0    8  350.0  165.0  3693.0   11.5          70       1   \n",
      "2  18.0    8  318.0  150.0  3436.0   11.0          70       1   \n",
      "3  16.0    8  304.0  150.0  3433.0   12.0          70       1   \n",
      "4  17.0    8  302.0  140.0  3449.0   10.5          70       1   \n",
      "\n",
      "                    car name  \n",
      "0  chevrolet chevelle malibu  \n",
      "1          buick skylark 320  \n",
      "2         plymouth satellite  \n",
      "3              amc rebel sst  \n",
      "4                ford torino  \n"
     ]
    }
   ],
   "source": [
    "def HandleQuestionMark(df, col):\n",
    "    # Guarding \n",
    "    if (df[col].dtypes == 'object'):\n",
    "        print (\"  Current data type is : \", df[col].dtypes)\n",
    "        a = df[df[col] == '?'].index.tolist()\n",
    "        b = data.columns.get_loc(col)\n",
    "        df.iloc[a,b] = df.iloc[a,b].replace('?',99)\n",
    "        df[[col]] = df[[col]].astype(float)\n",
    "        print (\"  Changed data type is : \", df[col].dtypes)\n",
    "        \n",
    "    return df \n",
    "\n",
    "HandleQuestionMark(data, 'hp')\n",
    "print(data.dtypes)\n",
    "print(data.head())"
   ]
  },
  {
   "cell_type": "markdown",
   "id": "604ba9bd-80c8-4b63-9e19-50bb328556f1",
   "metadata": {},
   "source": [
    "#references : https://saturncloud.io/blog/how-to-get-column-index-from-column-name-in-python-pandas/#:~:text=The%20easiest%20way%20to%20get,Series%20based%20on%20its%20label."
   ]
  },
  {
   "cell_type": "code",
   "execution_count": 23,
   "id": "8de02491",
   "metadata": {
    "deletable": false,
    "editable": false
   },
   "outputs": [
    {
     "data": {
      "text/html": [
       "<p><strong><pre style='display: inline;'>q5c</pre></strong> passed! 🌟</p>"
      ],
      "text/plain": [
       "q5c results: All test cases passed!"
      ]
     },
     "execution_count": 23,
     "metadata": {},
     "output_type": "execute_result"
    }
   ],
   "source": [
    "grader.check(\"q5c\")"
   ]
  },
  {
   "cell_type": "markdown",
   "id": "1e7467f9-dc13-4445-9188-dab09004b041",
   "metadata": {
    "deletable": false,
    "editable": false
   },
   "source": [
    "#### Exercise 5d: Data Manipulation \n",
    "\n",
    "Let's update the data in several ways. \n",
    "\n",
    "Create a function `StringDataClean(df)` that: \n",
    "\n",
    "* Change the column labels (headers) from all lower case to [title case](https://danielmiessler.com/p/a-list-of-different-case-types/) and then replace \"space\" with underscore, \"_\". Print the column headers before and after.\n",
    "* Set the DataFrame index (row labels) to the information in `Car_Name`. \n",
    "* Change the DataFrame index (row labels) also be title case, that is, replace all spaces with underscore"
   ]
  },
  {
   "cell_type": "code",
   "execution_count": 25,
   "id": "cae49a85-7a82-4254-a53f-68dc98137685",
   "metadata": {
    "tags": []
   },
   "outputs": [
    {
     "name": "stdout",
     "output_type": "stream",
     "text": [
      "*** String Operations on Column Headers ***\n",
      "  Before:  Index(['mpg', 'cyl', 'disp', 'hp', 'weight', 'accel', 'model year', 'origin',\n",
      "       'car name'],\n",
      "      dtype='object')\n",
      "  After:  Index(['Mpg', 'Cyl', 'Disp', 'Hp', 'Weight', 'Accel', 'Model_Year', 'Origin',\n",
      "       'Car_Name'],\n",
      "      dtype='object')\n"
     ]
    },
    {
     "data": {
      "text/html": [
       "<div>\n",
       "<style scoped>\n",
       "    .dataframe tbody tr th:only-of-type {\n",
       "        vertical-align: middle;\n",
       "    }\n",
       "\n",
       "    .dataframe tbody tr th {\n",
       "        vertical-align: top;\n",
       "    }\n",
       "\n",
       "    .dataframe thead th {\n",
       "        text-align: right;\n",
       "    }\n",
       "</style>\n",
       "<table border=\"1\" class=\"dataframe\">\n",
       "  <thead>\n",
       "    <tr style=\"text-align: right;\">\n",
       "      <th></th>\n",
       "      <th>Mpg</th>\n",
       "      <th>Cyl</th>\n",
       "      <th>Disp</th>\n",
       "      <th>Hp</th>\n",
       "      <th>Weight</th>\n",
       "      <th>Accel</th>\n",
       "      <th>Model_Year</th>\n",
       "      <th>Origin</th>\n",
       "      <th>Car_Name</th>\n",
       "    </tr>\n",
       "  </thead>\n",
       "  <tbody>\n",
       "    <tr>\n",
       "      <th>Chevrolet_Chevelle_Malibu</th>\n",
       "      <td>18.0</td>\n",
       "      <td>8</td>\n",
       "      <td>307.0</td>\n",
       "      <td>130.0</td>\n",
       "      <td>3504.0</td>\n",
       "      <td>12.0</td>\n",
       "      <td>70</td>\n",
       "      <td>1</td>\n",
       "      <td>chevrolet chevelle malibu</td>\n",
       "    </tr>\n",
       "    <tr>\n",
       "      <th>Buick_Skylark_320</th>\n",
       "      <td>15.0</td>\n",
       "      <td>8</td>\n",
       "      <td>350.0</td>\n",
       "      <td>165.0</td>\n",
       "      <td>3693.0</td>\n",
       "      <td>11.5</td>\n",
       "      <td>70</td>\n",
       "      <td>1</td>\n",
       "      <td>buick skylark 320</td>\n",
       "    </tr>\n",
       "    <tr>\n",
       "      <th>Plymouth_Satellite</th>\n",
       "      <td>18.0</td>\n",
       "      <td>8</td>\n",
       "      <td>318.0</td>\n",
       "      <td>150.0</td>\n",
       "      <td>3436.0</td>\n",
       "      <td>11.0</td>\n",
       "      <td>70</td>\n",
       "      <td>1</td>\n",
       "      <td>plymouth satellite</td>\n",
       "    </tr>\n",
       "    <tr>\n",
       "      <th>Amc_Rebel_Sst</th>\n",
       "      <td>16.0</td>\n",
       "      <td>8</td>\n",
       "      <td>304.0</td>\n",
       "      <td>150.0</td>\n",
       "      <td>3433.0</td>\n",
       "      <td>12.0</td>\n",
       "      <td>70</td>\n",
       "      <td>1</td>\n",
       "      <td>amc rebel sst</td>\n",
       "    </tr>\n",
       "    <tr>\n",
       "      <th>Ford_Torino</th>\n",
       "      <td>17.0</td>\n",
       "      <td>8</td>\n",
       "      <td>302.0</td>\n",
       "      <td>140.0</td>\n",
       "      <td>3449.0</td>\n",
       "      <td>10.5</td>\n",
       "      <td>70</td>\n",
       "      <td>1</td>\n",
       "      <td>ford torino</td>\n",
       "    </tr>\n",
       "  </tbody>\n",
       "</table>\n",
       "</div>"
      ],
      "text/plain": [
       "                            Mpg  Cyl   Disp     Hp  Weight  Accel  Model_Year   \n",
       "Chevrolet_Chevelle_Malibu  18.0    8  307.0  130.0  3504.0   12.0          70  \\\n",
       "Buick_Skylark_320          15.0    8  350.0  165.0  3693.0   11.5          70   \n",
       "Plymouth_Satellite         18.0    8  318.0  150.0  3436.0   11.0          70   \n",
       "Amc_Rebel_Sst              16.0    8  304.0  150.0  3433.0   12.0          70   \n",
       "Ford_Torino                17.0    8  302.0  140.0  3449.0   10.5          70   \n",
       "\n",
       "                           Origin                   Car_Name  \n",
       "Chevrolet_Chevelle_Malibu       1  chevrolet chevelle malibu  \n",
       "Buick_Skylark_320               1          buick skylark 320  \n",
       "Plymouth_Satellite              1         plymouth satellite  \n",
       "Amc_Rebel_Sst                   1              amc rebel sst  \n",
       "Ford_Torino                     1                ford torino  "
      ]
     },
     "execution_count": 25,
     "metadata": {},
     "output_type": "execute_result"
    }
   ],
   "source": [
    "def StringDataClean(df):\n",
    "    print(\"*** String Operations on Column Headers ***\")\n",
    "    print(\"  Before: \", df.columns)\n",
    "    #df.columns = ['Mpg','Cyl', 'Disp', 'Hp', 'Weight', 'Accel', 'Model_Year','Origin','Car_Name']\n",
    "    newColumns = [column.replace(' ', '_').title() for column in df.columns]\n",
    "    df.columns = newColumns\n",
    "    print(\"  After: \", df.columns)\n",
    "\n",
    "    # Set the DataFrame index \n",
    "    df.set_index(df['Car_Name'],inplace = True)\n",
    "    # Change the DataFrame index\n",
    "    newindex = [row.replace(' ', '_').title() for row in df.index]\n",
    "    df.index = newindex\n",
    "    return df\n",
    "\n",
    "data = StringDataClean(data)\n",
    "\n",
    "data.head()"
   ]
  },
  {
   "cell_type": "code",
   "execution_count": 26,
   "id": "dacb3b70",
   "metadata": {
    "deletable": false,
    "editable": false
   },
   "outputs": [
    {
     "data": {
      "text/html": [
       "<p><strong><pre style='display: inline;'>q5d</pre></strong> passed! ✨</p>"
      ],
      "text/plain": [
       "q5d results: All test cases passed!"
      ]
     },
     "execution_count": 26,
     "metadata": {},
     "output_type": "execute_result"
    }
   ],
   "source": [
    "grader.check(\"q5d\")"
   ]
  },
  {
   "cell_type": "markdown",
   "id": "77230e9e-efc3-4778-814d-f581e904a1f6",
   "metadata": {},
   "source": [
    "### Exercise 6: Data Exploration and Visualization \n",
    "\n",
    "Let's explore the data with some visualizations. "
   ]
  },
  {
   "cell_type": "markdown",
   "id": "1efd39e0",
   "metadata": {
    "deletable": false,
    "editable": false,
    "id": "fPXGWmUAH2dk"
   },
   "source": [
    "<!-- BEGIN QUESTION -->\n",
    "\n",
    "#### Exercise 6a: Data Exploration and Analysis \n",
    "\n",
    "Create a function `plot_mpg_origin()` that reports the mpg over the grouping `Origin`.  Consider using line, bar, scatter plots.  \n",
    "\n",
    "The function should: \n",
    "\n",
    "* take as input a DataFrame \n",
    "* report mean mpg over the group\n",
    "* replace the origin code with strings of the region of origin:\n",
    "    * 1 -> \"USA\"\n",
    "    * 2 -> \"Europe\"\n",
    "    * 3 -> \"Asia\" \n",
    "* make sure the plot looks good and has labels, title, etc. "
   ]
  },
  {
   "cell_type": "code",
   "execution_count": 27,
   "id": "fef20173",
   "metadata": {
    "colab": {
     "base_uri": "https://localhost:8080/",
     "height": 375
    },
    "executionInfo": {
     "elapsed": 659,
     "status": "ok",
     "timestamp": 1599760101090,
     "user": {
      "displayName": "Laura Brown",
      "photoUrl": "https://lh3.googleusercontent.com/a-/AOh14GjYbC5So3kNOYBteW-fSY5JpgP-bBJa7kyAEluaKg=s64",
      "userId": "02180634349638765126"
     },
     "user_tz": 240
    },
    "id": "hYMAfnScH-1b",
    "outputId": "2adcafb6-de92-4ec3-9c32-062e6dde0bf2",
    "tags": []
   },
   "outputs": [
    {
     "data": {
      "text/plain": [
       "(<Axes: title={'center': 'Mpg'}, xlabel='Origin'>,\n",
       " Origin\n",
       " 1    20.083534\n",
       " 2    27.891429\n",
       " 3    30.450633\n",
       " Name: Mpg, dtype: float64)"
      ]
     },
     "execution_count": 27,
     "metadata": {},
     "output_type": "execute_result"
    },
    {
     "data": {
      "image/png": "[encoded data removed]",
      "text/plain": [
       "<Figure size 640x480 with 1 Axes>"
      ]
     },
     "metadata": {},
     "output_type": "display_data"
    }
   ],
   "source": [
    "def plot_mpg_origin(df):\n",
    "    #df['Origin'] = df['Origin'].replace({1:'USA',2:'Europe',3:'Asia'});\n",
    "    plot = df.boxplot(by='Origin', column = 'Mpg');\n",
    "    plt.xticks([1, 2, 3], [\"USA\", \"Europe\", \"Asia\"])\n",
    "    Mean_by_Origin = df['Mpg'].groupby(df['Origin']).mean();\n",
    "    \n",
    "    \n",
    "    return  plot , Mean_by_Origin;\n",
    "\n",
    "\n",
    "plot_mpg_origin(data)"
   ]
  },
  {
   "cell_type": "markdown",
   "id": "e453e1ae-bca0-4806-a1c8-1c07047e5caa",
   "metadata": {
    "deletable": false,
    "editable": false
   },
   "source": [
    "<!-- END QUESTION -->\n",
    "\n",
    "<!-- BEGIN QUESTION -->\n",
    "\n",
    "#### Exercise 6b: Data Exploration and Analysis \n",
    "\n",
    "Create a function `plot_mpg_year()` that reports the mpg over the grouping `Model Year`.  Consider using line, bar, scatter plots.  \n",
    "\n",
    "The function should: \n",
    "\n",
    "* take as input a DataFrame\n",
    "* report mean mpg over the group \n",
    "* make sure the plot looks good and has labels, title, etc. "
   ]
  },
  {
   "cell_type": "code",
   "execution_count": 28,
   "id": "700d1c46-7945-4d58-b170-1f8a1401072b",
   "metadata": {},
   "outputs": [
    {
     "name": "stdout",
     "output_type": "stream",
     "text": [
      "Model_Year\n",
      "70    17.689655\n",
      "71    21.250000\n",
      "72    18.714286\n",
      "73    17.100000\n",
      "74    22.703704\n",
      "75    20.266667\n",
      "76    21.573529\n",
      "77    23.375000\n",
      "78    24.061111\n",
      "79    25.093103\n",
      "80    33.696552\n",
      "81    30.334483\n",
      "82    31.709677\n",
      "Name: Mpg, dtype: float64\n"
     ]
    },
    {
     "data": {
      "image/png": "[encoded data removed]",
      "text/plain": [
       "<Figure size 640x480 with 1 Axes>"
      ]
     },
     "metadata": {},
     "output_type": "display_data"
    }
   ],
   "source": [
    "def plot_mpg_year(df):\n",
    "    mpg_by_year = df['Mpg'].groupby(df['Model_Year']).mean()\n",
    "    line_plot = mpg_by_year.plot.line(marker='o')\n",
    "    plt.xticks(mpg_by_year.index)\n",
    "    plt.ylabel('Mean Mpg')\n",
    "    plt.title('Line plot showing Mean Mpg over the years')\n",
    "    plt.grid(True)\n",
    "    print(mpg_by_year)\n",
    "    return line_plot\n",
    "\n",
    "plot_mpg_year(data);"
   ]
  },
  {
   "cell_type": "code",
   "execution_count": null,
   "id": "ac86a698-6cb2-43ab-8b14-e1105117cb73",
   "metadata": {
    "tags": []
   },
   "outputs": [],
   "source": [
    "def plot_mpg_year(df):\n",
    "    \n",
    "    \n",
    "    return \n",
    "\n",
    "\n",
    "plot_mpg_year(data)"
   ]
  },
  {
   "cell_type": "markdown",
   "id": "00afc59b-5b61-4784-bbad-b4cbb800d4d4",
   "metadata": {
    "deletable": false,
    "editable": false
   },
   "source": [
    "<!-- END QUESTION -->\n",
    "\n",
    "<!-- BEGIN QUESTION -->\n",
    "\n",
    "#### Exercise Bonus: Data Exploration and Analysis \n",
    "\n",
    "Create a function `plot_mpg_year_region()` that reports the mpg over the both groupings `Model Year` and `Region`.  Think about what is the appropriate type of plot.  \n",
    "\n",
    "The function should: \n",
    "\n",
    "* take as input the DataFrame \n",
    "* report mpg over both groups\n",
    "* make sure the plot looks good and has labels, title, etc. "
   ]
  },
  {
   "cell_type": "code",
   "execution_count": 31,
   "id": "3be5ddb5-1991-4b50-a79c-465ed738a68f",
   "metadata": {
    "tags": []
   },
   "outputs": [
    {
     "data": {
      "image/png": "[encoded data removed]",
      "text/plain": [
       "<Figure size 640x480 with 1 Axes>"
      ]
     },
     "metadata": {},
     "output_type": "display_data"
    }
   ],
   "source": [
    "def plot_mpg_year_region(df):\n",
    "    df['Origin'] = df['Origin'].replace({1: \"USA\", 2: \"Europe\", 3: \"Asia\"})\n",
    "    mean_mpg = df.groupby(['Model_Year', 'Origin'])['Mpg'].mean().unstack()\n",
    "\n",
    "    mean_mpg.plot(kind='line', marker='o')\n",
    "    plt.title('Mean MPG by Model Year and Region of Origin')\n",
    "    plt.xlabel('Model Year')\n",
    "    plt.ylabel('Mean MPG')\n",
    "    plt.legend(title='Region of Origin')\n",
    "   \n",
    "    plt.show()\n",
    "   \n",
    "    \n",
    "    \n",
    "    return \n",
    "\n",
    "\n",
    "plot_mpg_year_region(data)"
   ]
  },
  {
   "cell_type": "markdown",
   "id": "9c751dcb-fd36-4a35-ae76-180c8ad75402",
   "metadata": {
    "deletable": false,
    "editable": false
   },
   "source": [
    "<!-- END QUESTION -->\n",
    "\n",
    "## Congratulations! You have finished Lab3! \n",
    "\n",
    "### Submission Instructions\n",
    "\n",
    "Below, you will see a cell. Running this cell will automatically generate a zip file with your autograded answers. Once you submit this file to the Lab 3 assignment on Gradescope, Gradescope will automatically submit a PDF file with your some of your answers to the Lab 3 - Figures assignment (making them easier to grade). \n",
    "\n",
    "**Important**: Please check that your responses were generated and submitted correctly to the Lab 3 - Figures Assignment. \n",
    "\n",
    "**You are responsible for ensuring your submission follows our requirements and that the PDF for Lab 3 - Figures answers was generated/submitted correctly. We will not be granting regrade requests nor extensions to submissions that don't follow instructions.** If you encounter any difficulties with the submission, contact course staff well-ahead of the deadline. \n",
    "\n",
    "Make sure you have run all cells in your notebook **in order** before running the cell below, so that all images/graphs appear in the output. The cell below will generate a zip file for you to submit. **Please save before exporting!**"
   ]
  },
  {
   "cell_type": "markdown",
   "id": "14feb295",
   "metadata": {
    "deletable": false,
    "editable": false
   },
   "source": [
    "## Submission\n",
    "\n",
    "Make sure you have run all cells in your notebook in order before running the cell below, so that all images/graphs appear in the output. The cell below will generate a zip file for you to submit. **Please save before exporting!**"
   ]
  },
  {
   "cell_type": "code",
   "execution_count": null,
   "id": "bcbce5e8",
   "metadata": {
    "deletable": false,
    "editable": false
   },
   "outputs": [],
   "source": [
    "# Save your notebook first, then run this cell to export your submission.\n",
    "grader.export()"
   ]
  },
  {
   "cell_type": "markdown",
   "id": "7339e874",
   "metadata": {},
   "source": [
    " "
   ]
  }
 ],
 "metadata": {
  "kernelspec": {
   "display_name": "Python 3 (ipykernel)",
   "language": "python",
   "name": "python3"
  },
  "language_info": {
   "codemirror_mode": {
    "name": "ipython",
    "version": 3
   },
   "file_extension": ".py",
   "mimetype": "text/x-python",
   "name": "python",
   "nbconvert_exporter": "python",
   "pygments_lexer": "ipython3",
   "version": "3.10.11"
  },
  "otter": {
   "OK_FORMAT": true,
   "assignment_name": "lab3",
   "tests": {
    "q1": {
     "name": "q1",
     "points": [
      1,
      1,
      1
     ],
     "suites": [
      {
       "cases": [
        {
         "code": ">>> data.iloc[0,0] == 'p' and data.iloc[0,8] == 'w'\nTrue",
         "hidden": false,
         "locked": false
        },
        {
         "code": ">>> data.iloc[4,0] == 'p' and data.iloc[4,8] == 'w'\nTrue",
         "hidden": false,
         "locked": false
        },
        {
         "code": ">>> data.shape[0]==61069 and data.shape[1]==21\nTrue",
         "hidden": false,
         "locked": false
        }
       ],
       "scored": true,
       "setup": "",
       "teardown": "",
       "type": "doctest"
      }
     ]
    },
    "q2a": {
     "name": "q2a",
     "points": [
      1,
      1,
      2
     ],
     "suites": [
      {
       "cases": [
        {
         "code": ">>> type(col_missing_data) == pd.core.series.Series\nTrue",
         "hidden": false,
         "locked": false
        },
        {
         "code": ">>> all(col_missing_data.index == ['class', 'cap-diameter', 'cap-shape', 'cap-surface', \n...                            'cap-color', 'does-bruise-or-bleed', 'gill-attachment', \n...                            'gill-spacing', 'gill-color', 'stem-height', 'stem-width', \n...                            'stem-root', 'stem-surface', 'stem-color', 'veil-type', \n...                            'veil-color', 'has-ring', 'ring-type', 'spore-print-color',\n...                            'habitat', 'season'])\nTrue",
         "hidden": false,
         "locked": false
        },
        {
         "code": ">>> all(col_missing_data[col_missing_data].index == \\\n...     ['cap-surface', 'gill-attachment', 'gill-spacing', 'stem-root',\n...        'stem-surface', 'veil-type', 'veil-color', 'ring-type',\n...        'spore-print-color'])\nTrue",
         "hidden": false,
         "locked": false
        }
       ],
       "scored": true,
       "setup": "",
       "teardown": "",
       "type": "doctest"
      }
     ]
    },
    "q2b": {
     "name": "q2b",
     "points": [
      1
     ],
     "suites": [
      {
       "cases": [
        {
         "code": ">>> 0 <= num_rows_missing <= data.shape[0]\nTrue",
         "hidden": false,
         "locked": false
        }
       ],
       "scored": true,
       "setup": "",
       "teardown": "",
       "type": "doctest"
      }
     ]
    },
    "q2c": {
     "name": "q2c",
     "points": [
      1,
      3
     ],
     "suites": [
      {
       "cases": [
        {
         "code": ">>> type(col_types) == pd.core.series.Series\nTrue",
         "hidden": false,
         "locked": false
        },
        {
         "code": ">>> all(col_types[col_types=='float64'].index == \\\n...     ['cap-diameter', 'stem-height', 'stem-width'])\nTrue",
         "hidden": false,
         "locked": false
        }
       ],
       "scored": true,
       "setup": "",
       "teardown": "",
       "type": "doctest"
      }
     ]
    },
    "q3a": {
     "name": "q3a",
     "points": [
      2,
      2,
      2
     ],
     "suites": [
      {
       "cases": [
        {
         "code": ">>> np.isclose(mean_cap_diam, 6.7339)\nTrue",
         "hidden": false,
         "locked": false
        },
        {
         "code": ">>> np.isclose(std_cap_diam, 5.2648)\nTrue",
         "hidden": false,
         "locked": false
        },
        {
         "code": ">>> miss_cap_diam == False\nTrue",
         "hidden": false,
         "locked": false
        }
       ],
       "scored": true,
       "setup": "",
       "teardown": "",
       "type": "doctest"
      }
     ]
    },
    "q4": {
     "name": "q4",
     "points": [
      1,
      1,
      2,
      2
     ],
     "suites": [
      {
       "cases": [
        {
         "code": ">>> data.shape == (398, 9)\nTrue",
         "hidden": false,
         "locked": false
        },
        {
         "code": ">>> all(data.columns == ['mpg', 'cyl', 'disp', 'hp', 'weight', 'accel', \n...                      'model year', 'origin', 'car name'])\nTrue",
         "hidden": false,
         "locked": false
        },
        {
         "code": ">>> data.iloc[0,0] == 18.0 and data.iloc[0,8] == 'chevrolet chevelle malibu'\nTrue",
         "hidden": false,
         "locked": false
        },
        {
         "code": ">>> data.iloc[4,0] == 17.0 and data.iloc[4,8] == 'ford torino'\nTrue",
         "hidden": false,
         "locked": false
        }
       ],
       "scored": true,
       "setup": "",
       "teardown": "",
       "type": "doctest"
      }
     ]
    },
    "q5a": {
     "name": "q5a",
     "points": [
      1,
      1,
      2
     ],
     "suites": [
      {
       "cases": [
        {
         "code": ">>> type(auto_col_missing_data) == pd.core.series.Series\nTrue",
         "hidden": false,
         "locked": false
        },
        {
         "code": ">>> all(auto_col_missing_data.index == ['mpg', 'cyl', 'disp', 'hp', 'weight', \n...                                     'accel', 'model year', 'origin', 'car name'])\nTrue",
         "hidden": false,
         "locked": false
        },
        {
         "code": ">>> auto_col_missing_data[auto_col_missing_data].empty\nTrue",
         "hidden": false,
         "locked": false
        }
       ],
       "scored": true,
       "setup": "",
       "teardown": "",
       "type": "doctest"
      }
     ]
    },
    "q5b": {
     "name": "q5b",
     "points": [
      1,
      3
     ],
     "suites": [
      {
       "cases": [
        {
         "code": ">>> type(auto_col_types) == pd.core.series.Series\nTrue",
         "hidden": false,
         "locked": false
        },
        {
         "code": ">>> all(auto_col_types == ['float64', 'int64', 'float64', 'object', 'float64', \n...                        'float64', 'int64', 'int64', 'object'])\nTrue",
         "hidden": false,
         "locked": false
        }
       ],
       "scored": true,
       "setup": "",
       "teardown": "",
       "type": "doctest"
      }
     ]
    },
    "q5c": {
     "name": "q5c",
     "points": [
      2,
      2
     ],
     "suites": [
      {
       "cases": [
        {
         "code": ">>> data[\"hp\"].values.any() != '?'\nTrue",
         "hidden": false,
         "locked": false
        },
        {
         "code": ">>> data['hp'].dtypes=='float64'\nTrue",
         "hidden": false,
         "locked": false
        }
       ],
       "scored": true,
       "setup": "",
       "teardown": "",
       "type": "doctest"
      }
     ]
    },
    "q5d": {
     "name": "q5d",
     "points": [
      2,
      2,
      2
     ],
     "suites": [
      {
       "cases": [
        {
         "code": ">>> data.shape == (398, 9)\nTrue",
         "hidden": false,
         "locked": false
        },
        {
         "code": ">>> all(data.columns == ['Mpg', 'Cyl', 'Disp', 'Hp', 'Weight', 'Accel', \n...                      'Model_Year', 'Origin', 'Car_Name'])\nTrue",
         "hidden": false,
         "locked": false
        },
        {
         "code": ">>> data.index[0] =='Chevrolet_Chevelle_Malibu' and data.index[4] =='Ford_Torino'\nTrue",
         "hidden": false,
         "locked": false
        }
       ],
       "scored": true,
       "setup": "",
       "teardown": "",
       "type": "doctest"
      }
     ]
    }
   }
  }
 },
 "nbformat": 4,
 "nbformat_minor": 5
}
