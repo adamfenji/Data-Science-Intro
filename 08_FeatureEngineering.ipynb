{
 "cells": [
  {
   "cell_type": "markdown",
   "id": "d1e06c42",
   "metadata": {
    "id": "t8ARyMSCXOcI"
   },
   "source": [
    "# Lab 9 - Relational Algebra \n",
    "\n",
    "*This examples build on examples from Data100 and also Ch. 23 of the Data Science by Scratch book.* \n",
    "\n",
    "In this lab notebook you will **write functions to implement the basic relational algebra operators.**"
   ]
  },
  {
   "cell_type": "markdown",
   "id": "b3533df3",
   "metadata": {},
   "source": [
    "## Lab Setup"
   ]
  },
  {
   "cell_type": "code",
   "execution_count": 1,
   "id": "1157a62e",
   "metadata": {
    "id": "97pWOdQrXOcJ",
    "tags": []
   },
   "outputs": [],
   "source": [
    "import numpy as np\n",
    "import pandas as pd\n",
    "\n",
    "import otter\n",
    "grader = otter.Notebook()"
   ]
  },
  {
   "cell_type": "markdown",
   "id": "b3393e9b",
   "metadata": {
    "id": "hyyThxRtXOcN"
   },
   "source": [
    "# Huskies Sailing Club "
   ]
  },
  {
   "cell_type": "markdown",
   "id": "a93b4d2e",
   "metadata": {
    "id": "sUwGkKSDXOcO"
   },
   "source": [
    "The Huskies Sailing Club wants to better organize their user data. Your first job is to implement code relational algebra operators in Python. \n",
    "\n",
    "You may want to refer to the [pandas](http://pandas.pydata.org/pandas-docs/stable/) documentation. \n",
    "\n",
    "Here are the Sailing Club's databases.  Your job implement a variety of unary and binary relational algebra operators. "
   ]
  },
  {
   "cell_type": "code",
   "execution_count": 2,
   "id": "75e81fb4",
   "metadata": {
    "id": "tyXOS_gUXOcO",
    "tags": []
   },
   "outputs": [],
   "source": [
    "young_sailors = pd.DataFrame({\n",
    "        \"sid\":      [2701, 18869, 63940, 21869, 17436],\n",
    "        \"sname\":    [\"Grace\", \"Morgan\", \"Anne\", \"Jack\", \"Javier\"],\n",
    "        \"rating\":   [8, 6, 4, 9, 3],\n",
    "        \"age\":      [25, 26, 21, 27, 22],\n",
    "    })\n",
    "salty_sailors = pd.DataFrame({\n",
    "        \"sid\":      [2701, 17436, 45433, 22689, 46535],\n",
    "        \"sname\":    [\"Grace\", \"Javier\", \"Balon\", \"Euron\", \"Victarion\"],\n",
    "        \"rating\":   [8, 3, 7, 10, 2],\n",
    "        \"age\":      [25, 22, 39, 35, 37],\n",
    "    })\n",
    "boats = pd.DataFrame({\n",
    "        \"bid\":      [41116, 54505, 50041, 35168, 58324],\n",
    "        \"bname\":    [\"The Black Sparrow\", \"The Great Kraken\", \"The Prophetess\", \n",
    "                     \"Iron Victory\", \"Silence\"],\n",
    "        \"color\":    [\"Black\", \"Orange\", \"Silver\", \"Red\", \"Grey\"],\n",
    "    })\n",
    "reservations = pd.DataFrame({\n",
    "        \"sid\":      [21869, 45433, 18869, 22689, 21869, 17436, 63940, 45433, \n",
    "                     21869, 18869],\n",
    "        \"bid\":      [41116, 35168, 50041, 41116, 58324, 50041, 54505, 41116, \n",
    "                     50041, 41116],\n",
    "        \"day\":      [\"3/1\", \"3/1\", \"3/2\", \"3/2\", \"3/2\", \"3/3\", \"3/3\", \"3/3\", \n",
    "                     \"3/3\", \"3/4\"],\n",
    "    })"
   ]
  },
  {
   "cell_type": "code",
   "execution_count": 3,
   "id": "ea20f101",
   "metadata": {
    "colab": {
     "base_uri": "https://localhost:8080/",
     "height": 202
    },
    "id": "SsE5I8BRYRXI",
    "outputId": "1cb87a7f-4276-405e-98df-0ba31dd888c1",
    "tags": []
   },
   "outputs": [
    {
     "data": {
      "text/html": [
       "<div>\n",
       "<style scoped>\n",
       "    .dataframe tbody tr th:only-of-type {\n",
       "        vertical-align: middle;\n",
       "    }\n",
       "\n",
       "    .dataframe tbody tr th {\n",
       "        vertical-align: top;\n",
       "    }\n",
       "\n",
       "    .dataframe thead th {\n",
       "        text-align: right;\n",
       "    }\n",
       "</style>\n",
       "<table border=\"1\" class=\"dataframe\">\n",
       "  <thead>\n",
       "    <tr style=\"text-align: right;\">\n",
       "      <th></th>\n",
       "      <th>sid</th>\n",
       "      <th>sname</th>\n",
       "      <th>rating</th>\n",
       "      <th>age</th>\n",
       "    </tr>\n",
       "  </thead>\n",
       "  <tbody>\n",
       "    <tr>\n",
       "      <th>0</th>\n",
       "      <td>2701</td>\n",
       "      <td>Grace</td>\n",
       "      <td>8</td>\n",
       "      <td>25</td>\n",
       "    </tr>\n",
       "    <tr>\n",
       "      <th>1</th>\n",
       "      <td>18869</td>\n",
       "      <td>Morgan</td>\n",
       "      <td>6</td>\n",
       "      <td>26</td>\n",
       "    </tr>\n",
       "    <tr>\n",
       "      <th>2</th>\n",
       "      <td>63940</td>\n",
       "      <td>Anne</td>\n",
       "      <td>4</td>\n",
       "      <td>21</td>\n",
       "    </tr>\n",
       "    <tr>\n",
       "      <th>3</th>\n",
       "      <td>21869</td>\n",
       "      <td>Jack</td>\n",
       "      <td>9</td>\n",
       "      <td>27</td>\n",
       "    </tr>\n",
       "    <tr>\n",
       "      <th>4</th>\n",
       "      <td>17436</td>\n",
       "      <td>Javier</td>\n",
       "      <td>3</td>\n",
       "      <td>22</td>\n",
       "    </tr>\n",
       "  </tbody>\n",
       "</table>\n",
       "</div>"
      ],
      "text/plain": [
       "     sid   sname  rating  age\n",
       "0   2701   Grace       8   25\n",
       "1  18869  Morgan       6   26\n",
       "2  63940    Anne       4   21\n",
       "3  21869    Jack       9   27\n",
       "4  17436  Javier       3   22"
      ]
     },
     "execution_count": 3,
     "metadata": {},
     "output_type": "execute_result"
    }
   ],
   "source": [
    "young_sailors"
   ]
  },
  {
   "cell_type": "code",
   "execution_count": 4,
   "id": "c6cd7314",
   "metadata": {
    "colab": {
     "base_uri": "https://localhost:8080/",
     "height": 202
    },
    "id": "03oClXqnYTsH",
    "outputId": "859c1fcc-43db-44a4-9373-2f3ac0fc4019",
    "tags": []
   },
   "outputs": [
    {
     "data": {
      "text/html": [
       "<div>\n",
       "<style scoped>\n",
       "    .dataframe tbody tr th:only-of-type {\n",
       "        vertical-align: middle;\n",
       "    }\n",
       "\n",
       "    .dataframe tbody tr th {\n",
       "        vertical-align: top;\n",
       "    }\n",
       "\n",
       "    .dataframe thead th {\n",
       "        text-align: right;\n",
       "    }\n",
       "</style>\n",
       "<table border=\"1\" class=\"dataframe\">\n",
       "  <thead>\n",
       "    <tr style=\"text-align: right;\">\n",
       "      <th></th>\n",
       "      <th>sid</th>\n",
       "      <th>sname</th>\n",
       "      <th>rating</th>\n",
       "      <th>age</th>\n",
       "    </tr>\n",
       "  </thead>\n",
       "  <tbody>\n",
       "    <tr>\n",
       "      <th>0</th>\n",
       "      <td>2701</td>\n",
       "      <td>Grace</td>\n",
       "      <td>8</td>\n",
       "      <td>25</td>\n",
       "    </tr>\n",
       "    <tr>\n",
       "      <th>1</th>\n",
       "      <td>17436</td>\n",
       "      <td>Javier</td>\n",
       "      <td>3</td>\n",
       "      <td>22</td>\n",
       "    </tr>\n",
       "    <tr>\n",
       "      <th>2</th>\n",
       "      <td>45433</td>\n",
       "      <td>Balon</td>\n",
       "      <td>7</td>\n",
       "      <td>39</td>\n",
       "    </tr>\n",
       "    <tr>\n",
       "      <th>3</th>\n",
       "      <td>22689</td>\n",
       "      <td>Euron</td>\n",
       "      <td>10</td>\n",
       "      <td>35</td>\n",
       "    </tr>\n",
       "    <tr>\n",
       "      <th>4</th>\n",
       "      <td>46535</td>\n",
       "      <td>Victarion</td>\n",
       "      <td>2</td>\n",
       "      <td>37</td>\n",
       "    </tr>\n",
       "  </tbody>\n",
       "</table>\n",
       "</div>"
      ],
      "text/plain": [
       "     sid      sname  rating  age\n",
       "0   2701      Grace       8   25\n",
       "1  17436     Javier       3   22\n",
       "2  45433      Balon       7   39\n",
       "3  22689      Euron      10   35\n",
       "4  46535  Victarion       2   37"
      ]
     },
     "execution_count": 4,
     "metadata": {},
     "output_type": "execute_result"
    }
   ],
   "source": [
    "salty_sailors"
   ]
  },
  {
   "cell_type": "code",
   "execution_count": 5,
   "id": "514222b0",
   "metadata": {
    "colab": {
     "base_uri": "https://localhost:8080/",
     "height": 202
    },
    "id": "QWVX9WmmYVSh",
    "outputId": "a71c26fd-4c1d-44cd-a8f8-a8488fb77908",
    "tags": []
   },
   "outputs": [
    {
     "data": {
      "text/html": [
       "<div>\n",
       "<style scoped>\n",
       "    .dataframe tbody tr th:only-of-type {\n",
       "        vertical-align: middle;\n",
       "    }\n",
       "\n",
       "    .dataframe tbody tr th {\n",
       "        vertical-align: top;\n",
       "    }\n",
       "\n",
       "    .dataframe thead th {\n",
       "        text-align: right;\n",
       "    }\n",
       "</style>\n",
       "<table border=\"1\" class=\"dataframe\">\n",
       "  <thead>\n",
       "    <tr style=\"text-align: right;\">\n",
       "      <th></th>\n",
       "      <th>bid</th>\n",
       "      <th>bname</th>\n",
       "      <th>color</th>\n",
       "    </tr>\n",
       "  </thead>\n",
       "  <tbody>\n",
       "    <tr>\n",
       "      <th>0</th>\n",
       "      <td>41116</td>\n",
       "      <td>The Black Sparrow</td>\n",
       "      <td>Black</td>\n",
       "    </tr>\n",
       "    <tr>\n",
       "      <th>1</th>\n",
       "      <td>54505</td>\n",
       "      <td>The Great Kraken</td>\n",
       "      <td>Orange</td>\n",
       "    </tr>\n",
       "    <tr>\n",
       "      <th>2</th>\n",
       "      <td>50041</td>\n",
       "      <td>The Prophetess</td>\n",
       "      <td>Silver</td>\n",
       "    </tr>\n",
       "    <tr>\n",
       "      <th>3</th>\n",
       "      <td>35168</td>\n",
       "      <td>Iron Victory</td>\n",
       "      <td>Red</td>\n",
       "    </tr>\n",
       "    <tr>\n",
       "      <th>4</th>\n",
       "      <td>58324</td>\n",
       "      <td>Silence</td>\n",
       "      <td>Grey</td>\n",
       "    </tr>\n",
       "  </tbody>\n",
       "</table>\n",
       "</div>"
      ],
      "text/plain": [
       "     bid              bname   color\n",
       "0  41116  The Black Sparrow   Black\n",
       "1  54505   The Great Kraken  Orange\n",
       "2  50041     The Prophetess  Silver\n",
       "3  35168       Iron Victory     Red\n",
       "4  58324            Silence    Grey"
      ]
     },
     "execution_count": 5,
     "metadata": {},
     "output_type": "execute_result"
    }
   ],
   "source": [
    "boats"
   ]
  },
  {
   "cell_type": "code",
   "execution_count": 6,
   "id": "cb794e73",
   "metadata": {
    "colab": {
     "base_uri": "https://localhost:8080/",
     "height": 355
    },
    "id": "EmXlKhlXYXJk",
    "outputId": "b07242a6-e1e3-4aee-ed1e-e6437e78bbd7",
    "tags": []
   },
   "outputs": [
    {
     "data": {
      "text/html": [
       "<div>\n",
       "<style scoped>\n",
       "    .dataframe tbody tr th:only-of-type {\n",
       "        vertical-align: middle;\n",
       "    }\n",
       "\n",
       "    .dataframe tbody tr th {\n",
       "        vertical-align: top;\n",
       "    }\n",
       "\n",
       "    .dataframe thead th {\n",
       "        text-align: right;\n",
       "    }\n",
       "</style>\n",
       "<table border=\"1\" class=\"dataframe\">\n",
       "  <thead>\n",
       "    <tr style=\"text-align: right;\">\n",
       "      <th></th>\n",
       "      <th>sid</th>\n",
       "      <th>bid</th>\n",
       "      <th>day</th>\n",
       "    </tr>\n",
       "  </thead>\n",
       "  <tbody>\n",
       "    <tr>\n",
       "      <th>0</th>\n",
       "      <td>21869</td>\n",
       "      <td>41116</td>\n",
       "      <td>3/1</td>\n",
       "    </tr>\n",
       "    <tr>\n",
       "      <th>1</th>\n",
       "      <td>45433</td>\n",
       "      <td>35168</td>\n",
       "      <td>3/1</td>\n",
       "    </tr>\n",
       "    <tr>\n",
       "      <th>2</th>\n",
       "      <td>18869</td>\n",
       "      <td>50041</td>\n",
       "      <td>3/2</td>\n",
       "    </tr>\n",
       "    <tr>\n",
       "      <th>3</th>\n",
       "      <td>22689</td>\n",
       "      <td>41116</td>\n",
       "      <td>3/2</td>\n",
       "    </tr>\n",
       "    <tr>\n",
       "      <th>4</th>\n",
       "      <td>21869</td>\n",
       "      <td>58324</td>\n",
       "      <td>3/2</td>\n",
       "    </tr>\n",
       "    <tr>\n",
       "      <th>5</th>\n",
       "      <td>17436</td>\n",
       "      <td>50041</td>\n",
       "      <td>3/3</td>\n",
       "    </tr>\n",
       "    <tr>\n",
       "      <th>6</th>\n",
       "      <td>63940</td>\n",
       "      <td>54505</td>\n",
       "      <td>3/3</td>\n",
       "    </tr>\n",
       "    <tr>\n",
       "      <th>7</th>\n",
       "      <td>45433</td>\n",
       "      <td>41116</td>\n",
       "      <td>3/3</td>\n",
       "    </tr>\n",
       "    <tr>\n",
       "      <th>8</th>\n",
       "      <td>21869</td>\n",
       "      <td>50041</td>\n",
       "      <td>3/3</td>\n",
       "    </tr>\n",
       "    <tr>\n",
       "      <th>9</th>\n",
       "      <td>18869</td>\n",
       "      <td>41116</td>\n",
       "      <td>3/4</td>\n",
       "    </tr>\n",
       "  </tbody>\n",
       "</table>\n",
       "</div>"
      ],
      "text/plain": [
       "     sid    bid  day\n",
       "0  21869  41116  3/1\n",
       "1  45433  35168  3/1\n",
       "2  18869  50041  3/2\n",
       "3  22689  41116  3/2\n",
       "4  21869  58324  3/2\n",
       "5  17436  50041  3/3\n",
       "6  63940  54505  3/3\n",
       "7  45433  41116  3/3\n",
       "8  21869  50041  3/3\n",
       "9  18869  41116  3/4"
      ]
     },
     "execution_count": 6,
     "metadata": {},
     "output_type": "execute_result"
    }
   ],
   "source": [
    "reservations"
   ]
  },
  {
   "cell_type": "markdown",
   "id": "ff848d38",
   "metadata": {
    "deletable": false,
    "editable": false,
    "id": "aT81CuzkXOcR"
   },
   "source": [
    "## Exercise 1: Projection\n",
    "\n",
    "The first relational algebra function to implement is **Projection**.\n",
    "\n",
    "Create a function `project` that takes as arguments a DataFrame and a list of columns to select and returns the projection (another DataFrame)"
   ]
  },
  {
   "cell_type": "code",
   "execution_count": 7,
   "id": "6d9b72b5",
   "metadata": {
    "id": "R2pVVxfuXOcS",
    "tags": []
   },
   "outputs": [],
   "source": [
    "def project(df, columns):     \n",
    "    return df[columns]\n",
    "\n",
    "df1a = project(salty_sailors, [\"sname\", \"age\"])\n",
    "df1b = project(boats, [\"color\"])"
   ]
  },
  {
   "cell_type": "markdown",
   "id": "bd8187f6",
   "metadata": {
    "deletable": false,
    "editable": false,
    "id": "P_3egC66XOcY"
   },
   "source": [
    "Example test:  \n",
    "The output for `project(salty_sailors, [\"sname\", \"age\"])` should be: \n",
    "\n",
    "|   | sname  |  age  | \n",
    "|---|--------|-------|\n",
    "| 0 | Grace  | 25    |\n",
    "| 1 | Javier | 22    | \n",
    "| 2 | Balon  | 39    | \n",
    "| 3 | Euron  | 35    | \n",
    "| 4 | Victarion | 37 |\n"
   ]
  },
  {
   "cell_type": "code",
   "execution_count": 8,
   "id": "920bc2f1",
   "metadata": {
    "deletable": false,
    "editable": false
   },
   "outputs": [
    {
     "data": {
      "text/html": [
       "<p><strong><pre style='display: inline;'>q1</pre></strong> passed! 🙌</p>"
      ],
      "text/plain": [
       "q1 results: All test cases passed!"
      ]
     },
     "execution_count": 8,
     "metadata": {},
     "output_type": "execute_result"
    }
   ],
   "source": [
    "grader.check(\"q1\")"
   ]
  },
  {
   "cell_type": "markdown",
   "id": "f90fd323",
   "metadata": {
    "deletable": false,
    "editable": false,
    "id": "M3AsNLHEXOcZ"
   },
   "source": [
    "## Exercise 2: Selection \n",
    "\n",
    "Next, you will implement the **Selection** operator.\n",
    "\n",
    "Create a function `select` that has arguments of a DataFrame and a condition (function) which determines which rows to select.  The function returns a DataFrame after performing the selection.  \n",
    "\n",
    "For example: \n",
    "`good_sailors = select(young_sailors, lambda x: x[\"rating\"] > 6)`"
   ]
  },
  {
   "cell_type": "code",
   "execution_count": 9,
   "id": "598411bd",
   "metadata": {
    "id": "9roLwxPNXOca",
    "tags": []
   },
   "outputs": [],
   "source": [
    "def select(df, condition):     \n",
    "    return df.loc[condition]\n",
    "\n",
    "dfq2 = select(young_sailors, lambda x: x[\"rating\"] > 6)"
   ]
  },
  {
   "cell_type": "markdown",
   "id": "00ea8640",
   "metadata": {
    "deletable": false,
    "editable": false,
    "id": "SihNQOTpXOcg"
   },
   "source": [
    "The output for `select(young_sailors, lambda x: x[\"rating\"] > 6)` should be:\n",
    "\n",
    "|   | sid   | sname  | rating | age |\n",
    "|---|-------|--------|--------|-----|\n",
    "| 0 | 2701  | Grace  | 8      | 25  |\n",
    "| 3 | 21869 | Jack   | 9      | 27  |"
   ]
  },
  {
   "cell_type": "code",
   "execution_count": 10,
   "id": "ce40e4e6",
   "metadata": {
    "deletable": false,
    "editable": false
   },
   "outputs": [
    {
     "data": {
      "text/html": [
       "<p><strong><pre style='display: inline;'>q2</pre></strong> passed! 🙌</p>"
      ],
      "text/plain": [
       "q2 results: All test cases passed!"
      ]
     },
     "execution_count": 10,
     "metadata": {},
     "output_type": "execute_result"
    }
   ],
   "source": [
    "grader.check(\"q2\")"
   ]
  },
  {
   "cell_type": "markdown",
   "id": "5dd74945",
   "metadata": {
    "deletable": false,
    "editable": false,
    "id": "-kQBc1q-XOcg"
   },
   "source": [
    "## Exercise 3: Union \n",
    "\n",
    "Create a function, `union`, (a binary operator) that takes two DataFrames as input.  \n",
    "\n",
    "You can assume the two dataframes are union compatible (that is, they have the same number of columns, and their columns have the same types).  \n",
    "\n",
    "Return the result of the union operation.  \n",
    "\n",
    "Assume set semantics, that is, duplicates should be removed. "
   ]
  },
  {
   "cell_type": "code",
   "execution_count": 11,
   "id": "bcd43b11",
   "metadata": {
    "id": "EiUmDaHZXOch",
    "tags": []
   },
   "outputs": [],
   "source": [
    "def union(df1, df2):     \n",
    "    return pd.concat([df1, df2]).drop_duplicates()\n",
    "\n",
    "df3 = union(young_sailors, salty_sailors)"
   ]
  },
  {
   "cell_type": "markdown",
   "id": "09fdd0d6",
   "metadata": {
    "deletable": false,
    "editable": false,
    "id": "MZ1imIsqXOcm"
   },
   "source": [
    "The output for `union(young_sailors, salty_sailors)` should be:\n",
    "\n",
    "|   | sid   | sname    | rating | age |\n",
    "|---|-------|----------|--------|-----|\n",
    "| 0 | 2701  | Grace    | 8      | 25  |\n",
    "| 1 | 18869 | Morgan   | 6      | 26  | \n",
    "| 2 | 63940 | Anne     | 4      | 21  | \n",
    "| 3 | 21869 | Jack     | 9      | 27  | \n",
    "| 4 | 17436 | Javier   | 3      | 22  | \n",
    "| 2 | 45433 | Balon    | 7      | 39  | \n",
    "| 3 | 22689 | Euron    | 10     | 35  | \n",
    "| 4 | 46535 | Victarion | 2     | 37  | \n"
   ]
  },
  {
   "cell_type": "code",
   "execution_count": 12,
   "id": "bba7b429",
   "metadata": {
    "deletable": false,
    "editable": false
   },
   "outputs": [
    {
     "data": {
      "text/html": [
       "<p><strong><pre style='display: inline;'>q3</pre></strong> passed! ✨</p>"
      ],
      "text/plain": [
       "q3 results: All test cases passed!"
      ]
     },
     "execution_count": 12,
     "metadata": {},
     "output_type": "execute_result"
    }
   ],
   "source": [
    "grader.check(\"q3\")"
   ]
  },
  {
   "cell_type": "markdown",
   "id": "19fb293d",
   "metadata": {
    "deletable": false,
    "editable": false,
    "id": "I4wDTiYEXOcn"
   },
   "source": [
    "## Exercise 4: Intersection \n",
    "\n",
    "Write a function to perform the binary operation of Intersection that takes two DataFrames as input.  \n",
    "\n",
    "You can assume the two dataframes are intersection compatible (that is, they have the same number of columns, and their columns have the same types).  \n",
    "\n",
    "Return the result of the intersection operation.  \n"
   ]
  },
  {
   "cell_type": "code",
   "execution_count": 13,
   "id": "e0270f28",
   "metadata": {
    "tags": []
   },
   "outputs": [],
   "source": [
    "def intersection(df1, df2):     \n",
    "    return pd.merge(df1, df2, how=\"inner\")\n",
    "\n",
    "df4 = intersection(young_sailors, salty_sailors)\n"
   ]
  },
  {
   "cell_type": "markdown",
   "id": "17bc98f5",
   "metadata": {
    "deletable": false,
    "editable": false,
    "id": "S2Od8GTHXOct"
   },
   "source": [
    "The output for `intersection(young_sailors, salty_sailors)` should be:\n",
    "\n",
    "|   | sid   | sname    | rating | age |\n",
    "|---|-------|----------|--------|-----|\n",
    "| 0 | 2701  | Grace    | 8      | 25  |\n",
    "| 1 | 17436 | Javier   | 3      | 22  | \n"
   ]
  },
  {
   "cell_type": "code",
   "execution_count": 14,
   "id": "96b6bcac",
   "metadata": {
    "deletable": false,
    "editable": false
   },
   "outputs": [
    {
     "data": {
      "text/html": [
       "<p><strong><pre style='display: inline;'>q4</pre></strong> passed! 🍀</p>"
      ],
      "text/plain": [
       "q4 results: All test cases passed!"
      ]
     },
     "execution_count": 14,
     "metadata": {},
     "output_type": "execute_result"
    }
   ],
   "source": [
    "grader.check(\"q4\")"
   ]
  },
  {
   "cell_type": "markdown",
   "id": "0b90a77c",
   "metadata": {
    "deletable": false,
    "editable": false,
    "id": "TZAy_3Z1XOct"
   },
   "source": [
    "## Exercise 5: Set Difference \n",
    "\n",
    "Write a function to perform the set difference operation that takes two DataFrames as input.  \n",
    "\n",
    "This one is a bit harder.  \n",
    "\n",
    "You may want to convert rows of the dataframe to a tuple, if you are having trouble. \n",
    "\n",
    "Alternatively, you could consider using the `isin` method."
   ]
  },
  {
   "cell_type": "code",
   "execution_count": 15,
   "id": "c7e0a5e9",
   "metadata": {
    "id": "StVK1rtQXOcu",
    "tags": []
   },
   "outputs": [],
   "source": [
    "def difference(df1, df2): \n",
    "    # Assume inputs df1 and df2 are same schema \n",
    "    # Make sure your returned DataFrame has the same data types as the \n",
    "    #  input DataFrames \n",
    "    # Make sure to not change the original data frames passed as \n",
    "    #  inputs \n",
    "    \n",
    "    # https://stackoverflow.com/questions/48647534/find-difference-between-two-data-frames\n",
    "    return df1[~df1.apply(tuple,1).isin(df2.apply(tuple,1))]\n",
    "\n",
    "df5 = difference(young_sailors, salty_sailors)"
   ]
  },
  {
   "cell_type": "markdown",
   "id": "980580fe",
   "metadata": {
    "deletable": false,
    "editable": false,
    "id": "uq0kqv-rXOcz"
   },
   "source": [
    "The output for `difference(young_sailors, salty_sailors)` should be:\n",
    "\n",
    "|   | sid   | sname    | rating | age |\n",
    "|---|-------|----------|--------|-----|\n",
    "| 1 | 18869 | Morgan   | 6      | 26  | \n",
    "| 2 | 63940 | Anne     | 4      | 21  | \n",
    "| 3 | 21869 | Jack     | 9      | 27  | \n"
   ]
  },
  {
   "cell_type": "code",
   "execution_count": 16,
   "id": "a68bda4c",
   "metadata": {
    "deletable": false,
    "editable": false
   },
   "outputs": [
    {
     "data": {
      "text/html": [
       "<p><strong><pre style='display: inline;'>q5</pre></strong> passed! 🌈</p>"
      ],
      "text/plain": [
       "q5 results: All test cases passed!"
      ]
     },
     "execution_count": 16,
     "metadata": {},
     "output_type": "execute_result"
    }
   ],
   "source": [
    "grader.check(\"q5\")"
   ]
  },
  {
   "cell_type": "markdown",
   "id": "9cc5451f",
   "metadata": {
    "deletable": false,
    "editable": false,
    "id": "RAs4xPxaXOc0"
   },
   "source": [
    "## Exercise 6: Cross-product \n",
    "\n",
    "Implement a function for the cross-product between two input DataFrames\n",
    "\n",
    "This one is also harder, so there is some code to start.  Think about how the new `tmp-key` column could be used ..."
   ]
  },
  {
   "cell_type": "code",
   "execution_count": 17,
   "id": "fb638bf4",
   "metadata": {
    "id": "sL6EgJAYXOc1",
    "tags": []
   },
   "outputs": [],
   "source": [
    "def cross_product(in1, in2):\n",
    "    # add a column \"tmp-key\" of zeros to df1 and df2 \n",
    "    in1 = pd.concat([in1, pd.Series(0, index=in1.index, name=\"tmp-key\")], axis=1)\n",
    "    in2 = pd.concat([in2, pd.Series(0, index=in2.index, name=\"tmp-key\")], axis=1)\n",
    "    # use Pandas merge functionality along with drop \n",
    "    df6 = pd.merge(in1, in2, how='cross').drop(columns=[\"tmp-key_x\", \"tmp-key_y\"])\n",
    "    # to compute outer product and remove extra column\n",
    "    return df6\n",
    "\n",
    "df6 = cross_product(young_sailors, salty_sailors)"
   ]
  },
  {
   "cell_type": "markdown",
   "id": "4b4ef26c",
   "metadata": {
    "deletable": false,
    "editable": false,
    "id": "zzrH2pZvXOc6"
   },
   "source": [
    "The output of `cross_product(young_sailors, salty_sailors)` should be: \n",
    "\n",
    "|   | sid_x | sname_x  | rating_x | age_x | sid_y  | sname_y | rating_y | age_y |\n",
    "|---|-------|----------|--------|-----|-------|--------|-----|----|\n",
    "| 0 | 2701  | Grace    | 8      | 25  | 2701  | Grace  | 8   | 25 |\n",
    "| 1 | 2701  | Grace    | 8      | 25  | 17436 | Javier | 3   | 22 |\n",
    "| 2 | 2701  | Grace    | 8      | 25  | 45433 | Balon  | 7   | 39 | \n",
    "| 3 | 2701  | Grace    | 8      | 25  | 22689 | Euron  | 10  | 35 |\n",
    "| 4 | 2701  | Grace    | 8      | 25  | 46535 | Victarion | 2   | 37 |\n",
    "| 5 | 18869 | Morgan   | 6      | 26  | 2701  | Grace  | 8   | 25 |\n",
    "|   | ...   | ...      | ...    | ... | ...   | ...    | ... | ... |\n",
    "\n",
    "There should be 25 entries."
   ]
  },
  {
   "cell_type": "code",
   "execution_count": 18,
   "id": "c3af3a48",
   "metadata": {
    "deletable": false,
    "editable": false
   },
   "outputs": [
    {
     "data": {
      "text/html": [
       "<p><strong><pre style='display: inline;'>q6</pre></strong> passed! 🍀</p>"
      ],
      "text/plain": [
       "q6 results: All test cases passed!"
      ]
     },
     "execution_count": 18,
     "metadata": {},
     "output_type": "execute_result"
    }
   ],
   "source": [
    "grader.check(\"q6\")"
   ]
  },
  {
   "cell_type": "markdown",
   "id": "b601ec69",
   "metadata": {
    "deletable": false,
    "editable": false,
    "id": "DyhtL1eTXOc6"
   },
   "source": [
    "## Exercise 7: Theta-Join \n",
    "\n",
    "Complete a function for theta-join.  Consider using two other relational operators you have created above."
   ]
  },
  {
   "cell_type": "code",
   "execution_count": 19,
   "id": "5868f9fe",
   "metadata": {
    "id": "i_HVtWQxXOc6",
    "tags": []
   },
   "outputs": [],
   "source": [
    "def theta_join(df1, df2, condition):\n",
    "    temp = cross_product(df1, df2)\n",
    "    \n",
    "    return select(temp, condition)\n",
    "\n",
    "df7 = theta_join(young_sailors, salty_sailors, lambda x: x[\"age_x\"] > x[\"age_y\"])"
   ]
  },
  {
   "cell_type": "markdown",
   "id": "48dbbbe4",
   "metadata": {
    "deletable": false,
    "editable": false,
    "id": "gNJW5VzgXOc_"
   },
   "source": [
    "The output of `theta_join(young_sailors, salty_sailors, lambda x: x[\"age_x\"] > x[\"age_y\"])` should be: \n",
    "\n",
    "|   | sid_x | sname_x  | rating_x | age_x | sid_y  | sname_y | rating_y | age_y |\n",
    "|---|-------|----------|--------|-----|-------|--------|-----|----|\n",
    "| 0 | 2701  | Grace    | 8      | 25  | 17436 | Javier | 3   | 22 |\n",
    "| 5 | 18869 | Morgan   | 6      | 26  | 2701  | Grace  | 8   | 25 |\n",
    "| 6 | 18869 | Morgan   | 6      | 26  | 17436 | Javier | 3   | 22 | \n",
    "| 15| 21869 | Jack     | 9      | 27  | 2701  | Grace  | 8   | 25 |\n",
    "| 16| 21869 | Jack     | 9      | 27  | 17436 | Javier | 3   | 22 |\n"
   ]
  },
  {
   "cell_type": "code",
   "execution_count": 20,
   "id": "acb74fe7",
   "metadata": {
    "deletable": false,
    "editable": false
   },
   "outputs": [
    {
     "data": {
      "text/html": [
       "<p><strong><pre style='display: inline;'>q7</pre></strong> passed! ✨</p>"
      ],
      "text/plain": [
       "q7 results: All test cases passed!"
      ]
     },
     "execution_count": 20,
     "metadata": {},
     "output_type": "execute_result"
    }
   ],
   "source": [
    "grader.check(\"q7\")"
   ]
  },
  {
   "cell_type": "markdown",
   "id": "0b1057a6",
   "metadata": {
    "deletable": false,
    "editable": false,
    "id": "J06RNjpeXOdA"
   },
   "source": [
    "## Exercise 8: Natural Join \n",
    "\n",
    "Implement a function to return the natural join.  Try to implement this using other relational operators."
   ]
  },
  {
   "cell_type": "code",
   "execution_count": 21,
   "id": "8685bcbc",
   "metadata": {
    "id": "aUdzbvLlXOdA",
    "tags": []
   },
   "outputs": [],
   "source": [
    "def natural_join(df1, df2, attr):\n",
    "    df8 = pd.merge(df1, df2, how=\"cross\")\n",
    "    df8 = df8[df8[ attr + '_x'] == df8[attr + '_y']]\n",
    "    # df8 = pd.merge(df1, df2, on=attr)\n",
    "    return df8\n",
    "\n",
    "all_sailors = union(young_sailors, salty_sailors)\n",
    "df8 = natural_join(all_sailors, reservations, \"sid\")"
   ]
  },
  {
   "cell_type": "markdown",
   "id": "bc68d9ff",
   "metadata": {
    "deletable": false,
    "editable": false,
    "id": "2wg0m8atXOdI"
   },
   "source": [
    "The output of the natural join is: \n",
    "\n",
    "|   | sid_x |\tsname |\trating | age  | sid_y | bid | day |\n",
    "|---|-------|---------|--------|------|-------|-----|-----|\n",
    "| 12 |\t18869 |\tMorgan | 6 | 26 | 18869 | 50041 | 3/2 |\n",
    "| 19 |\t18869 |\tMorgan | 6 | 26 | 18869 | 41116 | 3/4 |\n",
    "| 26 |\t63940 |\tAnne | 4 | 21 |\t63940 |\t54505 |\t3/3 |\n",
    "| 30 |\t21869 |\tJack | 9 | 27 |\t21869 |\t41116 |\t3/1 |\n",
    "| 34 |\t21869 |\tJack | 9 | 27 |\t21869 |\t58324 |\t3/2 |\n",
    "| 38 |\t21869 |\tJack | 9 | 27 |\t21869 |\t50041 |\t3/3 |\n",
    "| 45 |\t17436 |\tJavier | 3 | 22 |\t17436 |\t50041 |\t3/3 |\n",
    "| 51 |\t45433 |\tBalon |\t7 |\t39 |\t45433 |\t35168 |\t3/1 |\n",
    "| 57 |\t45433 |\tBalon |\t7 |\t39 |\t45433 |\t41116 |\t3/3 |\n",
    "| 63 |\t22689 |\tEuron |\t10 | 35 |\t22689 |\t41116 |\t3/2 |"
   ]
  },
  {
   "cell_type": "code",
   "execution_count": 22,
   "id": "1dae682d",
   "metadata": {
    "deletable": false,
    "editable": false
   },
   "outputs": [
    {
     "data": {
      "text/html": [
       "<p><strong><pre style='display: inline;'>q8</pre></strong> passed! 🚀</p>"
      ],
      "text/plain": [
       "q8 results: All test cases passed!"
      ]
     },
     "execution_count": 22,
     "metadata": {},
     "output_type": "execute_result"
    }
   ],
   "source": [
    "grader.check(\"q8\")"
   ]
  },
  {
   "cell_type": "markdown",
   "id": "cf8a03fe-510f-4dd0-bf71-ca768aa432a9",
   "metadata": {},
   "source": [
    "## Congratulations! You have finished Lab9!\n",
    "\n",
    "Please submit the zip file to Gradescope. \n",
    "\n",
    "Make sure you have run all cells in your notebook **in order** before running the cell below, so that all information gets saved to the log file correctly. The cell below will generate a zip file for you to submit. **Please save before exporting!**\n"
   ]
  },
  {
   "cell_type": "markdown",
   "id": "ad227a56",
   "metadata": {
    "deletable": false,
    "editable": false
   },
   "source": [
    "## Submission\n",
    "\n",
    "Make sure you have run all cells in your notebook in order before running the cell below, so that all images/graphs appear in the output. The cell below will generate a zip file for you to submit. **Please save before exporting!**"
   ]
  },
  {
   "cell_type": "code",
   "execution_count": 26,
   "id": "a25796b6",
   "metadata": {
    "deletable": false,
    "editable": false
   },
   "outputs": [
    {
     "name": "stderr",
     "output_type": "stream",
     "text": [
      "/home/campus21/yaljnadi/.conda/envs/un5550fa24/lib/python3.10/site-packages/otter/check/notebook.py:470: UserWarning: Could not locate a PDF to include\n",
      "  warnings.warn(\"Could not locate a PDF to include\")\n"
     ]
    },
    {
     "ename": "ExportFailedException",
     "evalue": "There was an error generating your LaTeX; showing full error message:\n    This is BibTeX, Version 0.99d (TeX Live 2020)\n    The top-level auxiliary file: notebook.aux\n    I found no \\citation commands---while reading file notebook.aux\n    I found no \\bibdata command---while reading file notebook.aux\n    I found no \\bibstyle command---while reading file notebook.aux\n    (There were 3 error messages)\n",
     "output_type": "error",
     "traceback": [
      "\u001b[0;31m---------------------------------------------------------------------------\u001b[0m",
      "\u001b[0;31mLatexFailed\u001b[0m                               Traceback (most recent call last)",
      "File \u001b[0;32m~/.conda/envs/un5550fa24/lib/python3.10/site-packages/otter/export/exporters/via_latex.py:66\u001b[0m, in \u001b[0;36mPDFViaLatexExporter.convert_notebook\u001b[0;34m(cls, nb_path, dest, xecjk, **kwargs)\u001b[0m\n\u001b[1;32m     64\u001b[0m         output_file\u001b[38;5;241m.\u001b[39mwrite(latex_output[\u001b[38;5;241m0\u001b[39m])\n\u001b[0;32m---> 66\u001b[0m pdf_output \u001b[38;5;241m=\u001b[39m \u001b[43mnbconvert\u001b[49m\u001b[38;5;241;43m.\u001b[39;49m\u001b[43mexport\u001b[49m\u001b[43m(\u001b[49m\u001b[43mpdf_exporter\u001b[49m\u001b[43m,\u001b[49m\u001b[43m \u001b[49m\u001b[43mnb\u001b[49m\u001b[43m)\u001b[49m\n\u001b[1;32m     67\u001b[0m \u001b[38;5;28;01mwith\u001b[39;00m \u001b[38;5;28mopen\u001b[39m(dest, \u001b[38;5;124m\"\u001b[39m\u001b[38;5;124mwb\u001b[39m\u001b[38;5;124m\"\u001b[39m) \u001b[38;5;28;01mas\u001b[39;00m output_file:\n",
      "File \u001b[0;32m~/.conda/envs/un5550fa24/lib/python3.10/site-packages/nbconvert/exporters/base.py:86\u001b[0m, in \u001b[0;36mexport\u001b[0;34m(exporter, nb, **kw)\u001b[0m\n\u001b[1;32m     85\u001b[0m \u001b[38;5;28;01mif\u001b[39;00m \u001b[38;5;28misinstance\u001b[39m(nb, NotebookNode):\n\u001b[0;32m---> 86\u001b[0m     output, resources \u001b[38;5;241m=\u001b[39m \u001b[43mexporter_instance\u001b[49m\u001b[38;5;241;43m.\u001b[39;49m\u001b[43mfrom_notebook_node\u001b[49m\u001b[43m(\u001b[49m\u001b[43mnb\u001b[49m\u001b[43m,\u001b[49m\u001b[43m \u001b[49m\u001b[43mresources\u001b[49m\u001b[43m)\u001b[49m\n\u001b[1;32m     87\u001b[0m \u001b[38;5;28;01melif\u001b[39;00m \u001b[38;5;28misinstance\u001b[39m(nb, (\u001b[38;5;28mstr\u001b[39m,)):\n",
      "File \u001b[0;32m~/.conda/envs/un5550fa24/lib/python3.10/site-packages/nbconvert/exporters/pdf.py:203\u001b[0m, in \u001b[0;36mPDFExporter.from_notebook_node\u001b[0;34m(self, nb, resources, **kw)\u001b[0m\n\u001b[1;32m    202\u001b[0m \u001b[38;5;28;01mif\u001b[39;00m \u001b[38;5;129;01mnot\u001b[39;00m os\u001b[38;5;241m.\u001b[39mpath\u001b[38;5;241m.\u001b[39misfile(pdf_file):\n\u001b[0;32m--> 203\u001b[0m     \u001b[38;5;28;01mraise\u001b[39;00m LatexFailed(\u001b[38;5;124m\"\u001b[39m\u001b[38;5;130;01m\\n\u001b[39;00m\u001b[38;5;124m\"\u001b[39m\u001b[38;5;241m.\u001b[39mjoin(\u001b[38;5;28mself\u001b[39m\u001b[38;5;241m.\u001b[39m_captured_output))\n\u001b[1;32m    204\u001b[0m \u001b[38;5;28mself\u001b[39m\u001b[38;5;241m.\u001b[39mlog\u001b[38;5;241m.\u001b[39minfo(\u001b[38;5;124m\"\u001b[39m\u001b[38;5;124mPDF successfully created\u001b[39m\u001b[38;5;124m\"\u001b[39m)\n",
      "\u001b[0;31mLatexFailed\u001b[0m: PDF creating failed, captured latex output:\nThis is BibTeX, Version 0.99d (TeX Live 2020)\nThe top-level auxiliary file: notebook.aux\nI found no \\citation commands---while reading file notebook.aux\nI found no \\bibdata command---while reading file notebook.aux\nI found no \\bibstyle command---while reading file notebook.aux\n(There were 3 error messages)\n",
      "\nDuring handling of the above exception, another exception occurred:\n",
      "\u001b[0;31mExportFailedException\u001b[0m                     Traceback (most recent call last)",
      "Cell \u001b[0;32mIn[26], line 2\u001b[0m\n\u001b[1;32m      1\u001b[0m \u001b[38;5;66;03m# Save your notebook first, then run this cell to export your submission.\u001b[39;00m\n\u001b[0;32m----> 2\u001b[0m \u001b[43mgrader\u001b[49m\u001b[38;5;241;43m.\u001b[39;49m\u001b[43mexport\u001b[49m\u001b[43m(\u001b[49m\u001b[43mrun_tests\u001b[49m\u001b[38;5;241;43m=\u001b[39;49m\u001b[38;5;28;43;01mTrue\u001b[39;49;00m\u001b[43m)\u001b[49m\n",
      "File \u001b[0;32m~/.conda/envs/un5550fa24/lib/python3.10/site-packages/otter/check/utils.py:184\u001b[0m, in \u001b[0;36mgrading_mode_disabled\u001b[0;34m(wrapped, self, args, kwargs)\u001b[0m\n\u001b[1;32m    182\u001b[0m \u001b[38;5;28;01mif\u001b[39;00m \u001b[38;5;28mtype\u001b[39m(\u001b[38;5;28mself\u001b[39m)\u001b[38;5;241m.\u001b[39m_grading_mode:\n\u001b[1;32m    183\u001b[0m     \u001b[38;5;28;01mreturn\u001b[39;00m\n\u001b[0;32m--> 184\u001b[0m \u001b[38;5;28;01mreturn\u001b[39;00m \u001b[43mwrapped\u001b[49m\u001b[43m(\u001b[49m\u001b[38;5;241;43m*\u001b[39;49m\u001b[43margs\u001b[49m\u001b[43m,\u001b[49m\u001b[43m \u001b[49m\u001b[38;5;241;43m*\u001b[39;49m\u001b[38;5;241;43m*\u001b[39;49m\u001b[43mkwargs\u001b[49m\u001b[43m)\u001b[49m\n",
      "File \u001b[0;32m~/.conda/envs/un5550fa24/lib/python3.10/site-packages/otter/check/utils.py:166\u001b[0m, in \u001b[0;36mincompatible_with.<locals>.incompatible\u001b[0;34m(wrapped, self, args, kwargs)\u001b[0m\n\u001b[1;32m    164\u001b[0m     \u001b[38;5;28;01melse\u001b[39;00m:\n\u001b[1;32m    165\u001b[0m         \u001b[38;5;28;01mreturn\u001b[39;00m\n\u001b[0;32m--> 166\u001b[0m \u001b[38;5;28;01mreturn\u001b[39;00m \u001b[43mwrapped\u001b[49m\u001b[43m(\u001b[49m\u001b[38;5;241;43m*\u001b[39;49m\u001b[43margs\u001b[49m\u001b[43m,\u001b[49m\u001b[43m \u001b[49m\u001b[38;5;241;43m*\u001b[39;49m\u001b[38;5;241;43m*\u001b[39;49m\u001b[43mkwargs\u001b[49m\u001b[43m)\u001b[49m\n",
      "File \u001b[0;32m~/.conda/envs/un5550fa24/lib/python3.10/site-packages/otter/check/utils.py:217\u001b[0m, in \u001b[0;36mlogs_event.<locals>.event_logger\u001b[0;34m(wrapped, self, args, kwargs)\u001b[0m\n\u001b[1;32m    215\u001b[0m \u001b[38;5;28;01mexcept\u001b[39;00m \u001b[38;5;167;01mException\u001b[39;00m \u001b[38;5;28;01mas\u001b[39;00m e:\n\u001b[1;32m    216\u001b[0m     \u001b[38;5;28mself\u001b[39m\u001b[38;5;241m.\u001b[39m_log_event(event_type, success\u001b[38;5;241m=\u001b[39m\u001b[38;5;28;01mFalse\u001b[39;00m, error\u001b[38;5;241m=\u001b[39me)\n\u001b[0;32m--> 217\u001b[0m     \u001b[38;5;28;01mraise\u001b[39;00m e\n\u001b[1;32m    219\u001b[0m \u001b[38;5;28;01mif\u001b[39;00m ret \u001b[38;5;129;01mis\u001b[39;00m \u001b[38;5;28;01mNone\u001b[39;00m:\n\u001b[1;32m    220\u001b[0m     ret \u001b[38;5;241m=\u001b[39m LoggedEventReturnValue(\u001b[38;5;28;01mNone\u001b[39;00m)\n",
      "File \u001b[0;32m~/.conda/envs/un5550fa24/lib/python3.10/site-packages/otter/check/utils.py:213\u001b[0m, in \u001b[0;36mlogs_event.<locals>.event_logger\u001b[0;34m(wrapped, self, args, kwargs)\u001b[0m\n\u001b[1;32m    208\u001b[0m \u001b[38;5;250m\u001b[39m\u001b[38;5;124;03m\"\"\"\u001b[39;00m\n\u001b[1;32m    209\u001b[0m \u001b[38;5;124;03mRuns a method, catching any errors and logging the call. Returns the unwrapped return value\u001b[39;00m\n\u001b[1;32m    210\u001b[0m \u001b[38;5;124;03mof the wrapped function.\u001b[39;00m\n\u001b[1;32m    211\u001b[0m \u001b[38;5;124;03m\"\"\"\u001b[39;00m\n\u001b[1;32m    212\u001b[0m \u001b[38;5;28;01mtry\u001b[39;00m:\n\u001b[0;32m--> 213\u001b[0m     ret: Optional[LoggedEventReturnValue[T]] \u001b[38;5;241m=\u001b[39m \u001b[43mwrapped\u001b[49m\u001b[43m(\u001b[49m\u001b[38;5;241;43m*\u001b[39;49m\u001b[43margs\u001b[49m\u001b[43m,\u001b[49m\u001b[43m \u001b[49m\u001b[38;5;241;43m*\u001b[39;49m\u001b[38;5;241;43m*\u001b[39;49m\u001b[43mkwargs\u001b[49m\u001b[43m)\u001b[49m\n\u001b[1;32m    215\u001b[0m \u001b[38;5;28;01mexcept\u001b[39;00m \u001b[38;5;167;01mException\u001b[39;00m \u001b[38;5;28;01mas\u001b[39;00m e:\n\u001b[1;32m    216\u001b[0m     \u001b[38;5;28mself\u001b[39m\u001b[38;5;241m.\u001b[39m_log_event(event_type, success\u001b[38;5;241m=\u001b[39m\u001b[38;5;28;01mFalse\u001b[39;00m, error\u001b[38;5;241m=\u001b[39me)\n",
      "File \u001b[0;32m~/.conda/envs/un5550fa24/lib/python3.10/site-packages/otter/check/notebook.py:525\u001b[0m, in \u001b[0;36mNotebook.export\u001b[0;34m(self, nb_path, export_path, pdf, filtering, pagebreaks, files, display_link, force_save, run_tests)\u001b[0m\n\u001b[1;32m    523\u001b[0m \u001b[38;5;28;01mif\u001b[39;00m pdf_created \u001b[38;5;129;01mor\u001b[39;00m \u001b[38;5;129;01mnot\u001b[39;00m \u001b[38;5;28mself\u001b[39m\u001b[38;5;241m.\u001b[39m_nbmeta_config\u001b[38;5;241m.\u001b[39mrequire_no_pdf_confirmation:\n\u001b[1;32m    524\u001b[0m     \u001b[38;5;28;01mif\u001b[39;00m pdf_error \u001b[38;5;129;01mis\u001b[39;00m \u001b[38;5;129;01mnot\u001b[39;00m \u001b[38;5;28;01mNone\u001b[39;00m:\n\u001b[0;32m--> 525\u001b[0m         \u001b[38;5;28;01mraise\u001b[39;00m pdf_error\n\u001b[1;32m    526\u001b[0m     continue_export()\n\u001b[1;32m    527\u001b[0m \u001b[38;5;28;01melse\u001b[39;00m:\n",
      "File \u001b[0;32m~/.conda/envs/un5550fa24/lib/python3.10/site-packages/otter/check/notebook.py:462\u001b[0m, in \u001b[0;36mNotebook.export\u001b[0;34m(self, nb_path, export_path, pdf, filtering, pagebreaks, files, display_link, force_save, run_tests)\u001b[0m\n\u001b[1;32m    460\u001b[0m pdf_path, pdf_created, pdf_error \u001b[38;5;241m=\u001b[39m \u001b[38;5;28;01mNone\u001b[39;00m, \u001b[38;5;28;01mTrue\u001b[39;00m, \u001b[38;5;28;01mNone\u001b[39;00m\n\u001b[1;32m    461\u001b[0m \u001b[38;5;28;01mif\u001b[39;00m pdf:\n\u001b[0;32m--> 462\u001b[0m     \u001b[38;5;28;01mtry\u001b[39;00m: pdf_path \u001b[38;5;241m=\u001b[39m \u001b[43mexport_notebook\u001b[49m\u001b[43m(\u001b[49m\u001b[43mnb_path\u001b[49m\u001b[43m,\u001b[49m\u001b[43m \u001b[49m\u001b[43mfiltering\u001b[49m\u001b[38;5;241;43m=\u001b[39;49m\u001b[43mfiltering\u001b[49m\u001b[43m,\u001b[49m\u001b[43m \u001b[49m\u001b[43mpagebreaks\u001b[49m\u001b[38;5;241;43m=\u001b[39;49m\u001b[43mpagebreaks\u001b[49m\u001b[43m)\u001b[49m\n\u001b[1;32m    463\u001b[0m     \u001b[38;5;28;01mexcept\u001b[39;00m \u001b[38;5;167;01mException\u001b[39;00m \u001b[38;5;28;01mas\u001b[39;00m e: pdf_error \u001b[38;5;241m=\u001b[39m e\n\u001b[1;32m    464\u001b[0m     \u001b[38;5;28;01mif\u001b[39;00m pdf_path \u001b[38;5;129;01mand\u001b[39;00m os\u001b[38;5;241m.\u001b[39mpath\u001b[38;5;241m.\u001b[39misfile(pdf_path):\n",
      "File \u001b[0;32m~/.conda/envs/un5550fa24/lib/python3.10/site-packages/otter/export/__init__.py:36\u001b[0m, in \u001b[0;36mexport_notebook\u001b[0;34m(nb_path, dest, exporter_type, **kwargs)\u001b[0m\n\u001b[1;32m     33\u001b[0m     pdf_name \u001b[38;5;241m=\u001b[39m os\u001b[38;5;241m.\u001b[39mpath\u001b[38;5;241m.\u001b[39msplitext(nb_path)[\u001b[38;5;241m0\u001b[39m] \u001b[38;5;241m+\u001b[39m \u001b[38;5;124m\"\u001b[39m\u001b[38;5;124m.pdf\u001b[39m\u001b[38;5;124m\"\u001b[39m\n\u001b[1;32m     35\u001b[0m Exporter \u001b[38;5;241m=\u001b[39m get_exporter(exporter_type\u001b[38;5;241m=\u001b[39mexporter_type)\n\u001b[0;32m---> 36\u001b[0m \u001b[43mExporter\u001b[49m\u001b[38;5;241;43m.\u001b[39;49m\u001b[43mconvert_notebook\u001b[49m\u001b[43m(\u001b[49m\u001b[43mnb_path\u001b[49m\u001b[43m,\u001b[49m\u001b[43m \u001b[49m\u001b[43mpdf_name\u001b[49m\u001b[43m,\u001b[49m\u001b[43m \u001b[49m\u001b[38;5;241;43m*\u001b[39;49m\u001b[38;5;241;43m*\u001b[39;49m\u001b[43mkwargs\u001b[49m\u001b[43m)\u001b[49m\n\u001b[1;32m     38\u001b[0m \u001b[38;5;28;01mreturn\u001b[39;00m pdf_name\n",
      "File \u001b[0;32m~/.conda/envs/un5550fa24/lib/python3.10/site-packages/otter/export/exporters/via_latex.py:77\u001b[0m, in \u001b[0;36mPDFViaLatexExporter.convert_notebook\u001b[0;34m(cls, nb_path, dest, xecjk, **kwargs)\u001b[0m\n\u001b[1;32m     73\u001b[0m     \u001b[38;5;28;01mif\u001b[39;00m xecjk:\n\u001b[1;32m     74\u001b[0m         message \u001b[38;5;241m+\u001b[39m\u001b[38;5;241m=\u001b[39m \u001b[38;5;124m\"\u001b[39m\u001b[38;5;130;01m\\n\u001b[39;00m\u001b[38;5;130;01m\\n\u001b[39;00m\u001b[38;5;124mIf the error above is related to xeCJK or fandol in LaTeX \u001b[39m\u001b[38;5;124m\"\u001b[39m \\\n\u001b[1;32m     75\u001b[0m             \u001b[38;5;124m\"\u001b[39m\u001b[38;5;124mand you don\u001b[39m\u001b[38;5;124m'\u001b[39m\u001b[38;5;124mt require this functionality, try running again without \u001b[39m\u001b[38;5;124m\"\u001b[39m \\\n\u001b[1;32m     76\u001b[0m             \u001b[38;5;124m\"\u001b[39m\u001b[38;5;124mxecjk set to True or the --xecjk flag.\u001b[39m\u001b[38;5;124m\"\u001b[39m\n\u001b[0;32m---> 77\u001b[0m     \u001b[38;5;28;01mraise\u001b[39;00m ExportFailedException(message)\n\u001b[1;32m     79\u001b[0m \u001b[38;5;28;01mfinally\u001b[39;00m:\n\u001b[1;32m     80\u001b[0m     \u001b[38;5;28;01mif\u001b[39;00m NBCONVERT_6:\n",
      "\u001b[0;31mExportFailedException\u001b[0m: There was an error generating your LaTeX; showing full error message:\n    This is BibTeX, Version 0.99d (TeX Live 2020)\n    The top-level auxiliary file: notebook.aux\n    I found no \\citation commands---while reading file notebook.aux\n    I found no \\bibdata command---while reading file notebook.aux\n    I found no \\bibstyle command---while reading file notebook.aux\n    (There were 3 error messages)\n"
     ]
    }
   ],
   "source": [
    "# Save your notebook first, then run this cell to export your submission.\n",
    "grader.export(run_tests=True)"
   ]
  },
  {
   "cell_type": "markdown",
   "id": "b0e2c18f",
   "metadata": {},
   "source": [
    " "
   ]
  },
  {
   "cell_type": "code",
   "execution_count": null,
   "id": "f13b364e-9fac-4835-8826-bf59c8e1ce03",
   "metadata": {},
   "outputs": [],
   "source": []
  },
  {
   "cell_type": "code",
   "execution_count": null,
   "id": "3d82ce0f-c9ea-4e06-855f-0b089ef209ac",
   "metadata": {},
   "outputs": [],
   "source": []
  }
 ],
 "metadata": {
  "kernelspec": {
   "display_name": "un5550fa24",
   "language": "python",
   "name": "un5550fa24"
  },
  "language_info": {
   "codemirror_mode": {
    "name": "ipython",
    "version": 3
   },
   "file_extension": ".py",
   "mimetype": "text/x-python",
   "name": "python",
   "nbconvert_exporter": "python",
   "pygments_lexer": "ipython3",
   "version": "3.10.15"
  },
  "otter": {
   "OK_FORMAT": true,
   "assignment_name": "lab9",
   "tests": {
    "q1": {
     "name": "q1",
     "points": [
      0.5,
      0.5,
      0.5,
      0.5,
      1
     ],
     "suites": [
      {
       "cases": [
        {
         "code": ">>> df1a.shape[0] == 5 and df1a.shape[1] == 2\nTrue",
         "hidden": false,
         "locked": false
        },
        {
         "code": ">>> all(df1a.columns == ['sname', 'age'])\nTrue",
         "hidden": false,
         "locked": false
        },
        {
         "code": ">>> df1a.iloc[1, 1] == 22 and df1a.iloc[3, 0] == 'Euron'\nTrue",
         "hidden": false,
         "locked": false
        },
        {
         "code": ">>> df1b.shape[0] == 5 and df1b.shape[1] == 1\nTrue",
         "hidden": false,
         "locked": false
        },
        {
         "code": ">>> all(df1b.columns == 'color') and df1b.iloc[2, 0] == 'Silver'\nTrue",
         "hidden": false,
         "locked": false
        }
       ],
       "scored": true,
       "setup": "",
       "teardown": "",
       "type": "doctest"
      }
     ]
    },
    "q2": {
     "name": "q2",
     "points": [
      2,
      2
     ],
     "suites": [
      {
       "cases": [
        {
         "code": ">>> dfq2.shape[0] == 2 and dfq2.shape[1] == 4\nTrue",
         "hidden": false,
         "locked": false
        },
        {
         "code": ">>> dfq2.iloc[1, 3] == 27 and dfq2.iloc[0, 2] == 8\nnp.True_",
         "hidden": false,
         "locked": false
        }
       ],
       "scored": true,
       "setup": "",
       "teardown": "",
       "type": "doctest"
      }
     ]
    },
    "q3": {
     "name": "q3",
     "points": 8,
     "suites": [
      {
       "cases": [
        {
         "code": ">>> df3.shape[0] == 8 and df3.shape[1] == 4\nTrue",
         "hidden": false,
         "locked": false
        }
       ],
       "scored": true,
       "setup": "",
       "teardown": "",
       "type": "doctest"
      }
     ]
    },
    "q4": {
     "name": "q4",
     "points": 8,
     "suites": [
      {
       "cases": [
        {
         "code": ">>> intersection(young_sailors, salty_sailors).shape == (2, 4)\nTrue",
         "hidden": false,
         "locked": false
        }
       ],
       "scored": true,
       "setup": "",
       "teardown": "",
       "type": "doctest"
      }
     ]
    },
    "q5": {
     "name": "q5",
     "points": [
      1,
      1,
      1,
      1
     ],
     "suites": [
      {
       "cases": [
        {
         "code": ">>> df5.shape == (3, 4)\nTrue",
         "hidden": false,
         "locked": false
        },
        {
         "code": ">>> df5.iloc[2, :].to_list() == [21869, 'Jack', 9, 27]\nTrue",
         "hidden": false,
         "locked": false
        },
        {
         "code": ">>> df5.dtypes.iloc[0] == 'int64'\nTrue",
         "hidden": false,
         "locked": false
        },
        {
         "code": ">>> df5.dtypes.iloc[3] == 'int64'\nTrue",
         "hidden": false,
         "locked": false
        }
       ],
       "scored": true,
       "setup": "",
       "teardown": "",
       "type": "doctest"
      }
     ]
    },
    "q6": {
     "name": "q6",
     "points": [
      2,
      2
     ],
     "suites": [
      {
       "cases": [
        {
         "code": ">>> df6.shape == (25, 8)\nTrue",
         "hidden": false,
         "locked": false
        },
        {
         "code": ">>> df6.iloc[8, 3:6].to_list() == [26, 22689, 'Euron']\nTrue",
         "hidden": false,
         "locked": false
        }
       ],
       "scored": true,
       "setup": "",
       "teardown": "",
       "type": "doctest"
      }
     ]
    },
    "q7": {
     "name": "q7",
     "points": 8,
     "suites": [
      {
       "cases": [
        {
         "code": ">>> df7.shape == (5, 8)\nTrue",
         "hidden": false,
         "locked": false
        },
        {
         "code": ">>> df7.iloc[3, 2:5].to_list() == [9, 27, 2701]\nTrue",
         "hidden": false,
         "locked": false
        }
       ],
       "scored": true,
       "setup": "",
       "teardown": "",
       "type": "doctest"
      }
     ]
    },
    "q8": {
     "name": "q8",
     "points": 8,
     "suites": [
      {
       "cases": [
        {
         "code": ">>> df8.shape == (10, 7)\nTrue",
         "hidden": false,
         "locked": false
        },
        {
         "code": ">>> df8.iloc[5, 1:4].to_list() == ['Jack', 9, 27]\nTrue",
         "hidden": false,
         "locked": false
        }
       ],
       "scored": true,
       "setup": "",
       "teardown": "",
       "type": "doctest"
      }
     ]
    }
   }
  }
 },
 "nbformat": 4,
 "nbformat_minor": 5
}
