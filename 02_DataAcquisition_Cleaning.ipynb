{
 "cells": [
  {
   "cell_type": "markdown",
   "id": "a3af7b9d-8072-4c38-9166-fabfe115070d",
   "metadata": {},
   "source": [
    "# Lab 2 - Python and Pandas \n",
    "\n",
    "Upon successful completion of this assignment, a student will be able to:\n",
    "\n",
    "* Gain experience in formatting text using Markdown\n",
    "* Load in a data set, access it, and explore its properties.\n",
    "* Submit assignment to Gradescope.\n",
    "\n",
    "We start with the standard setup for our notebook files importing standard modules."
   ]
  },
  {
   "cell_type": "code",
   "execution_count": 1,
   "id": "28fef3e8-9380-4bfb-a243-f43e761193ad",
   "metadata": {
    "tags": []
   },
   "outputs": [],
   "source": [
    "#  Import standard modules  \n",
    "import pandas as pd\n",
    "import numpy as np\n",
    "import matplotlib as mpl\n",
    "import matplotlib.pyplot as plt\n",
    "%matplotlib inline\n",
    "\n",
    "import otter\n",
    "grader = otter.Notebook()"
   ]
  },
  {
   "cell_type": "markdown",
   "id": "1c05bb1b-836c-4e36-a945-ccfeddbadeac",
   "metadata": {},
   "source": [
    "## Example 1 - More Data Cleaning \n",
    "*Adapted from J. Sullivan*\n",
    "\n",
    "Let's look at another data file to see additional data cleaning steps and code.  \n",
    "\n",
    "The initial data set reads in part: \n",
    "\n",
    "![property data](images/property-data.jpg)"
   ]
  },
  {
   "cell_type": "code",
   "execution_count": 2,
   "id": "ad62d8cb-b2e0-4044-8dea-b187763e7602",
   "metadata": {
    "tags": []
   },
   "outputs": [
    {
     "data": {
      "text/html": [
       "<div>\n",
       "<style scoped>\n",
       "    .dataframe tbody tr th:only-of-type {\n",
       "        vertical-align: middle;\n",
       "    }\n",
       "\n",
       "    .dataframe tbody tr th {\n",
       "        vertical-align: top;\n",
       "    }\n",
       "\n",
       "    .dataframe thead th {\n",
       "        text-align: right;\n",
       "    }\n",
       "</style>\n",
       "<table border=\"1\" class=\"dataframe\">\n",
       "  <thead>\n",
       "    <tr style=\"text-align: right;\">\n",
       "      <th></th>\n",
       "      <th>PID</th>\n",
       "      <th>ST_NUM</th>\n",
       "      <th>ST_NAME</th>\n",
       "      <th>OWN_OCCUPIED</th>\n",
       "      <th>NUM_BEDROOMS</th>\n",
       "      <th>NUM_BATH</th>\n",
       "      <th>SQ_FT</th>\n",
       "    </tr>\n",
       "  </thead>\n",
       "  <tbody>\n",
       "    <tr>\n",
       "      <th>0</th>\n",
       "      <td>100001000.0</td>\n",
       "      <td>104.0</td>\n",
       "      <td>PUTNAM</td>\n",
       "      <td>Y</td>\n",
       "      <td>3</td>\n",
       "      <td>1</td>\n",
       "      <td>1000</td>\n",
       "    </tr>\n",
       "    <tr>\n",
       "      <th>1</th>\n",
       "      <td>100002000.0</td>\n",
       "      <td>197.0</td>\n",
       "      <td>LEXINGTON</td>\n",
       "      <td>N</td>\n",
       "      <td>3</td>\n",
       "      <td>1.5</td>\n",
       "      <td>--</td>\n",
       "    </tr>\n",
       "    <tr>\n",
       "      <th>2</th>\n",
       "      <td>100003000.0</td>\n",
       "      <td>NaN</td>\n",
       "      <td>LEXINGTON</td>\n",
       "      <td>N</td>\n",
       "      <td>NaN</td>\n",
       "      <td>1</td>\n",
       "      <td>850</td>\n",
       "    </tr>\n",
       "    <tr>\n",
       "      <th>3</th>\n",
       "      <td>100004000.0</td>\n",
       "      <td>201.0</td>\n",
       "      <td>BERKELEY</td>\n",
       "      <td>12</td>\n",
       "      <td>1</td>\n",
       "      <td>NaN</td>\n",
       "      <td>700</td>\n",
       "    </tr>\n",
       "    <tr>\n",
       "      <th>4</th>\n",
       "      <td>NaN</td>\n",
       "      <td>203.0</td>\n",
       "      <td>BERKELEY</td>\n",
       "      <td>Y</td>\n",
       "      <td>3</td>\n",
       "      <td>2</td>\n",
       "      <td>1600</td>\n",
       "    </tr>\n",
       "    <tr>\n",
       "      <th>5</th>\n",
       "      <td>100006000.0</td>\n",
       "      <td>207.0</td>\n",
       "      <td>BERKELEY</td>\n",
       "      <td>Y</td>\n",
       "      <td>NaN</td>\n",
       "      <td>1</td>\n",
       "      <td>800</td>\n",
       "    </tr>\n",
       "    <tr>\n",
       "      <th>6</th>\n",
       "      <td>100007000.0</td>\n",
       "      <td>NaN</td>\n",
       "      <td>WASHINGTON</td>\n",
       "      <td>NaN</td>\n",
       "      <td>2</td>\n",
       "      <td>HURLEY</td>\n",
       "      <td>950</td>\n",
       "    </tr>\n",
       "    <tr>\n",
       "      <th>7</th>\n",
       "      <td>100008000.0</td>\n",
       "      <td>213.0</td>\n",
       "      <td>TREMONT</td>\n",
       "      <td>Y</td>\n",
       "      <td>--</td>\n",
       "      <td>1</td>\n",
       "      <td>NaN</td>\n",
       "    </tr>\n",
       "    <tr>\n",
       "      <th>8</th>\n",
       "      <td>100009000.0</td>\n",
       "      <td>215.0</td>\n",
       "      <td>TREMONT</td>\n",
       "      <td>Y</td>\n",
       "      <td>na</td>\n",
       "      <td>2</td>\n",
       "      <td>1800</td>\n",
       "    </tr>\n",
       "  </tbody>\n",
       "</table>\n",
       "</div>"
      ],
      "text/plain": [
       "           PID  ST_NUM     ST_NAME OWN_OCCUPIED NUM_BEDROOMS NUM_BATH SQ_FT\n",
       "0  100001000.0   104.0      PUTNAM            Y            3        1  1000\n",
       "1  100002000.0   197.0   LEXINGTON            N            3      1.5    --\n",
       "2  100003000.0     NaN   LEXINGTON            N          NaN        1   850\n",
       "3  100004000.0   201.0    BERKELEY           12            1      NaN   700\n",
       "4          NaN   203.0    BERKELEY            Y            3        2  1600\n",
       "5  100006000.0   207.0    BERKELEY            Y          NaN        1   800\n",
       "6  100007000.0     NaN  WASHINGTON          NaN            2   HURLEY   950\n",
       "7  100008000.0   213.0     TREMONT            Y           --        1   NaN\n",
       "8  100009000.0   215.0     TREMONT            Y           na        2  1800"
      ]
     },
     "execution_count": 2,
     "metadata": {},
     "output_type": "execute_result"
    }
   ],
   "source": [
    "prop = pd.read_csv(\"data/property.csv\")\n",
    "prop"
   ]
  },
  {
   "cell_type": "markdown",
   "id": "4a43336f-38e5-4ddd-9406-f4cd7ff8fc89",
   "metadata": {},
   "source": [
    "We can see that `pandas` is already able to find some of the different ways that we have missing values in the data.\n",
    "\n",
    "For instance in the ST_NUM column, the 3rd entry is blank and the 7th entry is NaN.  `pandas` filled in the blank entry with \"NA\".  Both of these values are found by the `isnull()` method."
   ]
  },
  {
   "cell_type": "code",
   "execution_count": 3,
   "id": "309a778c-62a9-48a1-9b43-ea726e2513bf",
   "metadata": {
    "tags": []
   },
   "outputs": [
    {
     "data": {
      "text/plain": [
       "0    False\n",
       "1    False\n",
       "2     True\n",
       "3    False\n",
       "4    False\n",
       "5    False\n",
       "6     True\n",
       "7    False\n",
       "8    False\n",
       "Name: ST_NUM, dtype: bool"
      ]
     },
     "execution_count": 3,
     "metadata": {},
     "output_type": "execute_result"
    }
   ],
   "source": [
    "prop['ST_NUM'].isnull()"
   ]
  },
  {
   "cell_type": "markdown",
   "id": "dffd19ea-28ea-49c1-85ba-b1753255741d",
   "metadata": {},
   "source": [
    "However, there are other missing value encodings that pandas does not immediately recognize. \n",
    "\n",
    "Let's look at the Num_Bedrooms column. \n",
    "\n",
    "![property data 2](images/property-data2.jpg)\n",
    "\n",
    "\n"
   ]
  },
  {
   "cell_type": "markdown",
   "id": "4eab606d-f6fc-4167-b231-3ea09a6c62c9",
   "metadata": {},
   "source": [
    "In this column, we have missing values as \"n/a\", \"NA\", \"--\" and \"na\".\n",
    "\n",
    "Let's see what `pandas` automatically recognizes."
   ]
  },
  {
   "cell_type": "code",
   "execution_count": 4,
   "id": "ad7eabe1-1b84-497b-8690-798eb5dbf7c9",
   "metadata": {
    "tags": []
   },
   "outputs": [
    {
     "data": {
      "text/plain": [
       "0    False\n",
       "1    False\n",
       "2     True\n",
       "3    False\n",
       "4    False\n",
       "5     True\n",
       "6    False\n",
       "7    False\n",
       "8    False\n",
       "Name: NUM_BEDROOMS, dtype: bool"
      ]
     },
     "execution_count": 4,
     "metadata": {},
     "output_type": "execute_result"
    }
   ],
   "source": [
    "prop['NUM_BEDROOMS'].isnull()"
   ]
  },
  {
   "cell_type": "markdown",
   "id": "c09a39cc-a15b-48ec-9720-bf00dd3d2163",
   "metadata": {},
   "source": [
    "`pandas` automatically recognizes the \"n/a\" and \"NA\" but not the \"--\" and \"na\". \n",
    "\n",
    "Let's change that! "
   ]
  },
  {
   "cell_type": "code",
   "execution_count": 5,
   "id": "5e327b03-f20b-47ab-94ee-d17d0db1e72c",
   "metadata": {
    "tags": []
   },
   "outputs": [],
   "source": [
    "# Making a list of missing value types\n",
    "missing_values = [\"n/a\", \"na\", \"--\", \"NA\"]\n",
    "prop2 = pd.read_csv(\"data/property.csv\", na_values = missing_values)"
   ]
  },
  {
   "cell_type": "code",
   "execution_count": 6,
   "id": "232e3343-6fcf-4ca6-b666-a857e8f02922",
   "metadata": {
    "tags": []
   },
   "outputs": [
    {
     "name": "stdout",
     "output_type": "stream",
     "text": [
      "0    3.0\n",
      "1    3.0\n",
      "2    NaN\n",
      "3    1.0\n",
      "4    3.0\n",
      "5    NaN\n",
      "6    2.0\n",
      "7    NaN\n",
      "8    NaN\n",
      "Name: NUM_BEDROOMS, dtype: float64\n",
      "0    False\n",
      "1    False\n",
      "2     True\n",
      "3    False\n",
      "4    False\n",
      "5     True\n",
      "6    False\n",
      "7     True\n",
      "8     True\n",
      "Name: NUM_BEDROOMS, dtype: bool\n"
     ]
    }
   ],
   "source": [
    "print (prop2['NUM_BEDROOMS'])\n",
    "print (prop2['NUM_BEDROOMS'].isnull())"
   ]
  },
  {
   "cell_type": "markdown",
   "id": "0e6817a3",
   "metadata": {},
   "source": [
    "## Example 2 - Printing"
   ]
  },
  {
   "cell_type": "markdown",
   "id": "9cf8be09",
   "metadata": {},
   "source": [
    "\n",
    "In many courses, tutorials for new languages the first thing you learn is printing \"Hello World\""
   ]
  },
  {
   "cell_type": "code",
   "execution_count": 7,
   "id": "42e72e12",
   "metadata": {
    "tags": []
   },
   "outputs": [
    {
     "name": "stdout",
     "output_type": "stream",
     "text": [
      "Hello World\n"
     ]
    }
   ],
   "source": [
    "print('Hello World')"
   ]
  },
  {
   "cell_type": "code",
   "execution_count": 8,
   "id": "144c0638",
   "metadata": {
    "tags": []
   },
   "outputs": [],
   "source": [
    "firstName = \"Adam, Andrew, and Daniel\""
   ]
  },
  {
   "cell_type": "code",
   "execution_count": 9,
   "id": "5d150aac",
   "metadata": {
    "tags": []
   },
   "outputs": [
    {
     "data": {
      "text/plain": [
       "'Hello Adam, Andrew, and Daniel!'"
      ]
     },
     "execution_count": 9,
     "metadata": {},
     "output_type": "execute_result"
    }
   ],
   "source": [
    "\"Hello \" + firstName + \"!\""
   ]
  },
  {
   "cell_type": "markdown",
   "id": "5686996a",
   "metadata": {},
   "source": [
    "Use inbuilt function `dir()` to the variable \"firstName\" above and print the outcome.\n",
    "\n",
    "https://docs.python.org/3/library/functions.html#dir"
   ]
  },
  {
   "cell_type": "code",
   "execution_count": 10,
   "id": "208b225c",
   "metadata": {},
   "outputs": [
    {
     "data": {
      "text/plain": [
       "['__add__',\n",
       " '__class__',\n",
       " '__contains__',\n",
       " '__delattr__',\n",
       " '__dir__',\n",
       " '__doc__',\n",
       " '__eq__',\n",
       " '__format__',\n",
       " '__ge__',\n",
       " '__getattribute__',\n",
       " '__getitem__',\n",
       " '__getnewargs__',\n",
       " '__gt__',\n",
       " '__hash__',\n",
       " '__init__',\n",
       " '__init_subclass__',\n",
       " '__iter__',\n",
       " '__le__',\n",
       " '__len__',\n",
       " '__lt__',\n",
       " '__mod__',\n",
       " '__mul__',\n",
       " '__ne__',\n",
       " '__new__',\n",
       " '__reduce__',\n",
       " '__reduce_ex__',\n",
       " '__repr__',\n",
       " '__rmod__',\n",
       " '__rmul__',\n",
       " '__setattr__',\n",
       " '__sizeof__',\n",
       " '__str__',\n",
       " '__subclasshook__',\n",
       " 'capitalize',\n",
       " 'casefold',\n",
       " 'center',\n",
       " 'count',\n",
       " 'encode',\n",
       " 'endswith',\n",
       " 'expandtabs',\n",
       " 'find',\n",
       " 'format',\n",
       " 'format_map',\n",
       " 'index',\n",
       " 'isalnum',\n",
       " 'isalpha',\n",
       " 'isascii',\n",
       " 'isdecimal',\n",
       " 'isdigit',\n",
       " 'isidentifier',\n",
       " 'islower',\n",
       " 'isnumeric',\n",
       " 'isprintable',\n",
       " 'isspace',\n",
       " 'istitle',\n",
       " 'isupper',\n",
       " 'join',\n",
       " 'ljust',\n",
       " 'lower',\n",
       " 'lstrip',\n",
       " 'maketrans',\n",
       " 'partition',\n",
       " 'removeprefix',\n",
       " 'removesuffix',\n",
       " 'replace',\n",
       " 'rfind',\n",
       " 'rindex',\n",
       " 'rjust',\n",
       " 'rpartition',\n",
       " 'rsplit',\n",
       " 'rstrip',\n",
       " 'split',\n",
       " 'splitlines',\n",
       " 'startswith',\n",
       " 'strip',\n",
       " 'swapcase',\n",
       " 'title',\n",
       " 'translate',\n",
       " 'upper',\n",
       " 'zfill']"
      ]
     },
     "execution_count": 10,
     "metadata": {},
     "output_type": "execute_result"
    }
   ],
   "source": [
    "dir(firstName)"
   ]
  },
  {
   "cell_type": "markdown",
   "id": "176c6bbd",
   "metadata": {},
   "source": [
    "This lists all the functions available to be used on the \"string\" `firstName'"
   ]
  },
  {
   "cell_type": "markdown",
   "id": "8afde54a",
   "metadata": {
    "deletable": false,
    "editable": false
   },
   "source": [
    "## Q1 - Strings\n",
    "\n",
    "I want you to explore using the string functions: `len()`, `split()`, and `strip()` on the following strings. \n",
    "\n",
    "https://docs.python.org/3/library/functions.html"
   ]
  },
  {
   "cell_type": "code",
   "execution_count": 11,
   "id": "389795f2",
   "metadata": {
    "tags": []
   },
   "outputs": [],
   "source": [
    "className = \" Introduction    to   Data Science   \""
   ]
  },
  {
   "cell_type": "code",
   "execution_count": 12,
   "id": "b5b7eb86",
   "metadata": {
    "tags": []
   },
   "outputs": [
    {
     "data": {
      "text/plain": [
       "37"
      ]
     },
     "execution_count": 12,
     "metadata": {},
     "output_type": "execute_result"
    }
   ],
   "source": [
    "# Show how to find the length of the string \"className\" \n",
    "# Store the results in a new variable \"class_length\"\n",
    "class_length = len(className)\n",
    "class_length"
   ]
  },
  {
   "cell_type": "code",
   "execution_count": 13,
   "id": "04230270",
   "metadata": {
    "tags": []
   },
   "outputs": [
    {
     "data": {
      "text/plain": [
       "['Introduction', 'to', 'Data', 'Science']"
      ]
     },
     "execution_count": 13,
     "metadata": {},
     "output_type": "execute_result"
    }
   ],
   "source": [
    "# Show the results of the `split()` function on the string \"className\"  \n",
    "# Store the results in a new variable \"class_split\"\n",
    "class_split = className.split()\n",
    "class_split"
   ]
  },
  {
   "cell_type": "code",
   "execution_count": 14,
   "id": "910662ce",
   "metadata": {
    "tags": []
   },
   "outputs": [
    {
     "data": {
      "text/plain": [
       "'Introduction    to   Data Science'"
      ]
     },
     "execution_count": 14,
     "metadata": {},
     "output_type": "execute_result"
    }
   ],
   "source": [
    "# Save the results of the `strip()` function on the string \"className\" in a \n",
    "# new variable \"className2\"\n",
    "className2 = className.strip()\n",
    "className2"
   ]
  },
  {
   "cell_type": "code",
   "execution_count": 15,
   "id": "0810669e",
   "metadata": {
    "deletable": false,
    "editable": false
   },
   "outputs": [
    {
     "data": {
      "text/html": [
       "<p><strong><pre style='display: inline;'>q1</pre></strong> passed! 🌟</p>"
      ],
      "text/plain": [
       "q1 results: All test cases passed!"
      ]
     },
     "execution_count": 15,
     "metadata": {},
     "output_type": "execute_result"
    }
   ],
   "source": [
    "grader.check(\"q1\")"
   ]
  },
  {
   "cell_type": "markdown",
   "id": "c2bb250b",
   "metadata": {},
   "source": [
    "## Example 3 - Comments \n",
    "\n",
    "To create a comment line (in line with the code), # (hash) symbol is used, followed by a space. (Short key: `Ctrl + /` ) [To comment out, remove # or use `Ctrl + /` again]\n",
    "\n",
    "Other options are using the triple quotes (\"\"\")or (''') known as backticks, to enclose the complete sentence as a comment.(This needs to be on different line other than the code). Different programming language has different approches for commenting. Please be aware."
   ]
  },
  {
   "cell_type": "code",
   "execution_count": 16,
   "id": "5863728e",
   "metadata": {
    "tags": []
   },
   "outputs": [],
   "source": [
    "# This is a comment"
   ]
  },
  {
   "cell_type": "code",
   "execution_count": 17,
   "id": "8da029c6",
   "metadata": {
    "tags": []
   },
   "outputs": [
    {
     "data": {
      "text/plain": [
       "4"
      ]
     },
     "execution_count": 17,
     "metadata": {},
     "output_type": "execute_result"
    }
   ],
   "source": [
    "'''This is a larger comment block \n",
    "that may span multiple lines \n",
    "'''\n",
    "2 + 2"
   ]
  },
  {
   "cell_type": "markdown",
   "id": "f630a76b",
   "metadata": {
    "deletable": false,
    "editable": false
   },
   "source": [
    "<!-- BEGIN QUESTION -->\n",
    "\n",
    "## Q2 - Markdown\n",
    "\n",
    "Markdown option for cells in the jupyter notebook provides a way to display information to the use around the particular code snippets. For more information and reading, please look into:\n",
    "\n",
    "https://help.github.com/articles/basic-writing-and-formatting-syntax/\n",
    "\n",
    "https://jupyter-notebook.readthedocs.io/en/stable/examples/Notebook/Working%20With%20Markdown%20Cells.html\n",
    "\n",
    "Colab's Markdown Guide: https://colab.research.google.com/notebooks/markdown_guide.ipynb#scrollTo=5Y3CStVkLxqt\n",
    "\n",
    "For this exercise add a new 'Text' cell and try to recreate the following block of text below the two lines. \n",
    "<hr><hr>\n",
    "\n",
    "![example markdown](images/markdown-example.png)\n",
    "\n",
    "\n"
   ]
  },
  {
   "cell_type": "markdown",
   "id": "062a7a3c-ab17-47d3-afcd-a98a2d9b4e6b",
   "metadata": {},
   "source": [
    "We can start with a few different paragraphs of text. The first paragraph will have a few sentences with various markups found. \n",
    "Things like **bold**, *italics*, ~~strikethrough~~, and even `monospace`.\n",
    "\n",
    "Here is another paragraph of text that contains a url [https://mtu.edu](https://mtu.edu).\n",
    "\n",
    "we can have lists:\n",
    "\n",
    "* one\n",
    "* two\n",
    "* three\n",
    "\n",
    "And more lists:\n",
    "\n",
    "1. one\n",
    "2. two\n",
    "3. three\n",
    "\n",
    "Nested lists:\n",
    "\n",
    "* one\n",
    "  * one A\n",
    "  * one B\n",
    "* two\n",
    "* three\n"
   ]
  },
  {
   "cell_type": "markdown",
   "id": "5a5009bb",
   "metadata": {
    "deletable": false,
    "editable": false
   },
   "source": [
    "<!-- END QUESTION -->\n",
    "\n",
    "## Example 4 - String Operations \n",
    "\n",
    "Here you can see some more operations working with strings.\n",
    "\n",
    "https://docs.python.org/3/library/stdtypes.html#str"
   ]
  },
  {
   "cell_type": "code",
   "execution_count": 18,
   "id": "093be2ea",
   "metadata": {
    "tags": []
   },
   "outputs": [],
   "source": [
    "str = \"Hello Data Science 2024\""
   ]
  },
  {
   "cell_type": "code",
   "execution_count": 19,
   "id": "ef9f0d36",
   "metadata": {
    "tags": []
   },
   "outputs": [
    {
     "name": "stdout",
     "output_type": "stream",
     "text": [
      "19\n"
     ]
    }
   ],
   "source": [
    "print(str.find(\"2024\"))"
   ]
  },
  {
   "cell_type": "code",
   "execution_count": 20,
   "id": "3ee3911c",
   "metadata": {
    "tags": []
   },
   "outputs": [
    {
     "name": "stdout",
     "output_type": "stream",
     "text": [
      "2024\n"
     ]
    }
   ],
   "source": [
    "print(str[-4:])"
   ]
  },
  {
   "cell_type": "code",
   "execution_count": 21,
   "id": "b496eba9",
   "metadata": {
    "tags": []
   },
   "outputs": [
    {
     "data": {
      "text/plain": [
       "'HELLO DATA SCIENCE 2024'"
      ]
     },
     "execution_count": 21,
     "metadata": {},
     "output_type": "execute_result"
    }
   ],
   "source": [
    "str.upper()"
   ]
  },
  {
   "cell_type": "code",
   "execution_count": 22,
   "id": "6b10230d",
   "metadata": {
    "tags": []
   },
   "outputs": [
    {
     "data": {
      "text/plain": [
       "'hello data science 2024'"
      ]
     },
     "execution_count": 22,
     "metadata": {},
     "output_type": "execute_result"
    }
   ],
   "source": [
    "str.lower()"
   ]
  },
  {
   "cell_type": "code",
   "execution_count": 23,
   "id": "724d2991",
   "metadata": {
    "tags": []
   },
   "outputs": [
    {
     "data": {
      "text/plain": [
       "'Hello Data Science 2024 & FutureDataScientist'"
      ]
     },
     "execution_count": 23,
     "metadata": {},
     "output_type": "execute_result"
    }
   ],
   "source": [
    "str + ' & ' + 'FutureDataScientist'"
   ]
  },
  {
   "cell_type": "markdown",
   "id": "57bc1b6d-1226-4994-a6f2-f5e69975245b",
   "metadata": {
    "deletable": false,
    "editable": false
   },
   "source": [
    "<br/><br/>\n",
    "<hr style=\"border: 5px solid #8a8c8c;\" />\n",
    "<hr style=\"border: 1px solid #ffcd00;\" />\n",
    "\n",
    "# Pandas Review \n",
    "\n",
    "[Pandas](https://pandas.pydata.org/) is one of the most widely used Python libraries in data science. In this lab, you will review commonly used data-wrangling operations/tools in `pandas`. We aim to give you familiarity with:\n",
    "\n",
    "* Creating `DataFrames`,\n",
    "* Slicing `DataFrames` (i.e., selecting rows and columns)\n",
    "* Filtering data (using boolean arrays)\n",
    "\n",
    "In this lab, you are going to use several `pandas` methods. Reminder from lecture that you may press `shift+tab` on method parameters to see the documentation for that method. For example, if you were using the `drop` method in `pandas`, you could press `shift+tab` to see what `drop` is expecting.\n",
    "\n",
    "**Note**: The `pandas` interface is notoriously confusing for beginners, and the documentation is not consistently great. Throughout the semester, you will have to search through [`pandas` documentation](https://pandas.pydata.org/docs/reference/index.html) and experiment, but remember it is part of the learning experience and will help shape you as a data scientist!\n",
    "\n",
    "\n"
   ]
  },
  {
   "cell_type": "markdown",
   "id": "648aa80a-3814-41a7-b3a0-afd4f52e8128",
   "metadata": {
    "deletable": false,
    "editable": false
   },
   "source": [
    "---\n",
    "\n",
    "\n",
    "### **REVIEW:** Creating `DataFrames` & Basic Manipulations\n",
    "\n",
    "Recall that a [DataFrame](https://pandas.pydata.org/pandas-docs/stable/user_guide/dsintro.html#dataframe) is a table in which each column has a specific data type; there is an index over the columns (typically string labels) and an index over the rows (typically ordinal numbers).\n",
    "\n",
    "Usually, you'll create `DataFrames` by using a function like `pd.read_csv`. However, in this section, we'll discuss how to create them from scratch.\n",
    "\n",
    "The [documentation](https://pandas.pydata.org/pandas-docs/stable/reference/api/pandas.DataFrame.html) for the `pandas` `DataFrame` class provides several constructors for the `DataFrame` class.\n",
    "\n",
    "**Syntax 1:** You can create a `DataFrame` by specifying the columns and values using a dictionary, as shown below. \n",
    "\n",
    "The keys of the dictionary are the column names, and the values of the dictionary are lists containing the row entries."
   ]
  },
  {
   "cell_type": "code",
   "execution_count": 24,
   "id": "0f2a620c-f317-458d-a92f-3f227079ab36",
   "metadata": {
    "deletable": false,
    "editable": false
   },
   "outputs": [
    {
     "data": {
      "text/html": [
       "<div>\n",
       "<style scoped>\n",
       "    .dataframe tbody tr th:only-of-type {\n",
       "        vertical-align: middle;\n",
       "    }\n",
       "\n",
       "    .dataframe tbody tr th {\n",
       "        vertical-align: top;\n",
       "    }\n",
       "\n",
       "    .dataframe thead th {\n",
       "        text-align: right;\n",
       "    }\n",
       "</style>\n",
       "<table border=\"1\" class=\"dataframe\">\n",
       "  <thead>\n",
       "    <tr style=\"text-align: right;\">\n",
       "      <th></th>\n",
       "      <th>fruit</th>\n",
       "      <th>color</th>\n",
       "      <th>price</th>\n",
       "    </tr>\n",
       "  </thead>\n",
       "  <tbody>\n",
       "    <tr>\n",
       "      <th>0</th>\n",
       "      <td>apple</td>\n",
       "      <td>red</td>\n",
       "      <td>1.00</td>\n",
       "    </tr>\n",
       "    <tr>\n",
       "      <th>1</th>\n",
       "      <td>orange</td>\n",
       "      <td>orange</td>\n",
       "      <td>0.75</td>\n",
       "    </tr>\n",
       "    <tr>\n",
       "      <th>2</th>\n",
       "      <td>banana</td>\n",
       "      <td>yellow</td>\n",
       "      <td>0.35</td>\n",
       "    </tr>\n",
       "    <tr>\n",
       "      <th>3</th>\n",
       "      <td>raspberry</td>\n",
       "      <td>pink</td>\n",
       "      <td>0.05</td>\n",
       "    </tr>\n",
       "  </tbody>\n",
       "</table>\n",
       "</div>"
      ],
      "text/plain": [
       "       fruit   color  price\n",
       "0      apple     red   1.00\n",
       "1     orange  orange   0.75\n",
       "2     banana  yellow   0.35\n",
       "3  raspberry    pink   0.05"
      ]
     },
     "execution_count": 24,
     "metadata": {},
     "output_type": "execute_result"
    }
   ],
   "source": [
    "fruit_info = pd.DataFrame(\n",
    "    data = {'fruit': ['apple', 'orange', 'banana', 'raspberry'],\n",
    "          'color': ['red', 'orange', 'yellow', 'pink'],\n",
    "          'price': [1.0, 0.75, 0.35, 0.05]\n",
    "          })\n",
    "fruit_info"
   ]
  },
  {
   "cell_type": "markdown",
   "id": "76d330dc-27ed-4961-8a20-ec1ce6c4267c",
   "metadata": {
    "deletable": false,
    "editable": false
   },
   "source": [
    "**Syntax 2:** You can also define a `DataFrame` by specifying the rows as shown below. \n",
    "\n",
    "Each row corresponds to a distinct tuple, and the columns are specified separately."
   ]
  },
  {
   "cell_type": "code",
   "execution_count": 25,
   "id": "14613fb7-22f7-4377-8c32-85795171e464",
   "metadata": {
    "deletable": false,
    "editable": false
   },
   "outputs": [
    {
     "data": {
      "text/html": [
       "<div>\n",
       "<style scoped>\n",
       "    .dataframe tbody tr th:only-of-type {\n",
       "        vertical-align: middle;\n",
       "    }\n",
       "\n",
       "    .dataframe tbody tr th {\n",
       "        vertical-align: top;\n",
       "    }\n",
       "\n",
       "    .dataframe thead th {\n",
       "        text-align: right;\n",
       "    }\n",
       "</style>\n",
       "<table border=\"1\" class=\"dataframe\">\n",
       "  <thead>\n",
       "    <tr style=\"text-align: right;\">\n",
       "      <th></th>\n",
       "      <th>color</th>\n",
       "      <th>fruit</th>\n",
       "      <th>price</th>\n",
       "    </tr>\n",
       "  </thead>\n",
       "  <tbody>\n",
       "    <tr>\n",
       "      <th>0</th>\n",
       "      <td>red</td>\n",
       "      <td>apple</td>\n",
       "      <td>1.00</td>\n",
       "    </tr>\n",
       "    <tr>\n",
       "      <th>1</th>\n",
       "      <td>orange</td>\n",
       "      <td>orange</td>\n",
       "      <td>0.75</td>\n",
       "    </tr>\n",
       "    <tr>\n",
       "      <th>2</th>\n",
       "      <td>yellow</td>\n",
       "      <td>banana</td>\n",
       "      <td>0.35</td>\n",
       "    </tr>\n",
       "    <tr>\n",
       "      <th>3</th>\n",
       "      <td>pink</td>\n",
       "      <td>raspberry</td>\n",
       "      <td>0.05</td>\n",
       "    </tr>\n",
       "  </tbody>\n",
       "</table>\n",
       "</div>"
      ],
      "text/plain": [
       "    color      fruit  price\n",
       "0     red      apple   1.00\n",
       "1  orange     orange   0.75\n",
       "2  yellow     banana   0.35\n",
       "3    pink  raspberry   0.05"
      ]
     },
     "execution_count": 25,
     "metadata": {},
     "output_type": "execute_result"
    }
   ],
   "source": [
    "fruit_info2 = pd.DataFrame(\n",
    "    [(\"red\", \"apple\", 1.0), (\"orange\", \"orange\", 0.75), (\"yellow\", \"banana\", 0.35),\n",
    "     (\"pink\", \"raspberry\", 0.05)], \n",
    "    columns = [\"color\", \"fruit\", \"price\"])\n",
    "fruit_info2"
   ]
  },
  {
   "cell_type": "markdown",
   "id": "42d006bb-b312-477b-a65c-74d1697143d2",
   "metadata": {
    "deletable": false,
    "editable": false
   },
   "source": [
    "You can also convert the entire `DataFrame` into a two-dimensional `NumPy` array. Remember that a `NumPy` array can hold homogenous data whereas a `DataFrame` can contain heterogeneous data. "
   ]
  },
  {
   "cell_type": "code",
   "execution_count": 26,
   "id": "f44275c8-124b-407d-be08-2fd42b0eed65",
   "metadata": {
    "deletable": false,
    "editable": false
   },
   "outputs": [
    {
     "name": "stdout",
     "output_type": "stream",
     "text": [
      "<class 'numpy.ndarray'>\n",
      "[[1 0]\n",
      " [2 1]\n",
      " [3 1]]\n"
     ]
    }
   ],
   "source": [
    "numbers = pd.DataFrame({\"A\":[1, 2, 3], \"B\":[0, 1, 1]})\n",
    "numpy_numbers = numbers.to_numpy()\n",
    "\n",
    "print(type(numpy_numbers))\n",
    "print(numpy_numbers)"
   ]
  },
  {
   "cell_type": "markdown",
   "id": "3cd9a22b-adda-4867-8042-a67e4817f38d",
   "metadata": {
    "deletable": false,
    "editable": false
   },
   "source": [
    "The `values` attribute returns the content of the `DataFrame` in the form of a list of lists."
   ]
  },
  {
   "cell_type": "code",
   "execution_count": 27,
   "id": "3cb12fb5-90d0-4087-94d7-97ab912c9569",
   "metadata": {
    "deletable": false,
    "editable": false
   },
   "outputs": [
    {
     "data": {
      "text/plain": [
       "array([['apple', 'red', 1.0],\n",
       "       ['orange', 'orange', 0.75],\n",
       "       ['banana', 'yellow', 0.35],\n",
       "       ['raspberry', 'pink', 0.05]], dtype=object)"
      ]
     },
     "execution_count": 27,
     "metadata": {},
     "output_type": "execute_result"
    }
   ],
   "source": [
    "fruit_info.values"
   ]
  },
  {
   "cell_type": "markdown",
   "id": "642ebe2d-3d9d-4963-99e1-946572f98c94",
   "metadata": {
    "deletable": false,
    "editable": false
   },
   "source": [
    "## **REVIEW:** Selecting Rows and Columns in `pandas`\n",
    "\n",
    "As you've seen in lecture, there are two verbose operators in Python for selecting rows: `loc` and `iloc`. Let's review them briefly."
   ]
  },
  {
   "cell_type": "markdown",
   "id": "d0d796ca-e4f5-486c-ad71-306dd334c462",
   "metadata": {
    "deletable": false,
    "editable": false
   },
   "source": [
    "#### **Approach 1:** `loc`\n",
    "\n",
    "The first of the two verbose operators is `loc`, which takes two arguments. The first is one or more **row labels**, the second is one or more **column labels** - both of which are displayed in bold to the left of each of the rows and above each of the columns, respectively. These are not the same as positional indices, which are used for indexing Python lists or `NumPy` arrays!\n",
    "\n",
    "The desired rows or columns can be provided individually, in slice notation, or as a list. Some examples are given below.\n",
    "\n",
    "Note that **slicing in `loc` is inclusive** on the provided labels."
   ]
  },
  {
   "cell_type": "code",
   "execution_count": 28,
   "id": "8edd8f14-db4f-42c1-887b-b8cbe5910757",
   "metadata": {
    "deletable": false,
    "editable": false
   },
   "outputs": [
    {
     "data": {
      "text/html": [
       "<div>\n",
       "<style scoped>\n",
       "    .dataframe tbody tr th:only-of-type {\n",
       "        vertical-align: middle;\n",
       "    }\n",
       "\n",
       "    .dataframe tbody tr th {\n",
       "        vertical-align: top;\n",
       "    }\n",
       "\n",
       "    .dataframe thead th {\n",
       "        text-align: right;\n",
       "    }\n",
       "</style>\n",
       "<table border=\"1\" class=\"dataframe\">\n",
       "  <thead>\n",
       "    <tr style=\"text-align: right;\">\n",
       "      <th></th>\n",
       "      <th>fruit</th>\n",
       "      <th>color</th>\n",
       "      <th>price</th>\n",
       "    </tr>\n",
       "  </thead>\n",
       "  <tbody>\n",
       "    <tr>\n",
       "      <th>0</th>\n",
       "      <td>apple</td>\n",
       "      <td>red</td>\n",
       "      <td>1.00</td>\n",
       "    </tr>\n",
       "    <tr>\n",
       "      <th>1</th>\n",
       "      <td>orange</td>\n",
       "      <td>orange</td>\n",
       "      <td>0.75</td>\n",
       "    </tr>\n",
       "    <tr>\n",
       "      <th>2</th>\n",
       "      <td>banana</td>\n",
       "      <td>yellow</td>\n",
       "      <td>0.35</td>\n",
       "    </tr>\n",
       "  </tbody>\n",
       "</table>\n",
       "</div>"
      ],
      "text/plain": [
       "    fruit   color  price\n",
       "0   apple     red   1.00\n",
       "1  orange  orange   0.75\n",
       "2  banana  yellow   0.35"
      ]
     },
     "execution_count": 28,
     "metadata": {},
     "output_type": "execute_result"
    }
   ],
   "source": [
    "# Get rows 0 through 2 (inclusive) with labels 'fruit' through 'price' \n",
    "#  (which would include the color column that is in between both labels)\n",
    "fruit_info.loc[0:2, 'fruit':'price']"
   ]
  },
  {
   "cell_type": "code",
   "execution_count": 29,
   "id": "fc2e47be-bc43-4744-9ff3-3c227db0b047",
   "metadata": {
    "deletable": false,
    "editable": false
   },
   "outputs": [
    {
     "data": {
      "text/html": [
       "<div>\n",
       "<style scoped>\n",
       "    .dataframe tbody tr th:only-of-type {\n",
       "        vertical-align: middle;\n",
       "    }\n",
       "\n",
       "    .dataframe tbody tr th {\n",
       "        vertical-align: top;\n",
       "    }\n",
       "\n",
       "    .dataframe thead th {\n",
       "        text-align: right;\n",
       "    }\n",
       "</style>\n",
       "<table border=\"1\" class=\"dataframe\">\n",
       "  <thead>\n",
       "    <tr style=\"text-align: right;\">\n",
       "      <th></th>\n",
       "      <th>fruit</th>\n",
       "      <th>price</th>\n",
       "    </tr>\n",
       "  </thead>\n",
       "  <tbody>\n",
       "    <tr>\n",
       "      <th>0</th>\n",
       "      <td>apple</td>\n",
       "      <td>1.00</td>\n",
       "    </tr>\n",
       "    <tr>\n",
       "      <th>1</th>\n",
       "      <td>orange</td>\n",
       "      <td>0.75</td>\n",
       "    </tr>\n",
       "    <tr>\n",
       "      <th>2</th>\n",
       "      <td>banana</td>\n",
       "      <td>0.35</td>\n",
       "    </tr>\n",
       "  </tbody>\n",
       "</table>\n",
       "</div>"
      ],
      "text/plain": [
       "    fruit  price\n",
       "0   apple   1.00\n",
       "1  orange   0.75\n",
       "2  banana   0.35"
      ]
     },
     "execution_count": 29,
     "metadata": {},
     "output_type": "execute_result"
    }
   ],
   "source": [
    "# Get rows 0 through 2 (inclusive) and columns 'fruit' and 'price'. \n",
    "# Note the difference in notation and result from the previous example.\n",
    "fruit_info.loc[0:2, ['fruit', 'price']]"
   ]
  },
  {
   "cell_type": "code",
   "execution_count": 30,
   "id": "2603067e-89e9-4ed2-8c3e-e956a1afb852",
   "metadata": {
    "deletable": false,
    "editable": false
   },
   "outputs": [
    {
     "data": {
      "text/html": [
       "<div>\n",
       "<style scoped>\n",
       "    .dataframe tbody tr th:only-of-type {\n",
       "        vertical-align: middle;\n",
       "    }\n",
       "\n",
       "    .dataframe tbody tr th {\n",
       "        vertical-align: top;\n",
       "    }\n",
       "\n",
       "    .dataframe thead th {\n",
       "        text-align: right;\n",
       "    }\n",
       "</style>\n",
       "<table border=\"1\" class=\"dataframe\">\n",
       "  <thead>\n",
       "    <tr style=\"text-align: right;\">\n",
       "      <th></th>\n",
       "      <th>fruit</th>\n",
       "      <th>price</th>\n",
       "    </tr>\n",
       "  </thead>\n",
       "  <tbody>\n",
       "    <tr>\n",
       "      <th>0</th>\n",
       "      <td>apple</td>\n",
       "      <td>1.00</td>\n",
       "    </tr>\n",
       "    <tr>\n",
       "      <th>2</th>\n",
       "      <td>banana</td>\n",
       "      <td>0.35</td>\n",
       "    </tr>\n",
       "  </tbody>\n",
       "</table>\n",
       "</div>"
      ],
      "text/plain": [
       "    fruit  price\n",
       "0   apple   1.00\n",
       "2  banana   0.35"
      ]
     },
     "execution_count": 30,
     "metadata": {},
     "output_type": "execute_result"
    }
   ],
   "source": [
    "# Get rows 0 and 2 and columns fruit and price. \n",
    "fruit_info.loc[[0, 2], ['fruit', 'price']]"
   ]
  },
  {
   "cell_type": "code",
   "execution_count": 31,
   "id": "dddfddcd-5413-4d0b-b394-1e9a22e95f6b",
   "metadata": {
    "deletable": false,
    "editable": false
   },
   "outputs": [
    {
     "data": {
      "text/html": [
       "<div>\n",
       "<style scoped>\n",
       "    .dataframe tbody tr th:only-of-type {\n",
       "        vertical-align: middle;\n",
       "    }\n",
       "\n",
       "    .dataframe tbody tr th {\n",
       "        vertical-align: top;\n",
       "    }\n",
       "\n",
       "    .dataframe thead th {\n",
       "        text-align: right;\n",
       "    }\n",
       "</style>\n",
       "<table border=\"1\" class=\"dataframe\">\n",
       "  <thead>\n",
       "    <tr style=\"text-align: right;\">\n",
       "      <th></th>\n",
       "      <th>fruit</th>\n",
       "    </tr>\n",
       "  </thead>\n",
       "  <tbody>\n",
       "    <tr>\n",
       "      <th>0</th>\n",
       "      <td>apple</td>\n",
       "    </tr>\n",
       "    <tr>\n",
       "      <th>2</th>\n",
       "      <td>banana</td>\n",
       "    </tr>\n",
       "  </tbody>\n",
       "</table>\n",
       "</div>"
      ],
      "text/plain": [
       "    fruit\n",
       "0   apple\n",
       "2  banana"
      ]
     },
     "execution_count": 31,
     "metadata": {},
     "output_type": "execute_result"
    }
   ],
   "source": [
    "# Get rows 0 and 2 and column fruit\n",
    "fruit_info.loc[[0, 2], ['fruit']]"
   ]
  },
  {
   "cell_type": "markdown",
   "id": "5a16dafe-7fdd-43cb-a7d5-d905bcab78ea",
   "metadata": {
    "deletable": false,
    "editable": false
   },
   "source": [
    "Note that if we request a single column but don't enclose it in a list, the return type of the `loc` operator is a `Series` rather than a `DataFrame`. "
   ]
  },
  {
   "cell_type": "code",
   "execution_count": 32,
   "id": "c4ae1711-7249-49c6-b5a7-e85aacae573d",
   "metadata": {
    "deletable": false,
    "editable": false
   },
   "outputs": [
    {
     "data": {
      "text/plain": [
       "0     apple\n",
       "2    banana\n",
       "Name: fruit, dtype: object"
      ]
     },
     "execution_count": 32,
     "metadata": {},
     "output_type": "execute_result"
    }
   ],
   "source": [
    "# Get rows 0 and 2 and column fruit, returning the result as a Series\n",
    "fruit_info.loc[[0, 2], 'fruit']"
   ]
  },
  {
   "cell_type": "markdown",
   "id": "53f7cd48-4127-4336-9b20-f548b86c648a",
   "metadata": {
    "deletable": false,
    "editable": false
   },
   "source": [
    "If we provide only one argument to `loc`, it uses the provided argument to select rows, and returns all columns."
   ]
  },
  {
   "cell_type": "code",
   "execution_count": 33,
   "id": "a4e3b887-b7f7-48d2-b173-5982711db74b",
   "metadata": {
    "deletable": false,
    "editable": false
   },
   "outputs": [
    {
     "data": {
      "text/html": [
       "<div>\n",
       "<style scoped>\n",
       "    .dataframe tbody tr th:only-of-type {\n",
       "        vertical-align: middle;\n",
       "    }\n",
       "\n",
       "    .dataframe tbody tr th {\n",
       "        vertical-align: top;\n",
       "    }\n",
       "\n",
       "    .dataframe thead th {\n",
       "        text-align: right;\n",
       "    }\n",
       "</style>\n",
       "<table border=\"1\" class=\"dataframe\">\n",
       "  <thead>\n",
       "    <tr style=\"text-align: right;\">\n",
       "      <th></th>\n",
       "      <th>fruit</th>\n",
       "      <th>color</th>\n",
       "      <th>price</th>\n",
       "    </tr>\n",
       "  </thead>\n",
       "  <tbody>\n",
       "    <tr>\n",
       "      <th>0</th>\n",
       "      <td>apple</td>\n",
       "      <td>red</td>\n",
       "      <td>1.00</td>\n",
       "    </tr>\n",
       "    <tr>\n",
       "      <th>1</th>\n",
       "      <td>orange</td>\n",
       "      <td>orange</td>\n",
       "      <td>0.75</td>\n",
       "    </tr>\n",
       "  </tbody>\n",
       "</table>\n",
       "</div>"
      ],
      "text/plain": [
       "    fruit   color  price\n",
       "0   apple     red   1.00\n",
       "1  orange  orange   0.75"
      ]
     },
     "execution_count": 33,
     "metadata": {},
     "output_type": "execute_result"
    }
   ],
   "source": [
    "fruit_info.loc[0:1]"
   ]
  },
  {
   "cell_type": "markdown",
   "id": "94092468-2bbf-4cb7-92dd-fde4e2591505",
   "metadata": {
    "deletable": false,
    "editable": false
   },
   "source": [
    "Note that if you try to access columns without providing rows, `loc` will crash. "
   ]
  },
  {
   "cell_type": "code",
   "execution_count": 34,
   "id": "a2ccadf0-7a82-4ef3-a6cf-3b3b4fa95253",
   "metadata": {
    "deletable": false,
    "editable": false
   },
   "outputs": [
    {
     "data": {
      "text/html": [
       "<div>\n",
       "<style scoped>\n",
       "    .dataframe tbody tr th:only-of-type {\n",
       "        vertical-align: middle;\n",
       "    }\n",
       "\n",
       "    .dataframe tbody tr th {\n",
       "        vertical-align: top;\n",
       "    }\n",
       "\n",
       "    .dataframe thead th {\n",
       "        text-align: right;\n",
       "    }\n",
       "</style>\n",
       "<table border=\"1\" class=\"dataframe\">\n",
       "  <thead>\n",
       "    <tr style=\"text-align: right;\">\n",
       "      <th></th>\n",
       "      <th>fruit</th>\n",
       "      <th>price</th>\n",
       "    </tr>\n",
       "  </thead>\n",
       "  <tbody>\n",
       "    <tr>\n",
       "      <th>0</th>\n",
       "      <td>apple</td>\n",
       "      <td>1.00</td>\n",
       "    </tr>\n",
       "    <tr>\n",
       "      <th>1</th>\n",
       "      <td>orange</td>\n",
       "      <td>0.75</td>\n",
       "    </tr>\n",
       "    <tr>\n",
       "      <th>2</th>\n",
       "      <td>banana</td>\n",
       "      <td>0.35</td>\n",
       "    </tr>\n",
       "    <tr>\n",
       "      <th>3</th>\n",
       "      <td>raspberry</td>\n",
       "      <td>0.05</td>\n",
       "    </tr>\n",
       "  </tbody>\n",
       "</table>\n",
       "</div>"
      ],
      "text/plain": [
       "       fruit  price\n",
       "0      apple   1.00\n",
       "1     orange   0.75\n",
       "2     banana   0.35\n",
       "3  raspberry   0.05"
      ]
     },
     "execution_count": 34,
     "metadata": {},
     "output_type": "execute_result"
    }
   ],
   "source": [
    "# Uncomment, this code will crash\n",
    "#fruit_info.loc[[\"fruit\", \"price\"]]\n",
    "\n",
    "# Uncomment, this code works fine: \n",
    "fruit_info.loc[:, [\"fruit\", \"price\"]]"
   ]
  },
  {
   "cell_type": "markdown",
   "id": "885199e5-999b-4073-838d-66cccffdbffc",
   "metadata": {
    "deletable": false,
    "editable": false
   },
   "source": [
    "<br/>\n",
    "\n",
    "---\n",
    "\n",
    "### **Approach 2:** `iloc`\n",
    "\n",
    "`iloc` is very similar to `loc` except that its arguments are **row numbers** and **column numbers**, rather than row and column labels. A useful mnemonic is that the `i` stands for \"integer\". This is quite similar to indexing into a Python `list` or `NumPy` array.\n",
    "\n",
    "In addition, **slicing for `iloc` is exclusive** on the provided integer indices. Some examples are given below:"
   ]
  },
  {
   "cell_type": "code",
   "execution_count": 35,
   "id": "8e820c88-29ce-4ef9-b14b-c3cc411e46de",
   "metadata": {
    "deletable": false,
    "editable": false
   },
   "outputs": [
    {
     "data": {
      "text/html": [
       "<div>\n",
       "<style scoped>\n",
       "    .dataframe tbody tr th:only-of-type {\n",
       "        vertical-align: middle;\n",
       "    }\n",
       "\n",
       "    .dataframe tbody tr th {\n",
       "        vertical-align: top;\n",
       "    }\n",
       "\n",
       "    .dataframe thead th {\n",
       "        text-align: right;\n",
       "    }\n",
       "</style>\n",
       "<table border=\"1\" class=\"dataframe\">\n",
       "  <thead>\n",
       "    <tr style=\"text-align: right;\">\n",
       "      <th></th>\n",
       "      <th>fruit</th>\n",
       "      <th>color</th>\n",
       "      <th>price</th>\n",
       "    </tr>\n",
       "  </thead>\n",
       "  <tbody>\n",
       "    <tr>\n",
       "      <th>0</th>\n",
       "      <td>apple</td>\n",
       "      <td>red</td>\n",
       "      <td>1.00</td>\n",
       "    </tr>\n",
       "    <tr>\n",
       "      <th>1</th>\n",
       "      <td>orange</td>\n",
       "      <td>orange</td>\n",
       "      <td>0.75</td>\n",
       "    </tr>\n",
       "    <tr>\n",
       "      <th>2</th>\n",
       "      <td>banana</td>\n",
       "      <td>yellow</td>\n",
       "      <td>0.35</td>\n",
       "    </tr>\n",
       "  </tbody>\n",
       "</table>\n",
       "</div>"
      ],
      "text/plain": [
       "    fruit   color  price\n",
       "0   apple     red   1.00\n",
       "1  orange  orange   0.75\n",
       "2  banana  yellow   0.35"
      ]
     },
     "execution_count": 35,
     "metadata": {},
     "output_type": "execute_result"
    }
   ],
   "source": [
    "# Get rows 0 through 3 (exclusive) and columns 0 through 3 (exclusive)\n",
    "fruit_info.iloc[0:3, 0:3]"
   ]
  },
  {
   "cell_type": "code",
   "execution_count": 36,
   "id": "2ed442a4-ab85-4f65-9f71-d276f93eac9b",
   "metadata": {
    "deletable": false,
    "editable": false
   },
   "outputs": [
    {
     "data": {
      "text/html": [
       "<div>\n",
       "<style scoped>\n",
       "    .dataframe tbody tr th:only-of-type {\n",
       "        vertical-align: middle;\n",
       "    }\n",
       "\n",
       "    .dataframe tbody tr th {\n",
       "        vertical-align: top;\n",
       "    }\n",
       "\n",
       "    .dataframe thead th {\n",
       "        text-align: right;\n",
       "    }\n",
       "</style>\n",
       "<table border=\"1\" class=\"dataframe\">\n",
       "  <thead>\n",
       "    <tr style=\"text-align: right;\">\n",
       "      <th></th>\n",
       "      <th>fruit</th>\n",
       "      <th>price</th>\n",
       "    </tr>\n",
       "  </thead>\n",
       "  <tbody>\n",
       "    <tr>\n",
       "      <th>0</th>\n",
       "      <td>apple</td>\n",
       "      <td>1.00</td>\n",
       "    </tr>\n",
       "    <tr>\n",
       "      <th>1</th>\n",
       "      <td>orange</td>\n",
       "      <td>0.75</td>\n",
       "    </tr>\n",
       "    <tr>\n",
       "      <th>2</th>\n",
       "      <td>banana</td>\n",
       "      <td>0.35</td>\n",
       "    </tr>\n",
       "  </tbody>\n",
       "</table>\n",
       "</div>"
      ],
      "text/plain": [
       "    fruit  price\n",
       "0   apple   1.00\n",
       "1  orange   0.75\n",
       "2  banana   0.35"
      ]
     },
     "execution_count": 36,
     "metadata": {},
     "output_type": "execute_result"
    }
   ],
   "source": [
    "# Get rows 0 through 3 (exclusive) and columns 0 and 2.\n",
    "fruit_info.iloc[0:3, [0, 2]]"
   ]
  },
  {
   "cell_type": "code",
   "execution_count": 37,
   "id": "34458a33-d5bf-43d7-adb4-ca4e38720ffe",
   "metadata": {
    "deletable": false,
    "editable": false
   },
   "outputs": [
    {
     "data": {
      "text/html": [
       "<div>\n",
       "<style scoped>\n",
       "    .dataframe tbody tr th:only-of-type {\n",
       "        vertical-align: middle;\n",
       "    }\n",
       "\n",
       "    .dataframe tbody tr th {\n",
       "        vertical-align: top;\n",
       "    }\n",
       "\n",
       "    .dataframe thead th {\n",
       "        text-align: right;\n",
       "    }\n",
       "</style>\n",
       "<table border=\"1\" class=\"dataframe\">\n",
       "  <thead>\n",
       "    <tr style=\"text-align: right;\">\n",
       "      <th></th>\n",
       "      <th>fruit</th>\n",
       "      <th>price</th>\n",
       "    </tr>\n",
       "  </thead>\n",
       "  <tbody>\n",
       "    <tr>\n",
       "      <th>0</th>\n",
       "      <td>apple</td>\n",
       "      <td>1.00</td>\n",
       "    </tr>\n",
       "    <tr>\n",
       "      <th>2</th>\n",
       "      <td>banana</td>\n",
       "      <td>0.35</td>\n",
       "    </tr>\n",
       "  </tbody>\n",
       "</table>\n",
       "</div>"
      ],
      "text/plain": [
       "    fruit  price\n",
       "0   apple   1.00\n",
       "2  banana   0.35"
      ]
     },
     "execution_count": 37,
     "metadata": {},
     "output_type": "execute_result"
    }
   ],
   "source": [
    "# Get rows 0 and 2 and columns 0 and 2.\n",
    "fruit_info.iloc[[0, 2], [0, 2]]"
   ]
  },
  {
   "cell_type": "code",
   "execution_count": 38,
   "id": "0d0b55aa-6583-4e95-a223-1039858e1382",
   "metadata": {
    "deletable": false,
    "editable": false
   },
   "outputs": [
    {
     "data": {
      "text/html": [
       "<div>\n",
       "<style scoped>\n",
       "    .dataframe tbody tr th:only-of-type {\n",
       "        vertical-align: middle;\n",
       "    }\n",
       "\n",
       "    .dataframe tbody tr th {\n",
       "        vertical-align: top;\n",
       "    }\n",
       "\n",
       "    .dataframe thead th {\n",
       "        text-align: right;\n",
       "    }\n",
       "</style>\n",
       "<table border=\"1\" class=\"dataframe\">\n",
       "  <thead>\n",
       "    <tr style=\"text-align: right;\">\n",
       "      <th></th>\n",
       "      <th>fruit</th>\n",
       "    </tr>\n",
       "  </thead>\n",
       "  <tbody>\n",
       "    <tr>\n",
       "      <th>0</th>\n",
       "      <td>apple</td>\n",
       "    </tr>\n",
       "    <tr>\n",
       "      <th>2</th>\n",
       "      <td>banana</td>\n",
       "    </tr>\n",
       "  </tbody>\n",
       "</table>\n",
       "</div>"
      ],
      "text/plain": [
       "    fruit\n",
       "0   apple\n",
       "2  banana"
      ]
     },
     "execution_count": 38,
     "metadata": {},
     "output_type": "execute_result"
    }
   ],
   "source": [
    "# Get rows 0 and 2 and column fruit\n",
    "fruit_info.iloc[[0, 2], [0]]"
   ]
  },
  {
   "cell_type": "code",
   "execution_count": 39,
   "id": "d5fabad3-eb8e-44d8-96f6-a2e3120a11b6",
   "metadata": {
    "deletable": false,
    "editable": false
   },
   "outputs": [
    {
     "data": {
      "text/plain": [
       "0     apple\n",
       "2    banana\n",
       "Name: fruit, dtype: object"
      ]
     },
     "execution_count": 39,
     "metadata": {},
     "output_type": "execute_result"
    }
   ],
   "source": [
    "# Get rows 0 and 2 and column fruit\n",
    "fruit_info.iloc[[0, 2], 0]"
   ]
  },
  {
   "cell_type": "markdown",
   "id": "9a6dbbe0-6545-4f96-9ace-995a43104e1b",
   "metadata": {
    "deletable": false,
    "editable": false
   },
   "source": [
    "Note that in these `loc` and `iloc` examples above, the row **label** and row **number** were always the same.\n",
    "\n",
    "Let's see an example where they are different. If we sort our fruits by price, we get:"
   ]
  },
  {
   "cell_type": "code",
   "execution_count": 40,
   "id": "21972e47-97c8-46a7-b378-f4c1070e2887",
   "metadata": {
    "deletable": false,
    "editable": false
   },
   "outputs": [
    {
     "data": {
      "text/html": [
       "<div>\n",
       "<style scoped>\n",
       "    .dataframe tbody tr th:only-of-type {\n",
       "        vertical-align: middle;\n",
       "    }\n",
       "\n",
       "    .dataframe tbody tr th {\n",
       "        vertical-align: top;\n",
       "    }\n",
       "\n",
       "    .dataframe thead th {\n",
       "        text-align: right;\n",
       "    }\n",
       "</style>\n",
       "<table border=\"1\" class=\"dataframe\">\n",
       "  <thead>\n",
       "    <tr style=\"text-align: right;\">\n",
       "      <th></th>\n",
       "      <th>fruit</th>\n",
       "      <th>color</th>\n",
       "      <th>price</th>\n",
       "    </tr>\n",
       "  </thead>\n",
       "  <tbody>\n",
       "    <tr>\n",
       "      <th>3</th>\n",
       "      <td>raspberry</td>\n",
       "      <td>pink</td>\n",
       "      <td>0.05</td>\n",
       "    </tr>\n",
       "    <tr>\n",
       "      <th>2</th>\n",
       "      <td>banana</td>\n",
       "      <td>yellow</td>\n",
       "      <td>0.35</td>\n",
       "    </tr>\n",
       "    <tr>\n",
       "      <th>1</th>\n",
       "      <td>orange</td>\n",
       "      <td>orange</td>\n",
       "      <td>0.75</td>\n",
       "    </tr>\n",
       "    <tr>\n",
       "      <th>0</th>\n",
       "      <td>apple</td>\n",
       "      <td>red</td>\n",
       "      <td>1.00</td>\n",
       "    </tr>\n",
       "  </tbody>\n",
       "</table>\n",
       "</div>"
      ],
      "text/plain": [
       "       fruit   color  price\n",
       "3  raspberry    pink   0.05\n",
       "2     banana  yellow   0.35\n",
       "1     orange  orange   0.75\n",
       "0      apple     red   1.00"
      ]
     },
     "execution_count": 40,
     "metadata": {},
     "output_type": "execute_result"
    }
   ],
   "source": [
    "fruit_info_sorted = fruit_info.sort_values(\"price\")\n",
    "fruit_info_sorted"
   ]
  },
  {
   "cell_type": "markdown",
   "id": "a4f42f1a-75df-4b18-9809-0f85cde83a52",
   "metadata": {
    "deletable": false,
    "editable": false
   },
   "source": [
    "After sorting, note how row number 0 now has index label 3, row number 1 now has index label 2, etc. These indices are the arbitrary numerical indices generated when we created the `DataFrame`. For example, `banana` was originally in row 2, and so it has row label 2. Note the distinction between the index _label_, and the actual index _position_.\n",
    "\n",
    "If we request the rows in positions 0 and 2 using `iloc`, we're indexing using the row NUMBERS, not labels. "
   ]
  },
  {
   "cell_type": "code",
   "execution_count": 41,
   "id": "23ce046a-cec5-4e50-bbcc-2a3deadb2ea3",
   "metadata": {
    "deletable": false,
    "editable": false
   },
   "outputs": [
    {
     "data": {
      "text/plain": [
       "3    raspberry\n",
       "1       orange\n",
       "Name: fruit, dtype: object"
      ]
     },
     "execution_count": 41,
     "metadata": {},
     "output_type": "execute_result"
    }
   ],
   "source": [
    "fruit_info_sorted.iloc[[0, 2], 0]"
   ]
  },
  {
   "cell_type": "markdown",
   "id": "56d3e2eb-9660-4b95-aac9-33aa09a7e3dd",
   "metadata": {
    "deletable": false,
    "editable": false
   },
   "source": [
    "Lastly, similar to `loc`, the second argument to `iloc` is optional. That is, if you provide only one argument to `iloc`, it treats the argument you provide as a set of desired row numbers, not column numbers."
   ]
  },
  {
   "cell_type": "code",
   "execution_count": 42,
   "id": "1bf8fd20-704a-4be8-9634-16ca8935d988",
   "metadata": {
    "deletable": false,
    "editable": false
   },
   "outputs": [
    {
     "data": {
      "text/html": [
       "<div>\n",
       "<style scoped>\n",
       "    .dataframe tbody tr th:only-of-type {\n",
       "        vertical-align: middle;\n",
       "    }\n",
       "\n",
       "    .dataframe tbody tr th {\n",
       "        vertical-align: top;\n",
       "    }\n",
       "\n",
       "    .dataframe thead th {\n",
       "        text-align: right;\n",
       "    }\n",
       "</style>\n",
       "<table border=\"1\" class=\"dataframe\">\n",
       "  <thead>\n",
       "    <tr style=\"text-align: right;\">\n",
       "      <th></th>\n",
       "      <th>fruit</th>\n",
       "      <th>color</th>\n",
       "      <th>price</th>\n",
       "    </tr>\n",
       "  </thead>\n",
       "  <tbody>\n",
       "    <tr>\n",
       "      <th>3</th>\n",
       "      <td>raspberry</td>\n",
       "      <td>pink</td>\n",
       "      <td>0.05</td>\n",
       "    </tr>\n",
       "    <tr>\n",
       "      <th>1</th>\n",
       "      <td>orange</td>\n",
       "      <td>orange</td>\n",
       "      <td>0.75</td>\n",
       "    </tr>\n",
       "  </tbody>\n",
       "</table>\n",
       "</div>"
      ],
      "text/plain": [
       "       fruit   color  price\n",
       "3  raspberry    pink   0.05\n",
       "1     orange  orange   0.75"
      ]
     },
     "execution_count": 42,
     "metadata": {},
     "output_type": "execute_result"
    }
   ],
   "source": [
    "fruit_info_sorted.iloc[[0, 2]]"
   ]
  },
  {
   "cell_type": "markdown",
   "id": "b6f0c684-4e7e-476a-8ca7-1b57762c28d8",
   "metadata": {
    "deletable": false,
    "editable": false
   },
   "source": [
    "<br>\n",
    "\n",
    "---\n",
    "\n",
    "### **Approach 3** `[]` Notation\n",
    "\n",
    "`pandas` also supports the `[]` operator. It's similar to `loc` in that it lets you access rows and columns by their name.\n",
    "\n",
    "However, unlike `loc`, which takes row names and also optionally column names, `[]` is more flexible. If you provide it only row names, it'll give you rows (same behavior as `loc`), and if you provide it with only column names, it'll give you columns (whereas `loc` will crash).\n",
    "\n",
    "Some examples:"
   ]
  },
  {
   "cell_type": "code",
   "execution_count": 43,
   "id": "2f063e74-fff8-4b02-aa67-bb76e3c6d2b3",
   "metadata": {
    "deletable": false,
    "editable": false
   },
   "outputs": [
    {
     "data": {
      "text/html": [
       "<div>\n",
       "<style scoped>\n",
       "    .dataframe tbody tr th:only-of-type {\n",
       "        vertical-align: middle;\n",
       "    }\n",
       "\n",
       "    .dataframe tbody tr th {\n",
       "        vertical-align: top;\n",
       "    }\n",
       "\n",
       "    .dataframe thead th {\n",
       "        text-align: right;\n",
       "    }\n",
       "</style>\n",
       "<table border=\"1\" class=\"dataframe\">\n",
       "  <thead>\n",
       "    <tr style=\"text-align: right;\">\n",
       "      <th></th>\n",
       "      <th>fruit</th>\n",
       "      <th>color</th>\n",
       "      <th>price</th>\n",
       "    </tr>\n",
       "  </thead>\n",
       "  <tbody>\n",
       "    <tr>\n",
       "      <th>0</th>\n",
       "      <td>apple</td>\n",
       "      <td>red</td>\n",
       "      <td>1.00</td>\n",
       "    </tr>\n",
       "    <tr>\n",
       "      <th>1</th>\n",
       "      <td>orange</td>\n",
       "      <td>orange</td>\n",
       "      <td>0.75</td>\n",
       "    </tr>\n",
       "  </tbody>\n",
       "</table>\n",
       "</div>"
      ],
      "text/plain": [
       "    fruit   color  price\n",
       "0   apple     red   1.00\n",
       "1  orange  orange   0.75"
      ]
     },
     "execution_count": 43,
     "metadata": {},
     "output_type": "execute_result"
    }
   ],
   "source": [
    "fruit_info[0:2]"
   ]
  },
  {
   "cell_type": "code",
   "execution_count": 44,
   "id": "999b0abe-f86b-43e1-892f-5639b865f8ac",
   "metadata": {
    "deletable": false,
    "editable": false
   },
   "outputs": [
    {
     "data": {
      "text/html": [
       "<div>\n",
       "<style scoped>\n",
       "    .dataframe tbody tr th:only-of-type {\n",
       "        vertical-align: middle;\n",
       "    }\n",
       "\n",
       "    .dataframe tbody tr th {\n",
       "        vertical-align: top;\n",
       "    }\n",
       "\n",
       "    .dataframe thead th {\n",
       "        text-align: right;\n",
       "    }\n",
       "</style>\n",
       "<table border=\"1\" class=\"dataframe\">\n",
       "  <thead>\n",
       "    <tr style=\"text-align: right;\">\n",
       "      <th></th>\n",
       "      <th>fruit</th>\n",
       "      <th>color</th>\n",
       "      <th>price</th>\n",
       "    </tr>\n",
       "  </thead>\n",
       "  <tbody>\n",
       "    <tr>\n",
       "      <th>0</th>\n",
       "      <td>apple</td>\n",
       "      <td>red</td>\n",
       "      <td>1.00</td>\n",
       "    </tr>\n",
       "    <tr>\n",
       "      <th>1</th>\n",
       "      <td>orange</td>\n",
       "      <td>orange</td>\n",
       "      <td>0.75</td>\n",
       "    </tr>\n",
       "    <tr>\n",
       "      <th>2</th>\n",
       "      <td>banana</td>\n",
       "      <td>yellow</td>\n",
       "      <td>0.35</td>\n",
       "    </tr>\n",
       "    <tr>\n",
       "      <th>3</th>\n",
       "      <td>raspberry</td>\n",
       "      <td>pink</td>\n",
       "      <td>0.05</td>\n",
       "    </tr>\n",
       "  </tbody>\n",
       "</table>\n",
       "</div>"
      ],
      "text/plain": [
       "       fruit   color  price\n",
       "0      apple     red   1.00\n",
       "1     orange  orange   0.75\n",
       "2     banana  yellow   0.35\n",
       "3  raspberry    pink   0.05"
      ]
     },
     "execution_count": 44,
     "metadata": {},
     "output_type": "execute_result"
    }
   ],
   "source": [
    "# Here we're providing a list of fruits as single argument to []\n",
    "fruit_info[[\"fruit\", \"color\", \"price\"]]"
   ]
  },
  {
   "cell_type": "markdown",
   "id": "7694c9c5-d680-4124-9f0e-167287133cf6",
   "metadata": {
    "deletable": false,
    "editable": false
   },
   "source": [
    "Note that slicing notation is not supported for columns if you use `[]` notation. Use `loc` instead."
   ]
  },
  {
   "cell_type": "code",
   "execution_count": 45,
   "id": "937e56fe-60e5-4b50-8ed7-92727cb8abd0",
   "metadata": {
    "deletable": false,
    "editable": false
   },
   "outputs": [
    {
     "data": {
      "text/html": [
       "<div>\n",
       "<style scoped>\n",
       "    .dataframe tbody tr th:only-of-type {\n",
       "        vertical-align: middle;\n",
       "    }\n",
       "\n",
       "    .dataframe tbody tr th {\n",
       "        vertical-align: top;\n",
       "    }\n",
       "\n",
       "    .dataframe thead th {\n",
       "        text-align: right;\n",
       "    }\n",
       "</style>\n",
       "<table border=\"1\" class=\"dataframe\">\n",
       "  <thead>\n",
       "    <tr style=\"text-align: right;\">\n",
       "      <th></th>\n",
       "      <th>fruit</th>\n",
       "      <th>color</th>\n",
       "      <th>price</th>\n",
       "    </tr>\n",
       "  </thead>\n",
       "  <tbody>\n",
       "    <tr>\n",
       "      <th>0</th>\n",
       "      <td>apple</td>\n",
       "      <td>red</td>\n",
       "      <td>1.00</td>\n",
       "    </tr>\n",
       "    <tr>\n",
       "      <th>1</th>\n",
       "      <td>orange</td>\n",
       "      <td>orange</td>\n",
       "      <td>0.75</td>\n",
       "    </tr>\n",
       "    <tr>\n",
       "      <th>2</th>\n",
       "      <td>banana</td>\n",
       "      <td>yellow</td>\n",
       "      <td>0.35</td>\n",
       "    </tr>\n",
       "    <tr>\n",
       "      <th>3</th>\n",
       "      <td>raspberry</td>\n",
       "      <td>pink</td>\n",
       "      <td>0.05</td>\n",
       "    </tr>\n",
       "  </tbody>\n",
       "</table>\n",
       "</div>"
      ],
      "text/plain": [
       "       fruit   color  price\n",
       "0      apple     red   1.00\n",
       "1     orange  orange   0.75\n",
       "2     banana  yellow   0.35\n",
       "3  raspberry    pink   0.05"
      ]
     },
     "execution_count": 45,
     "metadata": {},
     "output_type": "execute_result"
    }
   ],
   "source": [
    "# Uncomment and this code crashes\n",
    "#fruit_info[\"fruit\":\"price\"]\n",
    "\n",
    "# Uncomment and this works fine\n",
    "fruit_info.loc[:, \"fruit\":\"price\"]"
   ]
  },
  {
   "cell_type": "markdown",
   "id": "de2a3612-aae5-4488-98e7-a89b3f3c1076",
   "metadata": {
    "deletable": false,
    "editable": false
   },
   "source": [
    "`[]` and `loc` are quite similar. For example, the following two pieces of code are functionally equivalent for selecting the fruit and price columns.\n",
    "\n",
    "1. `fruit_info[[\"fruit\", \"price\"]]` \n",
    "2. `fruit_info.loc[:, [\"fruit\", \"price\"]]`.\n",
    "\n",
    "Because it yields more concise code, you'll find that our code and your code both tend to feature `[]`. However, there are some subtle pitfalls of using `[]`. If you're ever having performance issues, weird behavior, or you see a `SettingWithCopyWarning` in `pandas`, switch from `[]` to `loc`, and this may help.\n",
    "\n",
    "To avoid getting too bogged down in indexing syntax, we'll avoid a more thorough discussion of `[]` and `loc`. We may return to this at a later point in the course.\n",
    "\n",
    "For more on `[]` vs. `loc`, you may optionally try reading:\n",
    "1. https://stackoverflow.com/questions/48409128/what-is-the-difference-between-using-loc-and-using-just-square-brackets-to-filte\n",
    "2. https://stackoverflow.com/questions/38886080/python-pandas-series-why-use-loc/65875826#65875826\n",
    "3. https://stackoverflow.com/questions/20625582/how-to-deal-with-settingwithcopywarning-in-pandas/53954986#53954986"
   ]
  },
  {
   "cell_type": "markdown",
   "id": "6dbd37ae",
   "metadata": {
    "deletable": false,
    "editable": false
   },
   "source": [
    "## Q3 - Pandas \n",
    "\n",
    "Pandas Resources:\n",
    "* https://pandas.pydata.org/\n",
    "* https://pandas.pydata.org/pandas-docs/stable/generated/pandas.read_csv.html\n",
    "\n",
    "We are going to be using the Abalone data set.  This is part of the UCI Machine Learning repository.  A common place to find data sets to test out code and used in learning about machine learning and data science. \n",
    "\n",
    "I have already downloaded the data from https://archive.ics.uci.edu/dataset/1/abalone\n",
    " \n",
    "In the next cell, you will modify the code to read in the `abalone.data` file properly.  Use the following names for the columns:  \n",
    "`sex`, `len`, `diam`, `hgt`, `wh_wgt`, `shuck_wgt`, `vis_wgt`, `sh_wgt`, `rings`\n",
    "\n",
    "*HINT:* You will need to look at using additional parameters for the [`read_csv`](https://pandas.pydata.org/pandas-docs/stable/generated/pandas.read_csv.html) function. It will be helpful to look at the documentation on `read_csv`   \n",
    "https://pandas.pydata.org/pandas-docs/stable/reference/api/pandas.read_csv.html\n",
    "\n"
   ]
  },
  {
   "cell_type": "code",
   "execution_count": 46,
   "id": "4d8ed05d",
   "metadata": {
    "tags": []
   },
   "outputs": [
    {
     "data": {
      "text/html": [
       "<div>\n",
       "<style scoped>\n",
       "    .dataframe tbody tr th:only-of-type {\n",
       "        vertical-align: middle;\n",
       "    }\n",
       "\n",
       "    .dataframe tbody tr th {\n",
       "        vertical-align: top;\n",
       "    }\n",
       "\n",
       "    .dataframe thead th {\n",
       "        text-align: right;\n",
       "    }\n",
       "</style>\n",
       "<table border=\"1\" class=\"dataframe\">\n",
       "  <thead>\n",
       "    <tr style=\"text-align: right;\">\n",
       "      <th></th>\n",
       "      <th>sex</th>\n",
       "      <th>len</th>\n",
       "      <th>diam</th>\n",
       "      <th>hgt</th>\n",
       "      <th>wh_wgt</th>\n",
       "      <th>shuck_wgt</th>\n",
       "      <th>vis_wgt</th>\n",
       "      <th>sh_wgt</th>\n",
       "      <th>rings</th>\n",
       "    </tr>\n",
       "  </thead>\n",
       "  <tbody>\n",
       "    <tr>\n",
       "      <th>0</th>\n",
       "      <td>M</td>\n",
       "      <td>0.455</td>\n",
       "      <td>0.365</td>\n",
       "      <td>0.095</td>\n",
       "      <td>0.5140</td>\n",
       "      <td>0.2245</td>\n",
       "      <td>0.1010</td>\n",
       "      <td>0.150</td>\n",
       "      <td>15</td>\n",
       "    </tr>\n",
       "    <tr>\n",
       "      <th>1</th>\n",
       "      <td>M</td>\n",
       "      <td>0.350</td>\n",
       "      <td>0.265</td>\n",
       "      <td>0.090</td>\n",
       "      <td>0.2255</td>\n",
       "      <td>0.0995</td>\n",
       "      <td>0.0485</td>\n",
       "      <td>0.070</td>\n",
       "      <td>7</td>\n",
       "    </tr>\n",
       "    <tr>\n",
       "      <th>2</th>\n",
       "      <td>F</td>\n",
       "      <td>0.530</td>\n",
       "      <td>0.420</td>\n",
       "      <td>0.135</td>\n",
       "      <td>0.6770</td>\n",
       "      <td>0.2565</td>\n",
       "      <td>0.1415</td>\n",
       "      <td>0.210</td>\n",
       "      <td>9</td>\n",
       "    </tr>\n",
       "    <tr>\n",
       "      <th>3</th>\n",
       "      <td>M</td>\n",
       "      <td>0.440</td>\n",
       "      <td>0.365</td>\n",
       "      <td>0.125</td>\n",
       "      <td>0.5160</td>\n",
       "      <td>0.2155</td>\n",
       "      <td>0.1140</td>\n",
       "      <td>0.155</td>\n",
       "      <td>10</td>\n",
       "    </tr>\n",
       "    <tr>\n",
       "      <th>4</th>\n",
       "      <td>I</td>\n",
       "      <td>0.330</td>\n",
       "      <td>0.255</td>\n",
       "      <td>0.080</td>\n",
       "      <td>0.2050</td>\n",
       "      <td>0.0895</td>\n",
       "      <td>0.0395</td>\n",
       "      <td>0.055</td>\n",
       "      <td>7</td>\n",
       "    </tr>\n",
       "  </tbody>\n",
       "</table>\n",
       "</div>"
      ],
      "text/plain": [
       "  sex    len   diam    hgt  wh_wgt  shuck_wgt  vis_wgt  sh_wgt  rings\n",
       "0   M  0.455  0.365  0.095  0.5140     0.2245   0.1010   0.150     15\n",
       "1   M  0.350  0.265  0.090  0.2255     0.0995   0.0485   0.070      7\n",
       "2   F  0.530  0.420  0.135  0.6770     0.2565   0.1415   0.210      9\n",
       "3   M  0.440  0.365  0.125  0.5160     0.2155   0.1140   0.155     10\n",
       "4   I  0.330  0.255  0.080  0.2050     0.0895   0.0395   0.055      7"
      ]
     },
     "execution_count": 46,
     "metadata": {},
     "output_type": "execute_result"
    }
   ],
   "source": [
    "colNames = ['sex','len','diam','hgt','wh_wgt','shuck_wgt','vis_wgt','sh_wgt','rings']\n",
    "df = pd.read_csv(\"./data/abalone.data\", sep=',', header = None, names = colNames)  # modify this code to properly read the data\n",
    "# specify the column names using the information above as an argument to the \n",
    "# read_csv function\n",
    "\n",
    "df.head()"
   ]
  },
  {
   "cell_type": "code",
   "execution_count": 47,
   "id": "b78b0feb",
   "metadata": {
    "deletable": false,
    "editable": false
   },
   "outputs": [
    {
     "data": {
      "text/html": [
       "<p><strong><pre style='display: inline;'>q3</pre></strong> passed! 💯</p>"
      ],
      "text/plain": [
       "q3 results: All test cases passed!"
      ]
     },
     "execution_count": 47,
     "metadata": {},
     "output_type": "execute_result"
    }
   ],
   "source": [
    "grader.check(\"q3\")"
   ]
  },
  {
   "cell_type": "markdown",
   "id": "3621d8d4",
   "metadata": {
    "deletable": false,
    "editable": false
   },
   "source": [
    "## Q4 - Pandas \n",
    "\n",
    "Here you will explore properties of the DataFrame and its attributes."
   ]
  },
  {
   "cell_type": "code",
   "execution_count": 48,
   "id": "378aa5a8",
   "metadata": {
    "tags": []
   },
   "outputs": [
    {
     "name": "stdout",
     "output_type": "stream",
     "text": [
      "No of rows: 4177\n",
      "No of columns: 9\n"
     ]
    },
    {
     "data": {
      "text/plain": [
       "Index(['sex', 'len', 'diam', 'hgt', 'wh_wgt', 'shuck_wgt', 'vis_wgt', 'sh_wgt',\n",
       "       'rings'],\n",
       "      dtype='object')"
      ]
     },
     "execution_count": 48,
     "metadata": {},
     "output_type": "execute_result"
    }
   ],
   "source": [
    "# Determine the number of rows and columns of the data set \n",
    "rows = len(df) #finds number of rows in dataframe\n",
    "columns = len(df.columns) #finds length of columns for the dataframe\n",
    "\n",
    "# Determine what are the column names \n",
    "dfColumnNames = df.columns\n",
    "\n",
    "print(f'No of rows: {rows}')\n",
    "print(f'No of columns: {columns}')\n",
    "dfColumnNames"
   ]
  },
  {
   "cell_type": "code",
   "execution_count": 49,
   "id": "8b6eb882",
   "metadata": {
    "deletable": false,
    "editable": false
   },
   "outputs": [
    {
     "data": {
      "text/html": [
       "<p><strong><pre style='display: inline;'>q4</pre></strong> passed! 💯</p>"
      ],
      "text/plain": [
       "q4 results: All test cases passed!"
      ]
     },
     "execution_count": 49,
     "metadata": {},
     "output_type": "execute_result"
    }
   ],
   "source": [
    "grader.check(\"q4\")"
   ]
  },
  {
   "cell_type": "markdown",
   "id": "74566075",
   "metadata": {
    "deletable": false,
    "editable": false
   },
   "source": [
    "## Q5 - Pandas \n",
    "\n",
    "Show the first 4 rows of the DataFrame.\n",
    "\n",
    "Show the last 7 rows of the DataFrame."
   ]
  },
  {
   "cell_type": "code",
   "execution_count": 50,
   "id": "42dfa5b9",
   "metadata": {
    "tags": []
   },
   "outputs": [
    {
     "name": "stdout",
     "output_type": "stream",
     "text": [
      "  sex    len   diam    hgt  wh_wgt  shuck_wgt  vis_wgt  sh_wgt  rings\n",
      "0   M  0.455  0.365  0.095  0.5140     0.2245   0.1010   0.150     15\n",
      "1   M  0.350  0.265  0.090  0.2255     0.0995   0.0485   0.070      7\n",
      "2   F  0.530  0.420  0.135  0.6770     0.2565   0.1415   0.210      9\n",
      "3   M  0.440  0.365  0.125  0.5160     0.2155   0.1140   0.155     10\n",
      "     sex    len   diam    hgt  wh_wgt  shuck_wgt  vis_wgt  sh_wgt  rings\n",
      "4170   M  0.550  0.430  0.130  0.8395     0.3155   0.1955  0.2405     10\n",
      "4171   M  0.560  0.430  0.155  0.8675     0.4000   0.1720  0.2290      8\n",
      "4172   F  0.565  0.450  0.165  0.8870     0.3700   0.2390  0.2490     11\n",
      "4173   M  0.590  0.440  0.135  0.9660     0.4390   0.2145  0.2605     10\n",
      "4174   M  0.600  0.475  0.205  1.1760     0.5255   0.2875  0.3080      9\n",
      "4175   F  0.625  0.485  0.150  1.0945     0.5310   0.2610  0.2960     10\n",
      "4176   M  0.710  0.555  0.195  1.9485     0.9455   0.3765  0.4950     12\n"
     ]
    }
   ],
   "source": [
    "first_4_rows = df.head(4)\n",
    "last_7_rows = df.tail(7)\n",
    "print(first_4_rows)\n",
    "print(last_7_rows)"
   ]
  },
  {
   "cell_type": "code",
   "execution_count": 51,
   "id": "33d0683e",
   "metadata": {
    "deletable": false,
    "editable": false
   },
   "outputs": [
    {
     "data": {
      "text/html": [
       "<p><strong><pre style='display: inline;'>q5</pre></strong> passed! 🌈</p>"
      ],
      "text/plain": [
       "q5 results: All test cases passed!"
      ]
     },
     "execution_count": 51,
     "metadata": {},
     "output_type": "execute_result"
    }
   ],
   "source": [
    "grader.check(\"q5\")"
   ]
  },
  {
   "cell_type": "markdown",
   "id": "9ab2463f",
   "metadata": {
    "deletable": false,
    "editable": false
   },
   "source": [
    "## Q6 - Pandas \n",
    "\n",
    "Practice selecting different parts of the DataFrame\n",
    "\n",
    "Select the `sh_wgt` column"
   ]
  },
  {
   "cell_type": "markdown",
   "id": "d692afa7",
   "metadata": {
    "deletable": false,
    "editable": false
   },
   "source": [
    "Then, select both the `diam` and `vis_wgt` columns and only the first eight rows."
   ]
  },
  {
   "cell_type": "code",
   "execution_count": 52,
   "id": "772f79fe",
   "metadata": {
    "tags": []
   },
   "outputs": [
    {
     "data": {
      "text/plain": [
       "0       0.1500\n",
       "1       0.0700\n",
       "2       0.2100\n",
       "3       0.1550\n",
       "4       0.0550\n",
       "         ...  \n",
       "4172    0.2490\n",
       "4173    0.2605\n",
       "4174    0.3080\n",
       "4175    0.2960\n",
       "4176    0.4950\n",
       "Name: sh_wgt, Length: 4177, dtype: float64"
      ]
     },
     "execution_count": 52,
     "metadata": {},
     "output_type": "execute_result"
    }
   ],
   "source": [
    "# select just the sh_wgt column \n",
    "shell_wgt = df['sh_wgt']\n",
    "shell_wgt"
   ]
  },
  {
   "cell_type": "code",
   "execution_count": 53,
   "id": "9547b5ad",
   "metadata": {
    "tags": []
   },
   "outputs": [
    {
     "data": {
      "text/html": [
       "<div>\n",
       "<style scoped>\n",
       "    .dataframe tbody tr th:only-of-type {\n",
       "        vertical-align: middle;\n",
       "    }\n",
       "\n",
       "    .dataframe tbody tr th {\n",
       "        vertical-align: top;\n",
       "    }\n",
       "\n",
       "    .dataframe thead th {\n",
       "        text-align: right;\n",
       "    }\n",
       "</style>\n",
       "<table border=\"1\" class=\"dataframe\">\n",
       "  <thead>\n",
       "    <tr style=\"text-align: right;\">\n",
       "      <th></th>\n",
       "      <th>diam</th>\n",
       "      <th>vis_wgt</th>\n",
       "    </tr>\n",
       "  </thead>\n",
       "  <tbody>\n",
       "    <tr>\n",
       "      <th>0</th>\n",
       "      <td>0.365</td>\n",
       "      <td>0.1010</td>\n",
       "    </tr>\n",
       "    <tr>\n",
       "      <th>1</th>\n",
       "      <td>0.265</td>\n",
       "      <td>0.0485</td>\n",
       "    </tr>\n",
       "    <tr>\n",
       "      <th>2</th>\n",
       "      <td>0.420</td>\n",
       "      <td>0.1415</td>\n",
       "    </tr>\n",
       "    <tr>\n",
       "      <th>3</th>\n",
       "      <td>0.365</td>\n",
       "      <td>0.1140</td>\n",
       "    </tr>\n",
       "    <tr>\n",
       "      <th>4</th>\n",
       "      <td>0.255</td>\n",
       "      <td>0.0395</td>\n",
       "    </tr>\n",
       "    <tr>\n",
       "      <th>...</th>\n",
       "      <td>...</td>\n",
       "      <td>...</td>\n",
       "    </tr>\n",
       "    <tr>\n",
       "      <th>4172</th>\n",
       "      <td>0.450</td>\n",
       "      <td>0.2390</td>\n",
       "    </tr>\n",
       "    <tr>\n",
       "      <th>4173</th>\n",
       "      <td>0.440</td>\n",
       "      <td>0.2145</td>\n",
       "    </tr>\n",
       "    <tr>\n",
       "      <th>4174</th>\n",
       "      <td>0.475</td>\n",
       "      <td>0.2875</td>\n",
       "    </tr>\n",
       "    <tr>\n",
       "      <th>4175</th>\n",
       "      <td>0.485</td>\n",
       "      <td>0.2610</td>\n",
       "    </tr>\n",
       "    <tr>\n",
       "      <th>4176</th>\n",
       "      <td>0.555</td>\n",
       "      <td>0.3765</td>\n",
       "    </tr>\n",
       "  </tbody>\n",
       "</table>\n",
       "<p>4177 rows × 2 columns</p>\n",
       "</div>"
      ],
      "text/plain": [
       "       diam  vis_wgt\n",
       "0     0.365   0.1010\n",
       "1     0.265   0.0485\n",
       "2     0.420   0.1415\n",
       "3     0.365   0.1140\n",
       "4     0.255   0.0395\n",
       "...     ...      ...\n",
       "4172  0.450   0.2390\n",
       "4173  0.440   0.2145\n",
       "4174  0.475   0.2875\n",
       "4175  0.485   0.2610\n",
       "4176  0.555   0.3765\n",
       "\n",
       "[4177 rows x 2 columns]"
      ]
     },
     "execution_count": 53,
     "metadata": {},
     "output_type": "execute_result"
    }
   ],
   "source": [
    "diam_vis_wgt = df[['diam','vis_wgt']]\n",
    "diam_vis_wgt"
   ]
  },
  {
   "cell_type": "code",
   "execution_count": 54,
   "id": "59e271a9",
   "metadata": {
    "deletable": false,
    "editable": false
   },
   "outputs": [
    {
     "data": {
      "text/html": [
       "<p><strong><pre style='display: inline;'>q6</pre></strong> passed! ✨</p>"
      ],
      "text/plain": [
       "q6 results: All test cases passed!"
      ]
     },
     "execution_count": 54,
     "metadata": {},
     "output_type": "execute_result"
    }
   ],
   "source": [
    "grader.check(\"q6\")"
   ]
  },
  {
   "cell_type": "markdown",
   "id": "bab9d1e8",
   "metadata": {
    "deletable": false,
    "editable": false
   },
   "source": [
    "## Q7 - Pandas \n",
    "\n",
    "Select the following using the `.iloc` function: \n",
    "* `index_6` - row with index=5, the 6th row, of the DataFrame \n",
    "* `row_5_7` - the 5th and 7th row of the DataFrame, and \n",
    "* `ansC` - every other row and every third column starting from the 2nd row and 3rd column\n",
    "\n"
   ]
  },
  {
   "cell_type": "code",
   "execution_count": 55,
   "id": "b9b34d8b-3462-4b62-a2f0-5bdc4a61e463",
   "metadata": {},
   "outputs": [
    {
     "data": {
      "text/html": [
       "<div>\n",
       "<style scoped>\n",
       "    .dataframe tbody tr th:only-of-type {\n",
       "        vertical-align: middle;\n",
       "    }\n",
       "\n",
       "    .dataframe tbody tr th {\n",
       "        vertical-align: top;\n",
       "    }\n",
       "\n",
       "    .dataframe thead th {\n",
       "        text-align: right;\n",
       "    }\n",
       "</style>\n",
       "<table border=\"1\" class=\"dataframe\">\n",
       "  <thead>\n",
       "    <tr style=\"text-align: right;\">\n",
       "      <th></th>\n",
       "      <th>sex</th>\n",
       "      <th>len</th>\n",
       "      <th>diam</th>\n",
       "      <th>hgt</th>\n",
       "      <th>wh_wgt</th>\n",
       "      <th>shuck_wgt</th>\n",
       "      <th>vis_wgt</th>\n",
       "      <th>sh_wgt</th>\n",
       "      <th>rings</th>\n",
       "    </tr>\n",
       "  </thead>\n",
       "  <tbody>\n",
       "    <tr>\n",
       "      <th>0</th>\n",
       "      <td>M</td>\n",
       "      <td>0.455</td>\n",
       "      <td>0.365</td>\n",
       "      <td>0.095</td>\n",
       "      <td>0.5140</td>\n",
       "      <td>0.2245</td>\n",
       "      <td>0.1010</td>\n",
       "      <td>0.150</td>\n",
       "      <td>15</td>\n",
       "    </tr>\n",
       "    <tr>\n",
       "      <th>1</th>\n",
       "      <td>M</td>\n",
       "      <td>0.350</td>\n",
       "      <td>0.265</td>\n",
       "      <td>0.090</td>\n",
       "      <td>0.2255</td>\n",
       "      <td>0.0995</td>\n",
       "      <td>0.0485</td>\n",
       "      <td>0.070</td>\n",
       "      <td>7</td>\n",
       "    </tr>\n",
       "    <tr>\n",
       "      <th>2</th>\n",
       "      <td>F</td>\n",
       "      <td>0.530</td>\n",
       "      <td>0.420</td>\n",
       "      <td>0.135</td>\n",
       "      <td>0.6770</td>\n",
       "      <td>0.2565</td>\n",
       "      <td>0.1415</td>\n",
       "      <td>0.210</td>\n",
       "      <td>9</td>\n",
       "    </tr>\n",
       "    <tr>\n",
       "      <th>3</th>\n",
       "      <td>M</td>\n",
       "      <td>0.440</td>\n",
       "      <td>0.365</td>\n",
       "      <td>0.125</td>\n",
       "      <td>0.5160</td>\n",
       "      <td>0.2155</td>\n",
       "      <td>0.1140</td>\n",
       "      <td>0.155</td>\n",
       "      <td>10</td>\n",
       "    </tr>\n",
       "    <tr>\n",
       "      <th>4</th>\n",
       "      <td>I</td>\n",
       "      <td>0.330</td>\n",
       "      <td>0.255</td>\n",
       "      <td>0.080</td>\n",
       "      <td>0.2050</td>\n",
       "      <td>0.0895</td>\n",
       "      <td>0.0395</td>\n",
       "      <td>0.055</td>\n",
       "      <td>7</td>\n",
       "    </tr>\n",
       "    <tr>\n",
       "      <th>5</th>\n",
       "      <td>I</td>\n",
       "      <td>0.425</td>\n",
       "      <td>0.300</td>\n",
       "      <td>0.095</td>\n",
       "      <td>0.3515</td>\n",
       "      <td>0.1410</td>\n",
       "      <td>0.0775</td>\n",
       "      <td>0.120</td>\n",
       "      <td>8</td>\n",
       "    </tr>\n",
       "  </tbody>\n",
       "</table>\n",
       "</div>"
      ],
      "text/plain": [
       "  sex    len   diam    hgt  wh_wgt  shuck_wgt  vis_wgt  sh_wgt  rings\n",
       "0   M  0.455  0.365  0.095  0.5140     0.2245   0.1010   0.150     15\n",
       "1   M  0.350  0.265  0.090  0.2255     0.0995   0.0485   0.070      7\n",
       "2   F  0.530  0.420  0.135  0.6770     0.2565   0.1415   0.210      9\n",
       "3   M  0.440  0.365  0.125  0.5160     0.2155   0.1140   0.155     10\n",
       "4   I  0.330  0.255  0.080  0.2050     0.0895   0.0395   0.055      7\n",
       "5   I  0.425  0.300  0.095  0.3515     0.1410   0.0775   0.120      8"
      ]
     },
     "execution_count": 55,
     "metadata": {},
     "output_type": "execute_result"
    }
   ],
   "source": [
    "df.head(6)"
   ]
  },
  {
   "cell_type": "code",
   "execution_count": 56,
   "id": "77fd1996",
   "metadata": {
    "id": "ORzleLAFxv8z",
    "tags": []
   },
   "outputs": [
    {
     "data": {
      "text/plain": [
       "sex               I\n",
       "len           0.425\n",
       "diam            0.3\n",
       "hgt           0.095\n",
       "wh_wgt       0.3515\n",
       "shuck_wgt     0.141\n",
       "vis_wgt      0.0775\n",
       "sh_wgt         0.12\n",
       "rings             8\n",
       "Name: 5, dtype: object"
      ]
     },
     "execution_count": 56,
     "metadata": {},
     "output_type": "execute_result"
    }
   ],
   "source": [
    "index_6 = df.iloc[5]\n",
    "index_6"
   ]
  },
  {
   "cell_type": "code",
   "execution_count": 57,
   "id": "51d90fbb",
   "metadata": {
    "id": "QhZxAfjEx7WZ",
    "tags": []
   },
   "outputs": [
    {
     "data": {
      "text/html": [
       "<div>\n",
       "<style scoped>\n",
       "    .dataframe tbody tr th:only-of-type {\n",
       "        vertical-align: middle;\n",
       "    }\n",
       "\n",
       "    .dataframe tbody tr th {\n",
       "        vertical-align: top;\n",
       "    }\n",
       "\n",
       "    .dataframe thead th {\n",
       "        text-align: right;\n",
       "    }\n",
       "</style>\n",
       "<table border=\"1\" class=\"dataframe\">\n",
       "  <thead>\n",
       "    <tr style=\"text-align: right;\">\n",
       "      <th></th>\n",
       "      <th>sex</th>\n",
       "      <th>len</th>\n",
       "      <th>diam</th>\n",
       "      <th>hgt</th>\n",
       "      <th>wh_wgt</th>\n",
       "      <th>shuck_wgt</th>\n",
       "      <th>vis_wgt</th>\n",
       "      <th>sh_wgt</th>\n",
       "      <th>rings</th>\n",
       "    </tr>\n",
       "  </thead>\n",
       "  <tbody>\n",
       "    <tr>\n",
       "      <th>5</th>\n",
       "      <td>I</td>\n",
       "      <td>0.425</td>\n",
       "      <td>0.300</td>\n",
       "      <td>0.095</td>\n",
       "      <td>0.3515</td>\n",
       "      <td>0.141</td>\n",
       "      <td>0.0775</td>\n",
       "      <td>0.12</td>\n",
       "      <td>8</td>\n",
       "    </tr>\n",
       "    <tr>\n",
       "      <th>6</th>\n",
       "      <td>F</td>\n",
       "      <td>0.530</td>\n",
       "      <td>0.415</td>\n",
       "      <td>0.150</td>\n",
       "      <td>0.7775</td>\n",
       "      <td>0.237</td>\n",
       "      <td>0.1415</td>\n",
       "      <td>0.33</td>\n",
       "      <td>20</td>\n",
       "    </tr>\n",
       "  </tbody>\n",
       "</table>\n",
       "</div>"
      ],
      "text/plain": [
       "  sex    len   diam    hgt  wh_wgt  shuck_wgt  vis_wgt  sh_wgt  rings\n",
       "5   I  0.425  0.300  0.095  0.3515      0.141   0.0775    0.12      8\n",
       "6   F  0.530  0.415  0.150  0.7775      0.237   0.1415    0.33     20"
      ]
     },
     "execution_count": 57,
     "metadata": {},
     "output_type": "execute_result"
    }
   ],
   "source": [
    "row_5_7 = df.iloc[[5,6]]\n",
    "row_5_7"
   ]
  },
  {
   "cell_type": "code",
   "execution_count": 58,
   "id": "3dfaef88",
   "metadata": {
    "tags": []
   },
   "outputs": [
    {
     "data": {
      "text/html": [
       "<div>\n",
       "<style scoped>\n",
       "    .dataframe tbody tr th:only-of-type {\n",
       "        vertical-align: middle;\n",
       "    }\n",
       "\n",
       "    .dataframe tbody tr th {\n",
       "        vertical-align: top;\n",
       "    }\n",
       "\n",
       "    .dataframe thead th {\n",
       "        text-align: right;\n",
       "    }\n",
       "</style>\n",
       "<table border=\"1\" class=\"dataframe\">\n",
       "  <thead>\n",
       "    <tr style=\"text-align: right;\">\n",
       "      <th></th>\n",
       "      <th>diam</th>\n",
       "      <th>shuck_wgt</th>\n",
       "      <th>rings</th>\n",
       "    </tr>\n",
       "  </thead>\n",
       "  <tbody>\n",
       "    <tr>\n",
       "      <th>2</th>\n",
       "      <td>0.420</td>\n",
       "      <td>0.2565</td>\n",
       "      <td>9</td>\n",
       "    </tr>\n",
       "    <tr>\n",
       "      <th>4</th>\n",
       "      <td>0.255</td>\n",
       "      <td>0.0895</td>\n",
       "      <td>7</td>\n",
       "    </tr>\n",
       "    <tr>\n",
       "      <th>6</th>\n",
       "      <td>0.415</td>\n",
       "      <td>0.2370</td>\n",
       "      <td>20</td>\n",
       "    </tr>\n",
       "    <tr>\n",
       "      <th>8</th>\n",
       "      <td>0.370</td>\n",
       "      <td>0.2165</td>\n",
       "      <td>9</td>\n",
       "    </tr>\n",
       "    <tr>\n",
       "      <th>10</th>\n",
       "      <td>0.380</td>\n",
       "      <td>0.1940</td>\n",
       "      <td>14</td>\n",
       "    </tr>\n",
       "    <tr>\n",
       "      <th>...</th>\n",
       "      <td>...</td>\n",
       "      <td>...</td>\n",
       "      <td>...</td>\n",
       "    </tr>\n",
       "    <tr>\n",
       "      <th>4168</th>\n",
       "      <td>0.400</td>\n",
       "      <td>0.2865</td>\n",
       "      <td>8</td>\n",
       "    </tr>\n",
       "    <tr>\n",
       "      <th>4170</th>\n",
       "      <td>0.430</td>\n",
       "      <td>0.3155</td>\n",
       "      <td>10</td>\n",
       "    </tr>\n",
       "    <tr>\n",
       "      <th>4172</th>\n",
       "      <td>0.450</td>\n",
       "      <td>0.3700</td>\n",
       "      <td>11</td>\n",
       "    </tr>\n",
       "    <tr>\n",
       "      <th>4174</th>\n",
       "      <td>0.475</td>\n",
       "      <td>0.5255</td>\n",
       "      <td>9</td>\n",
       "    </tr>\n",
       "    <tr>\n",
       "      <th>4176</th>\n",
       "      <td>0.555</td>\n",
       "      <td>0.9455</td>\n",
       "      <td>12</td>\n",
       "    </tr>\n",
       "  </tbody>\n",
       "</table>\n",
       "<p>2088 rows × 3 columns</p>\n",
       "</div>"
      ],
      "text/plain": [
       "       diam  shuck_wgt  rings\n",
       "2     0.420     0.2565      9\n",
       "4     0.255     0.0895      7\n",
       "6     0.415     0.2370     20\n",
       "8     0.370     0.2165      9\n",
       "10    0.380     0.1940     14\n",
       "...     ...        ...    ...\n",
       "4168  0.400     0.2865      8\n",
       "4170  0.430     0.3155     10\n",
       "4172  0.450     0.3700     11\n",
       "4174  0.475     0.5255      9\n",
       "4176  0.555     0.9455     12\n",
       "\n",
       "[2088 rows x 3 columns]"
      ]
     },
     "execution_count": 58,
     "metadata": {},
     "output_type": "execute_result"
    }
   ],
   "source": [
    "ansC = df.iloc[2::2, 2::3]  # found from this link https://stackoverflow.com/questions/25055712/pandas-every-nth-row, could just do f,f,t,f,f,t,f,f,t for the column part. \n",
    "ansC"
   ]
  },
  {
   "cell_type": "code",
   "execution_count": 59,
   "id": "2192a22f",
   "metadata": {
    "deletable": false,
    "editable": false
   },
   "outputs": [
    {
     "data": {
      "text/html": [
       "<p><strong><pre style='display: inline;'>q7</pre></strong> passed! 🍀</p>"
      ],
      "text/plain": [
       "q7 results: All test cases passed!"
      ]
     },
     "execution_count": 59,
     "metadata": {},
     "output_type": "execute_result"
    }
   ],
   "source": [
    "grader.check(\"q7\")"
   ]
  },
  {
   "cell_type": "markdown",
   "id": "69cf11be",
   "metadata": {
    "deletable": false,
    "editable": false,
    "id": "VUNquBv-ygFG"
   },
   "source": [
    "## Q8 - Data Selection and Statistics \n",
    "\n",
    "Perform `mean()`, `max()`, and `min()`  for first 12 data points for all the weight columns.\n",
    "\n",
    "*Hint: remember df.head(10) returns the first 10 rows of the DataFrame*"
   ]
  },
  {
   "cell_type": "code",
   "execution_count": 60,
   "id": "06a51c27",
   "metadata": {
    "id": "jdqWrtcmy6fH",
    "tags": []
   },
   "outputs": [
    {
     "data": {
      "text/plain": [
       "wh_wgt       0.537583\n",
       "shuck_wgt    0.204167\n",
       "vis_wgt      0.108750\n",
       "sh_wgt       0.181667\n",
       "dtype: float64"
      ]
     },
     "execution_count": 60,
     "metadata": {},
     "output_type": "execute_result"
    }
   ],
   "source": [
    "meanVals =  df.head(12).iloc[:,4:8].mean()\n",
    "meanVals"
   ]
  },
  {
   "cell_type": "code",
   "execution_count": 61,
   "id": "0c6e9f1b",
   "metadata": {
    "id": "5BNQUN0ex9G-",
    "tags": []
   },
   "outputs": [
    {
     "data": {
      "text/plain": [
       "wh_wgt       0.8945\n",
       "shuck_wgt    0.3145\n",
       "vis_wgt      0.1510\n",
       "sh_wgt       0.3300\n",
       "dtype: float64"
      ]
     },
     "execution_count": 61,
     "metadata": {},
     "output_type": "execute_result"
    }
   ],
   "source": [
    "maxVals = df.head(12).iloc[:,4:8].max()\n",
    "maxVals"
   ]
  },
  {
   "cell_type": "code",
   "execution_count": 62,
   "id": "62b59e17-63c9-476e-94d8-e269db9b3b0c",
   "metadata": {
    "tags": []
   },
   "outputs": [
    {
     "data": {
      "text/plain": [
       "wh_wgt       0.2050\n",
       "shuck_wgt    0.0895\n",
       "vis_wgt      0.0395\n",
       "sh_wgt       0.0550\n",
       "dtype: float64"
      ]
     },
     "execution_count": 62,
     "metadata": {},
     "output_type": "execute_result"
    }
   ],
   "source": [
    "minVals = df.head(12).iloc[:,4:8].min()\n",
    "minVals"
   ]
  },
  {
   "cell_type": "code",
   "execution_count": 63,
   "id": "09264dc5",
   "metadata": {
    "deletable": false,
    "editable": false
   },
   "outputs": [
    {
     "data": {
      "text/html": [
       "<p><strong><pre style='display: inline;'>q8</pre></strong> passed! 💯</p>"
      ],
      "text/plain": [
       "q8 results: All test cases passed!"
      ]
     },
     "execution_count": 63,
     "metadata": {},
     "output_type": "execute_result"
    }
   ],
   "source": [
    "grader.check(\"q8\")"
   ]
  },
  {
   "cell_type": "markdown",
   "id": "fe03d070",
   "metadata": {
    "deletable": false,
    "editable": false,
    "id": "T3oWG3QJy7jk"
   },
   "source": [
    "## Q9 - Data Selection and Statistics \n",
    "\n",
    "Group by column \"sex\" and find the median for the other variables. "
   ]
  },
  {
   "cell_type": "code",
   "execution_count": 65,
   "id": "33b00087",
   "metadata": {
    "id": "mKTJSgzYzK26",
    "tags": []
   },
   "outputs": [
    {
     "data": {
      "text/html": [
       "<div>\n",
       "<style scoped>\n",
       "    .dataframe tbody tr th:only-of-type {\n",
       "        vertical-align: middle;\n",
       "    }\n",
       "\n",
       "    .dataframe tbody tr th {\n",
       "        vertical-align: top;\n",
       "    }\n",
       "\n",
       "    .dataframe thead th {\n",
       "        text-align: right;\n",
       "    }\n",
       "</style>\n",
       "<table border=\"1\" class=\"dataframe\">\n",
       "  <thead>\n",
       "    <tr style=\"text-align: right;\">\n",
       "      <th></th>\n",
       "      <th>len</th>\n",
       "      <th>diam</th>\n",
       "      <th>hgt</th>\n",
       "      <th>wh_wgt</th>\n",
       "      <th>shuck_wgt</th>\n",
       "      <th>vis_wgt</th>\n",
       "      <th>sh_wgt</th>\n",
       "      <th>rings</th>\n",
       "    </tr>\n",
       "    <tr>\n",
       "      <th>sex</th>\n",
       "      <th></th>\n",
       "      <th></th>\n",
       "      <th></th>\n",
       "      <th></th>\n",
       "      <th></th>\n",
       "      <th></th>\n",
       "      <th></th>\n",
       "      <th></th>\n",
       "    </tr>\n",
       "  </thead>\n",
       "  <tbody>\n",
       "    <tr>\n",
       "      <th>F</th>\n",
       "      <td>0.590</td>\n",
       "      <td>0.465</td>\n",
       "      <td>0.160</td>\n",
       "      <td>1.03850</td>\n",
       "      <td>0.44050</td>\n",
       "      <td>0.2240</td>\n",
       "      <td>0.295</td>\n",
       "      <td>10.0</td>\n",
       "    </tr>\n",
       "    <tr>\n",
       "      <th>I</th>\n",
       "      <td>0.435</td>\n",
       "      <td>0.335</td>\n",
       "      <td>0.110</td>\n",
       "      <td>0.38400</td>\n",
       "      <td>0.16975</td>\n",
       "      <td>0.0805</td>\n",
       "      <td>0.113</td>\n",
       "      <td>8.0</td>\n",
       "    </tr>\n",
       "    <tr>\n",
       "      <th>M</th>\n",
       "      <td>0.580</td>\n",
       "      <td>0.455</td>\n",
       "      <td>0.155</td>\n",
       "      <td>0.97575</td>\n",
       "      <td>0.42175</td>\n",
       "      <td>0.2100</td>\n",
       "      <td>0.276</td>\n",
       "      <td>10.0</td>\n",
       "    </tr>\n",
       "  </tbody>\n",
       "</table>\n",
       "</div>"
      ],
      "text/plain": [
       "       len   diam    hgt   wh_wgt  shuck_wgt  vis_wgt  sh_wgt  rings\n",
       "sex                                                                 \n",
       "F    0.590  0.465  0.160  1.03850    0.44050   0.2240   0.295   10.0\n",
       "I    0.435  0.335  0.110  0.38400    0.16975   0.0805   0.113    8.0\n",
       "M    0.580  0.455  0.155  0.97575    0.42175   0.2100   0.276   10.0"
      ]
     },
     "execution_count": 65,
     "metadata": {},
     "output_type": "execute_result"
    }
   ],
   "source": [
    "group =  df.groupby('sex').median() # had problem for a while because I was selecting all of them like the example in the week2notes, but then saw taking the whole df can be done like this. \n",
    "group"
   ]
  },
  {
   "cell_type": "code",
   "execution_count": 66,
   "id": "4dc6214c",
   "metadata": {
    "deletable": false,
    "editable": false
   },
   "outputs": [
    {
     "data": {
      "text/html": [
       "<p><strong><pre style='display: inline;'>q9</pre></strong> passed! 🙌</p>"
      ],
      "text/plain": [
       "q9 results: All test cases passed!"
      ]
     },
     "execution_count": 66,
     "metadata": {},
     "output_type": "execute_result"
    }
   ],
   "source": [
    "grader.check(\"q9\")"
   ]
  },
  {
   "cell_type": "markdown",
   "id": "10a912f0",
   "metadata": {
    "deletable": false,
    "editable": false,
    "id": "qh_vTojGzRzR",
    "tags": []
   },
   "source": [
    "## Q10 - Data Selection and Statistics \n",
    "\n",
    "Find the mean weights of abolone with more than 12 rings. "
   ]
  },
  {
   "cell_type": "code",
   "execution_count": 78,
   "id": "8b96b38e",
   "metadata": {
    "id": "jZeJ0Nayzhho",
    "tags": []
   },
   "outputs": [
    {
     "data": {
      "text/plain": [
       "wh_wgt       1.119511\n",
       "shuck_wgt    0.432494\n",
       "vis_wgt      0.238449\n",
       "sh_wgt       0.350519\n",
       "dtype: float64"
      ]
     },
     "execution_count": 78,
     "metadata": {},
     "output_type": "execute_result"
    }
   ],
   "source": [
    "mean_vals = df[df['rings'] > 12].iloc[:,4:8].mean()\n",
    "mean_vals"
   ]
  },
  {
   "cell_type": "markdown",
   "id": "39f6e58b",
   "metadata": {
    "deletable": false,
    "editable": false
   },
   "source": [
    "## Submission\n",
    "\n",
    "Make sure you have run all cells in your notebook in order before running the cell below, so that all images/graphs appear in the output. The cell below will generate a zip file for you to submit. **Please save before exporting!**"
   ]
  },
  {
   "cell_type": "code",
   "execution_count": 79,
   "id": "4df0dec0",
   "metadata": {
    "deletable": false,
    "editable": false
   },
   "outputs": [
    {
     "name": "stdout",
     "output_type": "stream",
     "text": [
      "Running your submission against local test cases...\n",
      "\n",
      "\n",
      "\n",
      "Your submission received the following results when run against available test cases:\n",
      "\n",
      "    q1 results: All test cases passed!\n",
      "\n",
      "    q3 results: All test cases passed!\n",
      "\n",
      "    q4 results: All test cases passed!\n",
      "\n",
      "    q5 results: All test cases passed!\n",
      "\n",
      "    q6 results: All test cases passed!\n",
      "\n",
      "    q7 results: All test cases passed!\n",
      "\n",
      "    q8 results: All test cases passed!\n",
      "\n",
      "    q9 results: All test cases passed!\n"
     ]
    },
    {
     "data": {
      "text/html": [
       "\n",
       "            <p>Your submission has been exported. Click <a href=\"lab2_2024_09_05T20_52_04_844864.zip\" download=\"lab2_2024_09_05T20_52_04_844864.zip\" target=\"_blank\">here</a>\n",
       "            to download the zip file.</p>\n",
       "            "
      ],
      "text/plain": [
       "<IPython.core.display.HTML object>"
      ]
     },
     "metadata": {},
     "output_type": "display_data"
    }
   ],
   "source": [
    "# Save your notebook first, then run this cell to export your submission.\n",
    "grader.export(pdf=False, run_tests=True)"
   ]
  },
  {
   "cell_type": "markdown",
   "id": "a8220c7b",
   "metadata": {},
   "source": [
    " "
   ]
  }
 ],
 "metadata": {
  "kernelspec": {
   "display_name": "Python 3 (ipykernel)",
   "language": "python",
   "name": "python3"
  },
  "language_info": {
   "codemirror_mode": {
    "name": "ipython",
    "version": 3
   },
   "file_extension": ".py",
   "mimetype": "text/x-python",
   "name": "python",
   "nbconvert_exporter": "python",
   "pygments_lexer": "ipython3",
   "version": "3.10.11"
  },
  "otter": {
   "OK_FORMAT": true,
   "assignment_name": "lab2",
   "tests": {
    "q1": {
     "name": "q1",
     "points": [
      1,
      1
     ],
     "suites": [
      {
       "cases": [
        {
         "code": ">>> class_length == 37\nTrue",
         "hidden": false,
         "locked": false
        },
        {
         "code": ">>> class_split == ['Introduction', 'to', 'Data', 'Science']\nTrue",
         "hidden": false,
         "locked": false
        }
       ],
       "scored": true,
       "setup": "",
       "teardown": "",
       "type": "doctest"
      }
     ]
    },
    "q10": {
     "name": "q10",
     "points": 8,
     "suites": [
      {
       "cases": [],
       "scored": true,
       "setup": "",
       "teardown": "",
       "type": "doctest"
      }
     ]
    },
    "q3": {
     "name": "q3",
     "points": [
      1,
      1
     ],
     "suites": [
      {
       "cases": [
        {
         "code": ">>> df.shape[0]==4177\nTrue",
         "hidden": false,
         "locked": false
        },
        {
         "code": ">>> df.shape[1]==9 \nTrue",
         "hidden": false,
         "locked": false
        }
       ],
       "scored": true,
       "setup": "",
       "teardown": "",
       "type": "doctest"
      }
     ]
    },
    "q4": {
     "name": "q4",
     "points": [
      1,
      1,
      0.5
     ],
     "suites": [
      {
       "cases": [
        {
         "code": ">>> rows==4177\nTrue",
         "hidden": false,
         "locked": false
        },
        {
         "code": ">>> columns==9\nTrue",
         "hidden": false,
         "locked": false
        },
        {
         "code": ">>> dfColumnNames[0] == 'sex'\nTrue",
         "hidden": false,
         "locked": false
        }
       ],
       "scored": true,
       "setup": "",
       "teardown": "",
       "type": "doctest"
      }
     ]
    },
    "q5": {
     "name": "q5",
     "points": [
      1,
      1
     ],
     "suites": [
      {
       "cases": [
        {
         "code": ">>> first_4_rows.iloc[0,0] == 'M' and first_4_rows.iloc[2,0] == 'F'\nTrue",
         "hidden": false,
         "locked": false
        },
        {
         "code": ">>> first_4_rows.iloc[0,-1] == 15 and \\\n... first_4_rows.iloc[2,-1] == 9\nTrue",
         "hidden": false,
         "locked": false
        }
       ],
       "scored": true,
       "setup": "",
       "teardown": "",
       "type": "doctest"
      }
     ]
    },
    "q6": {
     "name": "q6",
     "points": 4,
     "suites": [
      {
       "cases": [
        {
         "code": ">>> shell_wgt[0] == 0.1500 and shell_wgt[1] == 0.0700 \nTrue",
         "hidden": false,
         "locked": false
        },
        {
         "code": ">>> shell_wgt[393] == 0.08 and shell_wgt[4000] == 0.1325\nTrue",
         "hidden": false,
         "locked": false
        },
        {
         "code": ">>> diam_vis_wgt.iloc[0,0] == 0.365 and \\\n... diam_vis_wgt.iloc[0,1] == 0.1010 \nTrue",
         "hidden": false,
         "locked": false
        },
        {
         "code": ">>> diam_vis_wgt.iloc[3,1] == 0.1140 and \\\n... diam_vis_wgt.iloc[4,1] == 0.0395\nTrue",
         "hidden": false,
         "locked": false
        }
       ],
       "scored": true,
       "setup": "",
       "teardown": "",
       "type": "doctest"
      }
     ]
    },
    "q7": {
     "name": "q7",
     "points": 9,
     "suites": [
      {
       "cases": [
        {
         "code": ">>> index_6[0] == 'I' and index_6[6] == 0.0775\nTrue",
         "hidden": false,
         "locked": false
        },
        {
         "code": ">>> row_5_7.iloc[0,0] == 'I' and row_5_7.iloc[1,0] == 'F'\nTrue",
         "hidden": false,
         "locked": false
        },
        {
         "code": ">>> row_5_7.iloc[1,1] == 0.53 and row_5_7.iloc[1,3] == 0.15\nTrue",
         "hidden": false,
         "locked": false
        }
       ],
       "scored": true,
       "setup": "",
       "teardown": "",
       "type": "doctest"
      }
     ]
    },
    "q8": {
     "name": "q8",
     "points": [
      1,
      1,
      1,
      1
     ],
     "suites": [
      {
       "cases": [
        {
         "code": ">>> minVals[0] == 0.205\nTrue",
         "hidden": false,
         "locked": false
        },
        {
         "code": ">>> minVals[3] == 0.055\nTrue",
         "hidden": false,
         "locked": false
        },
        {
         "code": ">>> np.isclose(maxVals[1], 0.3145)\nTrue",
         "hidden": false,
         "locked": false
        },
        {
         "code": ">>> np.isclose(maxVals[2], 0.151)\nTrue",
         "hidden": false,
         "locked": false
        }
       ],
       "scored": true,
       "setup": "",
       "teardown": "",
       "type": "doctest"
      }
     ]
    },
    "q9": {
     "name": "q9",
     "points": [
      1,
      1,
      1,
      1
     ],
     "suites": [
      {
       "cases": [
        {
         "code": ">>> group.iloc[1,1] == 0.335\nTrue",
         "hidden": false,
         "locked": false
        },
        {
         "code": ">>> group.iloc[0, 4] == 0.4405\nTrue",
         "hidden": false,
         "locked": false
        },
        {
         "code": ">>> group.iloc[1, 6] == 0.113\nTrue",
         "hidden": false,
         "locked": false
        },
        {
         "code": ">>> group.iloc[0, 7] == 10.0\nTrue",
         "hidden": false,
         "locked": false
        }
       ],
       "scored": true,
       "setup": "",
       "teardown": "",
       "type": "doctest"
      }
     ]
    }
   }
  }
 },
 "nbformat": 4,
 "nbformat_minor": 5
}
